{
 "cells": [
  {
   "cell_type": "markdown",
   "id": "935a62f9",
   "metadata": {},
   "source": [
    "# BUDS Report 09.5: Putting It All Together\n",
    "\n",
    "### Table of Contents\n",
    "\n",
    "1. <a href='#section 1'>An Actual Last Look at the CES Data</a>\n",
    "\n",
    "2. <a href='#section 2'>You've Done a Lot!</a>"
   ]
  },
  {
   "cell_type": "code",
   "execution_count": null,
   "id": "b911a291",
   "metadata": {},
   "outputs": [],
   "source": [
    "# run this cell\n",
    "from datascience import *\n",
    "import numpy as np\n",
    "import math\n",
    "import matplotlib.pyplot as plt\n",
    "plt.style.use(\"fivethirtyeight\")\n",
    "%matplotlib inline"
   ]
  },
  {
   "cell_type": "markdown",
   "id": "2f123412",
   "metadata": {},
   "source": [
    "## 1. An Actual Last Look at the CES Data <a id='section 1'></a>\n",
    "\n",
    "Run the next cell so that we can load the CalEnviroScreen dataset one last time."
   ]
  },
  {
   "cell_type": "code",
   "execution_count": null,
   "id": "aabbf88d",
   "metadata": {},
   "outputs": [],
   "source": [
    "ces_data = Table.read_table(\"ces_data_v2.csv\")\n",
    "\n",
    "# this does a bit of data cleaning\n",
    "# don't worry about understanding these next few lines of code\n",
    "for i in np.arange(ces_data.num_columns):\n",
    "    if i != 3 and i != 11:\n",
    "        ces_data = ces_data.where(i, are.above_or_equal_to(0))\n",
    "ces_data"
   ]
  },
  {
   "cell_type": "markdown",
   "id": "2042b61d",
   "metadata": {},
   "source": [
    "It might make sense that counties that are inland feel the effects of pollution more so than those that are on the coast. The Central Valley doesn't have as much air circulation as the coast and many pesticides are used there. Let's examine this possibility by comparing the most populated Central Valley counties with the Central Coast counties.\n",
    "\n",
    "<div class=\"alert alert-warning\">\n",
    "    <b>PRACTICE:</b> First, let's create a table called <code>central_coast</code> that contains some of the Central Coast counties. Similarly, we'll create another table called <code>central_valley</code> with a few Central Valley counties.\n",
    "    \n",
    "Use the following counties for these tables.\n",
    "<ul>\n",
    "    <li><b>Central Coast:</b> Ventura, Santa Barbara, San Luis Obispo, Monterey, San Benito, and Santa Cruz\n",
    "    <li><b>Central Valley:</b> Kern, Fresno, Sacramento, and Shasta\n",
    "    </ul>\n",
    "\n",
    "Make arrays containing these counties and assign them to the corresponding names. You can use these arrays in your <code>where</code> predicate.\n",
    "    \n",
    "Be sure to find a predicate that allows you to keep any row whose county is <i>contained</i> in the corresponding array.\n",
    "    </div>"
   ]
  },
  {
   "cell_type": "code",
   "execution_count": null,
   "id": "7afa24af",
   "metadata": {},
   "outputs": [],
   "source": [
    "central_coast_counties = make_array(...)\n",
    "central_coast = ces_data.where(...)\n",
    "central_coast"
   ]
  },
  {
   "cell_type": "code",
   "execution_count": null,
   "id": "18da2a58",
   "metadata": {},
   "outputs": [],
   "source": [
    "central_valley_counties = ...\n",
    "central_valley = ...\n",
    "central_valley"
   ]
  },
  {
   "cell_type": "markdown",
   "id": "dc038b80",
   "metadata": {},
   "source": [
    "As usual, we don't really want all of the columns in this table. We're primarily interested in the CES score (or maybe the pollution burden) of these tracts but not much else.\n",
    "\n",
    "<div class=\"alert alert-warning\">\n",
    "    <b>PRACTICE:</b> Select the column(s) that we might need in our analysis and assign this table back to <code>central_coast</code> or <code>central_valley</code>. We won't be using the county column, but retain that column as well. It might help us keep track of the Central Coast/Central Valley data a bit.\n",
    "    </div>"
   ]
  },
  {
   "cell_type": "code",
   "execution_count": null,
   "id": "64327ad5",
   "metadata": {},
   "outputs": [],
   "source": [
    "central_coast = ...\n",
    "central_coast"
   ]
  },
  {
   "cell_type": "code",
   "execution_count": null,
   "id": "75b2c32b",
   "metadata": {},
   "outputs": [],
   "source": [
    "central_valley = ...\n",
    "central_valley"
   ]
  },
  {
   "cell_type": "markdown",
   "id": "ce50e5c2",
   "metadata": {},
   "source": [
    "In Report 09: Section 4, we added a column with only the string \"female\" to the table of female data, `fem_str`. Similarly, we added a column with only the string \"male\" to the table of male data, `male_str`.\n",
    "\n",
    "<div class=\"alert alert-warning\">\n",
    "    <b>PRACTICE:</b> Look at the code in this section and try to add a column called \"Location\" with only the string \"Central Coast\" for the <code>central_coast</code> table and with only the string \"Central Valley\" for the <code>central_valley</code> table.\n",
    "    </div>"
   ]
  },
  {
   "cell_type": "code",
   "execution_count": null,
   "id": "e4acbd43",
   "metadata": {},
   "outputs": [],
   "source": [
    "central_coast = ...\n",
    "central_valley = ...\n",
    "central = central_coast.with_rows(central_valley.rows)\n",
    "central"
   ]
  },
  {
   "cell_type": "markdown",
   "id": "fd497982",
   "metadata": {},
   "source": [
    "Finally, let's take a look at the difference between the two categories by visualizing the distribution of CES scores (or pollution burden scores) for the Central Coast and Central Valley. Because we want to compare these two categories, we need to find a way to group the Central Coast data together and separate it from the Central Valley data.\n",
    "\n",
    "<div class=\"alert alert-warning\">\n",
    "    <b>PRACTICE:</b> Look back at the BUDS Reference Sheet and take a look at the documentation notes on <code>hist</code>. Do you see any arguments that might distinguish between these two groups for us? Think about how our table is set up.\n",
    "    \n",
    "Don't forget to use the argument <code>normed=False</code>!\n",
    "    </div>"
   ]
  },
  {
   "cell_type": "code",
   "execution_count": null,
   "id": "4af96ce0",
   "metadata": {},
   "outputs": [],
   "source": [
    "central.hist(...)"
   ]
  },
  {
   "cell_type": "markdown",
   "id": "79482e4d",
   "metadata": {},
   "source": [
    "What do you notice about this histogram? Do you think it agrees with what you expected?"
   ]
  },
  {
   "cell_type": "markdown",
   "id": "6034b035",
   "metadata": {},
   "source": [
    "_Written Answer:_"
   ]
  },
  {
   "cell_type": "markdown",
   "id": "d0c5ac54",
   "metadata": {},
   "source": [
    "## 2. You've Done a Lot! <a id='section 2'></a>\n",
    "\n",
    "Congratulations on combining a multitude of function/method calls on the CalEnviroScreen dataset! You've conducted so much research on pollution and the CalEnviroScreen data, explored many of its different characteristics, and successfully answered a number of questions about the data.\n",
    "\n",
    "Given that it's only been *two weeks* since this program has started, you have accomplished so much. We're very proud of you!\n",
    "\n",
    "If you want to explore the data more, feel free to play around more with the dataset in the following cells. Otherwise — great job!"
   ]
  },
  {
   "cell_type": "code",
   "execution_count": null,
   "id": "abd43f34",
   "metadata": {},
   "outputs": [],
   "source": []
  },
  {
   "cell_type": "code",
   "execution_count": null,
   "id": "1e937d89",
   "metadata": {},
   "outputs": [],
   "source": []
  },
  {
   "cell_type": "code",
   "execution_count": null,
   "id": "1228d5ae",
   "metadata": {},
   "outputs": [],
   "source": []
  },
  {
   "cell_type": "code",
   "execution_count": null,
   "id": "f4da2a2a",
   "metadata": {},
   "outputs": [],
   "source": []
  },
  {
   "cell_type": "code",
   "execution_count": null,
   "id": "3f81fc60",
   "metadata": {},
   "outputs": [],
   "source": []
  },
  {
   "cell_type": "markdown",
   "id": "8dc8b834",
   "metadata": {},
   "source": [
    "### Downloading as PDF\n",
    "\n",
    "Download this notebook as a pdf by clicking <b><code>File > Download as > PDF via LaTeX (.pdf)</code></b>. Turn in the PDF into bCourses under the corresponding assignment."
   ]
  }
 ],
 "metadata": {
  "kernelspec": {
   "display_name": "Python 3 (ipykernel)",
   "language": "python",
   "name": "python3"
  },
  "language_info": {
   "codemirror_mode": {
    "name": "ipython",
    "version": 3
   },
   "file_extension": ".py",
   "mimetype": "text/x-python",
   "name": "python",
   "nbconvert_exporter": "python",
   "pygments_lexer": "ipython3",
   "version": "3.10.2"
  }
 },
 "nbformat": 4,
 "nbformat_minor": 5
}
