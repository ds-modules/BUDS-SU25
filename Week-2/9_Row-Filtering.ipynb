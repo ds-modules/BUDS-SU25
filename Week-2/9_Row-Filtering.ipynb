{
 "cells": [
  {
   "cell_type": "markdown",
   "metadata": {},
   "source": [
    "# BUDS Report 09: Row Filtering\n",
    "\n",
    "### Table of Contents\n",
    "\n",
    "1.  <a href='#section 1'>Filtering with `where`</a>\n",
    "    \n",
    "2. <a href='#section 2'>Filtering with `take`</a>\n",
    "\n",
    "3. <a href='#section 3'>Visualizations</a>\n",
    "\n",
    "4. <a href='#section 4'>More Questions</a>\n",
    "\n",
    "5. <a href='#section 5'>One Last Look at the CES Data</a>"
   ]
  },
  {
   "cell_type": "code",
   "execution_count": null,
   "metadata": {},
   "outputs": [],
   "source": [
    "# run this cell\n",
    "from datascience import *\n",
    "import numpy as np\n",
    "import math\n",
    "import matplotlib.pyplot as plt\n",
    "plt.style.use(\"fivethirtyeight\")\n",
    "%matplotlib inline"
   ]
  },
  {
   "cell_type": "markdown",
   "metadata": {},
   "source": [
    "### The Data <a id='data'></a>\n",
    "\n",
    "Let's continue to work with the US Census data, again just looking at years 2010 and 2014.\n",
    "\n",
    "As a reminder, the \"SEX\" column contains numeric codes: `0` stands for the total, `1` for male, and `2` for female. The \"AGE\" column contains ages in completed years, but the special value `999` is a sum of the total population. The combination of SEX = `0` and AGE = `999` tells us that the corresponding row has the data for all sexes and all ages."
   ]
  },
  {
   "cell_type": "code",
   "execution_count": null,
   "metadata": {},
   "outputs": [],
   "source": [
    "# a local copy can be accessed here in case census.gov moves the file:\n",
    "# data = path_data + 'nc-est2015-agesex-res.csv'\n",
    "data = 'http://www2.census.gov/programs-surveys/popest/datasets/2010-2015/national/asrh/nc-est2015-agesex-res.csv'\n",
    "\n",
    "# these repeat some steps that were done in Report 08\n",
    "full_census = Table.read_table(data)\n",
    "partial_census = full_census.select('SEX', 'AGE', 'POPESTIMATE2010', 'POPESTIMATE2014')\n",
    "us_pop = partial_census.relabeled('POPESTIMATE2010', '2010').relabeled('POPESTIMATE2014', '2014')\n",
    "us_pop.sort('AGE')"
   ]
  },
  {
   "cell_type": "markdown",
   "metadata": {},
   "source": [
    "## 1. Filtering with `where`  <a id='section 1'></a>\n",
    "\n",
    "Often times, we only want to analyze a certain subset of our data at a time.\n",
    "\n",
    "For example, let's filter our data to only look at the population counts of males.\n",
    "\n",
    "<div class=\"alert alert-warning\">\n",
    "    <b>PRACTICE:</b> First, write down what the table's numeric code for the male population is. Then, assign <code>male_pop</code> to a table with the male subset of our data.\n",
    "    </div>"
   ]
  },
  {
   "cell_type": "markdown",
   "metadata": {},
   "source": [
    "_Written Answer:_"
   ]
  },
  {
   "cell_type": "code",
   "execution_count": null,
   "metadata": {},
   "outputs": [],
   "source": [
    "..."
   ]
  },
  {
   "cell_type": "markdown",
   "metadata": {},
   "source": [
    "As we can see in the table above, we've chosen only a subset of the rows of the original table — specifically the rows corresponding to male census participants.\n",
    "\n",
    "In the following Markdown cell, translate the code you wrote into a regular English statement that both describes what you're doing and uses the variable names and function names in it."
   ]
  },
  {
   "cell_type": "markdown",
   "metadata": {},
   "source": [
    "_Written Answer:_"
   ]
  },
  {
   "cell_type": "markdown",
   "metadata": {},
   "source": [
    "<div class=\"alert alert-warning\">\n",
    "    <b>PRACTICE:</b> Now select only the rows corresponding to the female population.\n",
    "   </div>"
   ]
  },
  {
   "cell_type": "code",
   "execution_count": null,
   "metadata": {},
   "outputs": [],
   "source": [
    "female_pop = ...\n",
    "female_pop"
   ]
  },
  {
   "cell_type": "markdown",
   "metadata": {},
   "source": [
    "A special feature of `are.equal_to(...)` is that it is the default predicate for `tbl.where(...)`. This means if we write a `where` expression without writing `are.equal_to(...)`, then it would work as if it was there.\n",
    "\n",
    "Here is an example. We can assign the name `ten_yr_males` to a table whose rows are the rows in the `male_pop` table `where` the AGEs `are` `equal` `to` `10`."
   ]
  },
  {
   "cell_type": "code",
   "execution_count": null,
   "metadata": {},
   "outputs": [],
   "source": [
    "ten_yr_males = male_pop.where(\"AGE\", 10)\n",
    "ten_yr_males"
   ]
  },
  {
   "cell_type": "code",
   "execution_count": null,
   "metadata": {},
   "outputs": [],
   "source": [
    "# this works the same when we include are.equal_to(...)\n",
    "male_pop.where(\"AGE\", are.equal_to(10))"
   ]
  },
  {
   "cell_type": "markdown",
   "metadata": {},
   "source": [
    "### `where` <a id='subsection 1a'></a>\n",
    "\n",
    "Now let's dive into the details a bit more.  `where` takes 2 arguments:\n",
    "\n",
    "1. The name of a column.  `where` finds rows where that column's values meet some condition.\n",
    "2. A predicate that describes the condition that the column needs to meet.\n",
    "\n",
    "The predicate in the examples above called the predicate `are.equal_to` with the values we wanted, 1 (or 2).  We'll see other predicates next.\n",
    "\n",
    "`where` returns a table that's a copy of the original table, but **with only the rows that meet the given predicate**."
   ]
  },
  {
   "cell_type": "markdown",
   "metadata": {},
   "source": [
    "So far we've only been using `where` with the predicate that requires finding the values in a column to be *exactly* equal to a certain value. However, there are many other predicates. Here are a few:\n",
    "\n",
    "|Predicate|Example|Result|\n",
    "|-|-|-|\n",
    "|`are.equal_to`|`are.equal_to(50)`|Find rows with values equal to 50|\n",
    "|`are.equal_to`|`are.equal_to(\"hello\")`|Find rows with values equal to \"hello\"|\n",
    "|`are.not_equal_to`|`are.not_equal_to(50)`|Find rows with values not equal to 50|\n",
    "|`are.above`|`are.above(50)`|Find rows with values above (and not equal to) 50|\n",
    "|`are.above_or_equal_to`|`are.above_or_equal_to(50)`|Find rows with values above 50 or equal to 50|\n",
    "|`are.below`|`are.below(50)`|Find rows with values below 50|\n",
    "|`are.between`|`are.between(2, 10)`|Find rows with values above or equal to 2 and below 10|\n",
    "|`are.containing`| `are.containing(\"i\")`| Find rows with string values that contain the letter \"i\"\n",
    "\n",
    "You can find a few more on the [Python Reference Sheet](https://www.data8.org/su23/reference/)."
   ]
  },
  {
   "cell_type": "markdown",
   "metadata": {},
   "source": [
    "Let's go back to the Census data.\n",
    "\n",
    "<div class=\"alert alert-warning\">\n",
    "    <b>PRACTICE:</b> Display the Census data such that the largest ages appear first.\n",
    "    </div>"
   ]
  },
  {
   "cell_type": "code",
   "execution_count": null,
   "metadata": {},
   "outputs": [],
   "source": [
    "..."
   ]
  },
  {
   "cell_type": "markdown",
   "metadata": {},
   "source": [
    "<div class=\"alert alert-warning\">\n",
    "    <b>PRACTICE:</b> Remember the numerical code 999 stands for total (across all ages), but let's say we're only interested in specific ages (<i>NOT</i> their total). We could do another <code>where(...)</code> to accomplish this. Try doing so in the next cell and assigning this table to the variable <code>pop_by_age</code>. It should look similar to the previous table but without the rows with ages 999.\n",
    "    </div>"
   ]
  },
  {
   "cell_type": "code",
   "execution_count": null,
   "metadata": {},
   "outputs": [],
   "source": [
    "..."
   ]
  },
  {
   "cell_type": "markdown",
   "metadata": {},
   "source": [
    "<div class=\"alert alert-warning\">\n",
    "    <b>PRACTICE:</b> Write some code to only select population counts corresponding to males and females (but not their totals). Remember, in the \"SEX\" column, 0 represents a total. Assign this to the name <code>both_sexes</code>.\n",
    "   </div>"
   ]
  },
  {
   "cell_type": "code",
   "execution_count": null,
   "metadata": {},
   "outputs": [],
   "source": [
    "..."
   ]
  },
  {
   "cell_type": "markdown",
   "metadata": {},
   "source": [
    "<div class=\"alert alert-warning\">\n",
    "    <b>PRACTICE:</b> One of the nice things about code is that there are several ways of doing something. Write another <code>where</code> expression which will do the same thing as the above cell. Use a different predicate.\n",
    "   </div>"
   ]
  },
  {
   "cell_type": "code",
   "execution_count": null,
   "metadata": {},
   "outputs": [],
   "source": [
    "..."
   ]
  },
  {
   "cell_type": "markdown",
   "metadata": {},
   "source": [
    "<div class=\"alert alert-warning\">\n",
    "    <b>PRACTICE:</b> Once again, try creating the same table by using a different predicate.\n",
    "   </div>"
   ]
  },
  {
   "cell_type": "code",
   "execution_count": null,
   "metadata": {},
   "outputs": [],
   "source": [
    "..."
   ]
  },
  {
   "cell_type": "markdown",
   "metadata": {},
   "source": [
    "These are all different ways to write the same expression. Some predicates are used more often than others, but there is no added benefit to using a specific predicate in the situation above. They all work the same. The only benefit would be less typing for shorter predicates. \n",
    "\n",
    "<div class=\"alert alert-warning\">\n",
    "    <b>PRACTICE:</b> Why does this code not produce the same table as the others above?\n",
    "    </div>"
   ]
  },
  {
   "cell_type": "code",
   "execution_count": null,
   "metadata": {},
   "outputs": [],
   "source": [
    "pop_by_age.where(\"SEX\", are.equal_to(1)).where(\"SEX\", are.equal_to(2))"
   ]
  },
  {
   "cell_type": "markdown",
   "metadata": {},
   "source": [
    "_Written Answer:_"
   ]
  },
  {
   "cell_type": "markdown",
   "metadata": {},
   "source": [
    "## 2. Filtering with `take` <a id='section 2'></a>"
   ]
  },
  {
   "cell_type": "markdown",
   "metadata": {},
   "source": [
    "<div class=\"alert alert-warning\">\n",
    "    <b>PRACTICE:</b> Let's combine what we did above to remove totals of ages and of sex and only look at the year 2014. This table should have information on both males and females of all ages in the year 2014. Try it in the cell below.\n",
    "    </div"
   ]
  },
  {
   "cell_type": "code",
   "execution_count": null,
   "metadata": {},
   "outputs": [],
   "source": [
    "us_pop_2014 = ...\n",
    "us_pop_2014_sorted = ...\n",
    "us_pop_2014_sorted "
   ]
  },
  {
   "cell_type": "markdown",
   "metadata": {},
   "source": [
    "Remember, `tbl.take()` allows us to specify which row numbers of the above table we want to look at. Each row has an index like an array, which is the numbers we reference inside of `take(...)`"
   ]
  },
  {
   "cell_type": "code",
   "execution_count": null,
   "metadata": {},
   "outputs": [],
   "source": [
    "# run this cell\n",
    "us_pop_2014_sorted.take(0) "
   ]
  },
  {
   "cell_type": "markdown",
   "metadata": {},
   "source": [
    "This lets us look at just the first row of the table. (Remember, row numbers start with 0!)\n",
    "\n",
    "<div class=\"alert alert-warning\">\n",
    "    <b>PRACTICE:</b> Fill in the blanks to only select population counts corresponding to males and females between ages 98 and 100.\n",
    "    </div>\n",
    "    \n",
    "*Hint:* how many rows of the above table do we want?"
   ]
  },
  {
   "cell_type": "code",
   "execution_count": null,
   "metadata": {},
   "outputs": [],
   "source": [
    "seniors_2014 = us_pop_2014_sorted.take(np.arange(..., ...))\n",
    "seniors_2014"
   ]
  },
  {
   "cell_type": "markdown",
   "metadata": {},
   "source": [
    "Another way to write this code is to use where. See the below code cells and notice that we don't need our table to be sorted."
   ]
  },
  {
   "cell_type": "code",
   "execution_count": null,
   "metadata": {},
   "outputs": [],
   "source": [
    "seniors_2014 = us_pop_2014_sorted.where(\"AGE\", are.between(98, 101)) \n",
    "seniors_2014"
   ]
  },
  {
   "cell_type": "code",
   "execution_count": null,
   "metadata": {},
   "outputs": [],
   "source": [
    "seniors_2014 = us_pop_2014.where(\"AGE\", are.between(98, 101))\n",
    "seniors_2014 = seniors_2014.sort(\"AGE\", descending=True)\n",
    "seniors_2014"
   ]
  },
  {
   "cell_type": "markdown",
   "metadata": {},
   "source": [
    "Depending on the situation, one of these methods may be better than others. When would you prefer to use `where` and when would you prefer to use `take`?"
   ]
  },
  {
   "cell_type": "markdown",
   "metadata": {},
   "source": [
    "_Written Answer:_"
   ]
  },
  {
   "cell_type": "markdown",
   "metadata": {},
   "source": [
    "## 3. Visualizations  <a id='section 3'></a>\n",
    "\n",
    "To understand how our data really looks, it would be easier to create a visualization using this table. Let's compare \"AGE\" to the population in 2014.\n",
    "\n",
    "Are these columns categorical variables? Numerical variables? How can you tell?"
   ]
  },
  {
   "cell_type": "markdown",
   "metadata": {},
   "source": [
    "_Written Answer:_"
   ]
  },
  {
   "cell_type": "markdown",
   "metadata": {},
   "source": [
    "Based on your answer, what kind of visualization would be best for this data?"
   ]
  },
  {
   "cell_type": "markdown",
   "metadata": {},
   "source": [
    "_Written Answer:_"
   ]
  },
  {
   "cell_type": "markdown",
   "metadata": {},
   "source": [
    "<div class=\"alert alert-warning\">\n",
    "    <b>PRACTICE:</b> Create this visualization in the cell below.\n",
    "    </div>"
   ]
  },
  {
   "cell_type": "code",
   "execution_count": null,
   "metadata": {},
   "outputs": [],
   "source": [
    "..."
   ]
  },
  {
   "cell_type": "markdown",
   "metadata": {},
   "source": [
    "What do you notice about this visualization?"
   ]
  },
  {
   "cell_type": "markdown",
   "metadata": {},
   "source": [
    "_Written Answer:_"
   ]
  },
  {
   "cell_type": "markdown",
   "metadata": {},
   "source": [
    "How does your visualization compare to the table called `seniors_2014`?"
   ]
  },
  {
   "cell_type": "markdown",
   "metadata": {},
   "source": [
    "_Written Answer:_"
   ]
  },
  {
   "cell_type": "markdown",
   "metadata": {},
   "source": [
    "## 4. More Questions on `where` and Strings:  <a id='section 4'></a>\n",
    "\n",
    "If our original table had sex represented as text or a string, then we would have to use a different where expression to choose between males and females."
   ]
  },
  {
   "cell_type": "code",
   "execution_count": null,
   "metadata": {
    "scrolled": true
   },
   "outputs": [],
   "source": [
    "# this code adds the string version of sex in a new column\n",
    "fem_str = female_pop.with_column(\"SEX (str)\" ,\"female\")\n",
    "male_str = male_pop.with_column(\"SEX (str)\" , \"male\")\n",
    "\n",
    "str_sex = fem_str.with_rows(male_str.rows).sort('AGE', descending=True)\n",
    "str_sex"
   ]
  },
  {
   "cell_type": "markdown",
   "metadata": {},
   "source": [
    "Let's try to only get rows with females. There are multiple ways to do this.\n",
    "\n",
    "<div class=\"alert alert-warning\">\n",
    "    <b>PRACTICE:</b> Try doing so with <code>are.equal_to(...)</code>.\n",
    "    </div>"
   ]
  },
  {
   "cell_type": "code",
   "execution_count": null,
   "metadata": {},
   "outputs": [],
   "source": [
    "..."
   ]
  },
  {
   "cell_type": "markdown",
   "metadata": {},
   "source": [
    "<div class=\"alert alert-warning\">\n",
    "    <b>PRACTICE:</b> Now, do so without writing a predicate at all.\n",
    "    </div>"
   ]
  },
  {
   "cell_type": "code",
   "execution_count": null,
   "metadata": {},
   "outputs": [],
   "source": [
    "..."
   ]
  },
  {
   "cell_type": "markdown",
   "metadata": {},
   "source": [
    "<div class=\"alert alert-warning\">\n",
    "    <b>PRACTICE:</b> In this next cell, use the predicate <code>are.containing(...)</code>.\n",
    "    </div>"
   ]
  },
  {
   "cell_type": "code",
   "execution_count": null,
   "metadata": {},
   "outputs": [],
   "source": [
    "..."
   ]
  },
  {
   "cell_type": "markdown",
   "metadata": {},
   "source": [
    "<div class=\"alert alert-warning\">\n",
    "    <b>PRACTICE:</b> See if you can come up with another way to create the table above using <code>are.below(...)</code>.\n",
    "    </div>"
   ]
  },
  {
   "cell_type": "code",
   "execution_count": null,
   "metadata": {},
   "outputs": [],
   "source": [
    "..."
   ]
  },
  {
   "cell_type": "markdown",
   "metadata": {},
   "source": [
    "<div class=\"alert alert-warning\">\n",
    "    <b>PRACTICE:</b> Finally, create this table with <code>are.not_equal_to(...)</code>.\n",
    "    </div>"
   ]
  },
  {
   "cell_type": "code",
   "execution_count": null,
   "metadata": {},
   "outputs": [],
   "source": [
    "..."
   ]
  },
  {
   "cell_type": "markdown",
   "metadata": {},
   "source": [
    "## 5. One Last Look at the CES Data <a id='section 5'></a>\n",
    "\n",
    "In order to show an application of `where`, let's take a look at the familiar CalEnviroScreen data set.\n",
    "\n",
    "Run the following cell to get our table."
   ]
  },
  {
   "cell_type": "code",
   "execution_count": null,
   "metadata": {},
   "outputs": [],
   "source": [
    "ces_data = Table.read_table(\"ces_data_v2.csv\")\n",
    "\n",
    "# this does a bit of data cleaning\n",
    "# don't worry about understanding these next few lines of code\n",
    "for i in np.arange(ces_data.num_columns):\n",
    "    if i != 3 and i != 11:\n",
    "        ces_data = ces_data.where(i, are.above_or_equal_to(0))\n",
    "ces_data"
   ]
  },
  {
   "cell_type": "markdown",
   "metadata": {},
   "source": [
    "Look at a specific county or group of counties. This is similar to what was done for you in previous notebooks, but try doing it on your own here."
   ]
  },
  {
   "cell_type": "code",
   "execution_count": null,
   "metadata": {},
   "outputs": [],
   "source": [
    "..."
   ]
  },
  {
   "cell_type": "markdown",
   "metadata": {},
   "source": [
    "The total population of each tract should be equal to the sum of all the races' populations.\n",
    "\n",
    "- $Total Population = Hispanic Population + White Population + ... + Other Population$\n",
    "    \n",
    "If this is not true, then the data we are working with are **not consistent**. We could check this by calculating this equation exactly, but it would be a bit tedious. The race columns in `ces_data` are not in terms of population but are in *percentages*.\n",
    "    \n",
    "An alternative method of checking this is by making sure that the sum of each tract's race percentages add up to 100%. There might have been some rounding errors, so let's allow for percentages that are a little bit off.\n",
    "    \n",
    "<div class=\"alert alert-warning\">\n",
    "    <b>PRACTICE:</b> Assign <code>clean_percentages</code> to a statement that evaluates to True if each tract meets the above criteria. See the following steps to understand the process more.\n",
    "    \n",
    "1. For each tract, find out what the sum of race percentages adds up to. Assign this to <code>sum_race_percentages</code>. Because this process is repeated for a bunch of different tracts, you should use array arithmetic in this step and array comparisons later.\n",
    "    \n",
    "2. Round the data of <code>sum_race_percentages</code> to the nearest integer using <code>np.round(array)</code> and check if they're equal to 100. Checking if a value is equal to 100 will evaluate to a boolean, so doing this comparison with an array will evaluate to an array of booleans. Assign this to the variable <code>close_to_100</code>.\n",
    "    \n",
    "2. If all of the tracts are consistent, they should all evaluate to True. Find out how many of the tracts evaluated to <code>True</code> and assign this to <code>num_consistent</code>.\n",
    "    \n",
    "3. Find out how many tracts there are total and assign this to <code>num_tracts</code>. If all tracts are consistent, then <code>num_consistent</code> should be equal to <code>num_tracts</code>; assign this to <code>clean_percentages</code>.\n",
    "    </div>\n",
    "    \n",
    "*Hint:* Some functions that may be helpful are `np.round(array)`, `np.count_nonzero(array)`, and `len(array)`."
   ]
  },
  {
   "cell_type": "code",
   "execution_count": null,
   "metadata": {},
   "outputs": [],
   "source": [
    "math.isclose(1, 1)"
   ]
  },
  {
   "cell_type": "code",
   "execution_count": null,
   "metadata": {},
   "outputs": [],
   "source": [
    "# for all tracts, find the sum of all race percentages\n",
    "sum_race_percentages = ...\n",
    "\n",
    "# for all tracts, round the sum of all race percentages, and compare it to 100\n",
    "close_to_100 = ...\n",
    "\n",
    "# find out how many of these sums are close to 100\n",
    "num_consistent = ...\n",
    "\n",
    "# find out how many tracts there are total\n",
    "num_tracts = ...\n",
    "\n",
    "# compare num_consistent to num_tracts\n",
    "clean_percentages = ..."
   ]
  },
  {
   "cell_type": "markdown",
   "metadata": {},
   "source": [
    "Let's go back to the original Census data.\n",
    "\n",
    "<div class=\"alert alert-warning\">\n",
    "    <b>PRACTICE:</b> Create an array that contains which counties have a population tract of 5000 people or larger and a CalEnviroScreen score that's larger than 76. The items in the array should be listed in alphabetical order with unique county names appearing only once. \n",
    "    \n",
    "If you're getting stuck, try breaking this problem down into multiple steps.\n",
    "    </div>"
   ]
  },
  {
   "cell_type": "code",
   "execution_count": null,
   "metadata": {},
   "outputs": [],
   "source": [
    "..."
   ]
  },
  {
   "cell_type": "markdown",
   "metadata": {},
   "source": [
    "Here's a more challenging question. Feel free to discuss it with your fellow interns and your group facilitators.\n",
    "\n",
    "<div class=\"alert alert-warning\">\n",
    "    <b>PRACTICE:</b> 76 was an arbitrary choice for the CalEnviroScreen score. Let's instead find what CalEnviroScreen score is greater than about 95% of the other CES scores (and therefore less than about 5% of the CES scores).\n",
    "    \n",
    "If we know that <code>ces_data</code> has 7711 census tracts, how many Census tracts make up about 95% of the data? Round to the nearest integer and use that number to find the answer to this question.\n",
    "    \n",
    "If we sort ten items in ascending order and take the 3rd item (in index 2), how many items are greater than it? If we sort those same ten items in *descending* order and take the 3rd item (in index 2), how many items are greater than it?\n",
    "    </div>"
   ]
  },
  {
   "cell_type": "markdown",
   "metadata": {},
   "source": [
    "_Written Answer:_"
   ]
  },
  {
   "cell_type": "code",
   "execution_count": null,
   "metadata": {},
   "outputs": [],
   "source": [
    "abt_95_pct = ...\n",
    "index = ...\n",
    "\n",
    "tract_at_95_pct = ...\n",
    "ces_at_95_pct = ...\n",
    "ces_at_95_pct"
   ]
  },
  {
   "cell_type": "markdown",
   "metadata": {},
   "source": [
    "### Downloading as PDF\n",
    "\n",
    "Download this notebook as a pdf by clicking <b><code>File > Download as > PDF via LaTeX (.pdf)</code></b>. Turn in the PDF into bCourses under the corresponding assignment."
   ]
  },
  {
   "cell_type": "markdown",
   "metadata": {},
   "source": [
    "## Bibliography\n",
    "\n",
    "- John DeNero — Data 8X, Census: Males and Females. https://www.youtube.com/watch?v=SAJavz58uHk&feature=youtu.be\n",
    "- Data 8, Spring 2020 — Lab 02. http://data8.org/sp20/\n",
    "---\n",
    "Notebook originally developed by Alleanna, Ashley, and Pratibha. Adapted by Ciara Acosta and Andrew Chen.\n",
    "\n",
    "Data Science Modules: http://data.berkeley.edu/education/modules"
   ]
  }
 ],
 "metadata": {
  "anaconda-cloud": {},
  "kernelspec": {
   "display_name": "Python 3 (ipykernel)",
   "language": "python",
   "name": "python3"
  },
  "language_info": {
   "codemirror_mode": {
    "name": "ipython",
    "version": 3
   },
   "file_extension": ".py",
   "mimetype": "text/x-python",
   "name": "python",
   "nbconvert_exporter": "python",
   "pygments_lexer": "ipython3",
   "version": "3.10.2"
  }
 },
 "nbformat": 4,
 "nbformat_minor": 4
}
