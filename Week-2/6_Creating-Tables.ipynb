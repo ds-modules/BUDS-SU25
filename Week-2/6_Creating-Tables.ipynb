{
 "cells": [
  {
   "cell_type": "markdown",
   "metadata": {},
   "source": [
    "# BUDS Report 06: Table Practice\n",
    "\n",
    "### Table of Contents\n",
    "1. <a href='#section 1'>Creating Tables</a>\n",
    "2. <a href='#section 2'>Accessing Columns</a>\n",
    "3. <a href='#section 3'>Column Arithmetic</a>\n",
    "4. <a href='#section 4'>The CES Data Set Again</a>"
   ]
  },
  {
   "cell_type": "code",
   "execution_count": null,
   "metadata": {},
   "outputs": [],
   "source": [
    "# run this cell\n",
    "from datascience import *\n",
    "import numpy as np\n",
    "import math\n",
    "import matplotlib.pyplot as plt\n",
    "plt.style.use('fivethirtyeight')\n",
    "%matplotlib inline"
   ]
  },
  {
   "cell_type": "markdown",
   "metadata": {},
   "source": [
    "## 1. Creating Tables <a id='section 1'></a>\n",
    "\n",
    "Arrays represent individual columns, but tables allow us to compare items across rows. You can organize arrays into tables to make comparisons easier. Let's breakdown the first example (which you see in the following two code cells):\n",
    "- It creates an empty table using the expression `Table()`,\n",
    "- adds two columns by calling `with_columns` with four arguments (separated by commas),\n",
    "- assigns the result to the name `fruits`, and finally\n",
    "- evaluates `fruits` so that you can see the table.\n",
    "\n",
    "The function `with_columns` takes in alternating strings (denoting column labels) and arrays (representing the data in those columns). The strings \"fruit names\" and \"count\" are the column labels that have been chosen, and the variables `fruit_names` and `count` are two arrays of the same length. "
   ]
  },
  {
   "cell_type": "code",
   "execution_count": null,
   "metadata": {},
   "outputs": [],
   "source": [
    "fruit_names = make_array(\"apple\",\"orange\", \"pineapple\")\n",
    "count = make_array(4, 3, 3)"
   ]
  },
  {
   "cell_type": "code",
   "execution_count": null,
   "metadata": {},
   "outputs": [],
   "source": [
    "fruits = Table().with_columns(\n",
    "    \"fruit names\", fruit_names,\n",
    "    \"count\", count)\n",
    "fruits"
   ]
  },
  {
   "cell_type": "markdown",
   "metadata": {},
   "source": [
    "<div class=\"alert alert-warning\">\n",
    "    <b>PRACTICE:</b> You can add more to this table by referencing the existing table <code>fruits</code>. Let's add a column named \"price\" using the <code>prices</code> array below. Name the new table <code>fruits_price</code>.\n",
    "    </div>\n",
    "    \n",
    "Notice that the `prices_array` has 3 items in it, which is the same length as the number of rows in the fruits table."
   ]
  },
  {
   "cell_type": "code",
   "execution_count": null,
   "metadata": {},
   "outputs": [],
   "source": [
    "prices = make_array(0.79, 1.10, 1.59)\n",
    "prices"
   ]
  },
  {
   "cell_type": "code",
   "execution_count": null,
   "metadata": {},
   "outputs": [],
   "source": [
    "fruits_price = fruits.with_column(\n",
    "    \"...\", ...)\n",
    "fruits_price"
   ]
  },
  {
   "cell_type": "markdown",
   "metadata": {},
   "source": [
    "You can also add columns to a table by inserting the array *within* `with_columns`. \n",
    "\n",
    "<div class=\"alert alert-warning\">\n",
    "    <b>PRACTICE:</b> Fill in the missing code, so that the table called <code>fruit_availability</code> has 4 columns. Its columns should be \"fruit names\", \"count\", \"price\", and \"available\". The column \"available\" represents whether the fruit is available at Store X.\n",
    "    </div>"
   ]
  },
  {
   "cell_type": "code",
   "execution_count": null,
   "metadata": {},
   "outputs": [],
   "source": [
    "fruit_availability = ...with_columns(\n",
    "    \"...\", make_array(True, False, True)) \n",
    "fruit_availability"
   ]
  },
  {
   "cell_type": "markdown",
   "metadata": {},
   "source": [
    "<div class=\"alert alert-warning\">\n",
    "    <b>PRACTICE:</b> Recall that you can perform other operations on this new table. Sort the prices from least expensive to most expensive and call the resulting table <code>sorted_fruits</code>.\n",
    "    </div>"
   ]
  },
  {
   "cell_type": "code",
   "execution_count": null,
   "metadata": {},
   "outputs": [],
   "source": [
    "sorted_fruits = ...\n",
    "sorted_fruits"
   ]
  },
  {
   "cell_type": "markdown",
   "metadata": {},
   "source": [
    "## 2. Accessing Columns <a id='section 2'></a>\n",
    "\n",
    "`column` takes the column name of a table and returns the values in that column as an array.\n",
    "\n",
    "You can get the \"available\" column from the `fruit_availability` table above. See the code below. It extracts the \"available\" column from the `fruit_availability` table as an array and gives it the name `availability_array`."
   ]
  },
  {
   "cell_type": "code",
   "execution_count": null,
   "metadata": {},
   "outputs": [],
   "source": [
    "availability_array = fruit_availability.column(\"available\")\n",
    "availability_array"
   ]
  },
  {
   "cell_type": "markdown",
   "metadata": {},
   "source": [
    "Extracting columns from tables is useful because it allows us to perform calculations on columns *in* our tables.\n",
    "\n",
    "<div class=\"alert alert-warning\">\n",
    "    <b>PRACTICE:</b> Assuming all fruits are available in Store X, you want to buy one of each fruit. How much will this cost us? Use the <code>fruits_price</code> table and not the <code>prices_array</code>. Assign the sum to the name <code>total_cost</code>.\n",
    "</div>"
   ]
  },
  {
   "cell_type": "code",
   "execution_count": null,
   "metadata": {},
   "outputs": [],
   "source": [
    "total_cost = ...\n",
    "total_cost"
   ]
  },
  {
   "cell_type": "markdown",
   "metadata": {},
   "source": [
    "## 3. Column Arithmetic <a id='section 3'></a>\n",
    "\n",
    "If you perform an arithmetic operation on an array, Python will do the operation to every element of the array individually and return an array of all of the results. For example, say there was a new tax on fruit of 40 cents. You can add to the array of values like so."
   ]
  },
  {
   "cell_type": "code",
   "execution_count": null,
   "metadata": {},
   "outputs": [],
   "source": [
    "new_prices = fruit_availability.column(\"price\") + 0.40\n",
    "new_prices"
   ]
  },
  {
   "cell_type": "markdown",
   "metadata": {},
   "source": [
    "<div class=\"alert alert-warning\">\n",
    "    <b>PRACTICE:</b> Store X just received a new shipment of fruit and has doubled the amount of each fruit. Create an array called <code>new_count</code>, which has double the number of fruits from <code>count</code>. To do so, get the array from the <code>fruit_availability</code> table.\n",
    "    </div>"
   ]
  },
  {
   "cell_type": "code",
   "execution_count": null,
   "metadata": {},
   "outputs": [],
   "source": [
    "new_count = fruit_availability...(\"...\") * 2\n",
    "new_count"
   ]
  },
  {
   "cell_type": "markdown",
   "metadata": {},
   "source": [
    "<div class=\"alert alert-warning\">\n",
    "    <b>PRACTICE:</b> Let's add this array to the <code>fruit_availability</code> table. Add the column and call it \"new count\". Assign this new table to the name <code>updated_fruits</code>.\n",
    "    </div>"
   ]
  },
  {
   "cell_type": "code",
   "execution_count": null,
   "metadata": {},
   "outputs": [],
   "source": [
    "updated_fruits = ...\n",
    "updated_fruits"
   ]
  },
  {
   "cell_type": "markdown",
   "metadata": {},
   "source": [
    "<div class=\"alert alert-warning\">\n",
    "    <b>PRACTICE:</b> For the final table, you only want 3 columns: \"fruit names\", \"new count\", and \"price\". Once you've selected only those columns, sort the prices from most expensive to least expensive.\n",
    "    </div>"
   ]
  },
  {
   "cell_type": "code",
   "execution_count": null,
   "metadata": {},
   "outputs": [],
   "source": [
    "final_fruits = updated_fruits...(\"...\", \"new count\", \"...\").sort(\"...\", descending = ...)\n",
    "final_fruits"
   ]
  },
  {
   "cell_type": "markdown",
   "metadata": {},
   "source": [
    "## 4. The CES Data Set Again <a id='section 4'></a>\n",
    "\n",
    "Now that you have an idea of how to update columns within a table, you can do some exploration with real-world data. Here, you'll revisit the CalEnviroScreen dataset. Reference the shared document in which your team collected background information. Feel free to look back at [Report 04](https://highschool.datahub.berkeley.edu/hub/user-redirect/git-pull?repo=https%3A%2F%2Fgithub.com%2Fds-modules%2FBUDS-SU22&urlpath=tree%2FBUDS-SU22%2FWeek-1%2F4_Tables-Pt-2.ipynb&branch=main) or the more in-depth [CalEnviroScreen report](https://oehha.ca.gov/media/downloads/calenviroscreen/report/calenviroscreen40reportf2021.pdf)."
   ]
  },
  {
   "cell_type": "code",
   "execution_count": null,
   "metadata": {},
   "outputs": [],
   "source": [
    "ces_data = Table.read_table(\"ces_data_v2.csv\")\n",
    "ces_data"
   ]
  },
  {
   "cell_type": "markdown",
   "metadata": {},
   "source": [
    "Previously, you looked at asthma and some other indicators that you felt had some ties to asthma. Today, you'll make conversions with different measurements.\n",
    "\n",
    "<div class=\"alert alert-warning\">\n",
    "    <b>PRACTICE:</b> Keep only the \"California.County\", \"Total.Population\", \"Asthma\", \"Poverty\", and \"Unemployment\" columns from the <code>ces_data</code> table. Assign this new table to the name <code>measurements</code> and be sure that the order of the columns match.\n",
    "    </div>"
   ]
  },
  {
   "cell_type": "code",
   "execution_count": null,
   "metadata": {},
   "outputs": [],
   "source": [
    "measurements = ...\n",
    "measurements"
   ]
  },
  {
   "cell_type": "markdown",
   "metadata": {},
   "source": [
    "This next cell focuses on cleaning the data that you have. Recall that some values could not be obtained and are denoted as `nan`. To get rid of these rows, some filtering must be done. As in Report 05, you do not need to know what is happening in this cell; it's enough to know that it is getting rid of the tracts that do not have sufficient information."
   ]
  },
  {
   "cell_type": "code",
   "execution_count": null,
   "metadata": {},
   "outputs": [],
   "source": [
    "for label in np.arange(1, 5):\n",
    "    measurements = measurements.where(label, are.above_or_equal_to(0))\n",
    "    \n",
    "measurements"
   ]
  },
  {
   "cell_type": "markdown",
   "metadata": {},
   "source": [
    "<div class=\"alert alert-warning\">\n",
    "    <b>PRACTICE:</b> The first change to make is within the \"Asthma\" column. It is currently measured in asthma-related emergency-department (ED) visits per every 10,000 ED visits. To make it more convenient, you'll be converting the values to the <i>percentage</i> of asthma-related emergency-department visits. This will be the number of asthma ED visits per 100 ED visits. Look at the following expressions below.\n",
    "\n",
    "<ul>\n",
    "    <li>Current measurement: $\\frac{\\# asthma}{\\# total} = \\frac{\\# asthma}{10,000}$\n",
    "    <li>Percentage: $\\% asthma = \\frac{\\# asthma}{100}$\n",
    "</ul>\n",
    "\n",
    "Find out the calculations you would need to make to convert these values to percentages. Then, assign <code>asthma_percent</code> to this array.\n",
    "    </div>"
   ]
  },
  {
   "cell_type": "code",
   "execution_count": null,
   "metadata": {},
   "outputs": [],
   "source": [
    "asthma_percent = ...\n",
    "asthma_percent"
   ]
  },
  {
   "cell_type": "markdown",
   "metadata": {},
   "source": [
    "<div class=\"alert alert-warning\">\n",
    "    <b>PRACTICE:</b> We can now add it back to the <code>measurements</code> table using previous methods. Give it the name \"Asthma.Percent\" so that you can distinguish between the old and new values.\n",
    "    </div>"
   ]
  },
  {
   "cell_type": "code",
   "execution_count": null,
   "metadata": {},
   "outputs": [],
   "source": [
    "measurements = ...\n",
    "measurements"
   ]
  },
  {
   "cell_type": "markdown",
   "metadata": {},
   "source": [
    "Well done converting our original measurements into something more intuitive! Changes like these happen frequently and are necessary when presenting findings to another party. It may seem tedious, but it gets easier the more you do it.\n",
    "\n",
    "In this next section, let's explore the measurements of California as a whole. A characteristic of interest might be the poverty rate. CalEnviroScreen collected the percentage of people living below two times the poverty rate, *but* each percentage is specific to the corresponding tract. Since these percentages differ and since tracts are composed of different population sizes, you should find the total number of people living in poverty and the total population in order to find California's poverty rate. Consider the following equation.\n",
    "\n",
    "$poverty rate = \\frac{\\# poverty}{\\# total}$\n",
    "\n",
    "<div class=\"alert alert-warning\">\n",
    "    <b>PRACTICE:</b> Let's start by finding the total number of people living in poverty (denoted '# poverty' in the above equation). Since \"Poverty\" is measured in terms of <i>percentages</i>, think of a way you can get it back to <i>counts</i>.\n",
    "    </div>\n",
    "    \n",
    "*Hint:* You may need to look at more than one column in the table."
   ]
  },
  {
   "cell_type": "code",
   "execution_count": null,
   "metadata": {},
   "outputs": [],
   "source": [
    "poverty_count = ...\n",
    "poverty_count"
   ]
  },
  {
   "cell_type": "markdown",
   "metadata": {},
   "source": [
    "<div class=\"alert alert-warning\">\n",
    "    <b>PRACTICE:</b> Now that you have the total number of people living in poverty for each tract, you can add this data to the table. Recall the table method that adds a column to your table, and call this column \"Poverty.Count\".\n",
    "    </div>"
   ]
  },
  {
   "cell_type": "code",
   "execution_count": null,
   "metadata": {},
   "outputs": [],
   "source": [
    "measurements = ...\n",
    "measurements"
   ]
  },
  {
   "cell_type": "markdown",
   "metadata": {},
   "source": [
    "<div class=\"alert alert-warning\">\n",
    "    <b>PRACTICE:</b> Finally, you can make the calculation to find the percentage of California residents living in poverty. The <code>measurements</code> table should now have the total number of people living in poverty and the total number of residents <i>per tract</i>. Before you make your calculation, remember that we are trying to divide the total number of California residents living in poverty by the total population of California.\n",
    "    </div>\n",
    "    \n",
    "*Hint:* All of the tracts make up California, so you can aggregate all of those numbers to get the percentage."
   ]
  },
  {
   "cell_type": "code",
   "execution_count": null,
   "metadata": {},
   "outputs": [],
   "source": [
    "poverty_ca = ...\n",
    "population_ca = ...\n",
    "\n",
    "poverty_percentage = ...\n",
    "poverty_percentage"
   ]
  },
  {
   "cell_type": "markdown",
   "metadata": {},
   "source": [
    "Look at the number outputted. Is it what you expected? If not, what is surprising about this value?"
   ]
  },
  {
   "cell_type": "markdown",
   "metadata": {},
   "source": [
    "_Written Answer:_"
   ]
  },
  {
   "cell_type": "markdown",
   "metadata": {},
   "source": [
    "### Extra Exploration (Optional)\n",
    "\n",
    "If you find that you would like to do extra exploration, you might find the \"Unemployment\" data interesting to look at. Some (but not all) of the poverty rate could be explained by unemployment levels, so try to compare the two measurements. Feel free to copy and paste the code from above."
   ]
  },
  {
   "cell_type": "code",
   "execution_count": null,
   "metadata": {},
   "outputs": [],
   "source": [
    "unemp_count = ...\n",
    "unemp_count"
   ]
  },
  {
   "cell_type": "code",
   "execution_count": null,
   "metadata": {},
   "outputs": [],
   "source": [
    "measurements = ...\n",
    "measurements"
   ]
  },
  {
   "cell_type": "code",
   "execution_count": null,
   "metadata": {},
   "outputs": [],
   "source": [
    "poverty_ca = ...\n",
    "population_ca = ...\n",
    "\n",
    "poverty_percentage = ...\n",
    "poverty_percentage"
   ]
  },
  {
   "cell_type": "markdown",
   "metadata": {},
   "source": [
    "### Downloading as PDF\n",
    "\n",
    "Download this notebook as a pdf by clicking <b><code>File > Download as > PDF via LaTeX (.pdf)</code></b>. Turn in the PDF into bCourses under the corresponding assignment."
   ]
  },
  {
   "cell_type": "markdown",
   "metadata": {},
   "source": [
    "Adapted from Data 8, Spring 2020 Lab 03 and Homework 02"
   ]
  }
 ],
 "metadata": {
  "kernelspec": {
   "display_name": "Python 3 (ipykernel)",
   "language": "python",
   "name": "python3"
  },
  "language_info": {
   "codemirror_mode": {
    "name": "ipython",
    "version": 3
   },
   "file_extension": ".py",
   "mimetype": "text/x-python",
   "name": "python",
   "nbconvert_exporter": "python",
   "pygments_lexer": "ipython3",
   "version": "3.10.2"
  }
 },
 "nbformat": 4,
 "nbformat_minor": 4
}
