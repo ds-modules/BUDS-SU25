{
 "cells": [
  {
   "cell_type": "markdown",
   "id": "da9f5512",
   "metadata": {},
   "source": [
    "# BUDS Report 05: Review\n",
    "\n",
    "### Table of Contents\n",
    "1. <a href='#section 1'>Arithmetic + Simple Data Types</a>\n",
    "2. <a href='#section 2'>Arrays</a>"
   ]
  },
  {
   "cell_type": "code",
   "execution_count": null,
   "id": "2d402df0",
   "metadata": {},
   "outputs": [],
   "source": [
    "# run this cell\n",
    "from datascience import *\n",
    "import numpy as np\n",
    "import math\n",
    "import matplotlib.pyplot as plt\n",
    "plt.style.use('fivethirtyeight')\n",
    "%matplotlib inline"
   ]
  },
  {
   "cell_type": "markdown",
   "id": "4d36fe94",
   "metadata": {},
   "source": [
    "## 1. Arithmetic + Simple Data Types <a id='section 1'></a>\n",
    "\n",
    "Arithmetic is written horizontally in Python instead of in the usual format that you might be used to. Take some time to read these lines of code. Then, determine what they evaluate to. Don't forget that Python follows the rules of **PEMDAS** (parentheses, exponents, multiplication, division, addition, subtraction), evaluating function/method calls when needed. Feel free to write out each step.\n",
    "\n",
    "<ul>\n",
    "    <li><code>3 * 5**2 / 15 - (5 - 2**2)</code>\n",
    "    <li><code>(22 / 2 - 2 * 5)**2 + (4 - 6 / 6)**2</code>\n",
    "    <li><code>np.sum(np.arange(2, 4, 0.5) + 11)</code>\n",
    "</ul>"
   ]
  },
  {
   "cell_type": "markdown",
   "id": "67461a93",
   "metadata": {},
   "source": [
    "_Written Answer:_"
   ]
  },
  {
   "cell_type": "markdown",
   "id": "7ee0072a",
   "metadata": {},
   "source": [
    "Reading arithmetic in Python will be helpful whenever you're reading someone else's code or whenever you're debugging your own code. (**Debugging** is the process of locating and fixing errors in code.)\n",
    "\n",
    "<div class=\"alert alert-warning\">\n",
    "<b>PRACTICE:</b> Other times, you'll be starting from scratch and coding some math that you formulated on paper. Try converting these statements into Python expressions.\n",
    "    <ul>\n",
    "        <li>$1 + 2 + 3 + 4 + 5 + 6 + 7 + 8 + 9 + 10$\n",
    "        <li>$\\cos(2\\pi) + \\sqrt{\\frac{12}{3.0} * |1 - 3| * 11 - 7}$\n",
    "        <li>The remainder of $\\frac{96}{23}$\n",
    "    </ul>\n",
    "    </div>"
   ]
  },
  {
   "cell_type": "code",
   "execution_count": null,
   "id": "e38b7e6f",
   "metadata": {},
   "outputs": [],
   "source": [
    "..."
   ]
  },
  {
   "cell_type": "markdown",
   "id": "b5b2469a",
   "metadata": {},
   "source": [
    "A good portion of coding is not spent writing code but rather *reading* code. Write a few sentences explaining what is being done in the following lines of code. Try to explain what data type you start with, what data type you end with, and what each part of the expression means.\n",
    "\n",
    "Assume that we have a table `ratings` with the given column names.\n",
    "\n",
    "<ul>\n",
    "    <li><code>np.append(make_array(\"go\", \"bears\"), \"!\")</code>\n",
    "    <li><code>ratings.select(\"Movie Name\", \"Rank\", \"Year\").relabel(\"Rank\", \"Rating\").sort(\"Year\")</code>\n",
    "</ul>"
   ]
  },
  {
   "cell_type": "markdown",
   "id": "6a16292e",
   "metadata": {},
   "source": [
    "_Written Answer:_"
   ]
  },
  {
   "cell_type": "markdown",
   "id": "f20b6a15",
   "metadata": {},
   "source": [
    "One of the last data types covered last week was booleans. **Booleans** are True or False values that correspond to 1 and 0 respectively. They use comparators like `<`, `>`, `<=`, `>=`, `==`, and `!=`. \n",
    "\n",
    "<div class=\"alert alert-warning\">\n",
    "    <b>PRACTICE:</b> Write statements that evaluate to <code>True</code> and use the following guidelines. You may need to add more code cells so that you can see its output.\n",
    "    <ul>\n",
    "        <li>A less than/greater than comparison with numbers.\n",
    "        <li>An equals comparison of an integer and a float.\n",
    "        <li>A less than or equal to/greater than or equal to comparison with a string with letters and a string with numbers.\n",
    "        <li>A not equal to comparison between two strings that are the same except for a single lowercase/uppercase letter.\n",
    "    </ul>\n",
    "    </div>"
   ]
  },
  {
   "cell_type": "code",
   "execution_count": null,
   "id": "05e3efcb",
   "metadata": {},
   "outputs": [],
   "source": [
    "..."
   ]
  },
  {
   "cell_type": "markdown",
   "id": "1cbf486a",
   "metadata": {},
   "source": [
    "<div class=\"alert alert-warning\">\n",
    "<b>PRACTICE:</b> Here, you'll combine both arithmetic and booleans. Write a line of code that returns <code>True</code> if <code>some_number</code> is divisible by <code>another_number</code> and <code>False</code> otherwise. Try changing out the values to check your answer.\n",
    "    </div>"
   ]
  },
  {
   "cell_type": "code",
   "execution_count": null,
   "id": "22c9afb5",
   "metadata": {},
   "outputs": [],
   "source": [
    "some_number = 123456\n",
    "another_number = 2\n",
    "..."
   ]
  },
  {
   "cell_type": "markdown",
   "id": "9d9910ea",
   "metadata": {},
   "source": [
    "Working with a lot of arithmetic and different data types will usually require that we name our expressions or values to avoid re-typing everything out. Why do we avoid naming arrays as `array` or naming values as `max`?"
   ]
  },
  {
   "cell_type": "markdown",
   "id": "d5b77fcb",
   "metadata": {},
   "source": [
    "_Written Answer:_"
   ]
  },
  {
   "cell_type": "markdown",
   "id": "aa1e6789",
   "metadata": {},
   "source": [
    "## 2. Arrays <a id='section 2'></a>\n",
    "\n",
    "The following section will work with arrays and look at their properties. Create an array with the strings `\"Hello\"`, `\"my\"`, `\"name\"`, `\"is\"`, and your name."
   ]
  },
  {
   "cell_type": "code",
   "execution_count": null,
   "id": "45fa7c34",
   "metadata": {},
   "outputs": [],
   "source": [
    "intro = ...\n",
    "intro"
   ]
  },
  {
   "cell_type": "markdown",
   "id": "275a4343",
   "metadata": {},
   "source": [
    "Recall that arrays must always be made of items of the *same* data type. When its contents are integers or floats, array arithmetic can be utilized. However, the rules change when the array's contents are strings. Answer the following questions to help shape your understanding of arrays.\n",
    "\n",
    "Can we do array arithmetic with `intro`? Can we do arithmetic with an item contained in `intro`? What index is your name in?"
   ]
  },
  {
   "cell_type": "markdown",
   "id": "84414647",
   "metadata": {},
   "source": [
    "_Written Answer:_"
   ]
  },
  {
   "cell_type": "markdown",
   "id": "da449550",
   "metadata": {},
   "source": [
    "Now let's check your understanding. Try doing array arithmetic with `intro` in the cell below. Do any operations work? If so, what are they?"
   ]
  },
  {
   "cell_type": "code",
   "execution_count": null,
   "id": "a8d74d78",
   "metadata": {},
   "outputs": [],
   "source": [
    "..."
   ]
  },
  {
   "cell_type": "markdown",
   "id": "699ee4b5",
   "metadata": {},
   "source": [
    "Now let's see whether we can do any operations on an item in `intro`.\n",
    "\n",
    "<div class=\"alert alert-warning\">\n",
    "    <b>PRACTICE:</b> Access the \"name\" item and your name in <code>intro</code> and try to print out a statement that says <code>name: (your name)</code> where (your name) is replaced with your name. Be sure to follow the format exactly and use arithmetic.\n",
    "    </div>\n",
    "    \n",
    "*Hint:* If this seems confusing, try to combine two separate strings together first. Then, repeat this process while accessing an element in `intro`."
   ]
  },
  {
   "cell_type": "code",
   "execution_count": null,
   "id": "bce85c9f",
   "metadata": {},
   "outputs": [],
   "source": [
    "..."
   ]
  },
  {
   "cell_type": "markdown",
   "id": "589702bb",
   "metadata": {},
   "source": [
    "<div class=\"alert alert-warning\">\n",
    "    <b>PRACTICE:</b> Now, let's try another operation on a string. Using arithmetic, try to repeat the first element in <code>intro</code> three times.\n",
    "    </div>"
   ]
  },
  {
   "cell_type": "code",
   "execution_count": null,
   "id": "bd1ba99c",
   "metadata": {},
   "outputs": [],
   "source": [
    "..."
   ]
  },
  {
   "cell_type": "markdown",
   "id": "5f46c580",
   "metadata": {},
   "source": [
    "Although we can perform some operations on strings, they don't work on arrays of strings. It might seem odd, but that's simply something you need to watch out for.\n",
    "\n",
    "Let's move to arrays of numbers.\n",
    "\n",
    "<div class=\"alert alert-warning\">\n",
    "    <b>PRACTICE:</b> Find two different ways to make an array with 100, 98, 96, ..., 0 using <code>np.arange</code>. Recall that the arguments are the start number, the stop number, and the step size.\n",
    "    </div>"
   ]
  },
  {
   "cell_type": "code",
   "execution_count": null,
   "id": "e3fa1462",
   "metadata": {},
   "outputs": [],
   "source": [
    "one_way = ...\n",
    "one_way"
   ]
  },
  {
   "cell_type": "code",
   "execution_count": null,
   "id": "250625f9",
   "metadata": {},
   "outputs": [],
   "source": [
    "another_way = ...\n",
    "another_way"
   ]
  },
  {
   "cell_type": "markdown",
   "id": "7909f4f2",
   "metadata": {},
   "source": [
    "<div class=\"alert alert-warning\">\n",
    "    <b>PRACTICE:</b> Write a boolean statement that checks whether <code>one_way</code> is the same array as <code>another_way</code>. Take a look at the output. What do you notice about it?\n",
    "    </div>"
   ]
  },
  {
   "cell_type": "code",
   "execution_count": null,
   "id": "f07b900e",
   "metadata": {},
   "outputs": [],
   "source": [
    "..."
   ]
  },
  {
   "cell_type": "markdown",
   "id": "d6b16969",
   "metadata": {},
   "source": [
    "_Written Answer:_"
   ]
  },
  {
   "cell_type": "markdown",
   "id": "825fd5f2",
   "metadata": {},
   "source": [
    "In [Report 03](https://highschool.datahub.berkeley.edu/hub/user-redirect/git-pull?repo=https%3A%2F%2Fgithub.com%2Fds-modules%2FBUDS-SU23&urlpath=tree%2FBUDS-SU23%2FWeek-1%2F3_Tables-Pt-1.ipynb&branch=main), you learned how to convert a single year into its decade. If you can do this process with one number, then you can do this with many numbers.\n",
    "\n",
    "<div class=\"alert alert-warning\">\n",
    "    <b>PRACTICE:</b> For this part of the notebook, let's do something similar. Create an array with every single year you've been alive. Then, use that array to find out which years are leap years or not. The array <code>leap</code> should use a comparator in order to be an array of boolean values.\n",
    "    </div>"
   ]
  },
  {
   "cell_type": "code",
   "execution_count": null,
   "id": "9cdb460d",
   "metadata": {},
   "outputs": [],
   "source": [
    "years = ...\n",
    "years"
   ]
  },
  {
   "cell_type": "code",
   "execution_count": null,
   "id": "58c72705",
   "metadata": {},
   "outputs": [],
   "source": [
    "leap = ...\n",
    "leap"
   ]
  },
  {
   "cell_type": "markdown",
   "id": "8a870932",
   "metadata": {},
   "source": [
    "<div class=\"alert alert-warning\">\n",
    "    <b>PRACTICE:</b> Recall that each <code>True</code> value is equivalent to 1 and each <code>False</code> value is equivalent to 0. Find a function on the Python Reference Sheet that counts how many <code>True</code> values are in your leap years array.\n",
    "    </div>"
   ]
  },
  {
   "cell_type": "code",
   "execution_count": null,
   "id": "71d02a98",
   "metadata": {},
   "outputs": [],
   "source": [
    "num_leap = ...\n",
    "num_leap"
   ]
  },
  {
   "cell_type": "markdown",
   "id": "da59f957",
   "metadata": {},
   "source": [
    "This next cell will print out a summary of your findings. Replace the ellipses (`...`) with your name so that it works properly. It may seem trivial right now, but you can get a glimpse of how this concept could be helpful on a dataset with multiple data points (e.g., people)."
   ]
  },
  {
   "cell_type": "code",
   "execution_count": null,
   "id": "fdfad49d",
   "metadata": {},
   "outputs": [],
   "source": [
    "# run this cell\n",
    "print(\"... has lived through \" + str(num_leap) + \" leap years.\")\n",
    "print(\"The leap years ... has lived through are as follows: \")\n",
    "for i in np.arange(len(years)):\n",
    "    if leap.item(i):\n",
    "        print(years.item(i))"
   ]
  },
  {
   "cell_type": "markdown",
   "id": "424dbca5",
   "metadata": {},
   "source": [
    "### Downloading as PDF\n",
    "\n",
    "Download this notebook as a pdf by clicking <b><code>File > Download as > PDF via LaTeX (.pdf)</code></b>. Turn in the PDF into bCourses under the corresponding assignment."
   ]
  }
 ],
 "metadata": {
  "kernelspec": {
   "display_name": "Python 3 (ipykernel)",
   "language": "python",
   "name": "python3"
  },
  "language_info": {
   "codemirror_mode": {
    "name": "ipython",
    "version": 3
   },
   "file_extension": ".py",
   "mimetype": "text/x-python",
   "name": "python",
   "nbconvert_exporter": "python",
   "pygments_lexer": "ipython3",
   "version": "3.10.2"
  }
 },
 "nbformat": 4,
 "nbformat_minor": 5
}
