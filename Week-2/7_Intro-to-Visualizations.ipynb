{
 "cells": [
  {
   "cell_type": "markdown",
   "id": "4c6d1c5e",
   "metadata": {},
   "source": [
    "# BUDS Report 07: Introduction to Visualizations\n",
    "\n",
    "### Table of Contents\n",
    "\n",
    "1. <a href='#section 1'>Numerical vs. Categorical Data</a>\n",
    "2. <a href='#section 2'>Scatter Plots</a>\n",
    "3. <a href='#section 3'>Histograms</a>\n",
    "4. <a href='#section 4'>Bar Charts</a>"
   ]
  },
  {
   "cell_type": "code",
   "execution_count": null,
   "id": "3b98d507",
   "metadata": {},
   "outputs": [],
   "source": [
    "# run this cell\n",
    "from datascience import *\n",
    "import numpy as np\n",
    "import math\n",
    "import matplotlib.pyplot as plt\n",
    "plt.style.use('fivethirtyeight')\n",
    "%matplotlib inline"
   ]
  },
  {
   "cell_type": "markdown",
   "id": "9aeee604",
   "metadata": {},
   "source": [
    "## 1. Numerical vs. Categorical Data <a id='section 1'></a>\n",
    "\n",
    "When working with data, it's important to consider whether it is numerical or categorical. This will help you create visualizations and make better analyses regarding the data.\n",
    "\n",
    "We work with two types — numerical data and categorical data. It may sound pretty straightforward, but here are the definitions.\n",
    "\n",
    "- **Numerical Data:** values that are from an ordered number scale where the _differences_ are meaningful\n",
    "\n",
    "- **Categorical Data:** values are from a specific inventory that may or may not have an ordering\n",
    "\n",
    "Run the following cell to load the `ces_data` table from the past few days. It'll be loaded into your notebook in the same way as previous notebooks but with a little more data cleaning than before. Again, the data cleaning consists of getting rid of `nan` values (datapoint attributes that couldn't be collected). You don't have to understand how the code works, but do take note of the change in the number of rows. Answer the following questions about numerical and categorical data."
   ]
  },
  {
   "cell_type": "code",
   "execution_count": null,
   "id": "c0b648f1",
   "metadata": {},
   "outputs": [],
   "source": [
    "ces_data = Table.read_table(\"ces_data_v2.csv\")\n",
    "print(\"The original CalEnviroScreen data had \" + str(ces_data.num_rows) + \" rows.\")\n",
    "\n",
    "# this does a bit of data cleaning\n",
    "# don't worry about understanding these next few lines of code\n",
    "for i in np.arange(ces_data.num_columns):\n",
    "    if i != 3 and i != 11:\n",
    "        ces_data = ces_data.where(i, are.above_or_equal_to(0))\n",
    "print(\"The cleaned CalEnviroScreen data now has \" + str(ces_data.num_rows) + \" rows.\")\n",
    "ces_data"
   ]
  },
  {
   "cell_type": "markdown",
   "id": "82a3256c",
   "metadata": {},
   "source": [
    "Does the column \"California.County\" contain numerical or categorical data?"
   ]
  },
  {
   "cell_type": "markdown",
   "id": "7b992905",
   "metadata": {},
   "source": [
    "_Written Answer:_"
   ]
  },
  {
   "cell_type": "markdown",
   "id": "71aacfb4",
   "metadata": {},
   "source": [
    "Does the column \"ZIP\" contain numerical or categorical data?"
   ]
  },
  {
   "cell_type": "markdown",
   "id": "2c398d62",
   "metadata": {},
   "source": [
    "_Written Answer:_"
   ]
  },
  {
   "cell_type": "markdown",
   "id": "d6fea5a0",
   "metadata": {},
   "source": [
    "Does the column \"Asthma\" contain numerical or categorical data?"
   ]
  },
  {
   "cell_type": "markdown",
   "id": "0cfec625",
   "metadata": {},
   "source": [
    "_Written Answer:_"
   ]
  },
  {
   "cell_type": "markdown",
   "id": "fb7d01e8",
   "metadata": {},
   "source": [
    "You can see that looking at whether or not the data is a number is not sufficient enough to determine whether the data is numerical. Many times, categorical data can be represented with numbers in the way that the column \"Census.Tract\" does. Although Census tracts are shown to be numbers, they represent a community or region."
   ]
  },
  {
   "cell_type": "markdown",
   "id": "4fd829b8",
   "metadata": {},
   "source": [
    "## 2. Scatter Plots <a id='section 2'></a>\n",
    "    \n",
    "A scatter plot is a visualization that is pretty easy to recognize. Each datapoint (or row in our table) gets its own point and is placed on a graph where the _x_-axis and _y_-axis denote different numerical attributes. It requires the use of method call `tbl.scatter(x_axis_colummn, y_axis_column)`.\n",
    "\n",
    "As denoted earlier, the CalEnviroScreen dataset has thousands of rows. If we choose to visualize all of our data, it might be hard to see the individual points. In fact, making a visualization with this many points will make it hard for this notebook to run. To prevent these issues from occurring, select a single county to work with. Recall from a previous notebook that counties made of two words (like \"Los Angeles\") are written normally, but counties made of one word (like \"Alameda \") have a space at the end.\n",
    "\n",
    "**Assign the string of this county to `your_county` and take note that we are now using a table called `your_data`.**"
   ]
  },
  {
   "cell_type": "code",
   "execution_count": null,
   "id": "39d47630",
   "metadata": {},
   "outputs": [],
   "source": [
    "your_county = ...\n",
    "\n",
    "your_data = ces_data.where(\"California.County\", your_county)\n",
    "your_data"
   ]
  },
  {
   "cell_type": "markdown",
   "id": "00967196",
   "metadata": {},
   "source": [
    "Recall that [Report 06](https://highschool.datahub.berkeley.edu/hub/user-redirect/git-pull?repo=https%3A%2F%2Fgithub.com%2Fds-modules%2FBUDS-SU23&urlpath=tree%2FBUDS-SU23%2FWeek-2%2F6_Creating-Tables.ipynb&branch=main) looked at the poverty rate in California. Let's continue to look at this aspect of California tracts.\n",
    "\n",
    "<div class=\"alert alert-warning\">\n",
    "    <b>PRACTICE:</b> In the following cell, create a scatter plot with poverty on the x-axis and pollution burden on the y-axis.\n",
    "    </div>"
   ]
  },
  {
   "cell_type": "code",
   "execution_count": null,
   "id": "6fd958ad",
   "metadata": {},
   "outputs": [],
   "source": [
    "..."
   ]
  },
  {
   "cell_type": "markdown",
   "id": "91e2a569",
   "metadata": {},
   "source": [
    "It seems like there might be a slight upward trend, so let's consider what the pollution burden refers to. Refer back to your reference sheet and talk about why you might see this upward trend in the scatter plot. Feel free to look back at the [CalEnviroScreen reference sheet](https://drive.google.com/file/d/1i8Jr_y_Q49Kkf2fTzcwYXh-uYUIjiHlJ/view) or the [official CalEnviroScreen report](https://oehha.ca.gov/media/downloads/calenviroscreen/report/calenviroscreen40reportf2021.pdf/)."
   ]
  },
  {
   "cell_type": "markdown",
   "id": "eca94d76",
   "metadata": {},
   "source": [
    "_Written Answer:_"
   ]
  },
  {
   "cell_type": "markdown",
   "id": "417aaf37",
   "metadata": {},
   "source": [
    "<div class=\"alert alert-warning\">\n",
    "    <b>PRACTICE:</b> Many other indicators are considered when the CalEnviroScreen data was collected. Let's look at whether there is an association between health indicators and poverty. In the next cell, create two separate scatter plots looking at the two health indicators included in the dataset. Place them on the y-axis.\n",
    "    </div>"
   ]
  },
  {
   "cell_type": "code",
   "execution_count": null,
   "id": "9665af77",
   "metadata": {},
   "outputs": [],
   "source": [
    "..."
   ]
  },
  {
   "cell_type": "markdown",
   "id": "5ba4a979",
   "metadata": {},
   "source": [
    "We see a similar trend as the previous scatter plot. Again, think about reasons we might see a correlation between these attributes. List a few that you think of. It might be helpful to consider how these characteristics were measured."
   ]
  },
  {
   "cell_type": "markdown",
   "id": "38a4f72e",
   "metadata": {},
   "source": [
    "_Written Answer:_"
   ]
  },
  {
   "cell_type": "markdown",
   "id": "04fbc9d4",
   "metadata": {},
   "source": [
    "<div class=\"alert alert-warning\">\n",
    "    <b>PRACTICE:</b> Finally, create a scatter plot with poverty on the x-axis and the CalEnviroScreen Score on the y-axis. \n",
    "    </div>"
   ]
  },
  {
   "cell_type": "code",
   "execution_count": null,
   "id": "294ee686",
   "metadata": {},
   "outputs": [],
   "source": [
    "..."
   ]
  },
  {
   "cell_type": "markdown",
   "id": "05f04e53",
   "metadata": {},
   "source": [
    "There seems to be a stronger/clearer relationship between the CalEnviroScreen score and poverty than the other three relationships we viewed. Why might we see this? Consider what the CalEnviroScreen score is composed of."
   ]
  },
  {
   "cell_type": "markdown",
   "id": "979ba424",
   "metadata": {},
   "source": [
    "_Written Answer:_"
   ]
  },
  {
   "cell_type": "markdown",
   "id": "f5aa6595",
   "metadata": {},
   "source": [
    "### Reading Documentation\n",
    "\n",
    "Although looking at these scatter plots provide insight into the county you chose, it may be helpful to compare scatter plots of multiple different counties. Again, you can't do this with the whole dataset, but you can consider a smaller subset of counties.\n",
    "\n",
    "Create and assign an array containing two different California counties to the variable `more_counties`. For reference, we have printed all California counties in the following cell.\n",
    "\n",
    "**Make sure you take note of whether there is a space after the county name or not.**"
   ]
  },
  {
   "cell_type": "code",
   "execution_count": null,
   "id": "aea6d052",
   "metadata": {},
   "outputs": [],
   "source": [
    "# just run this cell; you don't need to understand the code\n",
    "ces_data.group(\"California.County\").column(0)"
   ]
  },
  {
   "cell_type": "code",
   "execution_count": null,
   "id": "e6e99d45",
   "metadata": {},
   "outputs": [],
   "source": [
    "more_counties = ...\n",
    "\n",
    "more_data = ces_data.where(\"California.County\", are.contained_in(more_counties))\n",
    "more_data"
   ]
  },
  {
   "cell_type": "markdown",
   "id": "3e1df607",
   "metadata": {},
   "source": [
    "Great! Now you have a dataset with your selected counties. In order to create a scatter plot that effectively compares multiple counties, you need to add a few arguments to your call expression. You need to do this because this scatter plot is not like the previous scatter plots. \n",
    "\n",
    "Instead of having you copy and paste code, let's practice reading documentation! Recall that **documentation** is a description that explains the arguments that a function/method takes and what it does.\n",
    "\n",
    "Jupyter Notebook offers a helpful tool in quickly attaining documentation of a command. Here's how you can do it:\n",
    "\n",
    "- Click on the function/method that you are calling.\n",
    "- Press **`Shift + Tab`** at the same time.\n",
    "    - At this point, a little pop-up menu should show up.\n",
    "- Select the caret symbol `^` to get a full screen view of the documentation.\n",
    "    - Otherwise, you can select the plus sign `+` for a minimized documentation window.\n",
    "    \n",
    "\n",
    "<div class=\"alert alert-warning\">\n",
    "    <b>PRACTICE:</b> Try doing this with <code>np.arange</code> in the cell below. Be sure to click on the <code>arange</code> portion, as that is the function that we want to call. NumPy (denoted <code>np</code>) is the library that houses the function <code>arange</code>. In the following Markdown cell, explain what you see in the documentation.\n",
    "    </div>"
   ]
  },
  {
   "cell_type": "code",
   "execution_count": null,
   "id": "09b5a090",
   "metadata": {},
   "outputs": [],
   "source": [
    "np.arange(0, 10, 2)"
   ]
  },
  {
   "cell_type": "markdown",
   "id": "9c291526",
   "metadata": {},
   "source": [
    "_Written Answer:_"
   ]
  },
  {
   "cell_type": "markdown",
   "id": "f9258636",
   "metadata": {},
   "source": [
    "<div class=\"alert alert-warning\">\n",
    "    <b>PRACTICE:</b> Repeat this process with the <code>scatter</code> method. A number of phrases (like \"Signature\" and \"Docstring\") might show up. Take note of the similarities between the documentation of <code>arange</code> and the documentation of <code>scatter</code>. What do you think is being described in the documentation of <code>scatter</code>? You don't need to understand all items in the documentation, but try skimming all parts.\n",
    "    </div>\n",
    "    \n",
    "Once you have done this, talk to your team and facilitators about your guesses."
   ]
  },
  {
   "cell_type": "code",
   "execution_count": null,
   "id": "c8d99bca",
   "metadata": {},
   "outputs": [],
   "source": [
    "more_data.scatter(...)"
   ]
  },
  {
   "cell_type": "markdown",
   "id": "53aaa240",
   "metadata": {},
   "source": [
    "_Written Answer:_"
   ]
  },
  {
   "cell_type": "markdown",
   "id": "3c84931f",
   "metadata": {},
   "source": [
    "<div class=\"alert alert-warning\">\n",
    "    <b>PRACTICE:</b> Now that you have an idea of how <code>scatter</code> works and what each of its arguments are, create a scatter plot of your two counties' poverty-CalEnviroScreen score relationships. Keep \"Poverty\" on the <i>x</i>-axis and \"CES.3.0.Score\" on the <i>y</i>-axis. Try adjusting the different arguments so that your visualization is easier to interpret. For example, you might want to alter the size of the points if you have a county with many tracts.\n",
    "    </div>"
   ]
  },
  {
   "cell_type": "code",
   "execution_count": null,
   "id": "7e474c60",
   "metadata": {},
   "outputs": [],
   "source": [
    "more_data.scatter(...)"
   ]
  },
  {
   "cell_type": "markdown",
   "id": "1e0a22e9",
   "metadata": {},
   "source": [
    "Compare and contrast the two counties you just made a visualization of. Are there similarities in their trends? What differences do you see (if any stand out)?"
   ]
  },
  {
   "cell_type": "markdown",
   "id": "237714ae",
   "metadata": {},
   "source": [
    "_Written Answer:_"
   ]
  },
  {
   "cell_type": "markdown",
   "id": "caacf8a2",
   "metadata": {},
   "source": [
    "## 3. Histograms <a id='section 3'></a>\n",
    "\n",
    "Another type of visualization that you may have seen before is a histogram. Because it displays the distribution of a quantitative variable, it is very useful for numerical data. In the context of a histogram, a **distribution** will show how frequently numbers from a number range appear.\n",
    "\n",
    "Run the following cell to see the distribution of CalEnviroScreen scores. Call expressions that make histograms will always follow this format: `tbl.hist(x_axis_column, normed=False)`."
   ]
  },
  {
   "cell_type": "code",
   "execution_count": null,
   "id": "067aba93",
   "metadata": {},
   "outputs": [],
   "source": [
    "ces_data.hist(\"CES.3.0.Score\", normed=False)"
   ]
  },
  {
   "cell_type": "markdown",
   "id": "4845f259",
   "metadata": {},
   "source": [
    "What do you notice about the shape of this histogram? Is it nice and even? Does it pull off into one direction?"
   ]
  },
  {
   "cell_type": "markdown",
   "id": "7bcce8aa",
   "metadata": {},
   "source": [
    "_Written Answer:_"
   ]
  },
  {
   "cell_type": "markdown",
   "id": "b67a3a08",
   "metadata": {},
   "source": [
    "<div class=\"alert alert-warning\">\n",
    "    <b>PRACTICE:</b> Let's once again take a look at either poverty or unemployment to create a visualization. (Choose which one you'd like to look at.) Make sure to use <code>ces_data</code> and the <code>normed=False</code> argument. How does this histogram's shape and spread compare to the histogram of CES scores?\n",
    "    </div>"
   ]
  },
  {
   "cell_type": "code",
   "execution_count": null,
   "id": "59043f39",
   "metadata": {},
   "outputs": [],
   "source": [
    "..."
   ]
  },
  {
   "cell_type": "markdown",
   "id": "63748efc",
   "metadata": {},
   "source": [
    "_Written Answer:_"
   ]
  },
  {
   "cell_type": "markdown",
   "id": "312d0084",
   "metadata": {},
   "source": [
    "We're able to use the entire dataset with histograms because it requires less computation to generate histograms than it does scatter plots. Still, it might be useful to look at a subset of our data again. Let's stick to using the tables you created earlier. Recall that you have one county in the `your_data` table and multiple counties in the `more_data` table."
   ]
  },
  {
   "cell_type": "code",
   "execution_count": null,
   "id": "159e75b0",
   "metadata": {},
   "outputs": [],
   "source": [
    "# run this cell\n",
    "print(\"The county in your_data is: \")\n",
    "print(\" - \" + your_county)\n",
    "\n",
    "print(\"The counties in more_data are: \")\n",
    "for county in more_counties:\n",
    "    print(\" - \" + county)"
   ]
  },
  {
   "cell_type": "markdown",
   "id": "aa2cfc9e",
   "metadata": {},
   "source": [
    "<div class=\"alert alert-warning\">\n",
    "    <b>PRACTICE:</b> Create the same histogram you made in the last \"PRACTICE\" question. This time, make it with <code>your_data</code> and see how its distribution compares to the rest of California. Note the differences and similarities. Draw on what you know about this county and explain why this might be.\n",
    "    </div>"
   ]
  },
  {
   "cell_type": "code",
   "execution_count": null,
   "id": "aad90b97",
   "metadata": {},
   "outputs": [],
   "source": [
    "..."
   ]
  },
  {
   "cell_type": "markdown",
   "id": "78e276c6",
   "metadata": {},
   "source": [
    "_Written Answer:_"
   ]
  },
  {
   "cell_type": "markdown",
   "id": "38dda753",
   "metadata": {},
   "source": [
    "<div class=\"alert alert-warning\">\n",
    "    <b>PRACTICE:</b> Try making a histogram that displays multiple different counties. Keep the same column on the x-axis as the previous two histograms and read the documentation of <code>hist</code> in the same way you read the documentation of <code>scatter</code>. Again, try adjusting the different arguments so that your visualization is easier to interpret.\n",
    "    \n",
    "Please be sure to keep the <code>normed=False</code> argument!\n",
    "    </div>\n",
    "\n",
    "As usual, discuss any arguments that are confusing or not quite intuitive with your team and your facilitators.\n",
    "\n",
    "Also, ignore any red warning signs if your visualization successfully appears. The message will not break your computer or cause any issues; it's simply indicating that something is out-of-date. Don't worry about this."
   ]
  },
  {
   "cell_type": "code",
   "execution_count": null,
   "id": "85734615",
   "metadata": {},
   "outputs": [],
   "source": [
    "more_data.hist(...)"
   ]
  },
  {
   "cell_type": "markdown",
   "id": "80536e2d",
   "metadata": {},
   "source": [
    "<div class=\"alert alert-warning\">\n",
    "    <b>PRACTICE:</b> You might find that the shapes of these distributions are drastically different. Let's try a <i>new</i> subset of counties. Choose two <i>new</i> counties that you think might have similar population sizes and characteristics.\n",
    "\n",
    "If your above distributions are already pretty similar, choose two counties that you think are pretty different.\n",
    "\n",
    "    \n",
    "Then, make the same histogram as above using these <i>new</i> counties.\n",
    "    </div>"
   ]
  },
  {
   "cell_type": "code",
   "execution_count": null,
   "id": "41bae60f",
   "metadata": {},
   "outputs": [],
   "source": [
    "diff_counties = ...\n",
    "\n",
    "diff_data = ces_data.where(\"California.County\", are.contained_in(diff_counties))\n",
    "diff_data"
   ]
  },
  {
   "cell_type": "code",
   "execution_count": null,
   "id": "c0401193",
   "metadata": {},
   "outputs": [],
   "source": [
    "..."
   ]
  },
  {
   "cell_type": "markdown",
   "id": "d4bba1a8",
   "metadata": {},
   "source": [
    "Do you find that the histograms with similar counties are easier to interpret than the histograms with different counties? Do you see any issues with this visualization? For example, what might be an issue when comparing counties with very different population sizes?"
   ]
  },
  {
   "cell_type": "markdown",
   "id": "0115961b",
   "metadata": {},
   "source": [
    "_Written Answer:_"
   ]
  },
  {
   "cell_type": "markdown",
   "id": "a350fe24",
   "metadata": {},
   "source": [
    "Not all of the histograms look as nice as the CalEnviroScreen score histogram because some of our data is distributed differently. For example, take a look at the pesticides distribution. Even if you make changes to its arguments, the visualization is hard to use."
   ]
  },
  {
   "cell_type": "code",
   "execution_count": null,
   "id": "194e112c",
   "metadata": {
    "scrolled": true
   },
   "outputs": [],
   "source": [
    "diff_data.hist(\"Pesticides\", bins=30, unit=\"total pounds per square mile\", group=\"California.County\", normed=False)"
   ]
  },
  {
   "cell_type": "markdown",
   "id": "16959f25",
   "metadata": {},
   "source": [
    "## 4. Bar Charts <a id='section 4'></a>\n",
    "\n",
    "It's a little hard to work with the current `ces_data` table because there are so many census tracts. Let's try looking at unique counties instead of unique Census tracts. To do so, we need to think about how we want to represent our information. For example, is it better to take the *sum* of the SF county Census tracts' populations or the *average* of the SF county Census tracts' populations? Should we take the *sum* of unemployment percentages or the *average* of unemployment percentages?\n",
    "\n",
    "<div class=\"alert alert-warning\">\n",
    "    <b>PRACTICE:</b> Assign <code>sum_attributes</code> to a new array containing \"California.County\" and the name of the column we would want to take sums of. You don't need to know how the following line of code works, but you can read it and see if you have an idea of what happens in that line.\n",
    "    </div>"
   ]
  },
  {
   "cell_type": "code",
   "execution_count": null,
   "id": "f78b3fc4",
   "metadata": {},
   "outputs": [],
   "source": [
    "sum_attributes = ...\n",
    "\n",
    "county_sums = ces_data.select(sum_attributes).group(\"California.County\", sum)\n",
    "county_sums"
   ]
  },
  {
   "cell_type": "markdown",
   "id": "095c3366",
   "metadata": {},
   "source": [
    "<div class=\"alert alert-warning\">\n",
    "    <b>PRACTICE:</b> Now assign <code>avg_attributes</code> to an array with \"California.County\", \"CES.3.0.Score\", and three other columns that we would want to take averages of. Again, you don't need to know how the following line works.\n",
    "    </div>"
   ]
  },
  {
   "cell_type": "code",
   "execution_count": null,
   "id": "2ec49369",
   "metadata": {},
   "outputs": [],
   "source": [
    "avg_attributes = ...\n",
    "\n",
    "county_avgs = ces_data.select(avg_attributes).group(\"California.County\", np.average)\n",
    "county_avgs"
   ]
  },
  {
   "cell_type": "markdown",
   "id": "f7dce485",
   "metadata": {},
   "source": [
    "Notice what happens after we made tables with only one row per unique county. Both tables have only 56 rows (or 56 counties) and now have different column names.\n",
    "\n",
    "Since visualizing 56 different counties might get a little messy, we'll only work with bay area counties for the remainder of the notebook. You don't need to understand the next code cell, but it might help you understand what has happened.\n",
    "\n",
    "In the next cell, we join the `county_sums` table with the `county_avgs` table so that all the data can be accessed in one table. Then, we make an array with only Bay Area counties and keep the rows where \"California.County\" is a Bay Area county."
   ]
  },
  {
   "cell_type": "code",
   "execution_count": null,
   "id": "7e6a73f8",
   "metadata": {},
   "outputs": [],
   "source": [
    "county_statistics = county_sums.join(\"California.County\", county_avgs)\n",
    "\n",
    "bay_counties = make_array(\"Alameda \", \"Contra Costa\", \"Marin \", \"Napa \", \"San Mateo\", \"Santa Clara\", \"Solano \", \"Sonoma \", \"San Francisco\")\n",
    "bay_county_statistics = county_statistics.where(\"California.County\", are.contained_in(bay_counties))\n",
    "\n",
    "bay_county_statistics"
   ]
  },
  {
   "cell_type": "markdown",
   "id": "009b54ae",
   "metadata": {},
   "source": [
    "Now that you've set up a table with the necessary information, you can go ahead and make a bar chart. Calls to create bar charts follow the following format: `tbl.barh(category_column, count_column)`.\n",
    "\n",
    "We use `barh` instead of `bar` because horizontal bar charts tend to present better on Jupyter Notebooks.\n",
    "\n",
    "<div class=\"alert alert-warning\">\n",
    "    <b>PRACTICE:</b> Create a (horizontal) bar chart with the bay area counties as its categories and the column you took sums of as its counts.\n",
    "    </div>"
   ]
  },
  {
   "cell_type": "code",
   "execution_count": null,
   "id": "88b3aeea",
   "metadata": {},
   "outputs": [],
   "source": [
    "..."
   ]
  },
  {
   "cell_type": "markdown",
   "id": "ddaa45b8",
   "metadata": {},
   "source": [
    "Let's sort the bars in order so that we have a better idea of the relative differences between different counties. Notice that the counties in the above bar graph are sorted in the same order as the column \"California.County\" in the `bay_county_statistics` table. Try to think of how we could get our bars to appear in order of lowest total population to highest."
   ]
  },
  {
   "cell_type": "code",
   "execution_count": null,
   "id": "e20c9fda",
   "metadata": {},
   "outputs": [],
   "source": [
    "..."
   ]
  },
  {
   "cell_type": "markdown",
   "id": "55f497f3",
   "metadata": {},
   "source": [
    "### Time Permitting (Optional)\n",
    "\n",
    "Finally, create more bar charts for the columns you took averges of. Feel free to read the documentation of `barh` in the same way you read the documentation of `scatter` and `hist`. This might make your visualizations much cleaner."
   ]
  },
  {
   "cell_type": "code",
   "execution_count": null,
   "id": "883add1b",
   "metadata": {},
   "outputs": [],
   "source": [
    "..."
   ]
  },
  {
   "cell_type": "code",
   "execution_count": null,
   "id": "e0ca3f18",
   "metadata": {},
   "outputs": [],
   "source": [
    "..."
   ]
  },
  {
   "cell_type": "code",
   "execution_count": null,
   "id": "732218d3",
   "metadata": {},
   "outputs": [],
   "source": [
    "..."
   ]
  },
  {
   "cell_type": "markdown",
   "id": "53b93848",
   "metadata": {},
   "source": [
    "### Downloading as PDF\n",
    "\n",
    "Congratulations on finishing this lengthy report!\n",
    "\n",
    "Download this notebook as a pdf by clicking <b><code>File > Download as > PDF via LaTeX (.pdf)</code></b>. Turn in the PDF into bCourses under the corresponding assignment."
   ]
  }
 ],
 "metadata": {
  "kernelspec": {
   "display_name": "Python 3 (ipykernel)",
   "language": "python",
   "name": "python3"
  },
  "language_info": {
   "codemirror_mode": {
    "name": "ipython",
    "version": 3
   },
   "file_extension": ".py",
   "mimetype": "text/x-python",
   "name": "python",
   "nbconvert_exporter": "python",
   "pygments_lexer": "ipython3",
   "version": "3.10.2"
  }
 },
 "nbformat": 4,
 "nbformat_minor": 5
}
