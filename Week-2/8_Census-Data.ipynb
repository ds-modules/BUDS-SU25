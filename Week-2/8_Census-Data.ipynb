{
 "cells": [
  {
   "cell_type": "markdown",
   "metadata": {},
   "source": [
    "# BUDS Report 08: Census Data\n",
    "\n",
    "## Table of Contents\n",
    "1.  <a href='#section 1'>Background Knowledge</a>\n",
    "    \n",
    "2.  <a href='#section 2'>Formulating a Question or Problem</a> \n",
    "\n",
    "3.  <a href='#section 3'>Acquiring and Cleaning Data</a>"
   ]
  },
  {
   "cell_type": "code",
   "execution_count": null,
   "metadata": {},
   "outputs": [],
   "source": [
    "# run this cell\n",
    "from datascience import *\n",
    "import numpy as np\n",
    "import math\n",
    "import matplotlib.pyplot as plt\n",
    "plt.style.use(\"fivethirtyeight\")\n",
    "%matplotlib inline"
   ]
  },
  {
   "cell_type": "markdown",
   "metadata": {},
   "source": [
    "## 1. Background Knowledge  <a id='section 1'></a>\n",
    "\n",
    "### What is the Census? <a id='subsection 1a'></a>\n",
    "\n",
    "Founded in 1902, the US Census Bureau is a government agency that is responsible for collecting and maintaining data regarding the American people and economy. The 2020 Census counts every person in the United States and its 5 territories. Because this data is so hard to collect, the Constitution mandates the country counts the population every 10 years.\n",
    "\n",
    "More information can be found at this website: https://www.census.gov/programs-surveys/decennial-census/decade/2020/about.html\n",
    "\n",
    "<div class=\"alert alert-info\">\n",
    "    <b>Question:</b> In order to better understand the data we are working with, find out who is included in the Census.\n",
    "    </div>"
   ]
  },
  {
   "cell_type": "markdown",
   "metadata": {},
   "source": [
    "_Written Answer:_"
   ]
  },
  {
   "cell_type": "markdown",
   "metadata": {},
   "source": [
    "<div class=\"alert alert-info\">\n",
    "    <b>Question:</b> Take a few minutes to look up some information about the Census. Provide three things you found interesting and the link(s) that you referenced.\n",
    "   </div>"
   ]
  },
  {
   "cell_type": "markdown",
   "metadata": {},
   "source": [
    "_Written Answer:_\n",
    "\n",
    "**Interesting Insights**\n",
    "1. \n",
    "\n",
    "2. \n",
    "\n",
    "3. \n",
    "\n",
    "Links: ..."
   ]
  },
  {
   "cell_type": "markdown",
   "metadata": {},
   "source": [
    "### Why Is the Census Important?\n",
    "\n",
    "The Census informs lawmakers and assists other officials in making decisions and allocating resources. \n",
    "\n",
    "<div class=\"alert alert-info\">\n",
    "    <b>Question:</b> What are some of the resources/decisions the Census informs? Once again, try to research the answer to this question.\n",
    "    </div>"
   ]
  },
  {
   "cell_type": "markdown",
   "metadata": {},
   "source": [
    "_Written Answer:_\n",
    "\n",
    "Links:"
   ]
  },
  {
   "cell_type": "markdown",
   "metadata": {},
   "source": [
    "# 2. Formulating a Question or Problem  <a id='section 2'></a>\n",
    "\n",
    "Now that we have done some investigation into the census, it is time to come up with a few questions that we could investigate about the Census using data! Here are a few prompts to get you started:\n",
    "\n",
    "1. Have there been changes in the population over time? \n",
    "2. Do certain states have different demographics?\n",
    "3. Are there trends based on gender or age that we can look at?\n",
    "\n",
    "<div class=\"alert alert-info\">\n",
    "    <b>Question:</b> From the preliminary research, think of a few questions you would ask.\n",
    "    </div>"
   ]
  },
  {
   "cell_type": "markdown",
   "metadata": {},
   "source": [
    "_Written Answer:_\n",
    "\n",
    "**Potential Questions**\n",
    "1. \n",
    "\n",
    "2. \n",
    "\n",
    "3. "
   ]
  },
  {
   "cell_type": "markdown",
   "metadata": {},
   "source": [
    "# 3. Acquiring and Cleaning Data <a id='section 3'></a>\n",
    "\n",
    "Let's look at the 2010 Census data so that we can start on the **Data Acquisiton and Cleaning** phase of the Data Science Life Cycle.\n",
    "\n",
    "Run the following cell to load in the dataset and go through the process of cleaning. Cleaning data makes it more usable and easier to read. It can include identifying missing values, changing column names, or changing the data types of the elements of a column in order to work with it better "
   ]
  },
  {
   "cell_type": "code",
   "execution_count": null,
   "metadata": {},
   "outputs": [],
   "source": [
    "# as of January 2017, this census file is online here\n",
    "data = 'http://www2.census.gov/programs-surveys/popest/datasets/2010-2015/national/asrh/nc-est2015-agesex-res.csv'\n",
    "\n",
    "full_census = Table.read_table(data)\n",
    "full_census"
   ]
  },
  {
   "cell_type": "markdown",
   "metadata": {},
   "source": [
    "Only the first 10 rows of the table are displayed. Later we will see how to display the entire table even though this is typically not useful with large tables.\n",
    "\n",
    "### An Analysis without Context or Cleaning\n",
    "\n",
    "Let's try looking at the data before knowing what the data looks like. \n",
    "\n",
    "<div class=\"alert alert-warning\">\n",
    "    <b>PRACTICE:</b> Create a line plot with age on the <i>x</i>-axis and the 2010 population of people that age on the <i>y</i>-axis. Refer to the Python Reference Sheet for a helpful method.\n",
    "    </div>"
   ]
  },
  {
   "cell_type": "code",
   "execution_count": null,
   "metadata": {},
   "outputs": [],
   "source": [
    "..."
   ]
  },
  {
   "cell_type": "markdown",
   "metadata": {},
   "source": [
    "What did you expect this plot to look like? Does it match your expectations? What's off about this visualization?"
   ]
  },
  {
   "cell_type": "markdown",
   "metadata": {},
   "source": [
    "_Written Answer:_"
   ]
  },
  {
   "cell_type": "markdown",
   "metadata": {},
   "source": [
    "Try to imagine what the values underneath each column should look like. Then, access the values to see what's going on with our data.\n",
    "\n",
    "<div class=\"alert alert-warning\">\n",
    "    <b>PRACTICE:</b> In the following cell, take a look at the values underneath the \"AGE\" column. There is a method that will do list out all the <i>values</i> underneath this column.\n",
    "    </div>"
   ]
  },
  {
   "cell_type": "code",
   "execution_count": null,
   "metadata": {},
   "outputs": [],
   "source": [
    "..."
   ]
  },
  {
   "cell_type": "markdown",
   "metadata": {},
   "source": [
    "What is the maximum age that you expect people to be? How many times do you see this number? Hypothesize what that number could be."
   ]
  },
  {
   "cell_type": "markdown",
   "metadata": {},
   "source": [
    "_Written Answer:_"
   ]
  },
  {
   "cell_type": "markdown",
   "metadata": {},
   "source": [
    "Say you choose to ignore the weird values and continue your analysis. To do so, you get rid of the weirder values for right now and re-make that same visualization.\n",
    "\n",
    "<div class=\"alert alert-warning\">\n",
    "    <b>PRACTICE:</b> We'll get rid of the weird values for you. In the next line, create a new line plot with the new dataset.\n",
    "    </div>"
   ]
  },
  {
   "cell_type": "code",
   "execution_count": null,
   "metadata": {},
   "outputs": [],
   "source": [
    "clean_census = full_census.where('AGE', are.between_or_equal_to(0, 100))\n",
    "..."
   ]
  },
  {
   "cell_type": "markdown",
   "metadata": {},
   "source": [
    "<div class=\"alert alert-warning\">\n",
    "    <b>PRACTICE:</b> It seems like our data is oscillating between some numbers, creating a thick band instead of a simple line. To get a better grasp of what each data point looks like, create a scatter plot of the dataset instead.\n",
    "    </div>"
   ]
  },
  {
   "cell_type": "code",
   "execution_count": null,
   "metadata": {},
   "outputs": [],
   "source": [
    "..."
   ]
  },
  {
   "cell_type": "markdown",
   "metadata": {},
   "source": [
    "Now you can see a more distinct pattern with the data that we are working with. More specifically, there appears to be three lines that the data follows.\n",
    "\n",
    "A [description of the table](http://www2.census.gov/programs-surveys/popest/datasets/2010-2015/national/asrh/nc-est2015-agesex-res.pdf) appears online. Take a look at what the \"SEX\" column and \"AGE\" column are composed of.\n",
    "\n",
    "Now that you have more information on this dataset, can you explain why our *initial* plot seemed so weird?"
   ]
  },
  {
   "cell_type": "markdown",
   "metadata": {},
   "source": [
    "_Written Answer:_"
   ]
  },
  {
   "cell_type": "markdown",
   "metadata": {},
   "source": [
    "Now try to explain why our scatter plot has these three \"lines\" instead of one."
   ]
  },
  {
   "cell_type": "markdown",
   "metadata": {},
   "source": [
    "_Written Answer:_"
   ]
  },
  {
   "cell_type": "markdown",
   "metadata": {},
   "source": [
    "### Context and Data Cleaning\n",
    "\n",
    "Now that you have an idea of the composition of this dataset, let's take a subset of the full data set so that it becomes more wieldy for our investigation. \n",
    "\n",
    "<div class=\"alert alert-warning\">\n",
    "    <b>PRACTICE:</b> Retain only the \"SEX\", \"AGE\", 2010 population estimate, and 2014 population estimate columns. Be sure to use the table where we took out the weird numbers.\n",
    "    </div>"
   ]
  },
  {
   "cell_type": "code",
   "execution_count": null,
   "metadata": {},
   "outputs": [],
   "source": [
    "partial_census = ...\n",
    "partial_census"
   ]
  },
  {
   "cell_type": "markdown",
   "metadata": {},
   "source": [
    "Because we are working with Census data, it seems a bit redundant to keep the phrase \"POPESTIMATE\" in our column names. To clean this up, let's change the `POPESTIMATE2010` to `2010` in order to make it easier to read and use in future analysis.\n",
    "\n",
    "<div class=\"alert alert-warning\">\n",
    "    <b>PRACTICE:</b> Set <code>us_pop</code> to a table where <i>both</i> estimate columns are relabeled. \n",
    "    </div>"
   ]
  },
  {
   "cell_type": "code",
   "execution_count": null,
   "metadata": {},
   "outputs": [],
   "source": [
    "us_pop = ...\n",
    "us_pop"
   ]
  },
  {
   "cell_type": "markdown",
   "metadata": {},
   "source": [
    "We now have a table that is easy to work with. Each column of the table is an array of the same length, so columns can be combined using arithmetic.\n",
    "\n",
    "<div class=\"alert alert-warning\">\n",
    "    <b>PRACTICE:</b> Calculate the population difference between 2010 and 2014 for each row. Save the result to the table under a column called \"POP DIFF\".\n",
    "    </div>"
   ]
  },
  {
   "cell_type": "code",
   "execution_count": null,
   "metadata": {},
   "outputs": [],
   "source": [
    "...\n",
    "us_pop"
   ]
  },
  {
   "cell_type": "markdown",
   "metadata": {},
   "source": [
    "Why might the population of 3 year olds in 2014 be smaller than the population of 3 year olds in 2014? Consider what changes occur in five years."
   ]
  },
  {
   "cell_type": "markdown",
   "metadata": {},
   "source": [
    "_Written Answer:_"
   ]
  },
  {
   "cell_type": "markdown",
   "metadata": {},
   "source": [
    "To visualize the answer to this question, let's ignore the column \"SEX\" and focus only on age and the population.\n",
    "\n",
    "<div class=\"alert alert-warning\">\n",
    "    <b>PRACTICE:</b> In the following cell, create a scatter plot that shows age on the <i>x</i>-axis and both the 2010 and the 2014 population estimates on the <i>y</i>-axis. Refer to the optional arguments you explored in Report 07.\n",
    "    </div>"
   ]
  },
  {
   "cell_type": "code",
   "execution_count": null,
   "metadata": {},
   "outputs": [],
   "source": [
    "..."
   ]
  },
  {
   "cell_type": "markdown",
   "metadata": {},
   "source": [
    "Now you can see the phenomena you described earlier. There are still three \"lines\" that the dots follow, but it might be easier to analyze once you know how to filter. After all, the arguments `overlay` and `group` don't work together."
   ]
  },
  {
   "cell_type": "markdown",
   "metadata": {},
   "source": [
    "### Downloading as PDF\n",
    "\n",
    "Download this notebook as a pdf by clicking <b><code>File > Download as > PDF via LaTeX (.pdf)</code></b>. Turn in the PDF into bCourses under the corresponding assignment."
   ]
  }
 ],
 "metadata": {
  "kernelspec": {
   "display_name": "Python 3 (ipykernel)",
   "language": "python",
   "name": "python3"
  },
  "language_info": {
   "codemirror_mode": {
    "name": "ipython",
    "version": 3
   },
   "file_extension": ".py",
   "mimetype": "text/x-python",
   "name": "python",
   "nbconvert_exporter": "python",
   "pygments_lexer": "ipython3",
   "version": "3.10.2"
  }
 },
 "nbformat": 4,
 "nbformat_minor": 4
}
