{
 "cells": [
  {
   "cell_type": "markdown",
   "id": "02289d1f-fbb0-4a9e-8120-d05e0af4d6c6",
   "metadata": {},
   "source": [
    "<hr style=\"border: 5px solid #003262;\" />\n",
    "<hr style=\"border: 1px solid #fdb515;\" />\n",
    "\n",
    "# Getting to Know Kaggle\n",
    "\n",
    "Welcome to start of your final project! This notebook will introduce you to [Kaggle](https://www.kaggle.com/), a resource for datasets. After picking an appropriate dataset, you can go through the Data Science Life Cycle!"
   ]
  },
  {
   "cell_type": "markdown",
   "id": "b25fc565-43bf-4ef9-9bd7-edcff2f272e0",
   "metadata": {},
   "source": [
    "<hr style=\"border: 1px solid #fdb515;\" />\n",
    "\n",
    "## Part 1: Accessing Datasets through Kaggle\n",
    "\n",
    "A **dataset** is a collection of information or data that data scientists can use to uncover patterns and make predictions. A dataset is very important as we share and store much information in datasets.\n",
    "\n",
    "To begin, access the [Kaggle website](https://www.kaggle.com/). Kaggle is a data science competition platform and online community for data scientists and machine learning practitioners, and it allows users to find and publish datasets. \n",
    "Once you are on the website, you’ll need to create a free Kaggle account. To create an account, look for the **\"Register\"** button located on the top right of the website and click it to begin registering. Once an account is registered, locate the datasets tab on the left side of the website.\n"
   ]
  },
  {
   "attachments": {},
   "cell_type": "markdown",
   "id": "fae86a38-43b3-48bc-902e-00518f737c89",
   "metadata": {},
   "source": [
    "<details>\n",
    "<summary>Dataset tab</summary>\n",
    "<img src=\"https://github.com/dubois-ctds/data6-nwdse-2025/blob/main/fundamentals-workshop/images/kaggle_dataset_location.png?raw=true\" width=\"200\"/>\n",
    "</details>\n"
   ]
  },
  {
   "cell_type": "markdown",
   "id": "70f15d36-eca3-4808-a88d-1e18499954a8",
   "metadata": {},
   "source": [
    "Once you have accessed the datasets tab, you can start searching for all the open source datasets Kaggle has. You can view all datasets Kaggle has by clicking the \"All datasets\" tab, or you can search for a specific dataset by using the search bar."
   ]
  },
  {
   "cell_type": "markdown",
   "id": "26d5f13b-5b6f-42d8-8ff7-b93864373f15",
   "metadata": {},
   "source": [
    "<details>\n",
    "    <summary>All Datasets tab</summary>\n",
    "    <img src=\"https://github.com/dubois-ctds/data6-nwdse-2025/blob/main/fundamentals-workshop/images/all_datasets.png?raw=true\" width=\"1000\"/>\n",
    "</details>"
   ]
  },
  {
   "cell_type": "markdown",
   "id": "e97c8ac1-9f49-4921-85c3-a75b672e587d",
   "metadata": {},
   "source": [
    "<details>\n",
    "    <summary>Search Datasets</summary>\n",
    "    <img src=\"https://github.com/dubois-ctds/data6-nwdse-2025/blob/main/fundamentals-workshop/images/search_datasets.png?raw=true\" width=\"1000\"/>\n",
    "</details>"
   ]
  },
  {
   "cell_type": "markdown",
   "id": "a747f6df-64ec-4396-9a71-78c60054e292",
   "metadata": {},
   "source": [
    "You can use either option to start browsing for interesting datasets. Before you start searching for a dataset, there are some size restrictions for the dataset file that need to be considered. Computer files take space in the local storage of your computer, and the unit for digital information is called a byte. The common file sizes that are used are:\n",
    "\n",
    "1. Kilobyte (KB) - 1000 bytes\n",
    "2. Megabyte (MB) - 1000 KB\n",
    "3. Gigabyte (GB) - 1000 MB\n",
    "4. Terabyte (TB) - 1000 GB\n",
    "\n",
    "Besides the size, there are other aspects of a dataset we must be mindful of:\n",
    "\n",
    "- Number of rows\n",
    "- Number of columns\n",
    "  - Column Names\n",
    "  - Type of data each column contains"
   ]
  },
  {
   "cell_type": "markdown",
   "id": "6a475ce6-c18b-4a1d-a4c8-2c45d5630afc",
   "metadata": {},
   "source": [
    "This is important because Jupyter has a computing limit of 1-2 GB. With this knowledge, find a dataset that interests you and is not that large. While searching for a dataset, keep these questions in mind:\n",
    "\n",
    "1. What is a question you would like to explore or answer using this dataset?\n",
    "   - Think about something you are curious about or a pattern you would like to discover.\n",
    "2. What measurement(s) or variables from the dataset would help you answer your question?\n",
    "   - Think about the specific columns/types of data you would need\n",
    "3. What is an ethical question or consideration related to analysing/using this dataset?\n",
    "   - Where does the data come from?\n",
    "   - How was the data collected/acquired?\n",
    "   - Who benefits from the data collection?\n",
    "   - Who might be harmed by the data collection or its use?\n",
    "   - Is there consent for data collection?\n",
    "   - What was the original purpose for collecting this data?"
   ]
  },
  {
   "cell_type": "markdown",
   "id": "3da48b28-33f3-4c42-8665-219c1cd179c2",
   "metadata": {},
   "source": [
    "Once you have chosen a dataset that fits the criteria above, we can then start analyzing the dataset!"
   ]
  },
  {
   "cell_type": "markdown",
   "id": "ff4c507c-4256-4a21-88db-a80d52074a86",
   "metadata": {},
   "source": [
    "<hr style=\"border: 1px solid #fdb515;\" />\n",
    "\n",
    "## Part 2: Learning Kaggle's User Interface\n",
    "\n",
    "Most Kaggle datasets include a description explaining their purpose and contents. Once you have a dataset selected, you can start learning more about the dataset."
   ]
  },
  {
   "cell_type": "markdown",
   "id": "495fc89b-791b-4fe6-860a-88afafa704dc",
   "metadata": {},
   "source": [
    "---\n",
    "\n",
    "### Understanding Kaggle Datasets\n",
    "When you have selected a dataset, there is an \"About Dataset\" section that provides an overview and description of the dataset; scope, data collection methodology, and data quality standards. Here is an example:"
   ]
  },
  {
   "cell_type": "markdown",
   "id": "038fc720-49e3-4b59-bd00-cc0bd9dbdaf4",
   "metadata": {},
   "source": [
    "<details>\n",
    "    <summary>Kaggle \"About Dataset\" example</summary>\n",
    "    <img src=\"https://github.com/dubois-ctds/data6-nwdse-2025/blob/main/fundamentals-workshop/images/example_dataset.png?raw=true\" width=\"700\"/>\n",
    "</details>"
   ]
  },
  {
   "cell_type": "markdown",
   "id": "3f7686ea-2201-4124-af39-e05b1a12e73c",
   "metadata": {},
   "source": [
    "If you scroll down a bit, you will see another tab named \"Detail\" tab that provides file type and data information.  "
   ]
  },
  {
   "cell_type": "markdown",
   "id": "4bf8d777-d910-4367-af46-85564780f1c2",
   "metadata": {},
   "source": [
    "<details>\n",
    "    <summary>Detail tab</summary>\n",
    "    <img src=\"https://github.com/dubois-ctds/data6-nwdse-2025/blob/main/fundamentals-workshop/images/example_dataset_detail.png?raw=true\" width=\"700\"/>\n",
    "</details>"
   ]
  },
  {
   "cell_type": "markdown",
   "id": "805e3b3a-0d97-4330-8939-fcba12ccba8c",
   "metadata": {},
   "source": [
    "The \"Compact\" tab provides an overview of the dataset as a relational database.\n",
    "\n",
    "- The left blue arrow describes the size of the dataset, and the right blue arrow shows the download icon for the dataset.\n",
    "- The green arrow points to a dropdown menu that displays the number of columns in the dataset.\n",
    "- The red arrow points to a drop down menu that allows you to sort the data by ascending/descending order. You can also choose a minimum and maximum value that you want to see in the dataset as well.   "
   ]
  },
  {
   "cell_type": "markdown",
   "id": "43dab1b3-f129-4d22-9d58-eface41d2c45",
   "metadata": {},
   "source": [
    "<details>\n",
    "    <summary>Compact tab</summary>\n",
    "    <img src=\"https://github.com/dubois-ctds/data6-nwdse-2025/blob/main/fundamentals-workshop/images/example_dataset_compact.png?raw=true\" width=\"700\"/>\n",
    "</details>"
   ]
  },
  {
   "cell_type": "markdown",
   "id": "e91499d4-68ba-432e-9d40-93ef837dd714",
   "metadata": {},
   "source": [
    "<details>\n",
    "    <summary>Compact Sorting Tab</summary>\n",
    "    <img src=\"https://github.com/dubois-ctds/data6-nwdse-2025/blob/main/fundamentals-workshop/images/dataset_sort.png?raw=true\" width=\"300\"/>\n",
    "</details>"
   ]
  },
  {
   "cell_type": "markdown",
   "id": "735f76fb-3c2a-42ae-9895-846d55880da0",
   "metadata": {},
   "source": [
    "The \"Column\" tab provides an overview of each column in the dataset. This tab also notes if the column has valid data (blue arrow) or invalid, mismatched, or missing data (red arrow)."
   ]
  },
  {
   "cell_type": "markdown",
   "id": "dfbfac44-e3ee-47b2-8435-30569e71eec4",
   "metadata": {},
   "source": [
    "<details>\n",
    "    <summary>Column tab</summary>\n",
    "    <img src=\"https://github.com/dubois-ctds/data6-nwdse-2025/blob/main/fundamentals-workshop/images/example_dataset_column.png?raw=true\" width=\"700\"/>\n",
    "</details>"
   ]
  },
  {
   "cell_type": "markdown",
   "id": "ec7824cb-c6fd-467b-b411-2cbe3d8f54be",
   "metadata": {},
   "source": [
    "Lastly, there is a summary of the datset's data type information on the right side of the webpage. "
   ]
  },
  {
   "cell_type": "markdown",
   "id": "c0f0f199-9027-44bf-8604-ff59d13a5bcd",
   "metadata": {},
   "source": [
    "<details>\n",
    "    <summary>Summary of Dataset</summary>\n",
    "    <img src=\"https://github.com/dubois-ctds/data6-nwdse-2025/blob/main/fundamentals-workshop/images/dataset_summary.png?raw=true\" width=\"400\"/>\n",
    "</details>"
   ]
  },
  {
   "cell_type": "markdown",
   "id": "eefd058d-9239-4836-b703-07953e8b54e5",
   "metadata": {},
   "source": [
    "You can learn most aspects of a dataset on Kaggle by looking under these sections for your particular dataset. "
   ]
  },
  {
   "cell_type": "markdown",
   "id": "fa1df311-0ea8-4bfb-b1ae-dcb15d2bc9bd",
   "metadata": {},
   "source": [
    "---\n",
    "#### Review the Dataset Using the Compact and Column Tabs"
   ]
  },
  {
   "cell_type": "markdown",
   "id": "8dc4d46b-9a80-4427-aa8a-cf3297d586dd",
   "metadata": {},
   "source": [
    "Answer the following questions in the textbox following each question:"
   ]
  },
  {
   "cell_type": "markdown",
   "id": "cda3af5b-a258-4bb0-8153-535b2adceee0",
   "metadata": {},
   "source": [
    "<div class=\"alert alert-info\">\n",
    "1. What is the name of your dataset? Provide a brief description of the dataset as well.\n",
    "</div>"
   ]
  },
  {
   "cell_type": "markdown",
   "id": "d5dc3124-f4a3-4289-b2be-a07806d50633",
   "metadata": {},
   "source": [
    "*Type answer here*"
   ]
  },
  {
   "cell_type": "markdown",
   "id": "494bc9d4-d54d-470f-95ae-2e7006f985d8",
   "metadata": {},
   "source": [
    "<div class=\"alert alert-info\">\n",
    "2. How many rows and columns does the dataset have?\n",
    "</div>"
   ]
  },
  {
   "cell_type": "markdown",
   "id": "11d7335c-ec10-49dd-8038-2fc69ba922c7",
   "metadata": {},
   "source": [
    "*Type answer here*"
   ]
  },
  {
   "cell_type": "markdown",
   "id": "20c374e7-a7a7-4823-8960-cb452dfa4f11",
   "metadata": {},
   "source": [
    "<div class=\"alert alert-info\">\n",
    "3. What do the column names represent? Refer to Kaggle's description for context.\n",
    "</div>"
   ]
  },
  {
   "cell_type": "markdown",
   "id": "3fcc8e5f-8ab9-472c-98df-cf75ef6277a9",
   "metadata": {},
   "source": [
    "*Type answer here*"
   ]
  },
  {
   "cell_type": "markdown",
   "id": "bc3be0b3-ab75-4497-af54-d23de2791c88",
   "metadata": {},
   "source": [
    "<div class=\"alert alert-info\">\n",
    "4. Are there patterns or trends you notice at a glance?\n",
    "</div>"
   ]
  },
  {
   "cell_type": "markdown",
   "id": "4a181a61-f287-45be-9c11-96aaedbc9435",
   "metadata": {},
   "source": [
    "*Type answer here*"
   ]
  },
  {
   "cell_type": "markdown",
   "id": "0584c4d0-6d86-463c-9bcd-dbb2c345e5bb",
   "metadata": {},
   "source": [
    "<div class=\"alert alert-info\">\n",
    "5. Can you identify any missing data or unusual values in the dataset?\n",
    "</div>"
   ]
  },
  {
   "cell_type": "markdown",
   "id": "21bb325b-1343-4d19-b1c2-9f6f3055d900",
   "metadata": {},
   "source": [
    "*Type answer here*"
   ]
  },
  {
   "cell_type": "markdown",
   "id": "0bf5494e-d915-4b2c-9d33-17fe88359abd",
   "metadata": {},
   "source": [
    "<div class=\"alert alert-info\">\n",
    "6. What are the data values that are quantitative?\n",
    "</div>"
   ]
  },
  {
   "cell_type": "markdown",
   "id": "ca888bee-5012-48da-8275-efd30e010c32",
   "metadata": {},
   "source": [
    "*Type answer here*"
   ]
  },
  {
   "cell_type": "markdown",
   "id": "4ccdce49-65d8-4902-9187-0909a019f3c4",
   "metadata": {},
   "source": [
    "<div class=\"alert alert-info\">\n",
    "7. What are the data values that are qualitative (i.e. categorical)?\n",
    "</div>"
   ]
  },
  {
   "cell_type": "markdown",
   "id": "26b51fb1-7453-40df-be79-881615948b3d",
   "metadata": {},
   "source": [
    "*Type answer here*"
   ]
  },
  {
   "cell_type": "markdown",
   "id": "f43d6672-694a-4b4c-8e9d-ecc99524b2c2",
   "metadata": {},
   "source": [
    "---\n",
    "#### Analyze the Dataset"
   ]
  },
  {
   "cell_type": "markdown",
   "id": "51ad2f5c-dbe7-40ab-bda5-39a14271847e",
   "metadata": {},
   "source": [
    "Answer the following questions based on what you observe:"
   ]
  },
  {
   "cell_type": "markdown",
   "id": "205f26a5-eaf8-4927-99df-88f903157e03",
   "metadata": {},
   "source": [
    "<div class=\"alert alert-info\">\n",
    "\n",
    "1. Identify two numerical columns and answer the following:\n",
    "   - What do these numbers represent?\n",
    "   - What range of values do they cover (for example, what are the minimum and maximum values)?\n",
    "   - Identify one categorical column and list its unique categories or values.\n",
    "</div>"
   ]
  },
  {
   "cell_type": "markdown",
   "id": "5e0661ed-b9e7-4dd2-8a13-6b9ba33cf0ff",
   "metadata": {},
   "source": [
    "*Type answer here*"
   ]
  },
  {
   "cell_type": "markdown",
   "id": "64b08fcd-b983-458d-8510-d83dfef574ee",
   "metadata": {},
   "source": [
    "<div class=\"alert alert-info\">\n",
    "\n",
    "2. Consider the following questions:\n",
    "   - What story does the dataset seem to tell?\n",
    "   - Who might find this data useful, and for what purpose?\n",
    "</div>"
   ]
  },
  {
   "cell_type": "markdown",
   "id": "00b0f788-64b3-4d02-b63c-af1eaa84a357",
   "metadata": {},
   "source": [
    "*Type answer here*"
   ]
  },
  {
   "cell_type": "markdown",
   "id": "5554555e-d686-41b3-9594-24b31f14556d",
   "metadata": {},
   "source": [
    "<hr style=\"border: 1px solid #fdb515;\" />\n",
    "\n",
    "## Part 3: Downloading and Importing a Dataset into Jupyter\n",
    "\n",
    "Once you have found an interesting dataset that satisfies the size criteria, you can download the dataset as a `.csv` file. To do this, click on the download button pointed out by the blue arrow on the \"Compact\" tab described in Part 2 of this notebook. "
   ]
  },
  {
   "cell_type": "markdown",
   "id": "439976f8-e031-4e3b-a735-405162f2bd5d",
   "metadata": {},
   "source": [
    "<details>\n",
    "    <summary>Download Button Location</summary>\n",
    "    <img src=\"https://github.com/dubois-ctds/data6-nwdse-2025/blob/main/fundamentals-workshop/images/how_to_download.png?raw=true\" width=\"700\"/>\n",
    "</details>"
   ]
  },
  {
   "cell_type": "markdown",
   "id": "a65b7744-2c23-4576-8e66-e2806634102d",
   "metadata": {},
   "source": [
    "Once you have downloaded the dataset, you can go to [Jupyter](https://datahub.berkeley.edu/hub/), navigate to `BUDS-SU##/Project/Kaggle`, then in the top left you can see the upload button. Upload the `csv` file you wish to explore!"
   ]
  },
  {
   "cell_type": "markdown",
   "id": "ba9f2e22",
   "metadata": {},
   "source": [
    "<hr style=\"border: 1px solid #fdb515;\" />\n",
    "\n",
    "## Part 4: Exploring the Data\n",
    "\n",
    "Now that your Data Set has been uploaded to Jupyter, you can turn it into a table and start doing what you need to do in order to try and answer your research question! To focus your attention back onto your task, please rewrite the question that you want to answer below. There's also space for you to update your question if you feel like that needs to happen as you are going through your data, and for you to keep track of exactly what data you need in order to answer your question."
   ]
  },
  {
   "cell_type": "markdown",
   "id": "b93bd3b9",
   "metadata": {},
   "source": [
    "**Original Question(s):** *here*\n",
    "\n",
    "\n",
    "**Updated Question(s):** *here*\n",
    "\n",
    "\n",
    "**Data you would need:** *here*"
   ]
  },
  {
   "cell_type": "markdown",
   "id": "292291a5",
   "metadata": {},
   "source": [
    "In the cell below, please assign the variable my_file_string to a string with the name of your .csv file that you uploaded to the data folder in Jupyter (include the .csv part in the string too!). After running the cell, you should see a nice table with all the data that you need for your project!"
   ]
  },
  {
   "cell_type": "code",
   "execution_count": null,
   "id": "c9657958",
   "metadata": {},
   "outputs": [],
   "source": [
    "my_file_string = ...\n",
    "my_data = Table().read_table(my_file_string)\n",
    "my_data"
   ]
  },
  {
   "cell_type": "markdown",
   "id": "3a1f6dfc-8d8e-4fda-b8f4-6ebd76e12dd5",
   "metadata": {},
   "source": [
    "---\n",
    "### Clean your Dataset\n",
    "\n",
    "Datasets from Kaggle can potentially contain rows that have missing values. For this part, we want to ensure the dataset has no rows or columns with missing values. \n",
    "\n",
    "1. Verify you do not have rows or columns with missing values.\n",
    "2. Verify data type format by column\n",
    "   - Quantitative columns should only have numeric data types\n",
    "   - Qualitative / categorical columns should have values algined with the columns values\n",
    "   - Replace any row with formatting inconsistencies with a new row from the randomized database spreadsheet"
   ]
  },
  {
   "cell_type": "code",
   "execution_count": null,
   "id": "89a4f5ce",
   "metadata": {},
   "outputs": [],
   "source": [
    "# Check if the table has missing values\n",
    "..."
   ]
  },
  {
   "cell_type": "code",
   "execution_count": null,
   "id": "a82d5544",
   "metadata": {},
   "outputs": [],
   "source": [
    "# Check the data type of each column\n",
    "..."
   ]
  },
  {
   "cell_type": "markdown",
   "id": "02584a00",
   "metadata": {},
   "source": [
    "---\n",
    "### Conducting Exploratory Data Analysis\n",
    "\n",
    "Visualizations help us to understand what the dataset is telling us. You can use any of the visualizations you have learned in lecture to help answer your question."
   ]
  },
  {
   "cell_type": "markdown",
   "id": "2896c5fc",
   "metadata": {},
   "source": [
    "<div class=\"alert alert-info\">\n",
    "<b>Question:</b> Make 5 Visualizations on the data.\n",
    "   </div>"
   ]
  },
  {
   "cell_type": "code",
   "execution_count": null,
   "id": "c0feb58b",
   "metadata": {},
   "outputs": [],
   "source": []
  },
  {
   "cell_type": "code",
   "execution_count": null,
   "id": "6980ec7e",
   "metadata": {},
   "outputs": [],
   "source": []
  },
  {
   "cell_type": "code",
   "execution_count": null,
   "id": "6369e1a3",
   "metadata": {},
   "outputs": [],
   "source": []
  },
  {
   "cell_type": "code",
   "execution_count": null,
   "id": "7736e43c",
   "metadata": {},
   "outputs": [],
   "source": []
  },
  {
   "cell_type": "code",
   "execution_count": null,
   "id": "8ea8e47c",
   "metadata": {},
   "outputs": [],
   "source": []
  },
  {
   "cell_type": "markdown",
   "id": "ab6016d2-392f-40c2-9059-ccd7d4696094",
   "metadata": {},
   "source": [
    "---\n",
    "### Summarize your Findings"
   ]
  },
  {
   "cell_type": "markdown",
   "id": "7ecfe693-c1bb-4d9e-ae2c-96c2c1b0c39d",
   "metadata": {},
   "source": [
    "<div class=\"alert alert-info\">     \n",
    "1. What dataset did you select and why? "
   ]
  },
  {
   "cell_type": "markdown",
   "id": "6896e2f9-8804-449d-8922-70ae7e77af07",
   "metadata": {},
   "source": [
    "*Type answer here*"
   ]
  },
  {
   "cell_type": "markdown",
   "id": "0a56084a-9f40-4a0b-9ba1-5a1cf1962273",
   "metadata": {},
   "source": [
    "<div class=\"alert alert-info\">     \n",
    "2. Did the visualizations help answer your research question? "
   ]
  },
  {
   "cell_type": "markdown",
   "id": "67b14ae7-3b0f-4c15-8638-44fb9aeff1d0",
   "metadata": {},
   "source": [
    "*Type answer here*"
   ]
  },
  {
   "cell_type": "markdown",
   "id": "d3863fe6-9e61-45f9-b65a-bae9a173a0f0",
   "metadata": {},
   "source": [
    "<div class=\"alert alert-info\">     \n",
    "3. What is an ethical question or consideration related to analysing/using this dataset?\n",
    "</div>"
   ]
  },
  {
   "cell_type": "markdown",
   "id": "5eeb9951-7d87-4a1c-909c-f2676c2c3de2",
   "metadata": {},
   "source": [
    "*Type answer here*"
   ]
  },
  {
   "cell_type": "markdown",
   "id": "c02697a2-fee5-460b-a03a-6049f18036bf",
   "metadata": {},
   "source": [
    "<div class=\"alert alert-info\">     \n",
    "4. Any questions or challenges you encountered while exploring your dataset?\n",
    "</div>"
   ]
  },
  {
   "cell_type": "markdown",
   "id": "4acde1e8-191d-44a0-85be-d58320904459",
   "metadata": {},
   "source": [
    "*Type answer here*"
   ]
  }
 ],
 "metadata": {
  "kernelspec": {
   "display_name": "Python 3 (ipykernel)",
   "language": "python",
   "name": "python3"
  },
  "language_info": {
   "codemirror_mode": {
    "name": "ipython",
    "version": 3
   },
   "file_extension": ".py",
   "mimetype": "text/x-python",
   "name": "python",
   "nbconvert_exporter": "python",
   "pygments_lexer": "ipython3",
   "version": "3.11.7"
  }
 },
 "nbformat": 4,
 "nbformat_minor": 5
}
