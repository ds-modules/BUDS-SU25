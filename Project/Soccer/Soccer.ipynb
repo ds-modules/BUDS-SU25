{
 "cells": [
  {
   "cell_type": "code",
   "execution_count": null,
   "metadata": {},
   "outputs": [],
   "source": [
    "# run this cell\n",
    "import pandas as pd\n",
    "from datascience import *\n",
    "import numpy as np\n",
    "import math\n",
    "import matplotlib.pyplot as plt\n",
    "plt.style.use('fivethirtyeight')\n",
    "%matplotlib inline"
   ]
  },
  {
   "cell_type": "markdown",
   "metadata": {},
   "source": [
    "# Final Project: Soccer"
   ]
  },
  {
   "cell_type": "markdown",
   "metadata": {},
   "source": [
    "### Table of Contents\n",
    "\n",
    "1. <a href='#section 1'>Formulating a Question or Problem</a> \n",
    "\n",
    "\n",
    "2. <a href='#section 2'>Acquiring and Preparing Data</a>\n",
    "\n",
    "\n",
    "3. <a href='#section 3'>Conducting Exploratory Data Analysis</a>\n",
    "\n",
    "\n",
    "4. <a href='#section 4'>Using Prediction and Inference to Draw Conclusions</a>\n",
    "<br><br>"
   ]
  },
  {
   "cell_type": "markdown",
   "metadata": {},
   "source": [
    "### Background Knowledge <a id='section 0'></a>\n"
   ]
  },
  {
   "cell_type": "markdown",
   "metadata": {},
   "source": [
    "Nothing frustrates both soccer fans and players as much as being [red-carded](https://en.wikipedia.org/wiki/Penalty_card#Red_card). In soccer, receiving a red card from the referee means that the player awarded the red card is expelled from the game. Consequently his team must play with one fewer player for the remainder of the game.\n",
    "\n",
    "Due to the inherently subjective nature of referees' judgments, questions involving the fairness of red card decisions crop up frequently, especially when soccer players with darker complexions are red-carded.\n",
    "\n",
    "For the remainder of this project, we will explore a dataset on red-cards and skin color and attempt to understand how different approachs to analysis can lead to different conclusions to the general question: \"Are referees more likely to give red cards to darker-skinned players?\"\n"
   ]
  },
  {
   "cell_type": "markdown",
   "metadata": {},
   "source": [
    " <img src=\"images/redcard.jpg\" width = 700/>"
   ]
  },
  {
   "cell_type": "markdown",
   "metadata": {},
   "source": [
    "# The Data Science Life Cycle"
   ]
  },
  {
   "cell_type": "markdown",
   "metadata": {},
   "source": [
    "## 1. Formulating a Question or Problem <a id='section 1'></a>\n",
    "It is important to ask questions that will be informative and that will avoid misleading results. "
   ]
  },
  {
   "cell_type": "markdown",
   "metadata": {},
   "source": [
    "<div class=\"alert alert-info\">\n",
    "<b>Question:</b> Recall the questions about red cards and skin color that you developed with your group. Write down that question below, and try to add onto it with the context from the articles. Think about what data you would need to answer your question.\n",
    "   </div>"
   ]
  },
  {
   "cell_type": "markdown",
   "metadata": {},
   "source": [
    "**Your questions:** *here*\n",
    "\n",
    "**Data you would need:** *here*\n",
    "\n",
    "\n",
    "**Article:** *link*"
   ]
  },
  {
   "cell_type": "markdown",
   "metadata": {},
   "source": [
    "## 2. Acquiring and Cleaning Data <a id='subsection 1b'></a>\n",
    " \n",
    "In this notebook, you'll be working with a dataset containing entries for many European soccer players, containing variables such as club, position, games, and skin complexion.\n",
    "\n",
    "Important to note about this dataset is that it was generated as the result of an [observational study](https://en.wikipedia.org/wiki/Observational_study), rather than a [randomized controlled experiment](https://en.wikipedia.org/wiki/Randomized_controlled_trial). In an observational study, entities' independent variables (such as race, height, zip code) are observed, rather than controlled as in the randomized controlled experiment. Though data scientists often prefer the control and accuracy of controlled experiments, often performing one is either too costly or poses ethical questions (e.g., testing trial drugs and placebo treatments on cancer patients at random). Though our dataset was generated organically—in the real world rather than in a laboratory—it is statistically more challenging to prove causation among variables for these kinds of observational studies.\n",
    "\n",
    "\n",
    "Please read this summary of the [dataset's description](https://osf.io/9yh4x/) to familiarize yourself with the context of the data:\n",
    "\n",
    ">*...we obtained data and profile photos from all soccer players (N = 2053) playing in the first male divisions of England, Germany, France and Spain in the 2012-2013 season and all referees (N = 3147) that these players played under in their professional career. We created a dataset of player dyads including the number of matches players and referees encountered each other and our dependent variable, the number of red cards given to a player by a particular referee throughout all matches the two encountered each other.*\n",
    "\n",
    ">*...implicit bias scores for each referee country were calculated using a race implicit association test (IAT), with higher values corresponding to faster white | good, black | bad associations. Explicit bias scores for each referee country were calculated using a racial thermometer task, with higher values corresponding to greater feelings of warmth toward whites versus blacks.*"
   ]
  },
  {
   "cell_type": "code",
   "execution_count": null,
   "metadata": {},
   "outputs": [],
   "source": [
    "# run this cell to load the data\n",
    "data = pd.read_csv(\"data/CrowdstormingDataJuly1st.csv\").dropna()\n",
    "data = Table.from_df(data)"
   ]
  },
  {
   "cell_type": "markdown",
   "metadata": {},
   "source": [
    "Here are some of the important fields in our data set that we will focus on:\n",
    "\n",
    "|Variable Name   | Description |\n",
    "|--------------|------------|\n",
    "|`player` | player's name |\n",
    "|`club` | player's soccer club (team) |\n",
    "|`leagueCountry`| country of player club (England, Germany, France, and Spain) |\n",
    "|`height` | player height (in cm) |\n",
    "|`games`| number of games in the player-referee dyad |\n",
    "|`position` | detailed player position |\n",
    "|`goals`| goals scored by a player in the player-referee dyad |\n",
    "|`yellowCards`| number of yellow cards player received from referee |\n",
    "|`yellowReds`| number of yellow-red cards player received from referee |\n",
    "|`redCards`| number of red cards player received from referee |\n",
    "|`rater1`| skin rating of photo by rater 1 (5-point scale ranging from very light skin to very dark skin |\n",
    "|`rater2`| skin rating of photo by rater 2 (5-point scale ranging from very light skin to very dark skin |\n",
    "|`meanIAT`|  mean implicit bias score (using the race IAT) for referee country, higher values correspond to faster white good, black bad associations |\n",
    "|`meanExp`| mean explicit bias score (using a racial thermometer task) for referee country, higher values correspond to greater feelings of warmth toward whites versus blacks |"
   ]
  },
  {
   "cell_type": "markdown",
   "metadata": {},
   "source": [
    "As you can see on the table above, two of the variables we will be exploring is the ratings on skin tone (1-5) measured by two raters, Lisa and Shareef. For context, we have added a series of images that were given to them so that you can better understand their perspective on skin tones. Keep in mind that this might affect our hypothesis and drive our conclusions. \n",
    "\n",
    "Note: On the following images, the only two were the rating for the two raters coincide is image #3 on the top and image #6 on the bottom. "
   ]
  },
  {
   "cell_type": "markdown",
   "metadata": {},
   "source": [
    "<img src=\"images/L1S1.jpg\" style=\"float: left; width: 30%; margin-right: 1%; margin-bottom: 0.5em;\">\n",
    "<img src=\"images/L1S2.jpg\" style=\"float: left; width: 30%; margin-right: 1%; margin-bottom: 0.5em;\">\n",
    "<img src=\"images/L2S2.jpg\" style=\"float: left; width: 30%; margin-right: 1%; margin-bottom: 0.5em;\">\n",
    "<img src=\"images/L3S4.jpg\" style=\"float: left; width: 30%; margin-right: 1%; margin-bottom: 0.5em;\">\n",
    "<img src=\"images/L4S5.jpg\" style=\"float: left; width: 30%; margin-right: 1%; margin-bottom: 0.5em;\">\n",
    "<img src=\"images/L5S5.jpg\" style=\"float: left; width: 30%; margin-right: 1%; margin-bottom: 0.5em;\">\n",
    "<p style=\"clear: both;\">"
   ]
  },
  {
   "cell_type": "code",
   "execution_count": null,
   "metadata": {},
   "outputs": [],
   "source": [
    "# run this cell show the first ten rows of the data\n",
    "data.show(10)"
   ]
  },
  {
   "cell_type": "markdown",
   "metadata": {},
   "source": [
    "Let's remove the columns we are not going to be working with."
   ]
  },
  {
   "cell_type": "code",
   "execution_count": null,
   "metadata": {},
   "outputs": [],
   "source": [
    "cols_to_drop = make_array(\"birthday\", \"victories\", \"ties\", \"defeats\", \"goals\",\n",
    "                \"photoID\", \"Alpha_3\", \"nIAT\", \"nExp\")\n",
    "\n",
    "data = data.drop(cols_to_drop)"
   ]
  },
  {
   "cell_type": "markdown",
   "metadata": {},
   "source": [
    "Let's reload the table to make sure we got rid of all of our undesired columns."
   ]
  },
  {
   "cell_type": "code",
   "execution_count": null,
   "metadata": {},
   "outputs": [],
   "source": [
    "data.show(5)"
   ]
  },
  {
   "cell_type": "markdown",
   "metadata": {},
   "source": [
    "<div class=\"alert alert-info\">\n",
    "<b>Question:</b> It's important to evalute our data source. How do you feel about the way ratings on skin tone are collected? What about how implicit/explicit bias is calculated?\n",
    "   </div>"
   ]
  },
  {
   "cell_type": "markdown",
   "metadata": {},
   "source": [
    "*Insert answer here*"
   ]
  },
  {
   "cell_type": "markdown",
   "metadata": {},
   "source": [
    "<div class=\"alert alert-info\">\n",
    "<b>Question:</b> We want to learn more about the dataset. First, how many total rows are in this table? What does each row represent?\n",
    "    \n",
    "   </div>"
   ]
  },
  {
   "cell_type": "code",
   "execution_count": null,
   "metadata": {},
   "outputs": [],
   "source": [
    "total_rows = ...\n",
    "total_rows"
   ]
  },
  {
   "cell_type": "markdown",
   "metadata": {},
   "source": [
    "*Insert answer here*"
   ]
  },
  {
   "cell_type": "markdown",
   "metadata": {},
   "source": [
    "<div class=\"alert alert-info\">\n",
    "<b>Question:</b> If we're trying to examine the relationship between red cards given and skin color, which variables should we consider? Classify the ones you choose as either independent or dependent variables and explain your choices.\n",
    "    \n",
    "   </div>"
   ]
  },
  {
   "cell_type": "markdown",
   "metadata": {},
   "source": [
    "*Insert answer here*"
   ]
  },
  {
   "cell_type": "markdown",
   "metadata": {},
   "source": [
    "## 3. Conducting Exploratory Data Analysis <a id='section 3'></a>"
   ]
  },
  {
   "cell_type": "markdown",
   "metadata": {},
   "source": [
    "Visualizations help us to understand what the dataset is telling us. Let's look at a few."
   ]
  },
  {
   "cell_type": "markdown",
   "metadata": {},
   "source": [
    "### Scatter plots"
   ]
  },
  {
   "cell_type": "markdown",
   "metadata": {},
   "source": [
    "To analyze the correlation between **independent and dependent variables**, we may use a scatter plot as a simple form of data visualization between one numerical \"x\" (independent) variable and one numerical \"y\" (dependent) variable. Below are a few scatterplot examples a data scientist might generate when asking the questions: \"How are implicit and explicit bias correlated?\" and \"Is a player's height correlated with the number of yellow cards he receives?\" respectively."
   ]
  },
  {
   "cell_type": "code",
   "execution_count": null,
   "metadata": {},
   "outputs": [],
   "source": [
    "# just run this, you don't need to understand this cell\n",
    "# it accumulates all the mean implicit and explicit bias values\n",
    "data_df = pd.read_csv(\"data/CrowdstormingDataJuly1st.csv\")\n",
    "meanExp = []\n",
    "meanIAT = []\n",
    "for index, row in data_df.iterrows():\n",
    "    if row[\"meanExp\"] not in meanExp:\n",
    "        meanExp.append(row[\"meanExp\"])\n",
    "        meanIAT.append(row[\"meanIAT\"])\n",
    "exps = np.nan_to_num(meanExp)\n",
    "iats = np.nan_to_num(meanIAT)"
   ]
  },
  {
   "cell_type": "markdown",
   "metadata": {},
   "source": [
    "Run the following cell to create a table of means, called `means`"
   ]
  },
  {
   "cell_type": "code",
   "execution_count": null,
   "metadata": {},
   "outputs": [],
   "source": [
    "means = Table().with_columns(\"meanExps\", exps, \"meanIATs\", iats)\n",
    "means"
   ]
  },
  {
   "cell_type": "markdown",
   "metadata": {},
   "source": [
    "<div class=\"alert alert-info\">\n",
    "<b>Question:</b> Use the means table to create a scatter plot of <code>meanExps</code> vs <code>meanIATs</code>. Create a visualization that is informative and has more features than the default plot (i.e., use the other visualization arguments).\n",
    "   </div>"
   ]
  },
  {
   "cell_type": "code",
   "execution_count": null,
   "metadata": {},
   "outputs": [],
   "source": [
    "..."
   ]
  },
  {
   "cell_type": "markdown",
   "metadata": {},
   "source": [
    "<div class=\"alert alert-info\">\n",
    "<b>Question:</b> What do you observe from the scatter plot? Why might these two variables be related in this way? \n",
    "   </div>"
   ]
  },
  {
   "cell_type": "markdown",
   "metadata": {},
   "source": [
    "*Insert answer here*"
   ]
  },
  {
   "cell_type": "markdown",
   "metadata": {},
   "source": [
    "<div class=\"alert alert-info\">\n",
    "<b>Question:</b> Write code to create a scatter plot of height and the number of yellow cards.\n",
    "   </div>"
   ]
  },
  {
   "cell_type": "code",
   "execution_count": null,
   "metadata": {},
   "outputs": [],
   "source": [
    "..."
   ]
  },
  {
   "cell_type": "markdown",
   "metadata": {},
   "source": [
    "<div class=\"alert alert-info\">\n",
    "<b>Question:</b> What do you observe from the scatter plot? Do the two variables seem to be correlated? Why or why not?\n",
    "   </div>"
   ]
  },
  {
   "cell_type": "markdown",
   "metadata": {},
   "source": [
    "*Insert answer here*"
   ]
  },
  {
   "cell_type": "markdown",
   "metadata": {},
   "source": [
    "### Bar plots"
   ]
  },
  {
   "cell_type": "markdown",
   "metadata": {},
   "source": [
    "Observe below how we're able to use a *pivot table* to make an insightful series of bar plots on the number of red cards awarded by referees officiating in different leagues across Europe. The number to the left of the plots' y axes represents the number of red cards awarded in those kinds of games. The labels of the plots' y axes is the number of games in that particular referee/league combination for the given number of red cards.\n",
    "\n",
    "Run the following cell to load a new table. The values represent the number of games for each **league/number of red cards** combination:"
   ]
  },
  {
   "cell_type": "code",
   "execution_count": null,
   "metadata": {
    "scrolled": true
   },
   "outputs": [],
   "source": [
    "agg = data.pivot(\"redCards\", \"leagueCountry\")\n",
    "agg"
   ]
  },
  {
   "cell_type": "markdown",
   "metadata": {},
   "source": [
    "In the following cell, plot a bar chart for each individual league."
   ]
  },
  {
   "cell_type": "code",
   "execution_count": null,
   "metadata": {},
   "outputs": [],
   "source": [
    "..."
   ]
  },
  {
   "cell_type": "markdown",
   "metadata": {},
   "source": [
    "<div class=\"alert alert-info\">\n",
    "<b>Question:</b> \n",
    "Interpret what you see. Which countries (if any) do you hypothesize tend to award more/less red cards? Feel free to do some research on sport culture in each of these countries.\n",
    "   </div>"
   ]
  },
  {
   "cell_type": "markdown",
   "metadata": {},
   "source": [
    "*Insert answer here*"
   ]
  },
  {
   "cell_type": "markdown",
   "metadata": {},
   "source": [
    "Now try creating another pivot table to break down the distribution of red cards by player position."
   ]
  },
  {
   "cell_type": "code",
   "execution_count": null,
   "metadata": {},
   "outputs": [],
   "source": [
    "..."
   ]
  },
  {
   "cell_type": "markdown",
   "metadata": {},
   "source": [
    "<div class=\"alert alert-info\">\n",
    "<b>Question:</b> Use the above table to create a bar chart of number of red cards per position.\n",
    "   </div>"
   ]
  },
  {
   "cell_type": "code",
   "execution_count": null,
   "metadata": {},
   "outputs": [],
   "source": [
    "..."
   ]
  },
  {
   "cell_type": "markdown",
   "metadata": {},
   "source": [
    "<div class=\"alert alert-info\">\n",
    "<b>Question:</b> Interpret each plot. Why are some of the bars unlabeled and what do they correspond to? What positions (see <a href=https://en.wikipedia.org/wiki/Association_football_positions>Soccer Positions Info</a>) stand out and why might this be?\n",
    "   </div>"
   ]
  },
  {
   "cell_type": "markdown",
   "metadata": {},
   "source": [
    "*Insert answer here*"
   ]
  },
  {
   "cell_type": "markdown",
   "metadata": {},
   "source": [
    "## 4. Using Prediction and Inference to Draw Conclusions <a id='section 4'></a>"
   ]
  },
  {
   "cell_type": "markdown",
   "metadata": {},
   "source": [
    "Let's get back to our original question — does  a player's skin color have anything to do with the bias that they face in the game? Our dataset contains two variables that may help us answer that question — `rater1` and `rater2`. Since deciding what category (very light skin to very dark skin) each player fits into is a very subjective measure, we will look into each of these variables individually. Then we'll take the average of the two variables and use that as a new metric."
   ]
  },
  {
   "cell_type": "markdown",
   "metadata": {},
   "source": [
    "Getting the average of the two rates requires a series of steps. We will perform the following steps for you.\n",
    "\n",
    "1. Get the average of the two raters and assign it to a new variable called `avg_rate`\n",
    "2. Add it to the original data table `data`\n",
    "3. Remove any column that has missing data (nan) for the `avg_rate` column from the data table\n",
    "4. Assign this clean table to `cleaned_soccer`\n",
    "\n",
    "Run the following cell to make the appropriate changes:"
   ]
  },
  {
   "cell_type": "code",
   "execution_count": null,
   "metadata": {
    "scrolled": true
   },
   "outputs": [],
   "source": [
    "# calculate average rate, append it to the table\n",
    "avg_rate = (data.column('rater1') + data.column('rater2')) / 2\n",
    "data.append_column('avgRate', avg_rate)\n",
    "\n",
    "# remove nan values\n",
    "to_exclude= make_array()\n",
    "for row_index in range(len(data.column(\"avgRate\"))):\n",
    "    if np.isnan(data.column(\"avgRate\").item(row_index)):\n",
    "        to_exclude = np.append(to_exclude, int(row_index))\n",
    "cleaned_soccer = data.exclude(to_exclude)\n",
    "cleaned_soccer.show(5)"
   ]
  },
  {
   "cell_type": "markdown",
   "metadata": {},
   "source": [
    "Now we want to inspect the number of yellow, yellow-red, and red cards by skin color according to the two raters and the average rate. To do this, we will:\n",
    "\n",
    "- Create tables with a subset of the data using table manipulations.\n",
    "- Plot the results of each rater group by the number of red cards awarded to players based on their skin color."
   ]
  },
  {
   "cell_type": "markdown",
   "metadata": {},
   "source": [
    "**Rater 1**"
   ]
  },
  {
   "cell_type": "code",
   "execution_count": null,
   "metadata": {},
   "outputs": [],
   "source": [
    "# create the table with the necessary rater1 information\n",
    "..."
   ]
  },
  {
   "cell_type": "code",
   "execution_count": null,
   "metadata": {},
   "outputs": [],
   "source": [
    "# make the visualization(s)\n",
    "..."
   ]
  },
  {
   "cell_type": "markdown",
   "metadata": {},
   "source": [
    "**Rater 2**"
   ]
  },
  {
   "cell_type": "code",
   "execution_count": null,
   "metadata": {},
   "outputs": [],
   "source": [
    "# create the table with the necessary rater1 information\n",
    "..."
   ]
  },
  {
   "cell_type": "code",
   "execution_count": null,
   "metadata": {},
   "outputs": [],
   "source": [
    "# make the visualization(s)\n",
    "..."
   ]
  },
  {
   "cell_type": "markdown",
   "metadata": {},
   "source": [
    "**Average Rating**"
   ]
  },
  {
   "cell_type": "code",
   "execution_count": null,
   "metadata": {},
   "outputs": [],
   "source": [
    "# YOUR CODE HERE — the following format may help you\n",
    "\n",
    "# table\n",
    "# group \n",
    "...\n",
    "# sort\n",
    "...\n",
    "# select\n",
    "..."
   ]
  },
  {
   "cell_type": "code",
   "execution_count": null,
   "metadata": {},
   "outputs": [],
   "source": [
    "# make the visualization(s)\n",
    "..."
   ]
  },
  {
   "cell_type": "markdown",
   "metadata": {},
   "source": [
    "<div class=\"alert alert-info\">\n",
    "<b>Question:</b> Interpret each plot. Go back to your original question. Do you think skin color manifests in racial bias in soccer? Why or why not? How could someone conduct further analysis (e.g., what would they need)?\n",
    "   </div>"
   ]
  },
  {
   "cell_type": "markdown",
   "metadata": {},
   "source": [
    "*Insert answer here*"
   ]
  },
  {
   "cell_type": "markdown",
   "metadata": {},
   "source": [
    "<div class=\"alert alert-info\">\n",
    "<b>Question:</b> What is something interesting you learned from the project?\n",
    "   </div>"
   ]
  },
  {
   "cell_type": "markdown",
   "metadata": {},
   "source": [
    "*Insert answer here*"
   ]
  },
  {
   "cell_type": "markdown",
   "metadata": {},
   "source": [
    "## 5. The Data Science Life Cycle: Your Take <a id='section 5'></a>"
   ]
  },
  {
   "cell_type": "markdown",
   "metadata": {},
   "source": [
    "Now, formulate and answer some questions you have about the data. Follow the data science life cycle, and be sure to document the different patterns you notice. Take note of what issues also appear and how they can be resolved (e.g., collecting more data).\n",
    "\n",
    "Feel free to scroll up to the first cell where we load in our data. That way, you can use *all* of the data. In order to do this, you may need to copy and paste when we \"read\" in the data as well as when the data is cleaned. Observe the different ways that the data is cleaned in this notebook and copy and paste the code cell you find the most effective."
   ]
  },
  {
   "cell_type": "code",
   "execution_count": null,
   "metadata": {},
   "outputs": [],
   "source": []
  },
  {
   "cell_type": "code",
   "execution_count": null,
   "metadata": {},
   "outputs": [],
   "source": []
  },
  {
   "cell_type": "code",
   "execution_count": null,
   "metadata": {},
   "outputs": [],
   "source": []
  },
  {
   "cell_type": "code",
   "execution_count": null,
   "metadata": {},
   "outputs": [],
   "source": []
  },
  {
   "cell_type": "code",
   "execution_count": null,
   "metadata": {},
   "outputs": [],
   "source": []
  },
  {
   "cell_type": "markdown",
   "metadata": {},
   "source": [
    "**Source:** Data 88 (Sports Analytics)\n",
    "\n",
    "**Adapted by:** Alleanna Clark, Ashley Quiterio, Karla Palos Castellanos, Pratibha Sriram, William Furtado, and Andrew Chen"
   ]
  }
 ],
 "metadata": {
  "kernelspec": {
   "display_name": "Python 3 (ipykernel)",
   "language": "python",
   "name": "python3"
  },
  "language_info": {
   "codemirror_mode": {
    "name": "ipython",
    "version": 3
   },
   "file_extension": ".py",
   "mimetype": "text/x-python",
   "name": "python",
   "nbconvert_exporter": "python",
   "pygments_lexer": "ipython3",
   "version": "3.10.2"
  }
 },
 "nbformat": 4,
 "nbformat_minor": 4
}
