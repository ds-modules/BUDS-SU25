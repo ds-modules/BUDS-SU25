{
 "cells": [
  {
   "cell_type": "code",
   "execution_count": null,
   "metadata": {},
   "outputs": [],
   "source": [
    "# Run this cell to import all the Python packages and formatting that we need\n",
    "from datascience import *\n",
    "import numpy as np\n",
    "import math\n",
    "import matplotlib.pyplot as plt\n",
    "plt.style.use('fivethirtyeight')\n",
    "%matplotlib inline"
   ]
  },
  {
   "cell_type": "markdown",
   "metadata": {},
   "source": [
    "# Functions Demo\n",
    "***Created by Edwin Vargas (jedwin321@berkeley.edu)***"
   ]
  },
  {
   "cell_type": "markdown",
   "metadata": {},
   "source": [
    "## **`if`** statements\n",
    "\n",
    "What if we wanted to do some action for a certain condition?"
   ]
  },
  {
   "cell_type": "code",
   "execution_count": null,
   "metadata": {},
   "outputs": [],
   "source": [
    "grade = 98 # out of 100\n",
    "if grade > 93:\n",
    "\tprint('A')"
   ]
  },
  {
   "cell_type": "code",
   "execution_count": null,
   "metadata": {},
   "outputs": [],
   "source": [
    "height = 67 # inches\n",
    "if height > 60:\n",
    "    print('This person can go on the roller coaster')"
   ]
  },
  {
   "cell_type": "markdown",
   "metadata": {},
   "source": [
    "## **`if`, `elif,`** and **`else`**\n",
    "What if we wanted to do a different action for different conditions? "
   ]
  },
  {
   "cell_type": "code",
   "execution_count": null,
   "metadata": {},
   "outputs": [],
   "source": [
    "grade = 20\n",
    "\n",
    "if grade > 93:\n",
    "\tprint('A')\n",
    "\n",
    "elif grade > 80:\n",
    "\tprint('B')\n",
    "\n",
    "elif grade > 70:\n",
    "\tprint('C')\n",
    "\n",
    "else:\n",
    "\tprint('D')"
   ]
  },
  {
   "cell_type": "markdown",
   "metadata": {},
   "source": [
    "What if instead of writing `elif` and `else` we simply wrote all `if`"
   ]
  },
  {
   "cell_type": "code",
   "execution_count": null,
   "metadata": {},
   "outputs": [],
   "source": [
    "grade = 20\n",
    "\n",
    "if grade > 93:\n",
    "\tprint('A')\n",
    "\n",
    "if grade > 80:\n",
    "\tprint('B')\n",
    "\n",
    "if grade > 70:\n",
    "\tprint('C')\n",
    "\n",
    "if grade > 0:\n",
    "\tprint('D')"
   ]
  },
  {
   "cell_type": "markdown",
   "metadata": {},
   "source": [
    "# Functions\n",
    "\n",
    "Here are some example built-in functions we have talked about in BUDS"
   ]
  },
  {
   "cell_type": "code",
   "execution_count": null,
   "metadata": {},
   "outputs": [],
   "source": [
    "max(make_array(1,5,9,21,3,10))"
   ]
  },
  {
   "cell_type": "code",
   "execution_count": null,
   "metadata": {},
   "outputs": [],
   "source": [
    "min(make_array(1,5,9,21,3,10))"
   ]
  },
  {
   "cell_type": "markdown",
   "metadata": {},
   "source": [
    "Here are some example functions from the numpy and datascience library (with fake date)"
   ]
  },
  {
   "cell_type": "code",
   "execution_count": null,
   "metadata": {},
   "outputs": [],
   "source": [
    "np.average(make_array(4,10,7))"
   ]
  },
  {
   "cell_type": "code",
   "execution_count": null,
   "metadata": {},
   "outputs": [],
   "source": [
    "heights = Table().with_columns(\n",
    "    \"Name\", make_array(\"Edwin\", \"Will\", \"Daniel\", \"Bing\", \"Andrew\"),\n",
    "    \"Age\", make_array(87, 21, 19, 9, 10),\n",
    "    \"Height\", make_array(67,74,71,71,72)\n",
    "    )"
   ]
  },
  {
   "cell_type": "code",
   "execution_count": null,
   "metadata": {},
   "outputs": [],
   "source": [
    "heights.group(\"Name\")"
   ]
  },
  {
   "cell_type": "markdown",
   "metadata": {},
   "source": [
    "# Defining Functions\n",
    "\n",
    "Here we will show how to define custome functions and how to call them"
   ]
  },
  {
   "cell_type": "code",
   "execution_count": null,
   "metadata": {},
   "outputs": [],
   "source": [
    "def double(n):\n",
    "    return n * 2 # returning is optional, but usually we do return something\n",
    "\n",
    "double(10)"
   ]
  },
  {
   "cell_type": "code",
   "execution_count": null,
   "metadata": {},
   "outputs": [],
   "source": [
    "ten_double = double(10)\n",
    "ten_double"
   ]
  },
  {
   "cell_type": "code",
   "execution_count": null,
   "metadata": {},
   "outputs": [],
   "source": [
    "def multiply(x,y):\n",
    "    product = x*y\n",
    "    print(product)\n",
    "\n",
    "multiply(10,2)"
   ]
  },
  {
   "cell_type": "code",
   "execution_count": null,
   "metadata": {},
   "outputs": [],
   "source": [
    "two_ten_mult = multiply(10,2)\n",
    "two_ten_mult"
   ]
  },
  {
   "cell_type": "code",
   "execution_count": null,
   "metadata": {},
   "outputs": [],
   "source": [
    "two_ten_mult * 1"
   ]
  },
  {
   "cell_type": "markdown",
   "metadata": {},
   "source": [
    "Here we see that `return` allows us to have variables associated to some value while not including `return` leaves us with a `NoneType`"
   ]
  },
  {
   "cell_type": "markdown",
   "metadata": {},
   "source": [
    "We don't always need to have a `return`, especially if we want to only show something (visualizations or printing something)"
   ]
  },
  {
   "cell_type": "code",
   "execution_count": null,
   "metadata": {},
   "outputs": [],
   "source": [
    "def show_barh():\n",
    "    heights.barh(\"Name\", \"Height\")\n",
    "\n",
    "show_barh()"
   ]
  },
  {
   "cell_type": "markdown",
   "metadata": {},
   "source": [
    "# Challenge Question\n",
    "\n",
    "**Fizzbuzz: Write a function that, given a number does the following:**\n",
    "\n",
    "- If the number is divisible by 3 → print fizz\n",
    "- If the number is divisible by 5 → print buzz\n",
    "- If the number is divisible by 3 and 5 → print fizzbuzz\n",
    "- If the number is divisible by none of the above → print the number itself\n",
    "\n"
   ]
  },
  {
   "cell_type": "code",
   "execution_count": null,
   "metadata": {},
   "outputs": [],
   "source": [
    "\"\"\"\n",
    ">>> fizzbuzz(15)\n",
    "fizzbuzz\n",
    "\n",
    ">>> fizzbuzz(6)\n",
    "fizz\n",
    "\n",
    ">>> fizzbuzz(10)\n",
    "buzz\n",
    "\n",
    ">>> fizzbuzz(7)\n",
    "7\n",
    "\"\"\"\n",
    "\n",
    "def fizzbuzz(n):\n",
    "    return ..."
   ]
  },
  {
   "cell_type": "markdown",
   "metadata": {},
   "source": [
    "# Custom Functions and Group"
   ]
  },
  {
   "cell_type": "code",
   "execution_count": null,
   "metadata": {},
   "outputs": [],
   "source": [
    "cones = Table().with_columns(\n",
    "    \"Flavor\", make_array(\"Chocolate\", \"Chocolate\", \"Strawberry\", \"Strawberry\", \"Chocolate\"), \n",
    "    \"Price\", make_array(5.75, 10, 8.25, 4.75, 3.50)\n",
    "    )"
   ]
  },
  {
   "cell_type": "code",
   "execution_count": null,
   "metadata": {},
   "outputs": [],
   "source": [
    "def first(arr):\n",
    "    return arr.item(0)"
   ]
  },
  {
   "cell_type": "code",
   "execution_count": null,
   "metadata": {},
   "outputs": [],
   "source": [
    "cones.group(\"Flavor\", first) # Same to cones.sort(\"Name\", distinct = True)"
   ]
  },
  {
   "cell_type": "code",
   "execution_count": null,
   "metadata": {},
   "outputs": [],
   "source": [
    "def ranges(arr):\n",
    "    return max(arr) - min(arr)"
   ]
  },
  {
   "cell_type": "code",
   "execution_count": null,
   "metadata": {},
   "outputs": [],
   "source": [
    "cones.group(\"Flavor\", ranges)"
   ]
  }
 ],
 "metadata": {
  "kernelspec": {
   "display_name": "Python 3",
   "language": "python",
   "name": "python3"
  },
  "language_info": {
   "codemirror_mode": {
    "name": "ipython",
    "version": 3
   },
   "file_extension": ".py",
   "mimetype": "text/x-python",
   "name": "python",
   "nbconvert_exporter": "python",
   "pygments_lexer": "ipython3",
   "version": "3.12.4"
  }
 },
 "nbformat": 4,
 "nbformat_minor": 2
}
