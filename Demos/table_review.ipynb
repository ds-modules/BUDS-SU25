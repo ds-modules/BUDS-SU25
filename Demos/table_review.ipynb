{
 "cells": [
  {
   "cell_type": "code",
   "execution_count": 1,
   "id": "36054205",
   "metadata": {},
   "outputs": [],
   "source": [
    "import numpy as np\n",
    "import math\n",
    "from datascience import *"
   ]
  },
  {
   "cell_type": "markdown",
   "id": "593ccc40",
   "metadata": {},
   "source": [
    "# <div align=\"center\">Conceptual Review Tables"
   ]
  },
  {
   "cell_type": "markdown",
   "id": "502c8631",
   "metadata": {},
   "source": [
    "**Created By: Edwin Vargas Navarro (jedwin321@berkeley.edu)**"
   ]
  },
  {
   "cell_type": "markdown",
   "id": "326ce643",
   "metadata": {},
   "source": [
    "## Creating Tables\n",
    "\n",
    "The `Table()` function creates an empty table. There is no input and this ouputs an empty table. "
   ]
  },
  {
   "cell_type": "code",
   "execution_count": 2,
   "id": "71b9ab48",
   "metadata": {},
   "outputs": [
    {
     "data": {
      "text/html": [
       "<table border=\"1\" class=\"dataframe\">\n",
       "    <thead>\n",
       "        <tr>\n",
       "            \n",
       "        </tr>\n",
       "    </thead>\n",
       "    <tbody>\n",
       "    </tbody>\n",
       "</table>"
      ],
      "text/plain": []
     },
     "execution_count": 2,
     "metadata": {},
     "output_type": "execute_result"
    }
   ],
   "source": [
    "sample_table = Table()\n",
    "sample_table"
   ]
  },
  {
   "cell_type": "markdown",
   "id": "cc2882ea",
   "metadata": {},
   "source": [
    "## Adding Columns to Tables\n",
    "\n",
    "`tbl.with_column(\"Column Name\", array)` This creates one column in the table called \"tbl.\" Make sure that this array has the same number of elements as the number of rows in the table.\n",
    "\n",
    "`tbl.with_columns(\"Column Name 1\", array_1, \"Column Name 2\", array_2, ...)` This method is for adding multiple columns. Notice this function has an **s** which the previous one does not have."
   ]
  },
  {
   "cell_type": "code",
   "execution_count": 3,
   "id": "6f4cd92e",
   "metadata": {},
   "outputs": [
    {
     "data": {
      "text/plain": [
       "array([ 1,  2,  3,  4,  5,  6,  7,  8,  9, 10])"
      ]
     },
     "execution_count": 3,
     "metadata": {},
     "output_type": "execute_result"
    }
   ],
   "source": [
    "numbers_text = make_array(\"One\", \"Two\", \"Three\", \"Four\", \"Five\", \"Six\", \"Seven\", \"Eight\", \"Nine\", \"Ten\")\n",
    "numbers = np.arange(1, 11, 1)\n",
    "numbers_v2 = make_array(1, 2, 3, 4, 5, 6, 7, 8, 9, 10)\n",
    "numbers"
   ]
  },
  {
   "cell_type": "code",
   "execution_count": 4,
   "id": "c574d461",
   "metadata": {},
   "outputs": [
    {
     "data": {
      "text/html": [
       "<table border=\"1\" class=\"dataframe\">\n",
       "    <thead>\n",
       "        <tr>\n",
       "            <th>Numbers Text</th> <th>Numbers</th>\n",
       "        </tr>\n",
       "    </thead>\n",
       "    <tbody>\n",
       "        <tr>\n",
       "            <td>One         </td> <td>1      </td>\n",
       "        </tr>\n",
       "        <tr>\n",
       "            <td>Two         </td> <td>2      </td>\n",
       "        </tr>\n",
       "        <tr>\n",
       "            <td>Three       </td> <td>3      </td>\n",
       "        </tr>\n",
       "        <tr>\n",
       "            <td>Four        </td> <td>4      </td>\n",
       "        </tr>\n",
       "        <tr>\n",
       "            <td>Five        </td> <td>5      </td>\n",
       "        </tr>\n",
       "        <tr>\n",
       "            <td>Six         </td> <td>6      </td>\n",
       "        </tr>\n",
       "        <tr>\n",
       "            <td>Seven       </td> <td>7      </td>\n",
       "        </tr>\n",
       "        <tr>\n",
       "            <td>Eight       </td> <td>8      </td>\n",
       "        </tr>\n",
       "        <tr>\n",
       "            <td>Nine        </td> <td>9      </td>\n",
       "        </tr>\n",
       "        <tr>\n",
       "            <td>Ten         </td> <td>10     </td>\n",
       "        </tr>\n",
       "    </tbody>\n",
       "</table>"
      ],
      "text/plain": [
       "Numbers Text | Numbers\n",
       "One          | 1\n",
       "Two          | 2\n",
       "Three        | 3\n",
       "Four         | 4\n",
       "Five         | 5\n",
       "Six          | 6\n",
       "Seven        | 7\n",
       "Eight        | 8\n",
       "Nine         | 9\n",
       "Ten          | 10"
      ]
     },
     "execution_count": 4,
     "metadata": {},
     "output_type": "execute_result"
    }
   ],
   "source": [
    "num_tbl = Table().with_columns(\"Numbers Text\", numbers_text, \"Numbers\", numbers)\n",
    "num_tbl"
   ]
  },
  {
   "cell_type": "markdown",
   "id": "a030f73e",
   "metadata": {},
   "source": [
    "## Loading a table from a file\n",
    "\n",
    "In most cases, we aren't going to go through the trouble of typing in all the data manually. Instead, we load them in from an external source, like a data file. There are many formats for data files, but CSV (\"comma-separated values\") is the most common.\n",
    "\n",
    "`Table.read_table(...)` takes one argument (a path to a data file in **string** format) and returns a table.  \n",
    "\n",
    " `imdb.csv` contains a table of information about the 250 highest-rated movies on IMDb.  It is loaded as a table called `imdb`."
   ]
  },
  {
   "cell_type": "code",
   "execution_count": 5,
   "id": "e3598453",
   "metadata": {},
   "outputs": [
    {
     "data": {
      "text/html": [
       "<table border=\"1\" class=\"dataframe\">\n",
       "    <thead>\n",
       "        <tr>\n",
       "            <th>Votes</th> <th>Rating</th> <th>Title</th> <th>Year</th> <th>Decade</th>\n",
       "        </tr>\n",
       "    </thead>\n",
       "    <tbody>\n",
       "        <tr>\n",
       "            <td>88355 </td> <td>8.4   </td> <td>M                    </td> <td>1931</td> <td>1930  </td>\n",
       "        </tr>\n",
       "        <tr>\n",
       "            <td>132823</td> <td>8.3   </td> <td>Singin' in the Rain  </td> <td>1952</td> <td>1950  </td>\n",
       "        </tr>\n",
       "        <tr>\n",
       "            <td>74178 </td> <td>8.3   </td> <td>All About Eve        </td> <td>1950</td> <td>1950  </td>\n",
       "        </tr>\n",
       "        <tr>\n",
       "            <td>635139</td> <td>8.6   </td> <td>Léon                 </td> <td>1994</td> <td>1990  </td>\n",
       "        </tr>\n",
       "        <tr>\n",
       "            <td>145514</td> <td>8.2   </td> <td>The Elephant Man     </td> <td>1980</td> <td>1980  </td>\n",
       "        </tr>\n",
       "        <tr>\n",
       "            <td>425461</td> <td>8.3   </td> <td>Full Metal Jacket    </td> <td>1987</td> <td>1980  </td>\n",
       "        </tr>\n",
       "        <tr>\n",
       "            <td>441174</td> <td>8.1   </td> <td>Gone Girl            </td> <td>2014</td> <td>2010  </td>\n",
       "        </tr>\n",
       "        <tr>\n",
       "            <td>850601</td> <td>8.3   </td> <td>Batman Begins        </td> <td>2005</td> <td>2000  </td>\n",
       "        </tr>\n",
       "        <tr>\n",
       "            <td>37664 </td> <td>8.2   </td> <td>Judgment at Nuremberg</td> <td>1961</td> <td>1960  </td>\n",
       "        </tr>\n",
       "        <tr>\n",
       "            <td>46987 </td> <td>8     </td> <td>Relatos salvajes     </td> <td>2014</td> <td>2010  </td>\n",
       "        </tr>\n",
       "    </tbody>\n",
       "</table>\n",
       "<p>... (240 rows omitted)</p>"
      ],
      "text/plain": [
       "Votes  | Rating | Title                 | Year | Decade\n",
       "88355  | 8.4    | M                     | 1931 | 1930\n",
       "132823 | 8.3    | Singin' in the Rain   | 1952 | 1950\n",
       "74178  | 8.3    | All About Eve         | 1950 | 1950\n",
       "635139 | 8.6    | Léon                  | 1994 | 1990\n",
       "145514 | 8.2    | The Elephant Man      | 1980 | 1980\n",
       "425461 | 8.3    | Full Metal Jacket     | 1987 | 1980\n",
       "441174 | 8.1    | Gone Girl             | 2014 | 2010\n",
       "850601 | 8.3    | Batman Begins         | 2005 | 2000\n",
       "37664  | 8.2    | Judgment at Nuremberg | 1961 | 1960\n",
       "46987  | 8      | Relatos salvajes      | 2014 | 2010\n",
       "... (240 rows omitted)"
      ]
     },
     "execution_count": 5,
     "metadata": {},
     "output_type": "execute_result"
    }
   ],
   "source": [
    "imdb = Table.read_table(\"imdb.csv\")\n",
    "imdb"
   ]
  },
  {
   "cell_type": "markdown",
   "id": "0bbc7bc9",
   "metadata": {},
   "source": [
    "## Table to Arrays to Items\n",
    "\n",
    "### `column`\n",
    "\n",
    "`column` takes the column name of a table (in string format) as its argument and returns the values in that column as an **array**. \n",
    "\n",
    "### `item`\n",
    "\n",
    "`item` gets the nth element of an array."
   ]
  },
  {
   "cell_type": "code",
   "execution_count": 6,
   "id": "02af9425",
   "metadata": {},
   "outputs": [
    {
     "data": {
      "text/plain": [
       "'M'"
      ]
     },
     "execution_count": 6,
     "metadata": {},
     "output_type": "execute_result"
    }
   ],
   "source": [
    "imdb_titles_one = imdb.column(\"Title\").item(0)\n",
    "imdb_titles_one"
   ]
  },
  {
   "cell_type": "code",
   "execution_count": 7,
   "id": "aa15ad53",
   "metadata": {},
   "outputs": [
    {
     "data": {
      "text/plain": [
       "5"
      ]
     },
     "execution_count": 7,
     "metadata": {},
     "output_type": "execute_result"
    }
   ],
   "source": [
    "sample_array = make_array(1,2,3,4,5)\n",
    "sample_array.item(4)"
   ]
  },
  {
   "cell_type": "markdown",
   "id": "348f6773",
   "metadata": {},
   "source": [
    "## More Table Operations\n",
    "### `take`\n",
    "The table method `take` takes as its argument an array of numbers.  Each number should be the index of a row in the table.  It returns a **new table** with only those rows. \n",
    "\n",
    "You'll usually want to use `take` in conjunction with `np.arange` to take the first few rows of a table."
   ]
  },
  {
   "cell_type": "code",
   "execution_count": 8,
   "id": "cb2e6a86",
   "metadata": {},
   "outputs": [
    {
     "data": {
      "text/html": [
       "<table border=\"1\" class=\"dataframe\">\n",
       "    <thead>\n",
       "        <tr>\n",
       "            <th>Votes</th> <th>Rating</th> <th>Title</th> <th>Year</th> <th>Decade</th>\n",
       "        </tr>\n",
       "    </thead>\n",
       "    <tbody>\n",
       "        <tr>\n",
       "            <td>88355</td> <td>8.4   </td> <td>M    </td> <td>1931</td> <td>1930  </td>\n",
       "        </tr>\n",
       "    </tbody>\n",
       "</table>"
      ],
      "text/plain": [
       "Votes | Rating | Title | Year | Decade\n",
       "88355 | 8.4    | M     | 1931 | 1930"
      ]
     },
     "execution_count": 8,
     "metadata": {},
     "output_type": "execute_result"
    }
   ],
   "source": [
    "imdb.take(0) #gets row 0"
   ]
  },
  {
   "cell_type": "code",
   "execution_count": 9,
   "id": "8e3a31f4",
   "metadata": {},
   "outputs": [
    {
     "data": {
      "text/html": [
       "<table border=\"1\" class=\"dataframe\">\n",
       "    <thead>\n",
       "        <tr>\n",
       "            <th>Votes</th> <th>Rating</th> <th>Title</th> <th>Year</th> <th>Decade</th>\n",
       "        </tr>\n",
       "    </thead>\n",
       "    <tbody>\n",
       "        <tr>\n",
       "            <td>88355 </td> <td>8.4   </td> <td>M                    </td> <td>1931</td> <td>1930  </td>\n",
       "        </tr>\n",
       "        <tr>\n",
       "            <td>132823</td> <td>8.3   </td> <td>Singin' in the Rain  </td> <td>1952</td> <td>1950  </td>\n",
       "        </tr>\n",
       "        <tr>\n",
       "            <td>74178 </td> <td>8.3   </td> <td>All About Eve        </td> <td>1950</td> <td>1950  </td>\n",
       "        </tr>\n",
       "        <tr>\n",
       "            <td>635139</td> <td>8.6   </td> <td>Léon                 </td> <td>1994</td> <td>1990  </td>\n",
       "        </tr>\n",
       "        <tr>\n",
       "            <td>145514</td> <td>8.2   </td> <td>The Elephant Man     </td> <td>1980</td> <td>1980  </td>\n",
       "        </tr>\n",
       "        <tr>\n",
       "            <td>425461</td> <td>8.3   </td> <td>Full Metal Jacket    </td> <td>1987</td> <td>1980  </td>\n",
       "        </tr>\n",
       "        <tr>\n",
       "            <td>441174</td> <td>8.1   </td> <td>Gone Girl            </td> <td>2014</td> <td>2010  </td>\n",
       "        </tr>\n",
       "        <tr>\n",
       "            <td>850601</td> <td>8.3   </td> <td>Batman Begins        </td> <td>2005</td> <td>2000  </td>\n",
       "        </tr>\n",
       "        <tr>\n",
       "            <td>37664 </td> <td>8.2   </td> <td>Judgment at Nuremberg</td> <td>1961</td> <td>1960  </td>\n",
       "        </tr>\n",
       "        <tr>\n",
       "            <td>46987 </td> <td>8     </td> <td>Relatos salvajes     </td> <td>2014</td> <td>2010  </td>\n",
       "        </tr>\n",
       "    </tbody>\n",
       "</table>\n",
       "<p>... (1 rows omitted)</p>"
      ],
      "text/plain": [
       "Votes  | Rating | Title                 | Year | Decade\n",
       "88355  | 8.4    | M                     | 1931 | 1930\n",
       "132823 | 8.3    | Singin' in the Rain   | 1952 | 1950\n",
       "74178  | 8.3    | All About Eve         | 1950 | 1950\n",
       "635139 | 8.6    | Léon                  | 1994 | 1990\n",
       "145514 | 8.2    | The Elephant Man      | 1980 | 1980\n",
       "425461 | 8.3    | Full Metal Jacket     | 1987 | 1980\n",
       "441174 | 8.1    | Gone Girl             | 2014 | 2010\n",
       "850601 | 8.3    | Batman Begins         | 2005 | 2000\n",
       "37664  | 8.2    | Judgment at Nuremberg | 1961 | 1960\n",
       "46987  | 8      | Relatos salvajes      | 2014 | 2010\n",
       "... (1 rows omitted)"
      ]
     },
     "execution_count": 9,
     "metadata": {},
     "output_type": "execute_result"
    }
   ],
   "source": [
    "imdb.take(make_array(0, 1, 2, 3, 4, 5, 6, 7, 8, 9, 10)) # gets rows 0-10"
   ]
  },
  {
   "cell_type": "code",
   "execution_count": 10,
   "id": "bab9f241",
   "metadata": {},
   "outputs": [
    {
     "data": {
      "text/html": [
       "<table border=\"1\" class=\"dataframe\">\n",
       "    <thead>\n",
       "        <tr>\n",
       "            <th>Votes</th> <th>Rating</th> <th>Title</th> <th>Year</th> <th>Decade</th>\n",
       "        </tr>\n",
       "    </thead>\n",
       "    <tbody>\n",
       "        <tr>\n",
       "            <td>88355 </td> <td>8.4   </td> <td>M                    </td> <td>1931</td> <td>1930  </td>\n",
       "        </tr>\n",
       "        <tr>\n",
       "            <td>132823</td> <td>8.3   </td> <td>Singin' in the Rain  </td> <td>1952</td> <td>1950  </td>\n",
       "        </tr>\n",
       "        <tr>\n",
       "            <td>74178 </td> <td>8.3   </td> <td>All About Eve        </td> <td>1950</td> <td>1950  </td>\n",
       "        </tr>\n",
       "        <tr>\n",
       "            <td>635139</td> <td>8.6   </td> <td>Léon                 </td> <td>1994</td> <td>1990  </td>\n",
       "        </tr>\n",
       "        <tr>\n",
       "            <td>145514</td> <td>8.2   </td> <td>The Elephant Man     </td> <td>1980</td> <td>1980  </td>\n",
       "        </tr>\n",
       "        <tr>\n",
       "            <td>425461</td> <td>8.3   </td> <td>Full Metal Jacket    </td> <td>1987</td> <td>1980  </td>\n",
       "        </tr>\n",
       "        <tr>\n",
       "            <td>441174</td> <td>8.1   </td> <td>Gone Girl            </td> <td>2014</td> <td>2010  </td>\n",
       "        </tr>\n",
       "        <tr>\n",
       "            <td>850601</td> <td>8.3   </td> <td>Batman Begins        </td> <td>2005</td> <td>2000  </td>\n",
       "        </tr>\n",
       "        <tr>\n",
       "            <td>37664 </td> <td>8.2   </td> <td>Judgment at Nuremberg</td> <td>1961</td> <td>1960  </td>\n",
       "        </tr>\n",
       "        <tr>\n",
       "            <td>46987 </td> <td>8     </td> <td>Relatos salvajes     </td> <td>2014</td> <td>2010  </td>\n",
       "        </tr>\n",
       "    </tbody>\n",
       "</table>\n",
       "<p>... (1 rows omitted)</p>"
      ],
      "text/plain": [
       "Votes  | Rating | Title                 | Year | Decade\n",
       "88355  | 8.4    | M                     | 1931 | 1930\n",
       "132823 | 8.3    | Singin' in the Rain   | 1952 | 1950\n",
       "74178  | 8.3    | All About Eve         | 1950 | 1950\n",
       "635139 | 8.6    | Léon                  | 1994 | 1990\n",
       "145514 | 8.2    | The Elephant Man      | 1980 | 1980\n",
       "425461 | 8.3    | Full Metal Jacket     | 1987 | 1980\n",
       "441174 | 8.1    | Gone Girl             | 2014 | 2010\n",
       "850601 | 8.3    | Batman Begins         | 2005 | 2000\n",
       "37664  | 8.2    | Judgment at Nuremberg | 1961 | 1960\n",
       "46987  | 8      | Relatos salvajes      | 2014 | 2010\n",
       "... (1 rows omitted)"
      ]
     },
     "execution_count": 10,
     "metadata": {},
     "output_type": "execute_result"
    }
   ],
   "source": [
    "imdb.take(np.arange(0, 11)) # gets rows 0-10"
   ]
  },
  {
   "cell_type": "markdown",
   "id": "e03d5d01",
   "metadata": {},
   "source": [
    "## Challenge Question\n",
    "\n",
    "How can I get the number of even years in `imdb`?\n",
    "\n",
    "*Hint:* The operator modulo `%` computes the remainder when dividing by a number.  So `5 % 2` is 1 and `6 % 2` is 0.  A number is even if the remainder is 0 when you divide by 2.\n",
    "\n",
    "*Hint 2:* `%` can be used on arrays, operating elementwise like `+` or `*`.  So `make_array(5, 6, 7) % 2` is `array([1, 0, 1])`."
   ]
  },
  {
   "cell_type": "code",
   "execution_count": 11,
   "id": "f5fdf9b9",
   "metadata": {},
   "outputs": [
    {
     "data": {
      "text/plain": [
       "array([1, 0, 0, 0, 0, 1, 0, 1, 1, 0, 0, 0, 1, 1, 1, 1, 0, 1, 1, 0, 1, 0,\n",
       "       0, 1, 1, 1, 1, 1, 0, 1, 0, 1, 1, 0, 1, 0, 1, 0, 0, 1, 1, 1, 0, 0,\n",
       "       0, 1, 0, 1, 0, 1, 0, 1, 0, 0, 1, 1, 0, 0, 0, 1, 0, 0, 0, 1, 0, 0,\n",
       "       1, 0, 0, 0, 0, 1, 1, 0, 1, 0, 0, 0, 0, 1, 1, 0, 1, 0, 1, 1, 0, 1,\n",
       "       1, 0, 0, 0, 0, 0, 1, 0, 1, 1, 0, 1, 0, 1, 0, 0, 1, 1, 0, 0, 1, 1,\n",
       "       0, 1, 0, 0, 0, 1, 1, 1, 0, 1, 0, 0, 0, 1, 0, 1, 1, 0, 0, 1, 0, 1,\n",
       "       0, 0, 0, 1, 1, 0, 0, 1, 1, 1, 1, 0, 1, 0, 0, 1, 0, 1, 1, 0, 1, 1,\n",
       "       1, 0, 0, 1, 0, 0, 1, 1, 0, 0, 1, 0, 0, 0, 1, 1, 1, 0, 0, 1, 0, 0,\n",
       "       0, 0, 1, 1, 1, 0, 1, 1, 0, 1, 1, 0, 1, 1, 0, 0, 0, 1, 1, 0, 1, 0,\n",
       "       1, 1, 0, 0, 0, 1, 1, 1, 0, 1, 1, 0, 1, 0, 0, 0, 1, 1, 1, 0, 1, 0,\n",
       "       0, 0, 0, 1, 0, 0, 1, 1, 0, 0, 0, 1, 1, 1, 1, 1, 1, 1, 1, 0, 0, 1,\n",
       "       0, 1, 1, 0, 1, 1, 0, 0])"
      ]
     },
     "execution_count": 11,
     "metadata": {},
     "output_type": "execute_result"
    }
   ],
   "source": [
    "# Challenge code here\n",
    "imdb.column(\"Year\") % 2 "
   ]
  },
  {
   "cell_type": "code",
   "execution_count": 12,
   "id": "c1cdfdc7",
   "metadata": {},
   "outputs": [
    {
     "data": {
      "text/plain": [
       "127"
      ]
     },
     "execution_count": 12,
     "metadata": {},
     "output_type": "execute_result"
    }
   ],
   "source": [
    "len(imdb.column(\"Year\") % 2)  - np.sum(imdb.column(\"Year\") % 2)"
   ]
  },
  {
   "cell_type": "code",
   "execution_count": 13,
   "id": "817b93bc",
   "metadata": {},
   "outputs": [
    {
     "data": {
      "text/plain": [
       "127"
      ]
     },
     "execution_count": 13,
     "metadata": {},
     "output_type": "execute_result"
    }
   ],
   "source": [
    "np.sum(imdb.column(\"Year\") % 2 == 0)"
   ]
  },
  {
   "cell_type": "code",
   "execution_count": 14,
   "id": "59f13bf9",
   "metadata": {},
   "outputs": [
    {
     "data": {
      "text/plain": [
       "127"
      ]
     },
     "execution_count": 14,
     "metadata": {},
     "output_type": "execute_result"
    }
   ],
   "source": [
    "imdb.with_column(\"Year Remainder\", imdb.column(\"Year\") % 2).where('Year Remainder', are.equal_to(0)).num_rows"
   ]
  },
  {
   "cell_type": "markdown",
   "id": "cbd3ba0b",
   "metadata": {},
   "source": [
    "## Sorting\n",
    "\n",
    "### `sort` \n",
    "\n",
    "`tbl.sort(\"Column Name\")` or `tbl.sort(column index)` creates a **copy** of a table sorted by the values in a column. It defaults to **ascending** order unless `descending = True` is included as an additional argument."
   ]
  },
  {
   "cell_type": "code",
   "execution_count": 15,
   "id": "c082059d",
   "metadata": {},
   "outputs": [
    {
     "data": {
      "text/html": [
       "<table border=\"1\" class=\"dataframe\">\n",
       "    <thead>\n",
       "        <tr>\n",
       "            <th>Votes</th> <th>Rating</th> <th>Title</th> <th>Year</th> <th>Decade</th>\n",
       "        </tr>\n",
       "    </thead>\n",
       "    <tbody>\n",
       "        <tr>\n",
       "            <td>55784 </td> <td>8.3   </td> <td>The Kid                     </td> <td>1921</td> <td>1920  </td>\n",
       "        </tr>\n",
       "        <tr>\n",
       "            <td>58506 </td> <td>8.2   </td> <td>The Gold Rush               </td> <td>1925</td> <td>1920  </td>\n",
       "        </tr>\n",
       "        <tr>\n",
       "            <td>46332 </td> <td>8.2   </td> <td>The General                 </td> <td>1926</td> <td>1920  </td>\n",
       "        </tr>\n",
       "        <tr>\n",
       "            <td>98794 </td> <td>8.3   </td> <td>Metropolis                  </td> <td>1927</td> <td>1920  </td>\n",
       "        </tr>\n",
       "        <tr>\n",
       "            <td>88355 </td> <td>8.4   </td> <td>M                           </td> <td>1931</td> <td>1930  </td>\n",
       "        </tr>\n",
       "        <tr>\n",
       "            <td>92375 </td> <td>8.5   </td> <td>City Lights                 </td> <td>1931</td> <td>1930  </td>\n",
       "        </tr>\n",
       "        <tr>\n",
       "            <td>56842 </td> <td>8.1   </td> <td>It Happened One Night       </td> <td>1934</td> <td>1930  </td>\n",
       "        </tr>\n",
       "        <tr>\n",
       "            <td>121668</td> <td>8.5   </td> <td>Modern Times                </td> <td>1936</td> <td>1930  </td>\n",
       "        </tr>\n",
       "        <tr>\n",
       "            <td>69510 </td> <td>8.2   </td> <td>Mr. Smith Goes to Washington</td> <td>1939</td> <td>1930  </td>\n",
       "        </tr>\n",
       "        <tr>\n",
       "            <td>259235</td> <td>8.1   </td> <td>The Wizard of Oz            </td> <td>1939</td> <td>1930  </td>\n",
       "        </tr>\n",
       "    </tbody>\n",
       "</table>\n",
       "<p>... (240 rows omitted)</p>"
      ],
      "text/plain": [
       "Votes  | Rating | Title                        | Year | Decade\n",
       "55784  | 8.3    | The Kid                      | 1921 | 1920\n",
       "58506  | 8.2    | The Gold Rush                | 1925 | 1920\n",
       "46332  | 8.2    | The General                  | 1926 | 1920\n",
       "98794  | 8.3    | Metropolis                   | 1927 | 1920\n",
       "88355  | 8.4    | M                            | 1931 | 1930\n",
       "92375  | 8.5    | City Lights                  | 1931 | 1930\n",
       "56842  | 8.1    | It Happened One Night        | 1934 | 1930\n",
       "121668 | 8.5    | Modern Times                 | 1936 | 1930\n",
       "69510  | 8.2    | Mr. Smith Goes to Washington | 1939 | 1930\n",
       "259235 | 8.1    | The Wizard of Oz             | 1939 | 1930\n",
       "... (240 rows omitted)"
      ]
     },
     "execution_count": 15,
     "metadata": {},
     "output_type": "execute_result"
    }
   ],
   "source": [
    "imdb.sort(\"Year\")"
   ]
  },
  {
   "cell_type": "code",
   "execution_count": 16,
   "id": "e285cd80",
   "metadata": {},
   "outputs": [
    {
     "data": {
      "text/html": [
       "<table border=\"1\" class=\"dataframe\">\n",
       "    <thead>\n",
       "        <tr>\n",
       "            <th>Votes</th> <th>Rating</th> <th>Title</th> <th>Year</th> <th>Decade</th>\n",
       "        </tr>\n",
       "    </thead>\n",
       "    <tbody>\n",
       "        <tr>\n",
       "            <td>79615 </td> <td>8.5   </td> <td>Inside Out (2015/I)  </td> <td>2015</td> <td>2010  </td>\n",
       "        </tr>\n",
       "        <tr>\n",
       "            <td>441174</td> <td>8.1   </td> <td>Gone Girl            </td> <td>2014</td> <td>2010  </td>\n",
       "        </tr>\n",
       "        <tr>\n",
       "            <td>359121</td> <td>8.1   </td> <td>12 Years a Slave     </td> <td>2013</td> <td>2010  </td>\n",
       "        </tr>\n",
       "        <tr>\n",
       "            <td>137310</td> <td>8.2   </td> <td>Jagten               </td> <td>2012</td> <td>2010  </td>\n",
       "        </tr>\n",
       "        <tr>\n",
       "            <td>287727</td> <td>8.2   </td> <td>Warrior              </td> <td>2011</td> <td>2010  </td>\n",
       "        </tr>\n",
       "        <tr>\n",
       "            <td>670328</td> <td>8.1   </td> <td>Shutter Island       </td> <td>2010</td> <td>2010  </td>\n",
       "        </tr>\n",
       "        <tr>\n",
       "            <td>755013</td> <td>8.3   </td> <td>Inglourious Basterds </td> <td>2009</td> <td>2000  </td>\n",
       "        </tr>\n",
       "        <tr>\n",
       "            <td>502773</td> <td>8.2   </td> <td>Gran Torino          </td> <td>2008</td> <td>2000  </td>\n",
       "        </tr>\n",
       "        <tr>\n",
       "            <td>433487</td> <td>8.1   </td> <td>The Bourne Ultimatum </td> <td>2007</td> <td>2000  </td>\n",
       "        </tr>\n",
       "        <tr>\n",
       "            <td>229533</td> <td>8.4   </td> <td>Das Leben der Anderen</td> <td>2006</td> <td>2000  </td>\n",
       "        </tr>\n",
       "    </tbody>\n",
       "</table>\n",
       "<p>... (70 rows omitted)</p>"
      ],
      "text/plain": [
       "Votes  | Rating | Title                 | Year | Decade\n",
       "79615  | 8.5    | Inside Out (2015/I)   | 2015 | 2010\n",
       "441174 | 8.1    | Gone Girl             | 2014 | 2010\n",
       "359121 | 8.1    | 12 Years a Slave      | 2013 | 2010\n",
       "137310 | 8.2    | Jagten                | 2012 | 2010\n",
       "287727 | 8.2    | Warrior               | 2011 | 2010\n",
       "670328 | 8.1    | Shutter Island        | 2010 | 2010\n",
       "755013 | 8.3    | Inglourious Basterds  | 2009 | 2000\n",
       "502773 | 8.2    | Gran Torino           | 2008 | 2000\n",
       "433487 | 8.1    | The Bourne Ultimatum  | 2007 | 2000\n",
       "229533 | 8.4    | Das Leben der Anderen | 2006 | 2000\n",
       "... (70 rows omitted)"
      ]
     },
     "execution_count": 16,
     "metadata": {},
     "output_type": "execute_result"
    }
   ],
   "source": [
    "imdb.sort(\"Year\", descending = True, distinct = True) # Notice how this has 80 rows and not the full 250"
   ]
  },
  {
   "cell_type": "code",
   "execution_count": 17,
   "id": "c4a185f9",
   "metadata": {},
   "outputs": [
    {
     "data": {
      "text/html": [
       "<table border=\"1\" class=\"dataframe\">\n",
       "    <thead>\n",
       "        <tr>\n",
       "            <th>Votes</th> <th>Rating</th> <th>Title</th> <th>Year</th> <th>Decade</th>\n",
       "        </tr>\n",
       "    </thead>\n",
       "    <tbody>\n",
       "        <tr>\n",
       "            <td>384187</td> <td>8.9   </td> <td>12 Angry Men         </td> <td>1957</td> <td>1950  </td>\n",
       "        </tr>\n",
       "        <tr>\n",
       "            <td>359121</td> <td>8.1   </td> <td>12 Years a Slave     </td> <td>2013</td> <td>2010  </td>\n",
       "        </tr>\n",
       "        <tr>\n",
       "            <td>373482</td> <td>8.3   </td> <td>2001: A Space Odyssey</td> <td>1968</td> <td>1960  </td>\n",
       "        </tr>\n",
       "        <tr>\n",
       "            <td>167076</td> <td>8.2   </td> <td>3 Idiots             </td> <td>2009</td> <td>2000  </td>\n",
       "        </tr>\n",
       "        <tr>\n",
       "            <td>69988 </td> <td>8.1   </td> <td>8½                   </td> <td>1963</td> <td>1960  </td>\n",
       "        </tr>\n",
       "        <tr>\n",
       "            <td>525515</td> <td>8.1   </td> <td>A Beautiful Mind     </td> <td>2001</td> <td>2000  </td>\n",
       "        </tr>\n",
       "        <tr>\n",
       "            <td>489807</td> <td>8.3   </td> <td>A Clockwork Orange   </td> <td>1971</td> <td>1970  </td>\n",
       "        </tr>\n",
       "        <tr>\n",
       "            <td>91652 </td> <td>8     </td> <td>Akira                </td> <td>1988</td> <td>1980  </td>\n",
       "        </tr>\n",
       "        <tr>\n",
       "            <td>496833</td> <td>8.5   </td> <td>Alien                </td> <td>1979</td> <td>1970  </td>\n",
       "        </tr>\n",
       "        <tr>\n",
       "            <td>436218</td> <td>8.4   </td> <td>Aliens               </td> <td>1986</td> <td>1980  </td>\n",
       "        </tr>\n",
       "    </tbody>\n",
       "</table>\n",
       "<p>... (240 rows omitted)</p>"
      ],
      "text/plain": [
       "Votes  | Rating | Title                 | Year | Decade\n",
       "384187 | 8.9    | 12 Angry Men          | 1957 | 1950\n",
       "359121 | 8.1    | 12 Years a Slave      | 2013 | 2010\n",
       "373482 | 8.3    | 2001: A Space Odyssey | 1968 | 1960\n",
       "167076 | 8.2    | 3 Idiots              | 2009 | 2000\n",
       "69988  | 8.1    | 8½                    | 1963 | 1960\n",
       "525515 | 8.1    | A Beautiful Mind      | 2001 | 2000\n",
       "489807 | 8.3    | A Clockwork Orange    | 1971 | 1970\n",
       "91652  | 8      | Akira                 | 1988 | 1980\n",
       "496833 | 8.5    | Alien                 | 1979 | 1970\n",
       "436218 | 8.4    | Aliens                | 1986 | 1980\n",
       "... (240 rows omitted)"
      ]
     },
     "execution_count": 17,
     "metadata": {},
     "output_type": "execute_result"
    }
   ],
   "source": [
    "imdb.sort(\"Title\")"
   ]
  },
  {
   "cell_type": "code",
   "execution_count": 18,
   "id": "c7d024d2",
   "metadata": {},
   "outputs": [
    {
     "data": {
      "text/html": [
       "<table border=\"1\" class=\"dataframe\">\n",
       "    <thead>\n",
       "        <tr>\n",
       "            <th>Votes</th> <th>Rating</th> <th>Title</th> <th>Year</th> <th>Decade</th>\n",
       "        </tr>\n",
       "    </thead>\n",
       "    <tbody>\n",
       "        <tr>\n",
       "            <td>65370 </td> <td>8.3   </td> <td>Yôjinbô                        </td> <td>1961</td> <td>1960  </td>\n",
       "        </tr>\n",
       "        <tr>\n",
       "            <td>138240</td> <td>8     </td> <td>Yip Man                        </td> <td>2008</td> <td>2000  </td>\n",
       "        </tr>\n",
       "        <tr>\n",
       "            <td>427099</td> <td>8     </td> <td>X-Men: Days of Future Past     </td> <td>2014</td> <td>2010  </td>\n",
       "        </tr>\n",
       "        <tr>\n",
       "            <td>53186 </td> <td>8.3   </td> <td>Witness for the Prosecution    </td> <td>1957</td> <td>1950  </td>\n",
       "        </tr>\n",
       "        <tr>\n",
       "            <td>50208 </td> <td>8     </td> <td>Who's Afraid of Virginia Woolf?</td> <td>1966</td> <td>1960  </td>\n",
       "        </tr>\n",
       "        <tr>\n",
       "            <td>264333</td> <td>8.5   </td> <td>Whiplash                       </td> <td>2014</td> <td>2010  </td>\n",
       "        </tr>\n",
       "        <tr>\n",
       "            <td>287727</td> <td>8.2   </td> <td>Warrior                        </td> <td>2011</td> <td>2010  </td>\n",
       "        </tr>\n",
       "        <tr>\n",
       "            <td>618914</td> <td>8.4   </td> <td>WALL·E                         </td> <td>2008</td> <td>2000  </td>\n",
       "        </tr>\n",
       "        <tr>\n",
       "            <td>218430</td> <td>8.4   </td> <td>Vertigo                        </td> <td>1958</td> <td>1950  </td>\n",
       "        </tr>\n",
       "        <tr>\n",
       "            <td>700999</td> <td>8.2   </td> <td>V for Vendetta                 </td> <td>2005</td> <td>2000  </td>\n",
       "        </tr>\n",
       "    </tbody>\n",
       "</table>\n",
       "<p>... (240 rows omitted)</p>"
      ],
      "text/plain": [
       "Votes  | Rating | Title                           | Year | Decade\n",
       "65370  | 8.3    | Yôjinbô                         | 1961 | 1960\n",
       "138240 | 8      | Yip Man                         | 2008 | 2000\n",
       "427099 | 8      | X-Men: Days of Future Past      | 2014 | 2010\n",
       "53186  | 8.3    | Witness for the Prosecution     | 1957 | 1950\n",
       "50208  | 8      | Who's Afraid of Virginia Woolf? | 1966 | 1960\n",
       "264333 | 8.5    | Whiplash                        | 2014 | 2010\n",
       "287727 | 8.2    | Warrior                         | 2011 | 2010\n",
       "618914 | 8.4    | WALL·E                          | 2008 | 2000\n",
       "218430 | 8.4    | Vertigo                         | 1958 | 1950\n",
       "700999 | 8.2    | V for Vendetta                  | 2005 | 2000\n",
       "... (240 rows omitted)"
      ]
     },
     "execution_count": 18,
     "metadata": {},
     "output_type": "execute_result"
    }
   ],
   "source": [
    "imdb.sort(\"Title\", descending = True)"
   ]
  },
  {
   "cell_type": "markdown",
   "id": "c6d6b52d",
   "metadata": {},
   "source": [
    "## Filtering\n",
    "\n",
    "### `where` \n",
    "\n",
    "Now let's dive into the details a bit more.  `where` takes 2 arguments:\n",
    "\n",
    "1. The name of a column.  `where` finds rows where that column's values meet some criterion.\n",
    "2. A predicate that describes the criterion that the column needs to meet.\n",
    "\n",
    "`where` returns a table that's a copy of the original table, but **with only the rows that meet the given predicate**.\n",
    "\n",
    "|Predicate|Example|Result|\n",
    "|-|-|-|\n",
    "|`are.equal_to`|`are.equal_to(50)`|Find rows with values equal to 50|\n",
    "|`are.not_equal_to`|`are.not_equal_to(50)`|Find rows with values not equal to 50|\n",
    "|`are.above`|`are.above(50)`|Find rows with values above (and not equal to) 50|\n",
    "|`are.above_or_equal_to`|`are.above_or_equal_to(50)`|Find rows with values above 50 or equal to 50|\n",
    "|`are.below`|`are.below(50)`|Find rows with values below 50|\n",
    "|`are.between`|`are.between(2, 10)`|Find rows with values above or equal to 2 and below 10|\n",
    "|`are.between_or_equal_to`|`are.between_or_equal_to(2, 10)`|Find rows with values above or equal to 2 and below or equal to 10|\n"
   ]
  },
  {
   "cell_type": "code",
   "execution_count": 19,
   "id": "3ad28a3b",
   "metadata": {},
   "outputs": [
    {
     "data": {
      "text/html": [
       "<table border=\"1\" class=\"dataframe\">\n",
       "    <thead>\n",
       "        <tr>\n",
       "            <th>Votes</th> <th>Rating</th> <th>Title</th> <th>Year</th> <th>Decade</th>\n",
       "        </tr>\n",
       "    </thead>\n",
       "    <tbody>\n",
       "        <tr>\n",
       "            <td>88355 </td> <td>8.4   </td> <td>M                           </td> <td>1931</td> <td>1930  </td>\n",
       "        </tr>\n",
       "        <tr>\n",
       "            <td>56842 </td> <td>8.1   </td> <td>It Happened One Night       </td> <td>1934</td> <td>1930  </td>\n",
       "        </tr>\n",
       "        <tr>\n",
       "            <td>69510 </td> <td>8.2   </td> <td>Mr. Smith Goes to Washington</td> <td>1939</td> <td>1930  </td>\n",
       "        </tr>\n",
       "        <tr>\n",
       "            <td>259235</td> <td>8.1   </td> <td>The Wizard of Oz            </td> <td>1939</td> <td>1930  </td>\n",
       "        </tr>\n",
       "        <tr>\n",
       "            <td>192791</td> <td>8.1   </td> <td>Gone with the Wind          </td> <td>1939</td> <td>1930  </td>\n",
       "        </tr>\n",
       "        <tr>\n",
       "            <td>121668</td> <td>8.5   </td> <td>Modern Times                </td> <td>1936</td> <td>1930  </td>\n",
       "        </tr>\n",
       "        <tr>\n",
       "            <td>92375 </td> <td>8.5   </td> <td>City Lights                 </td> <td>1931</td> <td>1930  </td>\n",
       "        </tr>\n",
       "    </tbody>\n",
       "</table>"
      ],
      "text/plain": [
       "Votes  | Rating | Title                        | Year | Decade\n",
       "88355  | 8.4    | M                            | 1931 | 1930\n",
       "56842  | 8.1    | It Happened One Night        | 1934 | 1930\n",
       "69510  | 8.2    | Mr. Smith Goes to Washington | 1939 | 1930\n",
       "259235 | 8.1    | The Wizard of Oz             | 1939 | 1930\n",
       "192791 | 8.1    | Gone with the Wind           | 1939 | 1930\n",
       "121668 | 8.5    | Modern Times                 | 1936 | 1930\n",
       "92375  | 8.5    | City Lights                  | 1931 | 1930"
      ]
     },
     "execution_count": 19,
     "metadata": {},
     "output_type": "execute_result"
    }
   ],
   "source": [
    "imdb.where(\"Decade\", 1930) # defaults to are.equal_to"
   ]
  },
  {
   "cell_type": "code",
   "execution_count": 20,
   "id": "67aa3496",
   "metadata": {},
   "outputs": [
    {
     "data": {
      "text/html": [
       "<table border=\"1\" class=\"dataframe\">\n",
       "    <thead>\n",
       "        <tr>\n",
       "            <th>Votes</th> <th>Rating</th> <th>Title</th> <th>Year</th> <th>Decade</th>\n",
       "        </tr>\n",
       "    </thead>\n",
       "    <tbody>\n",
       "        <tr>\n",
       "            <td>88355 </td> <td>8.4   </td> <td>M                           </td> <td>1931</td> <td>1930  </td>\n",
       "        </tr>\n",
       "        <tr>\n",
       "            <td>56842 </td> <td>8.1   </td> <td>It Happened One Night       </td> <td>1934</td> <td>1930  </td>\n",
       "        </tr>\n",
       "        <tr>\n",
       "            <td>69510 </td> <td>8.2   </td> <td>Mr. Smith Goes to Washington</td> <td>1939</td> <td>1930  </td>\n",
       "        </tr>\n",
       "        <tr>\n",
       "            <td>259235</td> <td>8.1   </td> <td>The Wizard of Oz            </td> <td>1939</td> <td>1930  </td>\n",
       "        </tr>\n",
       "        <tr>\n",
       "            <td>192791</td> <td>8.1   </td> <td>Gone with the Wind          </td> <td>1939</td> <td>1930  </td>\n",
       "        </tr>\n",
       "        <tr>\n",
       "            <td>121668</td> <td>8.5   </td> <td>Modern Times                </td> <td>1936</td> <td>1930  </td>\n",
       "        </tr>\n",
       "        <tr>\n",
       "            <td>92375 </td> <td>8.5   </td> <td>City Lights                 </td> <td>1931</td> <td>1930  </td>\n",
       "        </tr>\n",
       "    </tbody>\n",
       "</table>"
      ],
      "text/plain": [
       "Votes  | Rating | Title                        | Year | Decade\n",
       "88355  | 8.4    | M                            | 1931 | 1930\n",
       "56842  | 8.1    | It Happened One Night        | 1934 | 1930\n",
       "69510  | 8.2    | Mr. Smith Goes to Washington | 1939 | 1930\n",
       "259235 | 8.1    | The Wizard of Oz             | 1939 | 1930\n",
       "192791 | 8.1    | Gone with the Wind           | 1939 | 1930\n",
       "121668 | 8.5    | Modern Times                 | 1936 | 1930\n",
       "92375  | 8.5    | City Lights                  | 1931 | 1930"
      ]
     },
     "execution_count": 20,
     "metadata": {},
     "output_type": "execute_result"
    }
   ],
   "source": [
    "imdb.where(\"Decade\", are.equal_to(1930)) # same as above"
   ]
  },
  {
   "cell_type": "code",
   "execution_count": 21,
   "id": "0ca364f2",
   "metadata": {},
   "outputs": [
    {
     "data": {
      "text/html": [
       "<table border=\"1\" class=\"dataframe\">\n",
       "    <thead>\n",
       "        <tr>\n",
       "            <th>Votes</th> <th>Rating</th> <th>Title</th> <th>Year</th> <th>Decade</th>\n",
       "        </tr>\n",
       "    </thead>\n",
       "    <tbody>\n",
       "        <tr>\n",
       "            <td>1027398</td> <td>9.2   </td> <td>The Godfather           </td> <td>1972</td> <td>1970  </td>\n",
       "        </tr>\n",
       "        <tr>\n",
       "            <td>1498733</td> <td>9.2   </td> <td>The Shawshank Redemption</td> <td>1994</td> <td>1990  </td>\n",
       "        </tr>\n",
       "        <tr>\n",
       "            <td>692753 </td> <td>9     </td> <td>The Godfather: Part II  </td> <td>1974</td> <td>1970  </td>\n",
       "        </tr>\n",
       "    </tbody>\n",
       "</table>"
      ],
      "text/plain": [
       "Votes   | Rating | Title                    | Year | Decade\n",
       "1027398 | 9.2    | The Godfather            | 1972 | 1970\n",
       "1498733 | 9.2    | The Shawshank Redemption | 1994 | 1990\n",
       "692753  | 9      | The Godfather: Part II   | 1974 | 1970"
      ]
     },
     "execution_count": 21,
     "metadata": {},
     "output_type": "execute_result"
    }
   ],
   "source": [
    "imdb.where(\"Rating\", are.above_or_equal_to(9))"
   ]
  },
  {
   "cell_type": "markdown",
   "id": "9a8ca0f2",
   "metadata": {},
   "source": [
    "## Grouping\n",
    "\n",
    "#### `group`\n",
    "`tbl.group(column_or_columns, func)` groups rows by unique values or combinations of values in a column(s). Multiple columns must be entered in array or list form. Other values are aggregated by count (the default) or an optional function argument."
   ]
  },
  {
   "cell_type": "code",
   "execution_count": 22,
   "id": "1fb63701",
   "metadata": {},
   "outputs": [
    {
     "data": {
      "text/html": [
       "<table border=\"1\" class=\"dataframe\">\n",
       "    <thead>\n",
       "        <tr>\n",
       "            <th>Rating</th> <th>count</th>\n",
       "        </tr>\n",
       "    </thead>\n",
       "    <tbody>\n",
       "        <tr>\n",
       "            <td>8     </td> <td>50   </td>\n",
       "        </tr>\n",
       "        <tr>\n",
       "            <td>8.1   </td> <td>53   </td>\n",
       "        </tr>\n",
       "        <tr>\n",
       "            <td>8.2   </td> <td>34   </td>\n",
       "        </tr>\n",
       "        <tr>\n",
       "            <td>8.3   </td> <td>38   </td>\n",
       "        </tr>\n",
       "        <tr>\n",
       "            <td>8.4   </td> <td>22   </td>\n",
       "        </tr>\n",
       "        <tr>\n",
       "            <td>8.5   </td> <td>24   </td>\n",
       "        </tr>\n",
       "        <tr>\n",
       "            <td>8.6   </td> <td>9    </td>\n",
       "        </tr>\n",
       "        <tr>\n",
       "            <td>8.7   </td> <td>9    </td>\n",
       "        </tr>\n",
       "        <tr>\n",
       "            <td>8.8   </td> <td>2    </td>\n",
       "        </tr>\n",
       "        <tr>\n",
       "            <td>8.9   </td> <td>6    </td>\n",
       "        </tr>\n",
       "    </tbody>\n",
       "</table>\n",
       "<p>... (2 rows omitted)</p>"
      ],
      "text/plain": [
       "Rating | count\n",
       "8      | 50\n",
       "8.1    | 53\n",
       "8.2    | 34\n",
       "8.3    | 38\n",
       "8.4    | 22\n",
       "8.5    | 24\n",
       "8.6    | 9\n",
       "8.7    | 9\n",
       "8.8    | 2\n",
       "8.9    | 6\n",
       "... (2 rows omitted)"
      ]
     },
     "execution_count": 22,
     "metadata": {},
     "output_type": "execute_result"
    }
   ],
   "source": [
    "imdb.group(\"Rating\") # tells us the count of how many of each rating"
   ]
  },
  {
   "cell_type": "code",
   "execution_count": 23,
   "id": "f1e6ac72",
   "metadata": {},
   "outputs": [
    {
     "data": {
      "text/html": [
       "<table border=\"1\" class=\"dataframe\">\n",
       "    <thead>\n",
       "        <tr>\n",
       "            <th>Decade</th> <th>count</th>\n",
       "        </tr>\n",
       "    </thead>\n",
       "    <tbody>\n",
       "        <tr>\n",
       "            <td>1920  </td> <td>4    </td>\n",
       "        </tr>\n",
       "        <tr>\n",
       "            <td>1930  </td> <td>7    </td>\n",
       "        </tr>\n",
       "        <tr>\n",
       "            <td>1940  </td> <td>14   </td>\n",
       "        </tr>\n",
       "        <tr>\n",
       "            <td>1950  </td> <td>30   </td>\n",
       "        </tr>\n",
       "        <tr>\n",
       "            <td>1960  </td> <td>22   </td>\n",
       "        </tr>\n",
       "        <tr>\n",
       "            <td>1970  </td> <td>21   </td>\n",
       "        </tr>\n",
       "        <tr>\n",
       "            <td>1980  </td> <td>31   </td>\n",
       "        </tr>\n",
       "        <tr>\n",
       "            <td>1990  </td> <td>42   </td>\n",
       "        </tr>\n",
       "        <tr>\n",
       "            <td>2000  </td> <td>50   </td>\n",
       "        </tr>\n",
       "        <tr>\n",
       "            <td>2010  </td> <td>29   </td>\n",
       "        </tr>\n",
       "    </tbody>\n",
       "</table>"
      ],
      "text/plain": [
       "Decade | count\n",
       "1920   | 4\n",
       "1930   | 7\n",
       "1940   | 14\n",
       "1950   | 30\n",
       "1960   | 22\n",
       "1970   | 21\n",
       "1980   | 31\n",
       "1990   | 42\n",
       "2000   | 50\n",
       "2010   | 29"
      ]
     },
     "execution_count": 23,
     "metadata": {},
     "output_type": "execute_result"
    }
   ],
   "source": [
    "imdb.group(\"Decade\") # tells us how many movies per decade in our dataset"
   ]
  },
  {
   "cell_type": "code",
   "execution_count": 24,
   "id": "d23c069e",
   "metadata": {},
   "outputs": [
    {
     "data": {
      "text/html": [
       "<table border=\"1\" class=\"dataframe\">\n",
       "    <thead>\n",
       "        <tr>\n",
       "            <th>Year</th> <th>Votes average</th> <th>Rating average</th> <th>Title average</th> <th>Decade average</th>\n",
       "        </tr>\n",
       "    </thead>\n",
       "    <tbody>\n",
       "        <tr>\n",
       "            <td>1921</td> <td>55784        </td> <td>8.3           </td> <td>             </td> <td>1920          </td>\n",
       "        </tr>\n",
       "        <tr>\n",
       "            <td>1925</td> <td>58506        </td> <td>8.2           </td> <td>             </td> <td>1920          </td>\n",
       "        </tr>\n",
       "        <tr>\n",
       "            <td>1926</td> <td>46332        </td> <td>8.2           </td> <td>             </td> <td>1920          </td>\n",
       "        </tr>\n",
       "        <tr>\n",
       "            <td>1927</td> <td>98794        </td> <td>8.3           </td> <td>             </td> <td>1920          </td>\n",
       "        </tr>\n",
       "        <tr>\n",
       "            <td>1931</td> <td>90365        </td> <td>8.45          </td> <td>             </td> <td>1930          </td>\n",
       "        </tr>\n",
       "        <tr>\n",
       "            <td>1934</td> <td>56842        </td> <td>8.1           </td> <td>             </td> <td>1930          </td>\n",
       "        </tr>\n",
       "        <tr>\n",
       "            <td>1936</td> <td>121668       </td> <td>8.5           </td> <td>             </td> <td>1930          </td>\n",
       "        </tr>\n",
       "        <tr>\n",
       "            <td>1939</td> <td>173845       </td> <td>8.13333       </td> <td>             </td> <td>1930          </td>\n",
       "        </tr>\n",
       "        <tr>\n",
       "            <td>1940</td> <td>83866.3      </td> <td>8.23333       </td> <td>             </td> <td>1940          </td>\n",
       "        </tr>\n",
       "        <tr>\n",
       "            <td>1941</td> <td>185330       </td> <td>8.25          </td> <td>             </td> <td>1940          </td>\n",
       "        </tr>\n",
       "    </tbody>\n",
       "</table>\n",
       "<p>... (70 rows omitted)</p>"
      ],
      "text/plain": [
       "Year | Votes average | Rating average | Title average | Decade average\n",
       "1921 | 55784         | 8.3            |               | 1920\n",
       "1925 | 58506         | 8.2            |               | 1920\n",
       "1926 | 46332         | 8.2            |               | 1920\n",
       "1927 | 98794         | 8.3            |               | 1920\n",
       "1931 | 90365         | 8.45           |               | 1930\n",
       "1934 | 56842         | 8.1            |               | 1930\n",
       "1936 | 121668        | 8.5            |               | 1930\n",
       "1939 | 173845        | 8.13333        |               | 1930\n",
       "1940 | 83866.3       | 8.23333        |               | 1940\n",
       "1941 | 185330        | 8.25           |               | 1940\n",
       "... (70 rows omitted)"
      ]
     },
     "execution_count": 24,
     "metadata": {},
     "output_type": "execute_result"
    }
   ],
   "source": [
    "imdb.group(\"Year\", np.average)"
   ]
  },
  {
   "cell_type": "markdown",
   "id": "00f4d51a",
   "metadata": {},
   "source": [
    "## Combining Everything\n",
    "\n",
    "Find the average rating for movies in the 21st century."
   ]
  },
  {
   "cell_type": "code",
   "execution_count": 25,
   "id": "b9176d32",
   "metadata": {},
   "outputs": [
    {
     "data": {
      "text/html": [
       "<table border=\"1\" class=\"dataframe\">\n",
       "    <thead>\n",
       "        <tr>\n",
       "            <th>Votes</th> <th>Rating</th> <th>Title</th> <th>Year</th> <th>Decade</th>\n",
       "        </tr>\n",
       "    </thead>\n",
       "    <tbody>\n",
       "        <tr>\n",
       "            <td>441174</td> <td>8.1   </td> <td>Gone Girl                           </td> <td>2014</td> <td>2010  </td>\n",
       "        </tr>\n",
       "        <tr>\n",
       "            <td>850601</td> <td>8.3   </td> <td>Batman Begins                       </td> <td>2005</td> <td>2000  </td>\n",
       "        </tr>\n",
       "        <tr>\n",
       "            <td>46987 </td> <td>8     </td> <td>Relatos salvajes                    </td> <td>2014</td> <td>2010  </td>\n",
       "        </tr>\n",
       "        <tr>\n",
       "            <td>502773</td> <td>8.2   </td> <td>Gran Torino                         </td> <td>2008</td> <td>2000  </td>\n",
       "        </tr>\n",
       "        <tr>\n",
       "            <td>755013</td> <td>8.3   </td> <td>Inglourious Basterds                </td> <td>2009</td> <td>2000  </td>\n",
       "        </tr>\n",
       "        <tr>\n",
       "            <td>229533</td> <td>8.4   </td> <td>Das Leben der Anderen               </td> <td>2006</td> <td>2000  </td>\n",
       "        </tr>\n",
       "        <tr>\n",
       "            <td>55382 </td> <td>8     </td> <td>Bom yeoreum gaeul gyeoul geurigo bom</td> <td>2003</td> <td>2000  </td>\n",
       "        </tr>\n",
       "        <tr>\n",
       "            <td>700999</td> <td>8.2   </td> <td>V for Vendetta                      </td> <td>2005</td> <td>2000  </td>\n",
       "        </tr>\n",
       "        <tr>\n",
       "            <td>102735</td> <td>8.1   </td> <td>Mary and Max                        </td> <td>2009</td> <td>2000  </td>\n",
       "        </tr>\n",
       "        <tr>\n",
       "            <td>287727</td> <td>8.2   </td> <td>Warrior                             </td> <td>2011</td> <td>2010  </td>\n",
       "        </tr>\n",
       "    </tbody>\n",
       "</table>\n",
       "<p>... (69 rows omitted)</p>"
      ],
      "text/plain": [
       "Votes  | Rating | Title                                | Year | Decade\n",
       "441174 | 8.1    | Gone Girl                            | 2014 | 2010\n",
       "850601 | 8.3    | Batman Begins                        | 2005 | 2000\n",
       "46987  | 8      | Relatos salvajes                     | 2014 | 2010\n",
       "502773 | 8.2    | Gran Torino                          | 2008 | 2000\n",
       "755013 | 8.3    | Inglourious Basterds                 | 2009 | 2000\n",
       "229533 | 8.4    | Das Leben der Anderen                | 2006 | 2000\n",
       "55382  | 8      | Bom yeoreum gaeul gyeoul geurigo bom | 2003 | 2000\n",
       "700999 | 8.2    | V for Vendetta                       | 2005 | 2000\n",
       "102735 | 8.1    | Mary and Max                         | 2009 | 2000\n",
       "287727 | 8.2    | Warrior                              | 2011 | 2010\n",
       "... (69 rows omitted)"
      ]
     },
     "execution_count": 25,
     "metadata": {},
     "output_type": "execute_result"
    }
   ],
   "source": [
    "twenty_one = imdb.where(\"Year\", are.above_or_equal_to(2000))\n",
    "twenty_one"
   ]
  },
  {
   "cell_type": "code",
   "execution_count": 26,
   "id": "a6c5023f",
   "metadata": {},
   "outputs": [
    {
     "data": {
      "text/plain": [
       "8.237974683544303"
      ]
     },
     "execution_count": 26,
     "metadata": {},
     "output_type": "execute_result"
    }
   ],
   "source": [
    "twenty_one_average = np.average(twenty_one.column(\"Rating\"))\n",
    "twenty_one_average"
   ]
  },
  {
   "cell_type": "markdown",
   "id": "c6388bdf",
   "metadata": {},
   "source": [
    "Does the 21st century have a higher rating than the 20th century?"
   ]
  },
  {
   "cell_type": "code",
   "execution_count": 27,
   "id": "e4142c81",
   "metadata": {},
   "outputs": [
    {
     "data": {
      "text/plain": [
       "8.278362573099415"
      ]
     },
     "execution_count": 27,
     "metadata": {},
     "output_type": "execute_result"
    }
   ],
   "source": [
    "twenty_average = np.average(imdb.where(\"Year\", are.between(1900 , 2000)).column(\"Rating\"))\n",
    "twenty_average"
   ]
  },
  {
   "cell_type": "code",
   "execution_count": 28,
   "id": "a3020125",
   "metadata": {},
   "outputs": [
    {
     "data": {
      "text/plain": [
       "False"
      ]
     },
     "execution_count": 28,
     "metadata": {},
     "output_type": "execute_result"
    }
   ],
   "source": [
    "twenty_one_average > twenty_average "
   ]
  },
  {
   "cell_type": "markdown",
   "id": "1c24d995",
   "metadata": {},
   "source": [
    "## How about the highest decade average?"
   ]
  },
  {
   "cell_type": "code",
   "execution_count": 29,
   "id": "0415581d",
   "metadata": {},
   "outputs": [
    {
     "data": {
      "text/html": [
       "<table border=\"1\" class=\"dataframe\">\n",
       "    <thead>\n",
       "        <tr>\n",
       "            <th>Decade</th> <th>Votes average</th> <th>Rating average</th> <th>Title average</th> <th>Year average</th>\n",
       "        </tr>\n",
       "    </thead>\n",
       "    <tbody>\n",
       "        <tr>\n",
       "            <td>1920  </td> <td>64854        </td> <td>8.25          </td> <td>             </td> <td>1924.75     </td>\n",
       "        </tr>\n",
       "        <tr>\n",
       "            <td>1930  </td> <td>125825       </td> <td>8.27143       </td> <td>             </td> <td>1935.57     </td>\n",
       "        </tr>\n",
       "        <tr>\n",
       "            <td>1940  </td> <td>122767       </td> <td>8.25714       </td> <td>             </td> <td>1944.07     </td>\n",
       "        </tr>\n",
       "        <tr>\n",
       "            <td>1950  </td> <td>109829       </td> <td>8.23333       </td> <td>             </td> <td>1955        </td>\n",
       "        </tr>\n",
       "        <tr>\n",
       "            <td>1960  </td> <td>147391       </td> <td>8.23182       </td> <td>             </td> <td>1964.14     </td>\n",
       "        </tr>\n",
       "        <tr>\n",
       "            <td>1970  </td> <td>353377       </td> <td>8.30952       </td> <td>             </td> <td>1975.62     </td>\n",
       "        </tr>\n",
       "        <tr>\n",
       "            <td>1980  </td> <td>295290       </td> <td>8.24194       </td> <td>             </td> <td>1984.29     </td>\n",
       "        </tr>\n",
       "        <tr>\n",
       "            <td>1990  </td> <td>559449       </td> <td>8.35714       </td> <td>             </td> <td>1995.19     </td>\n",
       "        </tr>\n",
       "        <tr>\n",
       "            <td>2000  </td> <td>481929       </td> <td>8.26          </td> <td>             </td> <td>2004.26     </td>\n",
       "        </tr>\n",
       "        <tr>\n",
       "            <td>2010  </td> <td>438006       </td> <td>8.2           </td> <td>             </td> <td>2012.31     </td>\n",
       "        </tr>\n",
       "    </tbody>\n",
       "</table>"
      ],
      "text/plain": [
       "Decade | Votes average | Rating average | Title average | Year average\n",
       "1920   | 64854         | 8.25           |               | 1924.75\n",
       "1930   | 125825        | 8.27143        |               | 1935.57\n",
       "1940   | 122767        | 8.25714        |               | 1944.07\n",
       "1950   | 109829        | 8.23333        |               | 1955\n",
       "1960   | 147391        | 8.23182        |               | 1964.14\n",
       "1970   | 353377        | 8.30952        |               | 1975.62\n",
       "1980   | 295290        | 8.24194        |               | 1984.29\n",
       "1990   | 559449        | 8.35714        |               | 1995.19\n",
       "2000   | 481929        | 8.26           |               | 2004.26\n",
       "2010   | 438006        | 8.2            |               | 2012.31"
      ]
     },
     "execution_count": 29,
     "metadata": {},
     "output_type": "execute_result"
    }
   ],
   "source": [
    "imdb.group(\"Decade\", np.average)"
   ]
  },
  {
   "cell_type": "code",
   "execution_count": 30,
   "id": "61fd1be8",
   "metadata": {},
   "outputs": [
    {
     "data": {
      "text/html": [
       "<table border=\"1\" class=\"dataframe\">\n",
       "    <thead>\n",
       "        <tr>\n",
       "            <th>Decade</th> <th>Votes average</th> <th>Rating average</th> <th>Title average</th> <th>Year average</th>\n",
       "        </tr>\n",
       "    </thead>\n",
       "    <tbody>\n",
       "        <tr>\n",
       "            <td>1990  </td> <td>559449       </td> <td>8.35714       </td> <td>             </td> <td>1995.19     </td>\n",
       "        </tr>\n",
       "        <tr>\n",
       "            <td>1970  </td> <td>353377       </td> <td>8.30952       </td> <td>             </td> <td>1975.62     </td>\n",
       "        </tr>\n",
       "        <tr>\n",
       "            <td>1930  </td> <td>125825       </td> <td>8.27143       </td> <td>             </td> <td>1935.57     </td>\n",
       "        </tr>\n",
       "        <tr>\n",
       "            <td>2000  </td> <td>481929       </td> <td>8.26          </td> <td>             </td> <td>2004.26     </td>\n",
       "        </tr>\n",
       "        <tr>\n",
       "            <td>1940  </td> <td>122767       </td> <td>8.25714       </td> <td>             </td> <td>1944.07     </td>\n",
       "        </tr>\n",
       "        <tr>\n",
       "            <td>1920  </td> <td>64854        </td> <td>8.25          </td> <td>             </td> <td>1924.75     </td>\n",
       "        </tr>\n",
       "        <tr>\n",
       "            <td>1980  </td> <td>295290       </td> <td>8.24194       </td> <td>             </td> <td>1984.29     </td>\n",
       "        </tr>\n",
       "        <tr>\n",
       "            <td>1950  </td> <td>109829       </td> <td>8.23333       </td> <td>             </td> <td>1955        </td>\n",
       "        </tr>\n",
       "        <tr>\n",
       "            <td>1960  </td> <td>147391       </td> <td>8.23182       </td> <td>             </td> <td>1964.14     </td>\n",
       "        </tr>\n",
       "        <tr>\n",
       "            <td>2010  </td> <td>438006       </td> <td>8.2           </td> <td>             </td> <td>2012.31     </td>\n",
       "        </tr>\n",
       "    </tbody>\n",
       "</table>"
      ],
      "text/plain": [
       "Decade | Votes average | Rating average | Title average | Year average\n",
       "1990   | 559449        | 8.35714        |               | 1995.19\n",
       "1970   | 353377        | 8.30952        |               | 1975.62\n",
       "1930   | 125825        | 8.27143        |               | 1935.57\n",
       "2000   | 481929        | 8.26           |               | 2004.26\n",
       "1940   | 122767        | 8.25714        |               | 1944.07\n",
       "1920   | 64854         | 8.25           |               | 1924.75\n",
       "1980   | 295290        | 8.24194        |               | 1984.29\n",
       "1950   | 109829        | 8.23333        |               | 1955\n",
       "1960   | 147391        | 8.23182        |               | 1964.14\n",
       "2010   | 438006        | 8.2            |               | 2012.31"
      ]
     },
     "execution_count": 30,
     "metadata": {},
     "output_type": "execute_result"
    }
   ],
   "source": [
    "imdb.group(\"Decade\", np.average).sort(\"Rating average\", descending = True)"
   ]
  },
  {
   "cell_type": "code",
   "execution_count": 31,
   "id": "42d9f9be",
   "metadata": {},
   "outputs": [
    {
     "data": {
      "text/plain": [
       "array([1990, 1970, 1930, 2000, 1940, 1920, 1980, 1950, 1960, 2010])"
      ]
     },
     "execution_count": 31,
     "metadata": {},
     "output_type": "execute_result"
    }
   ],
   "source": [
    "imdb.group(\"Decade\", np.average).sort(\"Rating average\", descending = True).column(\"Decade\")"
   ]
  },
  {
   "cell_type": "code",
   "execution_count": 32,
   "id": "1c649a6d",
   "metadata": {},
   "outputs": [
    {
     "data": {
      "text/plain": [
       "1990"
      ]
     },
     "execution_count": 32,
     "metadata": {},
     "output_type": "execute_result"
    }
   ],
   "source": [
    "imdb.group(\"Decade\", np.average).sort(\"Rating average\", descending = True).column(\"Decade\").item(0)"
   ]
  },
  {
   "cell_type": "code",
   "execution_count": 33,
   "id": "282aa71f",
   "metadata": {},
   "outputs": [
    {
     "data": {
      "text/plain": [
       "0"
      ]
     },
     "execution_count": 33,
     "metadata": {},
     "output_type": "execute_result"
    }
   ],
   "source": [
    "make_array(0).item()"
   ]
  }
 ],
 "metadata": {
  "kernelspec": {
   "display_name": "Python 3 (ipykernel)",
   "language": "python",
   "name": "python3"
  },
  "language_info": {
   "codemirror_mode": {
    "name": "ipython",
    "version": 3
   },
   "file_extension": ".py",
   "mimetype": "text/x-python",
   "name": "python",
   "nbconvert_exporter": "python",
   "pygments_lexer": "ipython3",
   "version": "3.10.2"
  }
 },
 "nbformat": 4,
 "nbformat_minor": 5
}
