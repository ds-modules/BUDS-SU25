{
 "cells": [
  {
   "cell_type": "markdown",
   "metadata": {},
   "source": [
    "# BUDS Report 03: Tables, Part 1\n",
    "\n",
    "\n",
    "### Table of Contents\n",
    "\n",
    "1. <a href='#section 1'>Tables</a>\n",
    "\n",
    "    a. <a href='#subsection 1a'>Table Attributes</a>\n",
    "\n",
    "    b. <a href='#subsection 1b'>Table Transformations</a><br><br>\n",
    "\n",
    "2. <a href='#section 2'>Sorting Tables</a>"
   ]
  },
  {
   "cell_type": "code",
   "execution_count": null,
   "metadata": {},
   "outputs": [],
   "source": [
    "# dependencies: THIS CELL MUST BE RUN\n",
    "from datascience import *\n",
    "import numpy as np\n",
    "import math\n",
    "import matplotlib.pyplot as plt\n",
    "plt.style.use('fivethirtyeight')\n",
    "%matplotlib inline"
   ]
  },
  {
   "cell_type": "markdown",
   "metadata": {},
   "source": [
    "## 1. Tables <a id='section 1'></a>\n",
    "\n",
    "The last section covered four basic concepts of Python: data, expressions, names, and functions. In this next section, we'll see just how much we can do to examine and manipulate our data with only these minimal Python skills.\n",
    "\n",
    "**Tables** are fundamental ways of organizing and displaying data. Run the next cell to load the data."
   ]
  },
  {
   "cell_type": "code",
   "execution_count": null,
   "metadata": {},
   "outputs": [],
   "source": [
    "ratings = Table.read_table(\"data/imdb_ratings.csv\")\n",
    "ratings"
   ]
  },
  {
   "cell_type": "markdown",
   "metadata": {},
   "source": [
    "This table is organized into **columns** — one for each *category* of information collected.\n",
    "\n",
    "You can also think about the table in terms of its **rows**. Each row represents all the information collected about a particular instance, which can be a person, location, action, or other unit. \n",
    "\n",
    "\n",
    "<div class=\"alert alert-warning\">\n",
    "<b>PRACTICE:</b> What do the rows in this table represent? How many rows are in this table? How many rows are shown by default?\n",
    "    </div>\n"
   ]
  },
  {
   "cell_type": "markdown",
   "metadata": {},
   "source": [
    "_Written Answer:_"
   ]
  },
  {
   "cell_type": "markdown",
   "metadata": {},
   "source": [
    "### Table Attributes <a id='subsection 1a'></a>\n",
    "\n",
    "Every table has **attributes** that give information about the table, like the number of rows and the number of columns. Table attributes are accessed using the dot method. But, since an attribute doesn't perform an operation on the table, there are no parentheses (like there would be in a call expression).\n",
    "\n",
    "<div class=\"alert alert-warning\">\n",
    "<b>PRACTICE:</b> Attributes you'll frequently use include the number of rows and number of columns in a table. Use the Python Reference Sheet to find a method that will find the number of rows and number of columns in the <code>ratings</code> table.\n",
    "    </div>"
   ]
  },
  {
   "cell_type": "code",
   "execution_count": null,
   "metadata": {},
   "outputs": [],
   "source": [
    "# get the number of rows in the table\n",
    "..."
   ]
  },
  {
   "cell_type": "code",
   "execution_count": null,
   "metadata": {},
   "outputs": [],
   "source": [
    "# get the number of columns in the table\n",
    "..."
   ]
  },
  {
   "cell_type": "markdown",
   "metadata": {},
   "source": [
    "Another attribute you can look at is the column names of a table. Although you can clearly list off the column names of the `ratings` table, it may be helpful to get an array of column names for tables with far more columns. Real-world datasets sometimes have hundreds or thousands of columns, so you may want to look at this before scrolling through the whole table. \n",
    "\n",
    "<div class=\"alert alert-warning\">\n",
    "<b>PRACTICE:</b> Look at the Python Reference Sheet again and find a method that outputs the column names of a table. Then, use it on the <code>ratings</code> table.\n",
    "    </div>"
   ]
  },
  {
   "cell_type": "code",
   "execution_count": null,
   "metadata": {},
   "outputs": [],
   "source": [
    "# find the column names of the table\n",
    "..."
   ]
  },
  {
   "cell_type": "markdown",
   "metadata": {},
   "source": [
    "Now that you are looking at the column names as strings in an array format, do you notice anything odd about any of the column names? What issue(s) might come up if you hadn't used this method to get the column labels?"
   ]
  },
  {
   "cell_type": "markdown",
   "metadata": {},
   "source": [
    "_Written Answer:_"
   ]
  },
  {
   "cell_type": "markdown",
   "metadata": {},
   "source": [
    "The \"Decade\" column was likely added to the table after all of the other columns. After all, you can look at the year and know what decade the movie was made in.\n",
    "\n",
    "<div class=\"alert alert-warning\">\n",
    "<b>PRACTICE:</b> Consider what data type the values in the \"Decade\" column might be. Then, write arithmetic that converts a given year into a decade. Be sure that this conversion becomes the same data type as the values in the \"Decade\" column. Try testing out different years in <code>year</code> to make sure your calculations are correct.\n",
    "    </div>"
   ]
  },
  {
   "cell_type": "code",
   "execution_count": null,
   "metadata": {},
   "outputs": [],
   "source": [
    "# convert year to a decade\n",
    "year = 1975\n",
    "decade = ...\n",
    "decade"
   ]
  },
  {
   "cell_type": "markdown",
   "metadata": {},
   "source": [
    "### Table Transformations <a id='subsection 1b'></a>\n",
    "\n",
    "Not all of our columns are relevant to every question we want to ask. We can save computational resources and avoid confusion by *transforming* our table before we start work.\n",
    "\n",
    "\n",
    "### `select`\n",
    "The `select` function is used to get a table containing only particular columns. `select` is called on a table using dot notation and takes one or more arguments: the name or names of the column or columns you want. Note that this *does not* change the original table. To save your changes, you must assign your change a name.\n",
    "\n",
    "<div class=\"alert alert-warning\">\n",
    "    <b>PRACTICE:</b> To confirm this, select two columns from the <code>ratings</code> table but do not assign it to a name. Then, look at the <code>ratings</code> table again to see if any changes had been made.\n",
    "    </div>"
   ]
  },
  {
   "cell_type": "code",
   "execution_count": null,
   "metadata": {},
   "outputs": [],
   "source": [
    "# make a new table with only selected columns\n",
    "..."
   ]
  },
  {
   "cell_type": "code",
   "execution_count": null,
   "metadata": {},
   "outputs": [],
   "source": [
    "# confirm that there are no changes made to the original table\n",
    "..."
   ]
  },
  {
   "cell_type": "markdown",
   "metadata": {},
   "source": [
    "### `drop`\n",
    "\n",
    "If instead you need all columns except a few, the `drop` function can get rid of specified columns. `drop` works very similarly to `select`: call it on the table using dot notation, then give it the name or names of what you want to drop.\n",
    "\n",
    "<div class=\"alert alert-warning\">\n",
    "<b>PRACTICE:</b> Drop the columns that you did not select in the previous section. Similarly, make sure that you do not assign this table to a name.\n",
    "    </div>"
   ]
  },
  {
   "cell_type": "code",
   "execution_count": null,
   "metadata": {},
   "outputs": [],
   "source": [
    "# drop the columns you didn't select earlier\n",
    "..."
   ]
  },
  {
   "cell_type": "markdown",
   "metadata": {},
   "source": [
    "### `relabeled`\n",
    "\n",
    "Other times, you may want to rename the columns of your table to make more sense. Again, you can use the dot notation with `relabeled` to accomplish this.\n",
    "\n",
    "<div class=\"alert alert-warning\">\n",
    "<b>PRACTICE:</b> In the following code cell, rename the \"Rank\" column to a name that is more descriptive of the values in the column. Take a look at the arguments it takes in the Python Reference Sheet. Unlike the previous sections, be sure to save this new table to a name like <code>ratings2</code>. This will allow us to use this exact table later.\n",
    "    </div>"
   ]
  },
  {
   "cell_type": "code",
   "execution_count": null,
   "metadata": {},
   "outputs": [],
   "source": [
    "# relabel the \"Rank\" column to a name that makes more sense\n",
    "..."
   ]
  },
  {
   "cell_type": "markdown",
   "metadata": {},
   "source": [
    "## 2. Sorting Tables <a id='section 2'></a>\n",
    "\n",
    "The last section covered `select`, `drop`, and `relabeled`. In this next section, we'll learn how we can sort and manipulate data that are placed in tables. However, it's important to know a few more pieces of information before we actually sort the data.\n",
    "\n",
    "### `show`\n",
    "\n",
    "In a table, we can display a specific amount of rows using the `show` operation. The `show` operations allows you to enter the amount of rows you want displayed from a table. This can be helpful when you want to look at a certain number of entries in your table.\n",
    "\n",
    "<div class=\"alert alert-warning\">\n",
    "    <b>PRACTICE:</b> Display the first 20 rows of the <code>ratings2</code> table.\n",
    "    </div>"
   ]
  },
  {
   "cell_type": "code",
   "execution_count": null,
   "metadata": {},
   "outputs": [],
   "source": [
    "# use show to display 20 rows\n",
    "..."
   ]
  },
  {
   "cell_type": "markdown",
   "metadata": {},
   "source": [
    "Although it's nice that you can show the first 20 rows of a table, you can see that there is no logical ordering as of right now. `sort` will alleviate that, so let's first look at the most basic usage of `sort`."
   ]
  },
  {
   "cell_type": "code",
   "execution_count": null,
   "metadata": {},
   "outputs": [],
   "source": [
    "# run this cell\n",
    "ratings2.sort(\"Year\")"
   ]
  },
  {
   "cell_type": "markdown",
   "metadata": {},
   "source": [
    "Based on this one evaluation, make a few guesses about the `sort` method.\n",
    "\n",
    "1. What does the argument in `sort` denote?\n",
    "2. How is the table sorted? Is it from lowest to highest or highest to lowest?\n",
    "3. How do you think the table will be sorted if we had instead chosen the column \"Title\"?"
   ]
  },
  {
   "cell_type": "markdown",
   "metadata": {},
   "source": [
    "_Written Answer:_"
   ]
  },
  {
   "cell_type": "markdown",
   "metadata": {},
   "source": [
    "We can answer the last question right now. Try sorting the table by the column \"Title\". Does it confirm what you suspected?"
   ]
  },
  {
   "cell_type": "code",
   "execution_count": null,
   "metadata": {},
   "outputs": [],
   "source": [
    "..."
   ]
  },
  {
   "cell_type": "markdown",
   "metadata": {},
   "source": [
    "### Another Data Type\n",
    "\n",
    "To answer these questions, it may be helpful to look at another data type. Unlike integers, floats, and strings, this data type does not fall under the numerical or word/text categories. At its core, **booleans** are `True` or `False` values.\n",
    "\n",
    "<div class=\"alert alert-warning\">\n",
    "    <b>PRACTICE:</b> Confirm this by checking the type of the variable <code>tr</code>, which is assigned to `True`. Recall that we checked data types in Report 02.\n",
    "    </div>"
   ]
  },
  {
   "cell_type": "code",
   "execution_count": null,
   "metadata": {},
   "outputs": [],
   "source": [
    "# check the data type of tr\n",
    "tr = True\n",
    "..."
   ]
  },
  {
   "cell_type": "markdown",
   "metadata": {},
   "source": [
    "### `sort`\n",
    "\n",
    "Booleans can be used to change how we sort our values when using the `sort` method. It would be helpful to switch between lowest to highest and highest to lowest, so `sort` takes in booleans as *optional arguments*. These are not necessary, but can be helpful in your analyses. Take a look at the format of `sort`.\n",
    "\n",
    "`table.sort(column_or_label, descending=False, distinct=False)`\n",
    "\n",
    "By default, `sort` organizes values in *ascending* order and allows for duplicate values. This is denoted by `descending=False` and `distinct=False`. To change either of these, you simply set `descending=True` or `distinct=True`.\n",
    "\n",
    "Let's put this into practice.\n",
    "\n",
    "<div class=\"alert alert-warning\">\n",
    "<b>PRACTICE:</b> Sort the table from the most recent release to the oldest movie in the table.\n",
    "    </div>"
   ]
  },
  {
   "cell_type": "code",
   "execution_count": null,
   "metadata": {},
   "outputs": [],
   "source": [
    "..."
   ]
  },
  {
   "cell_type": "markdown",
   "metadata": {},
   "source": [
    "<div class=\"alert alert-warning\">\n",
    "    <b>PRACTICE:</b> The movies seem to span from 1921 to 2015. How many distinct years are there in this table?\n",
    "    </div>"
   ]
  },
  {
   "cell_type": "code",
   "execution_count": null,
   "metadata": {},
   "outputs": [],
   "source": [
    "..."
   ]
  },
  {
   "cell_type": "markdown",
   "metadata": {},
   "source": [
    "_Written Answer:_"
   ]
  },
  {
   "cell_type": "markdown",
   "metadata": {},
   "source": [
    "The distinct argument only takes one row for each distinct value in the column we sort by. How do you think the computer decides which row to take?"
   ]
  },
  {
   "cell_type": "markdown",
   "metadata": {},
   "source": [
    "_Written Answer:_"
   ]
  },
  {
   "cell_type": "markdown",
   "metadata": {},
   "source": [
    "Let's now look at another column that might be of interest.\n",
    "\n",
    "<div class=\"alert alert-warning\">\n",
    "<b>PRACTICE:</b> Sort the table from highest ranked movie to lowest ranked movie.\n",
    "</div>"
   ]
  },
  {
   "cell_type": "code",
   "execution_count": null,
   "metadata": {},
   "outputs": [],
   "source": [
    "..."
   ]
  },
  {
   "cell_type": "markdown",
   "metadata": {},
   "source": [
    "Based on this table, what rankings would you consider high ratings and why? Where do the ratings seem to cap out at?"
   ]
  },
  {
   "cell_type": "markdown",
   "metadata": {},
   "source": [
    "_Written Answer:_"
   ]
  },
  {
   "cell_type": "markdown",
   "metadata": {},
   "source": [
    "It's important to look at both ends of our values and not just the range that we are interested in. This will help us understand the data that we're working with.\n",
    "\n",
    "<div class=\"alert alert-warning\">\n",
    "    <b>PRACTICE:</b> Sort the table from lowest ranked to highest ranked.\n",
    "    </div>"
   ]
  },
  {
   "cell_type": "code",
   "execution_count": null,
   "metadata": {},
   "outputs": [],
   "source": [
    "..."
   ]
  },
  {
   "cell_type": "code",
   "execution_count": null,
   "metadata": {},
   "outputs": [],
   "source": [
    "ratings2.sort(\"Rating\")"
   ]
  },
  {
   "cell_type": "markdown",
   "metadata": {},
   "source": [
    "This table's results might surprise you. Does your answer from above change? Why or why not?"
   ]
  },
  {
   "cell_type": "markdown",
   "metadata": {},
   "source": [
    "_Written Answer:_"
   ]
  },
  {
   "cell_type": "markdown",
   "metadata": {},
   "source": [
    "<div class=\"alert alert-warning\">\n",
    "    <b>PRACTICE:</b> Let's try something a bit more complicated. Find the highest ranking movie of each year. This might require assignment statements and multiple calls to <code>sort</code>. Try messing around with simple calls to <code>sort</code> or drawing out each step of this process on paper.\n",
    "</div>"
   ]
  },
  {
   "cell_type": "code",
   "execution_count": null,
   "metadata": {},
   "outputs": [],
   "source": [
    "..."
   ]
  },
  {
   "cell_type": "markdown",
   "metadata": {},
   "source": [
    "### Downloading as PDF\n",
    "\n",
    "Download this notebook as a pdf by clicking <b><code>File > Download as > PDF via LaTeX</code></b>. Turn in the PDF into bCourses under the corresponding assignment."
   ]
  },
  {
   "cell_type": "markdown",
   "metadata": {},
   "source": [
    "#### References\n",
    "\n",
    "- Sections of \"Intro to Jupyter\" and \"Table Transformation\" adapted from materials by Kelly Chen and Ashley Chien in [UC Berkeley Data Science Modules core resources](http://github.com/ds-modules/core-resources)"
   ]
  },
  {
   "cell_type": "markdown",
   "metadata": {},
   "source": [
    "Authored by Keeley Takimoto, Adapted by the BUDS Team"
   ]
  }
 ],
 "metadata": {
  "kernelspec": {
   "display_name": "Python 3 (ipykernel)",
   "language": "python",
   "name": "python3"
  },
  "language_info": {
   "codemirror_mode": {
    "name": "ipython",
    "version": 3
   },
   "file_extension": ".py",
   "mimetype": "text/x-python",
   "name": "python",
   "nbconvert_exporter": "python",
   "pygments_lexer": "ipython3",
   "version": "3.10.2"
  }
 },
 "nbformat": 4,
 "nbformat_minor": 4
}
