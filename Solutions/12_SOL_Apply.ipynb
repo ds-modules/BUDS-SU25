{
 "cells": [
  {
   "cell_type": "markdown",
   "metadata": {},
   "source": [
    "# BUDS Report 12: Apply\n",
    "\n",
    "\n",
    "### Table of Contents\n",
    "\n",
    "1.  <a href='#section 1'>Apply</a>\n",
    "    \n",
    "    \n",
    "2. <a href='#section 2'>Defining Functions</a>\n",
    "<br><br> "
   ]
  },
  {
   "cell_type": "code",
   "execution_count": 1,
   "metadata": {},
   "outputs": [],
   "source": [
    "# run this cell\n",
    "from datascience import *\n",
    "import numpy as np\n",
    "import math\n",
    "import matplotlib.pyplot as plt\n",
    "plt.style.use(\"fivethirtyeight\")\n",
    "%matplotlib inline"
   ]
  },
  {
   "cell_type": "markdown",
   "metadata": {},
   "source": [
    "## 1. Apply <a id='section 1'></a>\n",
    "\n",
    "Let's take a quick look at how the apply method works. Take a look at the image below."
   ]
  },
  {
   "cell_type": "markdown",
   "metadata": {},
   "source": [
    "<img src=\"images/apply.png\" width = 500/>"
   ]
  },
  {
   "cell_type": "markdown",
   "metadata": {},
   "source": [
    "The final line is the format of a call to the `apply` method.\n",
    "\n",
    "Let's say we have a function called `add_five`, which adds five to the value inputted. For example: `add_five(12)` evaluates to `17`.\n",
    "\n",
    "Now let's say we use the function to apply it to a dataset of people, `people`, that was made five years ago. We might want to add five to the \"ages\" column because the people in that dataset are five years older now. Instead of taking the entire column out and adding five to the array, we can use the `apply` method.\n",
    "\n",
    "Our code would look like this: `people.apply(add_five, \"ages\")`.\n",
    "\n",
    "To read it in plain English, you would say that we are telling the computer to go to the `people` table and `apply` the function `add_five` to values under `ages`.\n",
    "\n",
    "Let's try to replicate this process."
   ]
  },
  {
   "cell_type": "code",
   "execution_count": 2,
   "metadata": {
    "scrolled": true
   },
   "outputs": [
    {
     "data": {
      "text/html": [
       "<table border=\"1\" class=\"dataframe\">\n",
       "    <thead>\n",
       "        <tr>\n",
       "            <th>Person</th> <th>Birth Year</th> <th>Age</th> <th>Car Purchase</th> <th>House Purchase</th>\n",
       "        </tr>\n",
       "    </thead>\n",
       "    <tbody>\n",
       "        <tr>\n",
       "            <td>Jim    </td> <td>1985      </td> <td>37  </td> <td>2020        </td> <td>2007          </td>\n",
       "        </tr>\n",
       "        <tr>\n",
       "            <td>Pam    </td> <td>1988      </td> <td>34  </td> <td>2005        </td> <td>2013          </td>\n",
       "        </tr>\n",
       "        <tr>\n",
       "            <td>Michael</td> <td>1967      </td> <td>55  </td> <td>2003        </td> <td>1990          </td>\n",
       "        </tr>\n",
       "        <tr>\n",
       "            <td>Creed  </td> <td>1904      </td> <td>118 </td> <td>2019        </td> <td>2021          </td>\n",
       "        </tr>\n",
       "    </tbody>\n",
       "</table>"
      ],
      "text/plain": [
       "Person  | Birth Year | Age  | Car Purchase | House Purchase\n",
       "Jim     | 1985       | 37   | 2020         | 2007\n",
       "Pam     | 1988       | 34   | 2005         | 2013\n",
       "Michael | 1967       | 55   | 2003         | 1990\n",
       "Creed   | 1904       | 118  | 2019         | 2021"
      ]
     },
     "execution_count": 2,
     "metadata": {},
     "output_type": "execute_result"
    }
   ],
   "source": [
    "# create a table of people\n",
    "data_2017 = Table().with_columns(\n",
    "    'Person', make_array('Jim', 'Pam', 'Michael', 'Creed'),\n",
    "    'Birth Year', make_array(1985, 1988, 1967, 1904),\n",
    "    'Age', make_array(37, 34, 55, 118),\n",
    "    'Car Purchase', make_array(2020, 2005, 2003, 2019),\n",
    "    'House Purchase', make_array(2007, 2013, 1990, 2021)\n",
    ")\n",
    "data_2017"
   ]
  },
  {
   "cell_type": "code",
   "execution_count": 3,
   "metadata": {},
   "outputs": [],
   "source": [
    "# this cell defines the add_five function\n",
    "def add_five(x):\n",
    "    return x + 5"
   ]
  },
  {
   "cell_type": "markdown",
   "metadata": {},
   "source": [
    "<div class=\"alert alert-warning\">\n",
    "    <b>PRACTICE:</b> Convert the birth years of each individual into float values. What data type is returned?\n",
    "    </div>"
   ]
  },
  {
   "cell_type": "code",
   "execution_count": null,
   "metadata": {},
   "outputs": [],
   "source": [
    "..."
   ]
  },
  {
   "cell_type": "code",
   "execution_count": 4,
   "metadata": {},
   "outputs": [
    {
     "data": {
      "text/plain": [
       "array([1985., 1988., 1967., 1904.])"
      ]
     },
     "execution_count": 4,
     "metadata": {},
     "output_type": "execute_result"
    }
   ],
   "source": [
    "# SOLUTION\n",
    "data_2017.apply(float, 1)"
   ]
  },
  {
   "cell_type": "markdown",
   "metadata": {},
   "source": [
    "<div class=\"alert alert-warning\">\n",
    "    <b>PRACTICE:</b> Now, try finding their new ages in the cell below. Create a new table that has these values under \"Age\" and call it <code>data_2022</code>. \n",
    "</div>"
   ]
  },
  {
   "cell_type": "code",
   "execution_count": null,
   "metadata": {},
   "outputs": [],
   "source": [
    "..."
   ]
  },
  {
   "cell_type": "code",
   "execution_count": 5,
   "metadata": {},
   "outputs": [
    {
     "data": {
      "text/html": [
       "<table border=\"1\" class=\"dataframe\">\n",
       "    <thead>\n",
       "        <tr>\n",
       "            <th>Person</th> <th>Birth Year</th> <th>Age</th> <th>Car Purchase</th> <th>House Purchase</th>\n",
       "        </tr>\n",
       "    </thead>\n",
       "    <tbody>\n",
       "        <tr>\n",
       "            <td>Jim    </td> <td>1985      </td> <td>42  </td> <td>2020        </td> <td>2007          </td>\n",
       "        </tr>\n",
       "        <tr>\n",
       "            <td>Pam    </td> <td>1988      </td> <td>39  </td> <td>2005        </td> <td>2013          </td>\n",
       "        </tr>\n",
       "        <tr>\n",
       "            <td>Michael</td> <td>1967      </td> <td>60  </td> <td>2003        </td> <td>1990          </td>\n",
       "        </tr>\n",
       "        <tr>\n",
       "            <td>Creed  </td> <td>1904      </td> <td>123 </td> <td>2019        </td> <td>2021          </td>\n",
       "        </tr>\n",
       "    </tbody>\n",
       "</table>"
      ],
      "text/plain": [
       "Person  | Birth Year | Age  | Car Purchase | House Purchase\n",
       "Jim     | 1985       | 42   | 2020         | 2007\n",
       "Pam     | 1988       | 39   | 2005         | 2013\n",
       "Michael | 1967       | 60   | 2003         | 1990\n",
       "Creed   | 1904       | 123  | 2019         | 2021"
      ]
     },
     "execution_count": 5,
     "metadata": {},
     "output_type": "execute_result"
    }
   ],
   "source": [
    "# SOLUTION\n",
    "new_ages = data_2017.apply(add_five, 'Age')\n",
    "data_2022 = data_2017.with_column('Age', new_ages)\n",
    "data_2022"
   ]
  },
  {
   "cell_type": "markdown",
   "metadata": {},
   "source": [
    "You can also use functions that take in multiple arguments. To do this, you simply list *multiple* column names instead of just one. Each column's values correspond to an argument in the function.\n",
    "\n",
    "<div class=\"alert alert-warning\">\n",
    "    <b>PRACTICE:</b> Try finding the latest year that each person in the <code>data_2017</code> table made a large purchase.\n",
    "</div>"
   ]
  },
  {
   "cell_type": "code",
   "execution_count": null,
   "metadata": {},
   "outputs": [],
   "source": [
    "..."
   ]
  },
  {
   "cell_type": "code",
   "execution_count": 6,
   "metadata": {},
   "outputs": [
    {
     "data": {
      "text/plain": [
       "array([2020, 2013, 2003, 2021])"
      ]
     },
     "execution_count": 6,
     "metadata": {},
     "output_type": "execute_result"
    }
   ],
   "source": [
    "# SOLUTION\n",
    "data_2017.apply(max, 'Car Purchase', 'House Purchase')"
   ]
  },
  {
   "cell_type": "markdown",
   "metadata": {},
   "source": [
    "Well done! Although these were simple functions, you can see how helpful `apply` can be in doing quick table manipulations."
   ]
  },
  {
   "cell_type": "markdown",
   "metadata": {},
   "source": [
    "## 2. Defining Functions <a id='section 2'></a>\n",
    "\n",
    "Now let's take a look at how we might define a function. Creating our own functions is a really helpful tool because we may want to perform different actions for different datasets or when working with different companies or goals in mind. This gives us the freedom to do things ourselves, and a lot of computer science and data science use this process."
   ]
  },
  {
   "cell_type": "markdown",
   "metadata": {},
   "source": [
    "<img src=\"images/define.png\" width = 600/>"
   ]
  },
  {
   "cell_type": "code",
   "execution_count": 7,
   "metadata": {
    "scrolled": true
   },
   "outputs": [],
   "source": [
    "# run this cell to define this function\n",
    "def at_least_1980(x):\n",
    "    \"this function returns the minimum of 1980 and the given year\"\n",
    "    return max(x, 1980)"
   ]
  },
  {
   "cell_type": "markdown",
   "metadata": {},
   "source": [
    "Which part of this function is the \"name\" according to the image above?"
   ]
  },
  {
   "cell_type": "markdown",
   "metadata": {},
   "source": [
    "_Written answer:_"
   ]
  },
  {
   "cell_type": "markdown",
   "metadata": {},
   "source": [
    "What is the purpose of the second line in the code cell? Do you remember what its called?"
   ]
  },
  {
   "cell_type": "markdown",
   "metadata": {},
   "source": [
    "_Written answer:_"
   ]
  },
  {
   "cell_type": "markdown",
   "metadata": {},
   "source": [
    "<div class=\"alert alert-warning\">\n",
    "    <b>PRACTICE:</b> To see this function in action, try calling it on two different values.\n",
    "</div>"
   ]
  },
  {
   "cell_type": "code",
   "execution_count": null,
   "metadata": {},
   "outputs": [],
   "source": [
    "# below 1980\n",
    "..."
   ]
  },
  {
   "cell_type": "code",
   "execution_count": null,
   "metadata": {},
   "outputs": [],
   "source": [
    "# above 1980\n",
    "..."
   ]
  },
  {
   "cell_type": "code",
   "execution_count": 8,
   "metadata": {},
   "outputs": [
    {
     "name": "stdout",
     "output_type": "stream",
     "text": [
      "1980\n",
      "2000\n"
     ]
    }
   ],
   "source": [
    "# SOLUTION\n",
    "print(at_least_1980(1970))\n",
    "print(at_least_1980(2000))"
   ]
  },
  {
   "cell_type": "markdown",
   "metadata": {},
   "source": [
    "<div class=\"alert alert-warning\">\n",
    "    <b>PRACTICE:</b> Our data seems to have an issue in that one individual's age is 123 years. Let's say we know that our data system includes people born in the year 1980 or later. We'll assume that this individual is as old as our system allows. Update the table's \"Birth Year\" column.\n",
    "</div>"
   ]
  },
  {
   "cell_type": "code",
   "execution_count": null,
   "metadata": {},
   "outputs": [],
   "source": [
    "..."
   ]
  },
  {
   "cell_type": "code",
   "execution_count": 9,
   "metadata": {},
   "outputs": [
    {
     "data": {
      "text/html": [
       "<table border=\"1\" class=\"dataframe\">\n",
       "    <thead>\n",
       "        <tr>\n",
       "            <th>Person</th> <th>Birth Year</th> <th>Age</th> <th>Car Purchase</th> <th>House Purchase</th>\n",
       "        </tr>\n",
       "    </thead>\n",
       "    <tbody>\n",
       "        <tr>\n",
       "            <td>Jim    </td> <td>1985      </td> <td>42  </td> <td>2020        </td> <td>2007          </td>\n",
       "        </tr>\n",
       "        <tr>\n",
       "            <td>Pam    </td> <td>1988      </td> <td>39  </td> <td>2005        </td> <td>2013          </td>\n",
       "        </tr>\n",
       "        <tr>\n",
       "            <td>Michael</td> <td>1980      </td> <td>60  </td> <td>2003        </td> <td>1990          </td>\n",
       "        </tr>\n",
       "        <tr>\n",
       "            <td>Creed  </td> <td>1980      </td> <td>123 </td> <td>2019        </td> <td>2021          </td>\n",
       "        </tr>\n",
       "    </tbody>\n",
       "</table>"
      ],
      "text/plain": [
       "Person  | Birth Year | Age  | Car Purchase | House Purchase\n",
       "Jim     | 1985       | 42   | 2020         | 2007\n",
       "Pam     | 1988       | 39   | 2005         | 2013\n",
       "Michael | 1980       | 60   | 2003         | 1990\n",
       "Creed   | 1980       | 123  | 2019         | 2021"
      ]
     },
     "execution_count": 9,
     "metadata": {},
     "output_type": "execute_result"
    }
   ],
   "source": [
    "# SOLUTION\n",
    "new_yrs = data_2022.apply(at_least_1980, 'Birth Year')\n",
    "data_2022 = data_2022.with_column('Birth Year', new_yrs)\n",
    "data_2022"
   ]
  },
  {
   "cell_type": "markdown",
   "metadata": {},
   "source": [
    "<div class=\"alert alert-warning\">\n",
    "    <b>PRACTICE:</b> Now, we can see that the ages are wrong. Create a function that takes in a year and returns the age of the person.\n",
    "</div>"
   ]
  },
  {
   "cell_type": "code",
   "execution_count": null,
   "metadata": {},
   "outputs": [],
   "source": [
    "..."
   ]
  },
  {
   "cell_type": "code",
   "execution_count": 10,
   "metadata": {},
   "outputs": [],
   "source": [
    "# SOLUTION\n",
    "def find_age(year):\n",
    "    \"finds a person's age in the year 2022\"\n",
    "    return 2022 - year"
   ]
  },
  {
   "cell_type": "code",
   "execution_count": null,
   "metadata": {},
   "outputs": [],
   "source": [
    "# check that it calculates your age in this cell\n",
    "..."
   ]
  },
  {
   "cell_type": "markdown",
   "metadata": {},
   "source": [
    "<div class=\"alert alert-warning\">\n",
    "    <b>PRACTICE:</b> Use <code>apply</code> and the function above to update the \"Age\" column in our table.\n",
    "</div>"
   ]
  },
  {
   "cell_type": "code",
   "execution_count": null,
   "metadata": {},
   "outputs": [],
   "source": [
    "..."
   ]
  },
  {
   "cell_type": "code",
   "execution_count": 11,
   "metadata": {},
   "outputs": [
    {
     "data": {
      "text/html": [
       "<table border=\"1\" class=\"dataframe\">\n",
       "    <thead>\n",
       "        <tr>\n",
       "            <th>Person</th> <th>Birth Year</th> <th>Age</th> <th>Car Purchase</th> <th>House Purchase</th>\n",
       "        </tr>\n",
       "    </thead>\n",
       "    <tbody>\n",
       "        <tr>\n",
       "            <td>Jim    </td> <td>1985      </td> <td>37  </td> <td>2020        </td> <td>2007          </td>\n",
       "        </tr>\n",
       "        <tr>\n",
       "            <td>Pam    </td> <td>1988      </td> <td>34  </td> <td>2005        </td> <td>2013          </td>\n",
       "        </tr>\n",
       "        <tr>\n",
       "            <td>Michael</td> <td>1980      </td> <td>42  </td> <td>2003        </td> <td>1990          </td>\n",
       "        </tr>\n",
       "        <tr>\n",
       "            <td>Creed  </td> <td>1980      </td> <td>42  </td> <td>2019        </td> <td>2021          </td>\n",
       "        </tr>\n",
       "    </tbody>\n",
       "</table>"
      ],
      "text/plain": [
       "Person  | Birth Year | Age  | Car Purchase | House Purchase\n",
       "Jim     | 1985       | 37   | 2020         | 2007\n",
       "Pam     | 1988       | 34   | 2005         | 2013\n",
       "Michael | 1980       | 42   | 2003         | 1990\n",
       "Creed   | 1980       | 42   | 2019         | 2021"
      ]
     },
     "execution_count": 11,
     "metadata": {},
     "output_type": "execute_result"
    }
   ],
   "source": [
    "# SOLUTION\n",
    "new_ages = data_2022.apply(find_age, 'Birth Year')\n",
    "data_2022 = data_2022.with_column('Age', new_ages)\n",
    "data_2022"
   ]
  },
  {
   "cell_type": "markdown",
   "metadata": {},
   "source": [
    "<div class=\"alert alert-warning\">\n",
    "    <b>PRACTICE:</b> Finally, let's create one more function. Suppose a car's yearly payment is \\$5,000 regardless of when it was purchased, and a house's yearly payment is \\$10,000 regardless of when it was purchased. Create <b>one</b> function that finds out how much an individual has paid since purchasing each item.\n",
    "</div>"
   ]
  },
  {
   "cell_type": "code",
   "execution_count": null,
   "metadata": {},
   "outputs": [],
   "source": [
    "..."
   ]
  },
  {
   "cell_type": "code",
   "execution_count": 12,
   "metadata": {},
   "outputs": [],
   "source": [
    "# SOLUTION\n",
    "def payments(car, house):\n",
    "    return (2022 - car) * 5000 + (2022 - house) * 10000"
   ]
  },
  {
   "cell_type": "code",
   "execution_count": null,
   "metadata": {},
   "outputs": [],
   "source": [
    "# call the function for an individual who ...\n",
    "# purchased a car in 2002 and a house in 2021\n",
    "# what number should you get?\n",
    "..."
   ]
  },
  {
   "cell_type": "markdown",
   "metadata": {},
   "source": [
    "<div class=\"alert alert-warning\">\n",
    "    <b>PRACTICE:</b> Now, use that function to add a column to our table called \"Payments\".\n",
    "</div>"
   ]
  },
  {
   "cell_type": "code",
   "execution_count": null,
   "metadata": {},
   "outputs": [],
   "source": [
    "..."
   ]
  },
  {
   "cell_type": "code",
   "execution_count": 13,
   "metadata": {},
   "outputs": [
    {
     "data": {
      "text/html": [
       "<table border=\"1\" class=\"dataframe\">\n",
       "    <thead>\n",
       "        <tr>\n",
       "            <th>Person</th> <th>Birth Year</th> <th>Age</th> <th>Car Purchase</th> <th>House Purchase</th> <th>Payments</th>\n",
       "        </tr>\n",
       "    </thead>\n",
       "    <tbody>\n",
       "        <tr>\n",
       "            <td>Jim    </td> <td>1985      </td> <td>37  </td> <td>2020        </td> <td>2007          </td> <td>160000  </td>\n",
       "        </tr>\n",
       "        <tr>\n",
       "            <td>Pam    </td> <td>1988      </td> <td>34  </td> <td>2005        </td> <td>2013          </td> <td>175000  </td>\n",
       "        </tr>\n",
       "        <tr>\n",
       "            <td>Michael</td> <td>1980      </td> <td>42  </td> <td>2003        </td> <td>1990          </td> <td>415000  </td>\n",
       "        </tr>\n",
       "        <tr>\n",
       "            <td>Creed  </td> <td>1980      </td> <td>42  </td> <td>2019        </td> <td>2021          </td> <td>25000   </td>\n",
       "        </tr>\n",
       "    </tbody>\n",
       "</table>"
      ],
      "text/plain": [
       "Person  | Birth Year | Age  | Car Purchase | House Purchase | Payments\n",
       "Jim     | 1985       | 37   | 2020         | 2007           | 160000\n",
       "Pam     | 1988       | 34   | 2005         | 2013           | 175000\n",
       "Michael | 1980       | 42   | 2003         | 1990           | 415000\n",
       "Creed   | 1980       | 42   | 2019         | 2021           | 25000"
      ]
     },
     "execution_count": 13,
     "metadata": {},
     "output_type": "execute_result"
    }
   ],
   "source": [
    "# SOLUTION\n",
    "pay = data_2022.apply(payments, 'Car Purchase', 'House Purchase')\n",
    "data_2022 = data_2022.with_column('Payments', pay)\n",
    "data_2022"
   ]
  },
  {
   "cell_type": "markdown",
   "metadata": {},
   "source": [
    "Congratulations! Now, we know how to use the apply function and create another column using existing data! Defining functions is a big concept, so don't worry if it doesn't feel intuitive at first."
   ]
  },
  {
   "cell_type": "markdown",
   "metadata": {},
   "source": [
    "### Downloading as PDF\n",
    "\n",
    "Download this notebook as a pdf by clicking <b><code>File > Download as > PDF via LaTeX (.pdf)</code></b>. Turn in the PDF into bCourses under the corresponding assignment."
   ]
  },
  {
   "cell_type": "markdown",
   "metadata": {},
   "source": [
    "Adapted from Data 8, Spring 2020 Lecture 9 and Lab 4"
   ]
  }
 ],
 "metadata": {
  "kernelspec": {
   "display_name": "Python 3 (ipykernel)",
   "language": "python",
   "name": "python3"
  },
  "language_info": {
   "codemirror_mode": {
    "name": "ipython",
    "version": 3
   },
   "file_extension": ".py",
   "mimetype": "text/x-python",
   "name": "python",
   "nbconvert_exporter": "python",
   "pygments_lexer": "ipython3",
   "version": "3.10.2"
  }
 },
 "nbformat": 4,
 "nbformat_minor": 4
}
