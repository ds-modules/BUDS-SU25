{
 "cells": [
  {
   "cell_type": "markdown",
   "metadata": {},
   "source": [
    "# BUDS Report 06: Table Practice\n",
    "\n",
    "### Table of Contents\n",
    "1. <a href='#section 1'>Creating Tables</a>\n",
    "2. <a href='#section 2'>Accessing Columns</a>\n",
    "3. <a href='#section 3'>Column Arithmetic</a>\n",
    "4. <a href='#section 4'>The CES Data Set Again</a>"
   ]
  },
  {
   "cell_type": "code",
   "execution_count": 1,
   "metadata": {},
   "outputs": [],
   "source": [
    "# run this cell\n",
    "from datascience import *\n",
    "import numpy as np\n",
    "import math\n",
    "import matplotlib.pyplot as plt\n",
    "plt.style.use('fivethirtyeight')\n",
    "%matplotlib inline"
   ]
  },
  {
   "cell_type": "markdown",
   "metadata": {},
   "source": [
    "## 1. Creating Tables <a id='section 1'></a>\n",
    "\n",
    "Arrays represent individual columns, but tables allow us to compare items across rows. You can organize arrays into tables to make comparisons easier. Let's breakdown the first example (which you see in the following two code cells):\n",
    "- It creates an empty table using the expression `Table()`,\n",
    "- adds two columns by calling `with_columns` with four arguments (separated by commas),\n",
    "- assigns the result to the name `fruits`, and finally\n",
    "- evaluates `fruits` so that you can see the table.\n",
    "\n",
    "The function `with_columns` takes in alternating strings (denoting column labels) and arrays (representing the data in those columns). The strings \"fruit names\" and \"count\" are the column labels that have been chosen, and the variables `fruit_names` and `count` are two arrays of the same length. "
   ]
  },
  {
   "cell_type": "code",
   "execution_count": 2,
   "metadata": {},
   "outputs": [],
   "source": [
    "fruit_names = make_array(\"apple\",\"orange\", \"pineapple\")\n",
    "count = make_array(4, 3, 3)"
   ]
  },
  {
   "cell_type": "code",
   "execution_count": 3,
   "metadata": {},
   "outputs": [
    {
     "data": {
      "text/html": [
       "<table border=\"1\" class=\"dataframe\">\n",
       "    <thead>\n",
       "        <tr>\n",
       "            <th>fruit names</th> <th>count</th>\n",
       "        </tr>\n",
       "    </thead>\n",
       "    <tbody>\n",
       "        <tr>\n",
       "            <td>apple      </td> <td>4    </td>\n",
       "        </tr>\n",
       "        <tr>\n",
       "            <td>orange     </td> <td>3    </td>\n",
       "        </tr>\n",
       "        <tr>\n",
       "            <td>pineapple  </td> <td>3    </td>\n",
       "        </tr>\n",
       "    </tbody>\n",
       "</table>"
      ],
      "text/plain": [
       "fruit names | count\n",
       "apple       | 4\n",
       "orange      | 3\n",
       "pineapple   | 3"
      ]
     },
     "execution_count": 3,
     "metadata": {},
     "output_type": "execute_result"
    }
   ],
   "source": [
    "fruits = Table().with_columns(\n",
    "    \"fruit names\", fruit_names,\n",
    "    \"count\", count)\n",
    "fruits"
   ]
  },
  {
   "cell_type": "markdown",
   "metadata": {},
   "source": [
    "<div class=\"alert alert-warning\">\n",
    "    <b>PRACTICE:</b> You can add more to this table by referencing the existing table <code>fruits</code>. Let's add a column named \"price\" using the <code>prices</code> array below. Name the new table <code>fruits_price</code>.\n",
    "    </div>\n",
    "    \n",
    "Notice that the `prices_array` has 3 items in it, which is the same length as the number of rows in the fruits table."
   ]
  },
  {
   "cell_type": "code",
   "execution_count": 4,
   "metadata": {},
   "outputs": [
    {
     "data": {
      "text/plain": [
       "array([0.79, 1.1 , 1.59])"
      ]
     },
     "execution_count": 4,
     "metadata": {},
     "output_type": "execute_result"
    }
   ],
   "source": [
    "prices = make_array(0.79, 1.10, 1.59)\n",
    "prices"
   ]
  },
  {
   "cell_type": "code",
   "execution_count": null,
   "metadata": {},
   "outputs": [],
   "source": [
    "fruits_price = fruits.with_column(\n",
    "    \"...\", ...)\n",
    "fruits_price"
   ]
  },
  {
   "cell_type": "code",
   "execution_count": 5,
   "metadata": {},
   "outputs": [
    {
     "data": {
      "text/html": [
       "<table border=\"1\" class=\"dataframe\">\n",
       "    <thead>\n",
       "        <tr>\n",
       "            <th>fruit names</th> <th>count</th> <th>price</th>\n",
       "        </tr>\n",
       "    </thead>\n",
       "    <tbody>\n",
       "        <tr>\n",
       "            <td>apple      </td> <td>4    </td> <td>0.79 </td>\n",
       "        </tr>\n",
       "        <tr>\n",
       "            <td>orange     </td> <td>3    </td> <td>1.1  </td>\n",
       "        </tr>\n",
       "        <tr>\n",
       "            <td>pineapple  </td> <td>3    </td> <td>1.59 </td>\n",
       "        </tr>\n",
       "    </tbody>\n",
       "</table>"
      ],
      "text/plain": [
       "fruit names | count | price\n",
       "apple       | 4     | 0.79\n",
       "orange      | 3     | 1.1\n",
       "pineapple   | 3     | 1.59"
      ]
     },
     "execution_count": 5,
     "metadata": {},
     "output_type": "execute_result"
    }
   ],
   "source": [
    "# SOLUTION\n",
    "fruits_price = fruits.with_column(\n",
    "    \"price\", prices)\n",
    "fruits_price"
   ]
  },
  {
   "cell_type": "markdown",
   "metadata": {},
   "source": [
    "You can also add columns to a table by inserting the array *within* `with_columns`. \n",
    "\n",
    "<div class=\"alert alert-warning\">\n",
    "    <b>PRACTICE:</b> Fill in the missing code, so that the table called <code>fruit_availability</code> has 4 columns. Its columns should be \"fruit names\", \"count\", \"price\", and \"available\". The column \"available\" represents whether the fruit is available at Store X.\n",
    "    </div>"
   ]
  },
  {
   "cell_type": "code",
   "execution_count": null,
   "metadata": {},
   "outputs": [],
   "source": [
    "fruit_availability = ...with_columns(\n",
    "    \"...\", make_array(True, False, True)) \n",
    "fruit_availability"
   ]
  },
  {
   "cell_type": "code",
   "execution_count": 6,
   "metadata": {},
   "outputs": [
    {
     "data": {
      "text/html": [
       "<table border=\"1\" class=\"dataframe\">\n",
       "    <thead>\n",
       "        <tr>\n",
       "            <th>fruit names</th> <th>count</th> <th>price</th> <th>available</th>\n",
       "        </tr>\n",
       "    </thead>\n",
       "    <tbody>\n",
       "        <tr>\n",
       "            <td>apple      </td> <td>4    </td> <td>0.79 </td> <td>1        </td>\n",
       "        </tr>\n",
       "        <tr>\n",
       "            <td>orange     </td> <td>3    </td> <td>1.1  </td> <td>0        </td>\n",
       "        </tr>\n",
       "        <tr>\n",
       "            <td>pineapple  </td> <td>3    </td> <td>1.59 </td> <td>1        </td>\n",
       "        </tr>\n",
       "    </tbody>\n",
       "</table>"
      ],
      "text/plain": [
       "fruit names | count | price | available\n",
       "apple       | 4     | 0.79  | 1\n",
       "orange      | 3     | 1.1   | 0\n",
       "pineapple   | 3     | 1.59  | 1"
      ]
     },
     "execution_count": 6,
     "metadata": {},
     "output_type": "execute_result"
    }
   ],
   "source": [
    "# SOLUTION\n",
    "fruit_availability = fruits_price.with_columns(\n",
    "    \"available\", make_array(True, False, True)) \n",
    "fruit_availability"
   ]
  },
  {
   "cell_type": "markdown",
   "metadata": {},
   "source": [
    "<div class=\"alert alert-warning\">\n",
    "    <b>PRACTICE:</b> Recall that you can perform other operations on this new table. Sort the prices from least expensive to most expensive and call the resulting table <code>sorted_fruits</code>.\n",
    "    </div>"
   ]
  },
  {
   "cell_type": "code",
   "execution_count": null,
   "metadata": {},
   "outputs": [],
   "source": [
    "sorted_fruits = ...\n",
    "sorted_fruits"
   ]
  },
  {
   "cell_type": "code",
   "execution_count": 7,
   "metadata": {},
   "outputs": [
    {
     "data": {
      "text/html": [
       "<table border=\"1\" class=\"dataframe\">\n",
       "    <thead>\n",
       "        <tr>\n",
       "            <th>fruit names</th> <th>count</th> <th>price</th> <th>available</th>\n",
       "        </tr>\n",
       "    </thead>\n",
       "    <tbody>\n",
       "        <tr>\n",
       "            <td>apple      </td> <td>4    </td> <td>0.79 </td> <td>1        </td>\n",
       "        </tr>\n",
       "        <tr>\n",
       "            <td>orange     </td> <td>3    </td> <td>1.1  </td> <td>0        </td>\n",
       "        </tr>\n",
       "        <tr>\n",
       "            <td>pineapple  </td> <td>3    </td> <td>1.59 </td> <td>1        </td>\n",
       "        </tr>\n",
       "    </tbody>\n",
       "</table>"
      ],
      "text/plain": [
       "fruit names | count | price | available\n",
       "apple       | 4     | 0.79  | 1\n",
       "orange      | 3     | 1.1   | 0\n",
       "pineapple   | 3     | 1.59  | 1"
      ]
     },
     "execution_count": 7,
     "metadata": {},
     "output_type": "execute_result"
    }
   ],
   "source": [
    "# SOLUTION\n",
    "sorted_fruits = fruit_availability.sort(\"price\")\n",
    "sorted_fruits"
   ]
  },
  {
   "cell_type": "markdown",
   "metadata": {},
   "source": [
    "## 2. Accessing Columns <a id='section 2'></a>\n",
    "\n",
    "`column` takes the column name of a table and returns the values in that column as an array.\n",
    "\n",
    "You can get the \"available\" column from the `fruit_availability` table above. See the code below. It extracts the \"available\" column from the `fruit_availability` table as an array and gives it the name `availability_array`."
   ]
  },
  {
   "cell_type": "code",
   "execution_count": 8,
   "metadata": {},
   "outputs": [
    {
     "data": {
      "text/plain": [
       "array([1, 0, 1])"
      ]
     },
     "execution_count": 8,
     "metadata": {},
     "output_type": "execute_result"
    }
   ],
   "source": [
    "availability_array = fruit_availability.column(\"available\")\n",
    "availability_array"
   ]
  },
  {
   "cell_type": "markdown",
   "metadata": {},
   "source": [
    "Extracting columns from tables is useful because it allows us to perform calculations on columns *in* our tables.\n",
    "\n",
    "<div class=\"alert alert-warning\">\n",
    "    <b>PRACTICE:</b> Assuming all fruits are available in Store X, you want to buy one of each fruit. How much will this cost us? Use the <code>fruits_price</code> table and not the <code>prices_array</code>. Assign the sum to the name <code>total_cost</code>.\n",
    "</div>"
   ]
  },
  {
   "cell_type": "code",
   "execution_count": null,
   "metadata": {},
   "outputs": [],
   "source": [
    "total_cost = ...\n",
    "total_cost"
   ]
  },
  {
   "cell_type": "code",
   "execution_count": 9,
   "metadata": {},
   "outputs": [
    {
     "data": {
      "text/plain": [
       "3.4800000000000004"
      ]
     },
     "execution_count": 9,
     "metadata": {},
     "output_type": "execute_result"
    }
   ],
   "source": [
    "# SOLUTION\n",
    "total_cost = sum(fruits_price.column(\"price\"))\n",
    "total_cost"
   ]
  },
  {
   "cell_type": "markdown",
   "metadata": {},
   "source": [
    "## 3. Column Arithmetic <a id='section 3'></a>\n",
    "\n",
    "If you perform an arithmetic operation on an array, Python will do the operation to every element of the array individually and return an array of all of the results. For example, say there was a new tax on fruit of 40 cents. You can add to the array of values like so."
   ]
  },
  {
   "cell_type": "code",
   "execution_count": 10,
   "metadata": {},
   "outputs": [
    {
     "data": {
      "text/plain": [
       "array([1.19, 1.5 , 1.99])"
      ]
     },
     "execution_count": 10,
     "metadata": {},
     "output_type": "execute_result"
    }
   ],
   "source": [
    "new_prices = fruit_availability.column(\"price\") + 0.40\n",
    "new_prices"
   ]
  },
  {
   "cell_type": "markdown",
   "metadata": {},
   "source": [
    "<div class=\"alert alert-warning\">\n",
    "    <b>PRACTICE:</b> Store X just received a new shipment of fruit and has doubled the amount of each fruit. Create an array called <code>new_count</code>, which has double the number of fruits from <code>count</code>. To do so, get the array from the <code>fruit_availability</code> table.\n",
    "    </div>"
   ]
  },
  {
   "cell_type": "code",
   "execution_count": null,
   "metadata": {},
   "outputs": [],
   "source": [
    "new_count = fruit_availability...(\"...\") * 2\n",
    "new_count"
   ]
  },
  {
   "cell_type": "code",
   "execution_count": 11,
   "metadata": {},
   "outputs": [
    {
     "data": {
      "text/plain": [
       "array([8, 6, 6])"
      ]
     },
     "execution_count": 11,
     "metadata": {},
     "output_type": "execute_result"
    }
   ],
   "source": [
    "# SOLUTION\n",
    "new_count = fruit_availability.column(\"count\") * 2\n",
    "new_count"
   ]
  },
  {
   "cell_type": "markdown",
   "metadata": {},
   "source": [
    "<div class=\"alert alert-warning\">\n",
    "    <b>PRACTICE:</b> Let's add this array to the <code>fruit_availability</code> table. Add the column and call it \"new count\". Assign this new table to the name <code>updated_fruits</code>.\n",
    "    </div>"
   ]
  },
  {
   "cell_type": "code",
   "execution_count": null,
   "metadata": {},
   "outputs": [],
   "source": [
    "updated_fruits = ...\n",
    "updated_fruits"
   ]
  },
  {
   "cell_type": "code",
   "execution_count": 12,
   "metadata": {},
   "outputs": [
    {
     "data": {
      "text/html": [
       "<table border=\"1\" class=\"dataframe\">\n",
       "    <thead>\n",
       "        <tr>\n",
       "            <th>fruit names</th> <th>count</th> <th>price</th> <th>available</th> <th>new count</th>\n",
       "        </tr>\n",
       "    </thead>\n",
       "    <tbody>\n",
       "        <tr>\n",
       "            <td>apple      </td> <td>4    </td> <td>0.79 </td> <td>1        </td> <td>8        </td>\n",
       "        </tr>\n",
       "        <tr>\n",
       "            <td>orange     </td> <td>3    </td> <td>1.1  </td> <td>0        </td> <td>6        </td>\n",
       "        </tr>\n",
       "        <tr>\n",
       "            <td>pineapple  </td> <td>3    </td> <td>1.59 </td> <td>1        </td> <td>6        </td>\n",
       "        </tr>\n",
       "    </tbody>\n",
       "</table>"
      ],
      "text/plain": [
       "fruit names | count | price | available | new count\n",
       "apple       | 4     | 0.79  | 1         | 8\n",
       "orange      | 3     | 1.1   | 0         | 6\n",
       "pineapple   | 3     | 1.59  | 1         | 6"
      ]
     },
     "execution_count": 12,
     "metadata": {},
     "output_type": "execute_result"
    }
   ],
   "source": [
    "# SOLUTION\n",
    "updated_fruits = fruit_availability.with_columns(\n",
    "    \"new count\", new_count)\n",
    "updated_fruits"
   ]
  },
  {
   "cell_type": "markdown",
   "metadata": {},
   "source": [
    "<div class=\"alert alert-warning\">\n",
    "    <b>PRACTICE:</b> For the final table, you only want 3 columns: \"fruit names\", \"new count\", and \"price\". Once you've selected only those columns, sort the prices from most expensive to least expensive.\n",
    "    </div>"
   ]
  },
  {
   "cell_type": "code",
   "execution_count": null,
   "metadata": {},
   "outputs": [],
   "source": [
    "final_fruits = updated_fruits...(\"...\", \"new count\", \"...\").sort(\"...\", descending = ...)\n",
    "final_fruits"
   ]
  },
  {
   "cell_type": "code",
   "execution_count": 13,
   "metadata": {},
   "outputs": [
    {
     "data": {
      "text/html": [
       "<table border=\"1\" class=\"dataframe\">\n",
       "    <thead>\n",
       "        <tr>\n",
       "            <th>fruit names</th> <th>new count</th> <th>price</th>\n",
       "        </tr>\n",
       "    </thead>\n",
       "    <tbody>\n",
       "        <tr>\n",
       "            <td>pineapple  </td> <td>6        </td> <td>1.59 </td>\n",
       "        </tr>\n",
       "        <tr>\n",
       "            <td>orange     </td> <td>6        </td> <td>1.1  </td>\n",
       "        </tr>\n",
       "        <tr>\n",
       "            <td>apple      </td> <td>8        </td> <td>0.79 </td>\n",
       "        </tr>\n",
       "    </tbody>\n",
       "</table>"
      ],
      "text/plain": [
       "fruit names | new count | price\n",
       "pineapple   | 6         | 1.59\n",
       "orange      | 6         | 1.1\n",
       "apple       | 8         | 0.79"
      ]
     },
     "execution_count": 13,
     "metadata": {},
     "output_type": "execute_result"
    }
   ],
   "source": [
    "# SOLUTION\n",
    "final_fruits = updated_fruits.select(\"fruit names\", \"new count\", \"price\").sort(\"price\", descending=True)\n",
    "final_fruits"
   ]
  },
  {
   "cell_type": "markdown",
   "metadata": {},
   "source": [
    "## 4. The CES Data Set Again <a id='section 4'></a>\n",
    "\n",
    "Now that you have an idea of how to update columns within a table, you can do some exploration with real-world data. Here, you'll revisit the CalEnviroScreen dataset. Reference the shared document in which your team collected background information. Feel free to look back at [Report 04](https://highschool.datahub.berkeley.edu/hub/user-redirect/git-pull?repo=https%3A%2F%2Fgithub.com%2Fds-modules%2FBUDS-SU23&urlpath=tree%2FBUDS-SU23%2FWeek-1%2F4_Tables-Pt-2.ipynb&branch=main) or the more in-depth [CalEnviroScreen report](https://oehha.ca.gov/media/downloads/calenviroscreen/report/calenviroscreen40reportf2021.pdf)."
   ]
  },
  {
   "cell_type": "code",
   "execution_count": 14,
   "metadata": {},
   "outputs": [
    {
     "data": {
      "text/html": [
       "<table border=\"1\" class=\"dataframe\">\n",
       "    <thead>\n",
       "        <tr>\n",
       "            <th>Census.Tract</th> <th>CES.3.0.Score</th> <th>Total.Population</th> <th>California.County</th> <th>Hispanic....</th> <th>White....</th> <th>African.American....</th> <th>Native.American....</th> <th>Asian.American....</th> <th>Other....</th> <th>ZIP</th> <th>Longitude</th> <th>Latitude</th> <th>Ozone</th> <th>PM2.5</th> <th>Diesel.PM</th> <th>Drinking.Water</th> <th>Pesticides</th> <th>Tox..Release</th> <th>Traffic</th> <th>Cleanup.Sites</th> <th>Groundwater.Threats</th> <th>Haz..Waste</th> <th>Imp..Water.Bodies</th> <th>Solid.Waste</th> <th>Pollution.Burden</th> <th>Asthma</th> <th>Low.Birth.Weight</th> <th>Poverty</th> <th>Unemployment</th>\n",
       "        </tr>\n",
       "    </thead>\n",
       "    <tbody>\n",
       "        <tr>\n",
       "            <td>6019001100  </td> <td>94.09        </td> <td>3174            </td> <td>Fresno           </td> <td>65.3        </td> <td>4.2      </td> <td>24.6                </td> <td>0.5                </td> <td>3.5               </td> <td>1.8      </td> <td>93706</td> <td>-119.782 </td> <td>36.7097 </td> <td>0.065</td> <td>15.4 </td> <td>48.524   </td> <td>681.2         </td> <td>2.75      </td> <td>18552       </td> <td>909.14 </td> <td>80.5         </td> <td>45.75              </td> <td>0.795     </td> <td>0                </td> <td>21.75      </td> <td>79.96           </td> <td>131.64</td> <td>7.44            </td> <td>76.3   </td> <td>17.6        </td>\n",
       "        </tr>\n",
       "        <tr>\n",
       "            <td>6071001600  </td> <td>90.68        </td> <td>6133            </td> <td>San Bernardino   </td> <td>91.1        </td> <td>5.8      </td> <td>0.7                 </td> <td>0.3                </td> <td>1.4               </td> <td>0.7      </td> <td>91761</td> <td>-117.618 </td> <td>34.0578 </td> <td>0.062</td> <td>13.31</td> <td>38.556   </td> <td>904.66        </td> <td>1.37      </td> <td>7494.24     </td> <td>782.26 </td> <td>66.2         </td> <td>36                 </td> <td>1.25      </td> <td>5                </td> <td>12         </td> <td>81.19           </td> <td>60.66 </td> <td>7.04            </td> <td>72.5   </td> <td>12.3        </td>\n",
       "        </tr>\n",
       "        <tr>\n",
       "            <td>6019000200  </td> <td>85.97        </td> <td>3167            </td> <td>Fresno           </td> <td>63.6        </td> <td>5.3      </td> <td>18.9                </td> <td>0.6                </td> <td>9.8               </td> <td>1.8      </td> <td>93706</td> <td>-119.806 </td> <td>36.7355 </td> <td>0.062</td> <td>15.4 </td> <td>47.445   </td> <td>681.2         </td> <td>3.03      </td> <td>12454.9     </td> <td>576.52 </td> <td>22           </td> <td>30.25              </td> <td>0.2       </td> <td>0                </td> <td>2.5        </td> <td>71.16           </td> <td>142.12</td> <td>10.16           </td> <td>86.8   </td> <td>16.1        </td>\n",
       "        </tr>\n",
       "        <tr>\n",
       "            <td>6077000801  </td> <td>82.49        </td> <td>6692            </td> <td>San Joaquin      </td> <td>57.4        </td> <td>6        </td> <td>12.5                </td> <td>0.3                </td> <td>20.9              </td> <td>2.8      </td> <td>95203</td> <td>-121.315 </td> <td>37.9405 </td> <td>0.046</td> <td>12.54</td> <td>24.117   </td> <td>278.76        </td> <td>12.93     </td> <td>2387.78     </td> <td>1305.01</td> <td>50.1         </td> <td>132.1              </td> <td>0.795     </td> <td>19               </td> <td>27         </td> <td>74.48           </td> <td>142.17</td> <td>6.23            </td> <td>61.3   </td> <td>19.6        </td>\n",
       "        </tr>\n",
       "        <tr>\n",
       "            <td>6019001500  </td> <td>82.03        </td> <td>2206            </td> <td>Fresno           </td> <td>71.8        </td> <td>21.4     </td> <td>1.2                 </td> <td>0.5                </td> <td>4.5               </td> <td>0.6      </td> <td>93725</td> <td>-119.718 </td> <td>36.6816 </td> <td>0.065</td> <td>15.4 </td> <td>18.846   </td> <td>1000.24       </td> <td>3518.41   </td> <td>21790.7     </td> <td>435.16 </td> <td>60           </td> <td>54.2               </td> <td>13.1      </td> <td>0                </td> <td>50.8       </td> <td>80.2            </td> <td>90.48 </td> <td>4.5             </td> <td>66.4   </td> <td>18.6        </td>\n",
       "        </tr>\n",
       "        <tr>\n",
       "            <td>6037204920  </td> <td>80.73        </td> <td>2598            </td> <td>Los Angeles      </td> <td>98.1        </td> <td>1.2      </td> <td>0.1                 </td> <td>0.1                </td> <td>0.2               </td> <td>0.3      </td> <td>90023</td> <td>-118.197 </td> <td>34.0175 </td> <td>0.046</td> <td>12.89</td> <td>56.52    </td> <td>714.48        </td> <td>0         </td> <td>39040.2     </td> <td>2943.44</td> <td>36.7         </td> <td>25                 </td> <td>4.93      </td> <td>7                </td> <td>3.85       </td> <td>76.73           </td> <td>68.74 </td> <td>7.35            </td> <td>66.4   </td> <td>11.6        </td>\n",
       "        </tr>\n",
       "        <tr>\n",
       "            <td>6077000300  </td> <td>80.18        </td> <td>2396            </td> <td>San Joaquin      </td> <td>51.8        </td> <td>16.4     </td> <td>16.4                </td> <td>1.3                </td> <td>9.9               </td> <td>4.1      </td> <td>95203</td> <td>-121.302 </td> <td>37.9524 </td> <td>0.046</td> <td>13.44</td> <td>21.76    </td> <td>278.76        </td> <td>172.49    </td> <td>707.536     </td> <td>885.52 </td> <td>89.7         </td> <td>149.05             </td> <td>0.135     </td> <td>14               </td> <td>2.3        </td> <td>68.27           </td> <td>169.56</td> <td>8.36            </td> <td>76.2   </td> <td>14.4        </td>\n",
       "        </tr>\n",
       "        <tr>\n",
       "            <td>6019001000  </td> <td>80.13        </td> <td>4106            </td> <td>Fresno           </td> <td>52.7        </td> <td>2.7      </td> <td>28.7                </td> <td>0.4                </td> <td>14.3              </td> <td>1.2      </td> <td>93706</td> <td>-119.804 </td> <td>36.6978 </td> <td>0.065</td> <td>15.4 </td> <td>20.848   </td> <td>788.02        </td> <td>1435.93   </td> <td>6996.96     </td> <td>243.54 </td> <td>15.45        </td> <td>20                 </td> <td>0         </td> <td>0                </td> <td>10         </td> <td>66.88           </td> <td>142.28</td> <td>7.83            </td> <td>74.5   </td> <td>20          </td>\n",
       "        </tr>\n",
       "        <tr>\n",
       "            <td>6037206050  </td> <td>79.03        </td> <td>2146            </td> <td>Los Angeles      </td> <td>79.3        </td> <td>8.9      </td> <td>4.1                 </td> <td>0.1                </td> <td>7.2               </td> <td>0.5      </td> <td>90023</td> <td>-118.224 </td> <td>34.0299 </td> <td>0.046</td> <td>12.89</td> <td>53.958   </td> <td>664.07        </td> <td>0         </td> <td>10378.2     </td> <td>2810.82</td> <td>36.05        </td> <td>16.25              </td> <td>10.025    </td> <td>7                </td> <td>22.1       </td> <td>77.09           </td> <td>58.03 </td> <td>6.71            </td> <td>75.7   </td> <td>28.5        </td>\n",
       "        </tr>\n",
       "        <tr>\n",
       "            <td>6019000400  </td> <td>78.53        </td> <td>6343            </td> <td>Fresno           </td> <td>78          </td> <td>9.1      </td> <td>5.8                 </td> <td>0.8                </td> <td>5.3               </td> <td>0.9      </td> <td>93721</td> <td>-119.776 </td> <td>36.7277 </td> <td>0.065</td> <td>15.4 </td> <td>54.356   </td> <td>681.2         </td> <td>114.96    </td> <td>125384      </td> <td>815.36 </td> <td>15.95        </td> <td>13.5               </td> <td>0.755     </td> <td>0                </td> <td>0.5        </td> <td>73.89           </td> <td>107.8 </td> <td>4.79            </td> <td>83.4   </td> <td>23.5        </td>\n",
       "        </tr>\n",
       "    </tbody>\n",
       "</table>\n",
       "<p>... (8014 rows omitted)</p>"
      ],
      "text/plain": [
       "Census.Tract | CES.3.0.Score | Total.Population | California.County | Hispanic.... | White.... | African.American.... | Native.American.... | Asian.American.... | Other.... | ZIP   | Longitude | Latitude | Ozone | PM2.5 | Diesel.PM | Drinking.Water | Pesticides | Tox..Release | Traffic | Cleanup.Sites | Groundwater.Threats | Haz..Waste | Imp..Water.Bodies | Solid.Waste | Pollution.Burden | Asthma | Low.Birth.Weight | Poverty | Unemployment\n",
       "6019001100   | 94.09         | 3174             | Fresno            | 65.3         | 4.2       | 24.6                 | 0.5                 | 3.5                | 1.8       | 93706 | -119.782  | 36.7097  | 0.065 | 15.4  | 48.524    | 681.2          | 2.75       | 18552        | 909.14  | 80.5          | 45.75               | 0.795      | 0                 | 21.75       | 79.96            | 131.64 | 7.44             | 76.3    | 17.6\n",
       "6071001600   | 90.68         | 6133             | San Bernardino    | 91.1         | 5.8       | 0.7                  | 0.3                 | 1.4                | 0.7       | 91761 | -117.618  | 34.0578  | 0.062 | 13.31 | 38.556    | 904.66         | 1.37       | 7494.24      | 782.26  | 66.2          | 36                  | 1.25       | 5                 | 12          | 81.19            | 60.66  | 7.04             | 72.5    | 12.3\n",
       "6019000200   | 85.97         | 3167             | Fresno            | 63.6         | 5.3       | 18.9                 | 0.6                 | 9.8                | 1.8       | 93706 | -119.806  | 36.7355  | 0.062 | 15.4  | 47.445    | 681.2          | 3.03       | 12454.9      | 576.52  | 22            | 30.25               | 0.2        | 0                 | 2.5         | 71.16            | 142.12 | 10.16            | 86.8    | 16.1\n",
       "6077000801   | 82.49         | 6692             | San Joaquin       | 57.4         | 6         | 12.5                 | 0.3                 | 20.9               | 2.8       | 95203 | -121.315  | 37.9405  | 0.046 | 12.54 | 24.117    | 278.76         | 12.93      | 2387.78      | 1305.01 | 50.1          | 132.1               | 0.795      | 19                | 27          | 74.48            | 142.17 | 6.23             | 61.3    | 19.6\n",
       "6019001500   | 82.03         | 2206             | Fresno            | 71.8         | 21.4      | 1.2                  | 0.5                 | 4.5                | 0.6       | 93725 | -119.718  | 36.6816  | 0.065 | 15.4  | 18.846    | 1000.24        | 3518.41    | 21790.7      | 435.16  | 60            | 54.2                | 13.1       | 0                 | 50.8        | 80.2             | 90.48  | 4.5              | 66.4    | 18.6\n",
       "6037204920   | 80.73         | 2598             | Los Angeles       | 98.1         | 1.2       | 0.1                  | 0.1                 | 0.2                | 0.3       | 90023 | -118.197  | 34.0175  | 0.046 | 12.89 | 56.52     | 714.48         | 0          | 39040.2      | 2943.44 | 36.7          | 25                  | 4.93       | 7                 | 3.85        | 76.73            | 68.74  | 7.35             | 66.4    | 11.6\n",
       "6077000300   | 80.18         | 2396             | San Joaquin       | 51.8         | 16.4      | 16.4                 | 1.3                 | 9.9                | 4.1       | 95203 | -121.302  | 37.9524  | 0.046 | 13.44 | 21.76     | 278.76         | 172.49     | 707.536      | 885.52  | 89.7          | 149.05              | 0.135      | 14                | 2.3         | 68.27            | 169.56 | 8.36             | 76.2    | 14.4\n",
       "6019001000   | 80.13         | 4106             | Fresno            | 52.7         | 2.7       | 28.7                 | 0.4                 | 14.3               | 1.2       | 93706 | -119.804  | 36.6978  | 0.065 | 15.4  | 20.848    | 788.02         | 1435.93    | 6996.96      | 243.54  | 15.45         | 20                  | 0          | 0                 | 10          | 66.88            | 142.28 | 7.83             | 74.5    | 20\n",
       "6037206050   | 79.03         | 2146             | Los Angeles       | 79.3         | 8.9       | 4.1                  | 0.1                 | 7.2                | 0.5       | 90023 | -118.224  | 34.0299  | 0.046 | 12.89 | 53.958    | 664.07         | 0          | 10378.2      | 2810.82 | 36.05         | 16.25               | 10.025     | 7                 | 22.1        | 77.09            | 58.03  | 6.71             | 75.7    | 28.5\n",
       "6019000400   | 78.53         | 6343             | Fresno            | 78           | 9.1       | 5.8                  | 0.8                 | 5.3                | 0.9       | 93721 | -119.776  | 36.7277  | 0.065 | 15.4  | 54.356    | 681.2          | 114.96     | 125384       | 815.36  | 15.95         | 13.5                | 0.755      | 0                 | 0.5         | 73.89            | 107.8  | 4.79             | 83.4    | 23.5\n",
       "... (8014 rows omitted)"
      ]
     },
     "execution_count": 14,
     "metadata": {},
     "output_type": "execute_result"
    }
   ],
   "source": [
    "ces_data = Table.read_table(\"ces_data_v2.csv\")\n",
    "ces_data"
   ]
  },
  {
   "cell_type": "markdown",
   "metadata": {},
   "source": [
    "Previously, you looked at asthma and some other indicators that you felt had some ties to asthma. Today, you'll make conversions with different measurements.\n",
    "\n",
    "<div class=\"alert alert-warning\">\n",
    "    <b>PRACTICE:</b> Keep only the \"California.County\", \"Total.Population\", \"Asthma\", \"Poverty\", and \"Unemployment\" columns from the <code>ces_data</code> table. Assign this new table to the name <code>measurements</code> and be sure that the order of the columns match.\n",
    "    </div>"
   ]
  },
  {
   "cell_type": "code",
   "execution_count": null,
   "metadata": {},
   "outputs": [],
   "source": [
    "measurements = ...\n",
    "measurements"
   ]
  },
  {
   "cell_type": "code",
   "execution_count": 15,
   "metadata": {},
   "outputs": [
    {
     "data": {
      "text/html": [
       "<table border=\"1\" class=\"dataframe\">\n",
       "    <thead>\n",
       "        <tr>\n",
       "            <th>California.County</th> <th>Total.Population</th> <th>Asthma</th> <th>Poverty</th> <th>Unemployment</th>\n",
       "        </tr>\n",
       "    </thead>\n",
       "    <tbody>\n",
       "        <tr>\n",
       "            <td>Fresno           </td> <td>3174            </td> <td>131.64</td> <td>76.3   </td> <td>17.6        </td>\n",
       "        </tr>\n",
       "        <tr>\n",
       "            <td>San Bernardino   </td> <td>6133            </td> <td>60.66 </td> <td>72.5   </td> <td>12.3        </td>\n",
       "        </tr>\n",
       "        <tr>\n",
       "            <td>Fresno           </td> <td>3167            </td> <td>142.12</td> <td>86.8   </td> <td>16.1        </td>\n",
       "        </tr>\n",
       "        <tr>\n",
       "            <td>San Joaquin      </td> <td>6692            </td> <td>142.17</td> <td>61.3   </td> <td>19.6        </td>\n",
       "        </tr>\n",
       "        <tr>\n",
       "            <td>Fresno           </td> <td>2206            </td> <td>90.48 </td> <td>66.4   </td> <td>18.6        </td>\n",
       "        </tr>\n",
       "        <tr>\n",
       "            <td>Los Angeles      </td> <td>2598            </td> <td>68.74 </td> <td>66.4   </td> <td>11.6        </td>\n",
       "        </tr>\n",
       "        <tr>\n",
       "            <td>San Joaquin      </td> <td>2396            </td> <td>169.56</td> <td>76.2   </td> <td>14.4        </td>\n",
       "        </tr>\n",
       "        <tr>\n",
       "            <td>Fresno           </td> <td>4106            </td> <td>142.28</td> <td>74.5   </td> <td>20          </td>\n",
       "        </tr>\n",
       "        <tr>\n",
       "            <td>Los Angeles      </td> <td>2146            </td> <td>58.03 </td> <td>75.7   </td> <td>28.5        </td>\n",
       "        </tr>\n",
       "        <tr>\n",
       "            <td>Fresno           </td> <td>6343            </td> <td>107.8 </td> <td>83.4   </td> <td>23.5        </td>\n",
       "        </tr>\n",
       "    </tbody>\n",
       "</table>\n",
       "<p>... (8014 rows omitted)</p>"
      ],
      "text/plain": [
       "California.County | Total.Population | Asthma | Poverty | Unemployment\n",
       "Fresno            | 3174             | 131.64 | 76.3    | 17.6\n",
       "San Bernardino    | 6133             | 60.66  | 72.5    | 12.3\n",
       "Fresno            | 3167             | 142.12 | 86.8    | 16.1\n",
       "San Joaquin       | 6692             | 142.17 | 61.3    | 19.6\n",
       "Fresno            | 2206             | 90.48  | 66.4    | 18.6\n",
       "Los Angeles       | 2598             | 68.74  | 66.4    | 11.6\n",
       "San Joaquin       | 2396             | 169.56 | 76.2    | 14.4\n",
       "Fresno            | 4106             | 142.28 | 74.5    | 20\n",
       "Los Angeles       | 2146             | 58.03  | 75.7    | 28.5\n",
       "Fresno            | 6343             | 107.8  | 83.4    | 23.5\n",
       "... (8014 rows omitted)"
      ]
     },
     "execution_count": 15,
     "metadata": {},
     "output_type": "execute_result"
    }
   ],
   "source": [
    "# SOLUTIONS\n",
    "measurements = ces_data.select(\"California.County\", \"Total.Population\", \"Asthma\", \"Poverty\", \"Unemployment\")\n",
    "measurements"
   ]
  },
  {
   "cell_type": "markdown",
   "metadata": {},
   "source": [
    "This next cell focuses on cleaning the data that you have. Recall that some values could not be obtained and are denoted as `nan`. To get rid of these rows, some filtering must be done. As in Report 05, you do _not_ need to know what is happening in this cell; it's enough to know that it is getting rid of the tracts that do not have sufficient information."
   ]
  },
  {
   "cell_type": "code",
   "execution_count": 16,
   "metadata": {},
   "outputs": [
    {
     "data": {
      "text/html": [
       "<table border=\"1\" class=\"dataframe\">\n",
       "    <thead>\n",
       "        <tr>\n",
       "            <th>California.County</th> <th>Total.Population</th> <th>Asthma</th> <th>Poverty</th> <th>Unemployment</th>\n",
       "        </tr>\n",
       "    </thead>\n",
       "    <tbody>\n",
       "        <tr>\n",
       "            <td>Fresno           </td> <td>3174            </td> <td>131.64</td> <td>76.3   </td> <td>17.6        </td>\n",
       "        </tr>\n",
       "        <tr>\n",
       "            <td>San Bernardino   </td> <td>6133            </td> <td>60.66 </td> <td>72.5   </td> <td>12.3        </td>\n",
       "        </tr>\n",
       "        <tr>\n",
       "            <td>Fresno           </td> <td>3167            </td> <td>142.12</td> <td>86.8   </td> <td>16.1        </td>\n",
       "        </tr>\n",
       "        <tr>\n",
       "            <td>San Joaquin      </td> <td>6692            </td> <td>142.17</td> <td>61.3   </td> <td>19.6        </td>\n",
       "        </tr>\n",
       "        <tr>\n",
       "            <td>Fresno           </td> <td>2206            </td> <td>90.48 </td> <td>66.4   </td> <td>18.6        </td>\n",
       "        </tr>\n",
       "        <tr>\n",
       "            <td>Los Angeles      </td> <td>2598            </td> <td>68.74 </td> <td>66.4   </td> <td>11.6        </td>\n",
       "        </tr>\n",
       "        <tr>\n",
       "            <td>San Joaquin      </td> <td>2396            </td> <td>169.56</td> <td>76.2   </td> <td>14.4        </td>\n",
       "        </tr>\n",
       "        <tr>\n",
       "            <td>Fresno           </td> <td>4106            </td> <td>142.28</td> <td>74.5   </td> <td>20          </td>\n",
       "        </tr>\n",
       "        <tr>\n",
       "            <td>Los Angeles      </td> <td>2146            </td> <td>58.03 </td> <td>75.7   </td> <td>28.5        </td>\n",
       "        </tr>\n",
       "        <tr>\n",
       "            <td>Fresno           </td> <td>6343            </td> <td>107.8 </td> <td>83.4   </td> <td>23.5        </td>\n",
       "        </tr>\n",
       "    </tbody>\n",
       "</table>\n",
       "<p>... (7860 rows omitted)</p>"
      ],
      "text/plain": [
       "California.County | Total.Population | Asthma | Poverty | Unemployment\n",
       "Fresno            | 3174             | 131.64 | 76.3    | 17.6\n",
       "San Bernardino    | 6133             | 60.66  | 72.5    | 12.3\n",
       "Fresno            | 3167             | 142.12 | 86.8    | 16.1\n",
       "San Joaquin       | 6692             | 142.17 | 61.3    | 19.6\n",
       "Fresno            | 2206             | 90.48  | 66.4    | 18.6\n",
       "Los Angeles       | 2598             | 68.74  | 66.4    | 11.6\n",
       "San Joaquin       | 2396             | 169.56 | 76.2    | 14.4\n",
       "Fresno            | 4106             | 142.28 | 74.5    | 20\n",
       "Los Angeles       | 2146             | 58.03  | 75.7    | 28.5\n",
       "Fresno            | 6343             | 107.8  | 83.4    | 23.5\n",
       "... (7860 rows omitted)"
      ]
     },
     "execution_count": 16,
     "metadata": {},
     "output_type": "execute_result"
    }
   ],
   "source": [
    "for label in np.arange(1, 5):\n",
    "    measurements = measurements.where(label, are.above_or_equal_to(0))\n",
    "    \n",
    "measurements"
   ]
  },
  {
   "cell_type": "markdown",
   "metadata": {},
   "source": [
    "<div class=\"alert alert-warning\">\n",
    "    <b>PRACTICE:</b> The first change to make is within the \"Asthma\" column. It is currently measured in asthma-related emergency-department (ED) visits per every 10,000 ED visits. To make it more convenient, you'll be converting the values to the <i>percentage</i> of asthma-related emergency-department visits. This will be the number of asthma ED visits per 100 ED visits. Look at the following expressions below.\n",
    "\n",
    "<ul>\n",
    "    <li>Current measurement: $\\frac{\\# asthma}{\\# total} = \\frac{\\# asthma}{10,000}$\n",
    "    <li>Percentage: $\\% asthma = \\frac{\\# asthma}{100}$\n",
    "</ul>\n",
    "\n",
    "Find out the calculations you would need to make to convert these values to percentages. Then assign <code>asthma_percent</code> to this array.\n",
    "    </div>"
   ]
  },
  {
   "cell_type": "code",
   "execution_count": null,
   "metadata": {},
   "outputs": [],
   "source": [
    "asthma_percent = ...\n",
    "asthma_percent"
   ]
  },
  {
   "cell_type": "code",
   "execution_count": 17,
   "metadata": {},
   "outputs": [
    {
     "data": {
      "text/plain": [
       "array([1.3164, 0.6066, 1.4212, ..., 0.035 , 0.2197, 0.0368])"
      ]
     },
     "execution_count": 17,
     "metadata": {},
     "output_type": "execute_result"
    }
   ],
   "source": [
    "# SOLUTION\n",
    "asthma_percent = measurements.column(\"Asthma\") / 10000 * 100\n",
    "asthma_percent"
   ]
  },
  {
   "cell_type": "markdown",
   "metadata": {},
   "source": [
    "<div class=\"alert alert-warning\">\n",
    "    <b>PRACTICE:</b> We can now add it back to the <code>measurements</code> table using previous methods. Give it the name \"Asthma.Percent\" so that you can distinguish between the old and new values.\n",
    "    </div>"
   ]
  },
  {
   "cell_type": "code",
   "execution_count": null,
   "metadata": {},
   "outputs": [],
   "source": [
    "measurements = ...\n",
    "measurements"
   ]
  },
  {
   "cell_type": "code",
   "execution_count": 18,
   "metadata": {},
   "outputs": [
    {
     "data": {
      "text/html": [
       "<table border=\"1\" class=\"dataframe\">\n",
       "    <thead>\n",
       "        <tr>\n",
       "            <th>California.County</th> <th>Total.Population</th> <th>Asthma</th> <th>Poverty</th> <th>Unemployment</th> <th>Asthma.Percent</th>\n",
       "        </tr>\n",
       "    </thead>\n",
       "    <tbody>\n",
       "        <tr>\n",
       "            <td>Fresno           </td> <td>3174            </td> <td>131.64</td> <td>76.3   </td> <td>17.6        </td> <td>1.3164        </td>\n",
       "        </tr>\n",
       "        <tr>\n",
       "            <td>San Bernardino   </td> <td>6133            </td> <td>60.66 </td> <td>72.5   </td> <td>12.3        </td> <td>0.6066        </td>\n",
       "        </tr>\n",
       "        <tr>\n",
       "            <td>Fresno           </td> <td>3167            </td> <td>142.12</td> <td>86.8   </td> <td>16.1        </td> <td>1.4212        </td>\n",
       "        </tr>\n",
       "        <tr>\n",
       "            <td>San Joaquin      </td> <td>6692            </td> <td>142.17</td> <td>61.3   </td> <td>19.6        </td> <td>1.4217        </td>\n",
       "        </tr>\n",
       "        <tr>\n",
       "            <td>Fresno           </td> <td>2206            </td> <td>90.48 </td> <td>66.4   </td> <td>18.6        </td> <td>0.9048        </td>\n",
       "        </tr>\n",
       "        <tr>\n",
       "            <td>Los Angeles      </td> <td>2598            </td> <td>68.74 </td> <td>66.4   </td> <td>11.6        </td> <td>0.6874        </td>\n",
       "        </tr>\n",
       "        <tr>\n",
       "            <td>San Joaquin      </td> <td>2396            </td> <td>169.56</td> <td>76.2   </td> <td>14.4        </td> <td>1.6956        </td>\n",
       "        </tr>\n",
       "        <tr>\n",
       "            <td>Fresno           </td> <td>4106            </td> <td>142.28</td> <td>74.5   </td> <td>20          </td> <td>1.4228        </td>\n",
       "        </tr>\n",
       "        <tr>\n",
       "            <td>Los Angeles      </td> <td>2146            </td> <td>58.03 </td> <td>75.7   </td> <td>28.5        </td> <td>0.5803        </td>\n",
       "        </tr>\n",
       "        <tr>\n",
       "            <td>Fresno           </td> <td>6343            </td> <td>107.8 </td> <td>83.4   </td> <td>23.5        </td> <td>1.078         </td>\n",
       "        </tr>\n",
       "    </tbody>\n",
       "</table>\n",
       "<p>... (7860 rows omitted)</p>"
      ],
      "text/plain": [
       "California.County | Total.Population | Asthma | Poverty | Unemployment | Asthma.Percent\n",
       "Fresno            | 3174             | 131.64 | 76.3    | 17.6         | 1.3164\n",
       "San Bernardino    | 6133             | 60.66  | 72.5    | 12.3         | 0.6066\n",
       "Fresno            | 3167             | 142.12 | 86.8    | 16.1         | 1.4212\n",
       "San Joaquin       | 6692             | 142.17 | 61.3    | 19.6         | 1.4217\n",
       "Fresno            | 2206             | 90.48  | 66.4    | 18.6         | 0.9048\n",
       "Los Angeles       | 2598             | 68.74  | 66.4    | 11.6         | 0.6874\n",
       "San Joaquin       | 2396             | 169.56 | 76.2    | 14.4         | 1.6956\n",
       "Fresno            | 4106             | 142.28 | 74.5    | 20           | 1.4228\n",
       "Los Angeles       | 2146             | 58.03  | 75.7    | 28.5         | 0.5803\n",
       "Fresno            | 6343             | 107.8  | 83.4    | 23.5         | 1.078\n",
       "... (7860 rows omitted)"
      ]
     },
     "execution_count": 18,
     "metadata": {},
     "output_type": "execute_result"
    }
   ],
   "source": [
    "# SOLUTION\n",
    "measurements = measurements.with_column(\"Asthma.Percent\", asthma_percent)\n",
    "measurements"
   ]
  },
  {
   "cell_type": "markdown",
   "metadata": {},
   "source": [
    "Well done converting our original measurements into something more intuitive! Changes like these happen frequently and are necessary when presenting findings to another party. It may seem tedious, but it gets easier the more you do it.\n",
    "\n",
    "In this next section, let's explore the measurements of California as a whole. A characteristic of interest might be the poverty rate. CalEnviroScreen collected the percentage of people living below two times the poverty rate, *but* each percentage is specific to the corresponding tract. Since these percentages differ and since tracts are composed of different population sizes, you should find the total number of people living in poverty and the total population in order to find California's poverty rate. Consider the following equation.\n",
    "\n",
    "$poverty rate = \\frac{\\# poverty}{\\# total}$\n",
    "\n",
    "<div class=\"alert alert-warning\">\n",
    "    <b>PRACTICE:</b> Let's start by finding the total number of people living in poverty (denoted '# poverty' in the above equation). Since \"Poverty\" is measured in terms of <i>percentages</i>, think of a way you can get it back to <i>counts</i>.\n",
    "    </div>\n",
    "    \n",
    "*Hint:* You may need to look at more than one column in the table."
   ]
  },
  {
   "cell_type": "code",
   "execution_count": null,
   "metadata": {},
   "outputs": [],
   "source": [
    "poverty_count = ...\n",
    "poverty_count"
   ]
  },
  {
   "cell_type": "code",
   "execution_count": 19,
   "metadata": {},
   "outputs": [
    {
     "data": {
      "text/plain": [
       "array([242176.2, 444642.5, 274895.6, ...,  36965.6,  33814.8,  93507.6])"
      ]
     },
     "execution_count": 19,
     "metadata": {},
     "output_type": "execute_result"
    }
   ],
   "source": [
    "# SOLUTION\n",
    "poverty_count = measurements.column(\"Total.Population\") * measurements.column(\"Poverty\")\n",
    "poverty_count"
   ]
  },
  {
   "cell_type": "markdown",
   "metadata": {},
   "source": [
    "<div class=\"alert alert-warning\">\n",
    "    <b>PRACTICE:</b> Now that you have the total number of people living in poverty for each tract, you can add this data to the table. Recall the table method that adds a column to your table, and call this column \"Poverty.Count\".\n",
    "    </div>"
   ]
  },
  {
   "cell_type": "code",
   "execution_count": null,
   "metadata": {},
   "outputs": [],
   "source": [
    "measurements = ...\n",
    "measurements"
   ]
  },
  {
   "cell_type": "code",
   "execution_count": 21,
   "metadata": {},
   "outputs": [
    {
     "data": {
      "text/html": [
       "<table border=\"1\" class=\"dataframe\">\n",
       "    <thead>\n",
       "        <tr>\n",
       "            <th>California.County</th> <th>Total.Population</th> <th>Asthma</th> <th>Poverty</th> <th>Unemployment</th> <th>Asthma.Percent</th> <th>Poverty.Count</th>\n",
       "        </tr>\n",
       "    </thead>\n",
       "    <tbody>\n",
       "        <tr>\n",
       "            <td>Fresno           </td> <td>3174            </td> <td>131.64</td> <td>76.3   </td> <td>17.6        </td> <td>1.3164        </td> <td>242176       </td>\n",
       "        </tr>\n",
       "        <tr>\n",
       "            <td>San Bernardino   </td> <td>6133            </td> <td>60.66 </td> <td>72.5   </td> <td>12.3        </td> <td>0.6066        </td> <td>444642       </td>\n",
       "        </tr>\n",
       "        <tr>\n",
       "            <td>Fresno           </td> <td>3167            </td> <td>142.12</td> <td>86.8   </td> <td>16.1        </td> <td>1.4212        </td> <td>274896       </td>\n",
       "        </tr>\n",
       "        <tr>\n",
       "            <td>San Joaquin      </td> <td>6692            </td> <td>142.17</td> <td>61.3   </td> <td>19.6        </td> <td>1.4217        </td> <td>410220       </td>\n",
       "        </tr>\n",
       "        <tr>\n",
       "            <td>Fresno           </td> <td>2206            </td> <td>90.48 </td> <td>66.4   </td> <td>18.6        </td> <td>0.9048        </td> <td>146478       </td>\n",
       "        </tr>\n",
       "        <tr>\n",
       "            <td>Los Angeles      </td> <td>2598            </td> <td>68.74 </td> <td>66.4   </td> <td>11.6        </td> <td>0.6874        </td> <td>172507       </td>\n",
       "        </tr>\n",
       "        <tr>\n",
       "            <td>San Joaquin      </td> <td>2396            </td> <td>169.56</td> <td>76.2   </td> <td>14.4        </td> <td>1.6956        </td> <td>182575       </td>\n",
       "        </tr>\n",
       "        <tr>\n",
       "            <td>Fresno           </td> <td>4106            </td> <td>142.28</td> <td>74.5   </td> <td>20          </td> <td>1.4228        </td> <td>305897       </td>\n",
       "        </tr>\n",
       "        <tr>\n",
       "            <td>Los Angeles      </td> <td>2146            </td> <td>58.03 </td> <td>75.7   </td> <td>28.5        </td> <td>0.5803        </td> <td>162452       </td>\n",
       "        </tr>\n",
       "        <tr>\n",
       "            <td>Fresno           </td> <td>6343            </td> <td>107.8 </td> <td>83.4   </td> <td>23.5        </td> <td>1.078         </td> <td>529006       </td>\n",
       "        </tr>\n",
       "    </tbody>\n",
       "</table>\n",
       "<p>... (7860 rows omitted)</p>"
      ],
      "text/plain": [
       "California.County | Total.Population | Asthma | Poverty | Unemployment | Asthma.Percent | Poverty.Count\n",
       "Fresno            | 3174             | 131.64 | 76.3    | 17.6         | 1.3164         | 242176\n",
       "San Bernardino    | 6133             | 60.66  | 72.5    | 12.3         | 0.6066         | 444642\n",
       "Fresno            | 3167             | 142.12 | 86.8    | 16.1         | 1.4212         | 274896\n",
       "San Joaquin       | 6692             | 142.17 | 61.3    | 19.6         | 1.4217         | 410220\n",
       "Fresno            | 2206             | 90.48  | 66.4    | 18.6         | 0.9048         | 146478\n",
       "Los Angeles       | 2598             | 68.74  | 66.4    | 11.6         | 0.6874         | 172507\n",
       "San Joaquin       | 2396             | 169.56 | 76.2    | 14.4         | 1.6956         | 182575\n",
       "Fresno            | 4106             | 142.28 | 74.5    | 20           | 1.4228         | 305897\n",
       "Los Angeles       | 2146             | 58.03  | 75.7    | 28.5         | 0.5803         | 162452\n",
       "Fresno            | 6343             | 107.8  | 83.4    | 23.5         | 1.078          | 529006\n",
       "... (7860 rows omitted)"
      ]
     },
     "execution_count": 21,
     "metadata": {},
     "output_type": "execute_result"
    }
   ],
   "source": [
    "# SOLUTION\n",
    "measurements = measurements.with_column(\"Poverty.Count\", poverty_count)\n",
    "measurements"
   ]
  },
  {
   "cell_type": "markdown",
   "metadata": {},
   "source": [
    "<div class=\"alert alert-warning\">\n",
    "    <b>PRACTICE:</b> Finally, you can make the calculation to find the percentage of California residents living in poverty. The <code>measurements</code> table should now have the total # of people living in poverty and the total # of residents <i>per tract</i>. Before you make your calculation, remember that we are trying to divide the total # of California residents living in poverty by the total population of California.\n",
    "    </div>\n",
    "    \n",
    "*Hint:* All of the tracts make up California, so you can aggregate all of those numbers to get the percentage."
   ]
  },
  {
   "cell_type": "code",
   "execution_count": null,
   "metadata": {},
   "outputs": [],
   "source": [
    "poverty_ca = ...\n",
    "population_ca = ...\n",
    "\n",
    "poverty_percentage = ...\n",
    "poverty_percentage"
   ]
  },
  {
   "cell_type": "code",
   "execution_count": 22,
   "metadata": {},
   "outputs": [
    {
     "data": {
      "text/plain": [
       "36.38284293111616"
      ]
     },
     "execution_count": 22,
     "metadata": {},
     "output_type": "execute_result"
    }
   ],
   "source": [
    "# SOLUTION\n",
    "poverty_ca = sum(measurements.column(\"Poverty.Count\"))\n",
    "population_ca = sum(measurements.column(\"Total.Population\"))\n",
    "\n",
    "poverty_percentage =  poverty_ca / population_ca\n",
    "poverty_percentage"
   ]
  },
  {
   "cell_type": "markdown",
   "metadata": {},
   "source": [
    "Look at the number outputted. Is it what you expected? If not, what is surprising about this value?"
   ]
  },
  {
   "cell_type": "markdown",
   "metadata": {},
   "source": [
    "_Written Answer:_"
   ]
  },
  {
   "cell_type": "markdown",
   "metadata": {},
   "source": [
    "### Extra Exploration (Optional)\n",
    "\n",
    "If you find that you would like to do extra exploration, you might find the \"Unemployment\" data interesting to look at. Some (but not all) of the poverty rate could be explained by unemployment levels, so try to compare the two measurements. Feel free to copy and paste the code from above."
   ]
  },
  {
   "cell_type": "code",
   "execution_count": null,
   "metadata": {},
   "outputs": [],
   "source": [
    "unemp_count = ...\n",
    "unemp_count"
   ]
  },
  {
   "cell_type": "code",
   "execution_count": 23,
   "metadata": {},
   "outputs": [
    {
     "data": {
      "text/plain": [
       "array([55862.4, 75435.9, 50988.7, ..., 62210.4,  2272.5, 21227.3])"
      ]
     },
     "execution_count": 23,
     "metadata": {},
     "output_type": "execute_result"
    }
   ],
   "source": [
    "# SOLUTION\n",
    "unemp_count = measurements.column(\"Total.Population\") * measurements.column(\"Unemployment\")\n",
    "unemp_count"
   ]
  },
  {
   "cell_type": "code",
   "execution_count": null,
   "metadata": {},
   "outputs": [],
   "source": [
    "measurements = ...\n",
    "measurements"
   ]
  },
  {
   "cell_type": "code",
   "execution_count": 24,
   "metadata": {},
   "outputs": [
    {
     "data": {
      "text/html": [
       "<table border=\"1\" class=\"dataframe\">\n",
       "    <thead>\n",
       "        <tr>\n",
       "            <th>California.County</th> <th>Total.Population</th> <th>Asthma</th> <th>Poverty</th> <th>Unemployment</th> <th>Asthma.Percent</th> <th>Poverty.Count</th> <th>Unemp.Count</th>\n",
       "        </tr>\n",
       "    </thead>\n",
       "    <tbody>\n",
       "        <tr>\n",
       "            <td>Fresno           </td> <td>3174            </td> <td>131.64</td> <td>76.3   </td> <td>17.6        </td> <td>1.3164        </td> <td>242176       </td> <td>55862.4    </td>\n",
       "        </tr>\n",
       "        <tr>\n",
       "            <td>San Bernardino   </td> <td>6133            </td> <td>60.66 </td> <td>72.5   </td> <td>12.3        </td> <td>0.6066        </td> <td>444642       </td> <td>75435.9    </td>\n",
       "        </tr>\n",
       "        <tr>\n",
       "            <td>Fresno           </td> <td>3167            </td> <td>142.12</td> <td>86.8   </td> <td>16.1        </td> <td>1.4212        </td> <td>274896       </td> <td>50988.7    </td>\n",
       "        </tr>\n",
       "        <tr>\n",
       "            <td>San Joaquin      </td> <td>6692            </td> <td>142.17</td> <td>61.3   </td> <td>19.6        </td> <td>1.4217        </td> <td>410220       </td> <td>131163     </td>\n",
       "        </tr>\n",
       "        <tr>\n",
       "            <td>Fresno           </td> <td>2206            </td> <td>90.48 </td> <td>66.4   </td> <td>18.6        </td> <td>0.9048        </td> <td>146478       </td> <td>41031.6    </td>\n",
       "        </tr>\n",
       "        <tr>\n",
       "            <td>Los Angeles      </td> <td>2598            </td> <td>68.74 </td> <td>66.4   </td> <td>11.6        </td> <td>0.6874        </td> <td>172507       </td> <td>30136.8    </td>\n",
       "        </tr>\n",
       "        <tr>\n",
       "            <td>San Joaquin      </td> <td>2396            </td> <td>169.56</td> <td>76.2   </td> <td>14.4        </td> <td>1.6956        </td> <td>182575       </td> <td>34502.4    </td>\n",
       "        </tr>\n",
       "        <tr>\n",
       "            <td>Fresno           </td> <td>4106            </td> <td>142.28</td> <td>74.5   </td> <td>20          </td> <td>1.4228        </td> <td>305897       </td> <td>82120      </td>\n",
       "        </tr>\n",
       "        <tr>\n",
       "            <td>Los Angeles      </td> <td>2146            </td> <td>58.03 </td> <td>75.7   </td> <td>28.5        </td> <td>0.5803        </td> <td>162452       </td> <td>61161      </td>\n",
       "        </tr>\n",
       "        <tr>\n",
       "            <td>Fresno           </td> <td>6343            </td> <td>107.8 </td> <td>83.4   </td> <td>23.5        </td> <td>1.078         </td> <td>529006       </td> <td>149060     </td>\n",
       "        </tr>\n",
       "    </tbody>\n",
       "</table>\n",
       "<p>... (7860 rows omitted)</p>"
      ],
      "text/plain": [
       "California.County | Total.Population | Asthma | Poverty | Unemployment | Asthma.Percent | Poverty.Count | Unemp.Count\n",
       "Fresno            | 3174             | 131.64 | 76.3    | 17.6         | 1.3164         | 242176        | 55862.4\n",
       "San Bernardino    | 6133             | 60.66  | 72.5    | 12.3         | 0.6066         | 444642        | 75435.9\n",
       "Fresno            | 3167             | 142.12 | 86.8    | 16.1         | 1.4212         | 274896        | 50988.7\n",
       "San Joaquin       | 6692             | 142.17 | 61.3    | 19.6         | 1.4217         | 410220        | 131163\n",
       "Fresno            | 2206             | 90.48  | 66.4    | 18.6         | 0.9048         | 146478        | 41031.6\n",
       "Los Angeles       | 2598             | 68.74  | 66.4    | 11.6         | 0.6874         | 172507        | 30136.8\n",
       "San Joaquin       | 2396             | 169.56 | 76.2    | 14.4         | 1.6956         | 182575        | 34502.4\n",
       "Fresno            | 4106             | 142.28 | 74.5    | 20           | 1.4228         | 305897        | 82120\n",
       "Los Angeles       | 2146             | 58.03  | 75.7    | 28.5         | 0.5803         | 162452        | 61161\n",
       "Fresno            | 6343             | 107.8  | 83.4    | 23.5         | 1.078          | 529006        | 149060\n",
       "... (7860 rows omitted)"
      ]
     },
     "execution_count": 24,
     "metadata": {},
     "output_type": "execute_result"
    }
   ],
   "source": [
    "# SOLUTION\n",
    "measurements = measurements.with_column(\"Unemp.Count\", unemp_count)\n",
    "measurements"
   ]
  },
  {
   "cell_type": "code",
   "execution_count": null,
   "metadata": {},
   "outputs": [],
   "source": [
    "poverty_ca = ...\n",
    "population_ca = ...\n",
    "\n",
    "poverty_percentage = ...\n",
    "poverty_percentage"
   ]
  },
  {
   "cell_type": "code",
   "execution_count": 25,
   "metadata": {},
   "outputs": [
    {
     "data": {
      "text/plain": [
       "10.192648157875423"
      ]
     },
     "execution_count": 25,
     "metadata": {},
     "output_type": "execute_result"
    }
   ],
   "source": [
    "# SOLUTION\n",
    "unemp_ca = sum(measurements.column(\"Unemp.Count\"))\n",
    "population_ca = sum(measurements.column(\"Total.Population\"))\n",
    "\n",
    "unemp_percentage = unemp_ca / population_ca\n",
    "unemp_percentage"
   ]
  },
  {
   "cell_type": "markdown",
   "metadata": {},
   "source": [
    "### Downloading as PDF\n",
    "\n",
    "Download this notebook as a pdf by clicking <b><code>File > Download as > PDF via LaTeX (.pdf)</code></b>. Turn in the PDF into bCourses under the corresponding assignment."
   ]
  },
  {
   "cell_type": "markdown",
   "metadata": {},
   "source": [
    "Adapted from Data 8, Spring 2020 Lab 03 and Homework 02"
   ]
  }
 ],
 "metadata": {
  "kernelspec": {
   "display_name": "Python 3 (ipykernel)",
   "language": "python",
   "name": "python3"
  },
  "language_info": {
   "codemirror_mode": {
    "name": "ipython",
    "version": 3
   },
   "file_extension": ".py",
   "mimetype": "text/x-python",
   "name": "python",
   "nbconvert_exporter": "python",
   "pygments_lexer": "ipython3",
   "version": "3.10.2"
  }
 },
 "nbformat": 4,
 "nbformat_minor": 4
}
