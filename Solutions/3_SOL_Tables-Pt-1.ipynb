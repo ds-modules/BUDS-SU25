{
 "cells": [
  {
   "cell_type": "markdown",
   "metadata": {},
   "source": [
    "# BUDS Report 03: Tables, Part 1\n",
    "\n",
    "\n",
    "### Table of Contents\n",
    "\n",
    "1. <a href='#section 1'>Tables</a>\n",
    "\n",
    "    a. <a href='#subsection 1a'>Table Attributes</a>\n",
    "\n",
    "    b. <a href='#subsection 1b'>Table Transformations</a><br><br>\n",
    "\n",
    "2. <a href='#section 2'>Sorting Tables</a>"
   ]
  },
  {
   "cell_type": "code",
   "execution_count": 1,
   "metadata": {},
   "outputs": [],
   "source": [
    "# dependencies: THIS CELL MUST BE RUN\n",
    "from datascience import *\n",
    "import numpy as np\n",
    "import math\n",
    "import matplotlib.pyplot as plt\n",
    "plt.style.use('fivethirtyeight')\n",
    "%matplotlib inline"
   ]
  },
  {
   "cell_type": "markdown",
   "metadata": {},
   "source": [
    "## 1. Tables <a id='section 1'></a>\n",
    "\n",
    "The last section covered four basic concepts of Python: data, expressions, names, and functions. In this next section, we'll see just how much we can do to examine and manipulate our data with only these minimal Python skills.\n",
    "\n",
    "**Tables** are fundamental ways of organizing and displaying data. Run the next cell to load the data."
   ]
  },
  {
   "cell_type": "code",
   "execution_count": 3,
   "metadata": {},
   "outputs": [
    {
     "data": {
      "text/html": [
       "<table border=\"1\" class=\"dataframe\">\n",
       "    <thead>\n",
       "        <tr>\n",
       "            <th>Votes</th> <th>Rank</th> <th>Title </th> <th>Year</th> <th>Decade</th>\n",
       "        </tr>\n",
       "    </thead>\n",
       "    <tbody>\n",
       "        <tr>\n",
       "            <td>88355 </td> <td>8.4 </td> <td>M (1931)                    </td> <td>1931</td> <td>1930  </td>\n",
       "        </tr>\n",
       "        <tr>\n",
       "            <td>132823</td> <td>8.3 </td> <td>Singin' in the Rain (1952)  </td> <td>1952</td> <td>1950  </td>\n",
       "        </tr>\n",
       "        <tr>\n",
       "            <td>74178 </td> <td>8.3 </td> <td>All About Eve (1950)        </td> <td>1950</td> <td>1950  </td>\n",
       "        </tr>\n",
       "        <tr>\n",
       "            <td>635139</td> <td>8.6 </td> <td>Léon (1994)                 </td> <td>1994</td> <td>1990  </td>\n",
       "        </tr>\n",
       "        <tr>\n",
       "            <td>145514</td> <td>8.2 </td> <td>The Elephant Man (1980)     </td> <td>1980</td> <td>1980  </td>\n",
       "        </tr>\n",
       "        <tr>\n",
       "            <td>425461</td> <td>8.3 </td> <td>Full Metal Jacket (1987)    </td> <td>1987</td> <td>1980  </td>\n",
       "        </tr>\n",
       "        <tr>\n",
       "            <td>441174</td> <td>8.1 </td> <td>Gone Girl (2014)            </td> <td>2014</td> <td>2010  </td>\n",
       "        </tr>\n",
       "        <tr>\n",
       "            <td>850601</td> <td>8.3 </td> <td>Batman Begins (2005)        </td> <td>2005</td> <td>2000  </td>\n",
       "        </tr>\n",
       "        <tr>\n",
       "            <td>37664 </td> <td>8.2 </td> <td>Judgment at Nuremberg (1961)</td> <td>1961</td> <td>1960  </td>\n",
       "        </tr>\n",
       "        <tr>\n",
       "            <td>46987 </td> <td>8   </td> <td>Relatos salvajes (2014)     </td> <td>2014</td> <td>2010  </td>\n",
       "        </tr>\n",
       "    </tbody>\n",
       "</table>\n",
       "<p>... (240 rows omitted)</p>"
      ],
      "text/plain": [
       "Votes  | Rank | Title                        | Year | Decade\n",
       "88355  | 8.4  | M (1931)                     | 1931 | 1930\n",
       "132823 | 8.3  | Singin' in the Rain (1952)   | 1952 | 1950\n",
       "74178  | 8.3  | All About Eve (1950)         | 1950 | 1950\n",
       "635139 | 8.6  | Léon (1994)                  | 1994 | 1990\n",
       "145514 | 8.2  | The Elephant Man (1980)      | 1980 | 1980\n",
       "425461 | 8.3  | Full Metal Jacket (1987)     | 1987 | 1980\n",
       "441174 | 8.1  | Gone Girl (2014)             | 2014 | 2010\n",
       "850601 | 8.3  | Batman Begins (2005)         | 2005 | 2000\n",
       "37664  | 8.2  | Judgment at Nuremberg (1961) | 1961 | 1960\n",
       "46987  | 8    | Relatos salvajes (2014)      | 2014 | 2010\n",
       "... (240 rows omitted)"
      ]
     },
     "execution_count": 3,
     "metadata": {},
     "output_type": "execute_result"
    }
   ],
   "source": [
    "ratings = Table.read_table(\"data/imdb_ratings.csv\")\n",
    "ratings"
   ]
  },
  {
   "cell_type": "markdown",
   "metadata": {},
   "source": [
    "This table is organized into **columns** — one for each *category* of information collected.\n",
    "\n",
    "You can also think about the table in terms of its **rows**. Each row represents all the information collected about a particular instance, which can be a person, location, action, or other unit. \n",
    "\n",
    "\n",
    "<div class=\"alert alert-warning\">\n",
    "<b>PRACTICE:</b> What do the rows in this table represent? How many rows are in this table? And how many rows are shown by default?\n",
    "    </div>\n"
   ]
  },
  {
   "cell_type": "markdown",
   "metadata": {},
   "source": [
    "_Written Answer:_"
   ]
  },
  {
   "cell_type": "markdown",
   "metadata": {},
   "source": [
    "__SOLUTION__:\n",
    "- The rows in this table represent movies.\n",
    "- There are 250 rows in this table.\n",
    "- 10 rows are shown by default."
   ]
  },
  {
   "cell_type": "markdown",
   "metadata": {},
   "source": [
    "### Table Attributes <a id='subsection 1a'></a>\n",
    "\n",
    "Every table has **attributes** that give information about the table, like the number of rows and the number of columns. Table attributes are accessed using the dot method. But, since an attribute doesn't perform an operation on the table, there are no parentheses (like there would be in a call expression).\n",
    "\n",
    "<div class=\"alert alert-warning\">\n",
    "<b>PRACTICE:</b> Attributes you'll frequently use include the number of rows and number of columns in a table. Use the Python Reference Sheet to find a method that will find the number of rows and number of columns in the <code>ratings</code> table.\n",
    "    </div>"
   ]
  },
  {
   "cell_type": "code",
   "execution_count": null,
   "metadata": {},
   "outputs": [],
   "source": [
    "# get the number of rows in the table\n",
    "..."
   ]
  },
  {
   "cell_type": "code",
   "execution_count": null,
   "metadata": {},
   "outputs": [],
   "source": [
    "# get the number of columns in the table\n",
    "..."
   ]
  },
  {
   "cell_type": "code",
   "execution_count": 4,
   "metadata": {},
   "outputs": [
    {
     "name": "stdout",
     "output_type": "stream",
     "text": [
      "250\n",
      "5\n"
     ]
    }
   ],
   "source": [
    "# SOLUTION\n",
    "print(ratings.num_rows)\n",
    "print(ratings.num_columns)"
   ]
  },
  {
   "cell_type": "markdown",
   "metadata": {},
   "source": [
    "Another attribute you can look at is the column names of a table. Although you can clearly list off the column names of the `ratings` table, it may be helpful to get an array of column names for tables with far more columns. Real-world datasets sometimes have hundreds or thousands of columns, so you may want to look at this before scrolling through the whole table. \n",
    "\n",
    "<div class=\"alert alert-warning\">\n",
    "<b>PRACTICE:</b> Look at the Python Reference Sheet again and find a method that outputs the column names of a table. Then, use it on the <code>ratings</code> table.\n",
    "    </div>"
   ]
  },
  {
   "cell_type": "code",
   "execution_count": null,
   "metadata": {},
   "outputs": [],
   "source": [
    "# find the column names of the table\n",
    "..."
   ]
  },
  {
   "cell_type": "code",
   "execution_count": 5,
   "metadata": {},
   "outputs": [
    {
     "data": {
      "text/plain": [
       "('Votes', 'Rank', 'Title ', 'Year', 'Decade')"
      ]
     },
     "execution_count": 5,
     "metadata": {},
     "output_type": "execute_result"
    }
   ],
   "source": [
    "# SOLUTION\n",
    "ratings.labels"
   ]
  },
  {
   "cell_type": "markdown",
   "metadata": {},
   "source": [
    "Now that you are looking at the column names as strings in an array format, do you notice anything odd about any of the column names? What issue(s) might come up if you hadn't used this method to get the column labels?"
   ]
  },
  {
   "cell_type": "markdown",
   "metadata": {},
   "source": [
    "_Written Answer:_"
   ]
  },
  {
   "cell_type": "markdown",
   "metadata": {},
   "source": [
    "__SOLUTION__:\n",
    "- It's odd that there is a space at the end of the 'Title' column name.\n",
    "- If we hadn't used this method to get the column labels, we might have overlooked this space and been very confused about what could have been causing errors later in the notebook."
   ]
  },
  {
   "cell_type": "markdown",
   "metadata": {},
   "source": [
    "The \"Decade\" column was likely added to the table after all of the other columns. After all, you can look at the year and know what decade the movie was made in.\n",
    "\n",
    "<div class=\"alert alert-warning\">\n",
    "<b>PRACTICE:</b> Consider what data type the values in the \"Decade\" column might be. Then, write arithmetic that converts a given year into a decade. Be sure that this conversion becomes the same data type as the values in the \"Decade\" column. Try testing out different years in <code>year</code> to make sure your calculations are correct.\n",
    "    </div>"
   ]
  },
  {
   "cell_type": "code",
   "execution_count": null,
   "metadata": {},
   "outputs": [],
   "source": [
    "# convert year to a decade\n",
    "year = 1975\n",
    "decade = ...\n",
    "decade"
   ]
  },
  {
   "cell_type": "code",
   "execution_count": 6,
   "metadata": {},
   "outputs": [
    {
     "data": {
      "text/plain": [
       "1970"
      ]
     },
     "execution_count": 6,
     "metadata": {},
     "output_type": "execute_result"
    }
   ],
   "source": [
    "# SOLUTION\n",
    "year = 1975\n",
    "decade = int(year / 10) * 10\n",
    "decade"
   ]
  },
  {
   "cell_type": "markdown",
   "metadata": {},
   "source": [
    "### Table Transformations <a id='subsection 1b'></a>\n",
    "\n",
    "Not all of our columns are relevant to every question we want to ask. We can save computational resources and avoid confusion by *transforming* our table before we start work.\n",
    "\n",
    "\n",
    "### `select`\n",
    "The `select` function is used to get a table containing only particular columns. `select` is called on a table using dot notation and takes one or more arguments: the name or names of the column or columns you want. Note that this *does not* change the original table. To save your changes, you must assign your change a name.\n",
    "\n",
    "<div class=\"alert alert-warning\">\n",
    "    <b>PRACTICE:</b> To confirm this, select two columns from the <code>ratings</code> table but do <i>not</i> assign it to a name. Then, look at the <code>ratings</code> table again to see if any changes had been made.\n",
    "    </div>"
   ]
  },
  {
   "cell_type": "code",
   "execution_count": null,
   "metadata": {},
   "outputs": [],
   "source": [
    "# make a new table with only selected columns\n",
    "..."
   ]
  },
  {
   "cell_type": "code",
   "execution_count": null,
   "metadata": {},
   "outputs": [],
   "source": [
    "# confirm that there are no changes made to the original table\n",
    "..."
   ]
  },
  {
   "cell_type": "code",
   "execution_count": 7,
   "metadata": {},
   "outputs": [
    {
     "data": {
      "text/html": [
       "<table border=\"1\" class=\"dataframe\">\n",
       "    <thead>\n",
       "        <tr>\n",
       "            <th>Votes</th> <th>Rank</th> <th>Title </th> <th>Year</th> <th>Decade</th>\n",
       "        </tr>\n",
       "    </thead>\n",
       "    <tbody>\n",
       "        <tr>\n",
       "            <td>88355 </td> <td>8.4 </td> <td>M (1931)                    </td> <td>1931</td> <td>1930  </td>\n",
       "        </tr>\n",
       "        <tr>\n",
       "            <td>132823</td> <td>8.3 </td> <td>Singin' in the Rain (1952)  </td> <td>1952</td> <td>1950  </td>\n",
       "        </tr>\n",
       "        <tr>\n",
       "            <td>74178 </td> <td>8.3 </td> <td>All About Eve (1950)        </td> <td>1950</td> <td>1950  </td>\n",
       "        </tr>\n",
       "        <tr>\n",
       "            <td>635139</td> <td>8.6 </td> <td>Léon (1994)                 </td> <td>1994</td> <td>1990  </td>\n",
       "        </tr>\n",
       "        <tr>\n",
       "            <td>145514</td> <td>8.2 </td> <td>The Elephant Man (1980)     </td> <td>1980</td> <td>1980  </td>\n",
       "        </tr>\n",
       "        <tr>\n",
       "            <td>425461</td> <td>8.3 </td> <td>Full Metal Jacket (1987)    </td> <td>1987</td> <td>1980  </td>\n",
       "        </tr>\n",
       "        <tr>\n",
       "            <td>441174</td> <td>8.1 </td> <td>Gone Girl (2014)            </td> <td>2014</td> <td>2010  </td>\n",
       "        </tr>\n",
       "        <tr>\n",
       "            <td>850601</td> <td>8.3 </td> <td>Batman Begins (2005)        </td> <td>2005</td> <td>2000  </td>\n",
       "        </tr>\n",
       "        <tr>\n",
       "            <td>37664 </td> <td>8.2 </td> <td>Judgment at Nuremberg (1961)</td> <td>1961</td> <td>1960  </td>\n",
       "        </tr>\n",
       "        <tr>\n",
       "            <td>46987 </td> <td>8   </td> <td>Relatos salvajes (2014)     </td> <td>2014</td> <td>2010  </td>\n",
       "        </tr>\n",
       "    </tbody>\n",
       "</table>\n",
       "<p>... (240 rows omitted)</p>"
      ],
      "text/plain": [
       "Votes  | Rank | Title                        | Year | Decade\n",
       "88355  | 8.4  | M (1931)                     | 1931 | 1930\n",
       "132823 | 8.3  | Singin' in the Rain (1952)   | 1952 | 1950\n",
       "74178  | 8.3  | All About Eve (1950)         | 1950 | 1950\n",
       "635139 | 8.6  | Léon (1994)                  | 1994 | 1990\n",
       "145514 | 8.2  | The Elephant Man (1980)      | 1980 | 1980\n",
       "425461 | 8.3  | Full Metal Jacket (1987)     | 1987 | 1980\n",
       "441174 | 8.1  | Gone Girl (2014)             | 2014 | 2010\n",
       "850601 | 8.3  | Batman Begins (2005)         | 2005 | 2000\n",
       "37664  | 8.2  | Judgment at Nuremberg (1961) | 1961 | 1960\n",
       "46987  | 8    | Relatos salvajes (2014)      | 2014 | 2010\n",
       "... (240 rows omitted)"
      ]
     },
     "execution_count": 7,
     "metadata": {},
     "output_type": "execute_result"
    }
   ],
   "source": [
    "# SOLUTION\n",
    "ratings.select(\"Votes\", \"Title \")\n",
    "ratings"
   ]
  },
  {
   "cell_type": "markdown",
   "metadata": {},
   "source": [
    "### `drop`\n",
    "\n",
    "If instead you need all columns except a few, the `drop` function can get rid of specified columns. `drop` works very similarly to `select`: call it on the table using dot notation, then give it the name or names of what you want to drop.\n",
    "\n",
    "<div class=\"alert alert-warning\">\n",
    "    <b>PRACTICE:</b> Drop the columns that you did <i>not</i> select in the previous section. Similarly, make sure that you do <i>not</i> assign this table to a name.\n",
    "    </div>"
   ]
  },
  {
   "cell_type": "code",
   "execution_count": null,
   "metadata": {},
   "outputs": [],
   "source": [
    "# drop the columns you didn't select earlier\n",
    "..."
   ]
  },
  {
   "cell_type": "code",
   "execution_count": 8,
   "metadata": {},
   "outputs": [
    {
     "data": {
      "text/html": [
       "<table border=\"1\" class=\"dataframe\">\n",
       "    <thead>\n",
       "        <tr>\n",
       "            <th>Votes</th> <th>Title </th>\n",
       "        </tr>\n",
       "    </thead>\n",
       "    <tbody>\n",
       "        <tr>\n",
       "            <td>88355 </td> <td>M (1931)                    </td>\n",
       "        </tr>\n",
       "        <tr>\n",
       "            <td>132823</td> <td>Singin' in the Rain (1952)  </td>\n",
       "        </tr>\n",
       "        <tr>\n",
       "            <td>74178 </td> <td>All About Eve (1950)        </td>\n",
       "        </tr>\n",
       "        <tr>\n",
       "            <td>635139</td> <td>Léon (1994)                 </td>\n",
       "        </tr>\n",
       "        <tr>\n",
       "            <td>145514</td> <td>The Elephant Man (1980)     </td>\n",
       "        </tr>\n",
       "        <tr>\n",
       "            <td>425461</td> <td>Full Metal Jacket (1987)    </td>\n",
       "        </tr>\n",
       "        <tr>\n",
       "            <td>441174</td> <td>Gone Girl (2014)            </td>\n",
       "        </tr>\n",
       "        <tr>\n",
       "            <td>850601</td> <td>Batman Begins (2005)        </td>\n",
       "        </tr>\n",
       "        <tr>\n",
       "            <td>37664 </td> <td>Judgment at Nuremberg (1961)</td>\n",
       "        </tr>\n",
       "        <tr>\n",
       "            <td>46987 </td> <td>Relatos salvajes (2014)     </td>\n",
       "        </tr>\n",
       "    </tbody>\n",
       "</table>\n",
       "<p>... (240 rows omitted)</p>"
      ],
      "text/plain": [
       "Votes  | Title\n",
       "88355  | M (1931)\n",
       "132823 | Singin' in the Rain (1952)\n",
       "74178  | All About Eve (1950)\n",
       "635139 | Léon (1994)\n",
       "145514 | The Elephant Man (1980)\n",
       "425461 | Full Metal Jacket (1987)\n",
       "441174 | Gone Girl (2014)\n",
       "850601 | Batman Begins (2005)\n",
       "37664  | Judgment at Nuremberg (1961)\n",
       "46987  | Relatos salvajes (2014)\n",
       "... (240 rows omitted)"
      ]
     },
     "execution_count": 8,
     "metadata": {},
     "output_type": "execute_result"
    }
   ],
   "source": [
    "# SOLUTION\n",
    "ratings.drop(\"Rank\", \"Year\", \"Decade\")"
   ]
  },
  {
   "cell_type": "markdown",
   "metadata": {},
   "source": [
    "### `relabeled`\n",
    "\n",
    "Other times, you may want to rename the columns of your table to make more sense. Again, you can use the dot notation with `relabeled` to accomplish this.\n",
    "\n",
    "<div class=\"alert alert-warning\">\n",
    "<b>PRACTICE:</b> In the following code cell, rename the \"Rank\" column to a name that is more descriptive of the values in the column. Take a look at the arguments it takes in the Python Reference Sheet. <i>Unlike the previous sections</i>, be sure to save this new table to a name like <code>ratings2</code>. This will allow us to use this exact table later.\n",
    "    </div>"
   ]
  },
  {
   "cell_type": "code",
   "execution_count": null,
   "metadata": {},
   "outputs": [],
   "source": [
    "# relabel the \"Rank\" column to a name that makes more sense\n",
    "..."
   ]
  },
  {
   "cell_type": "code",
   "execution_count": 9,
   "metadata": {},
   "outputs": [
    {
     "data": {
      "text/html": [
       "<table border=\"1\" class=\"dataframe\">\n",
       "    <thead>\n",
       "        <tr>\n",
       "            <th>Votes</th> <th>Rating</th> <th>Title </th> <th>Year</th> <th>Decade</th>\n",
       "        </tr>\n",
       "    </thead>\n",
       "    <tbody>\n",
       "        <tr>\n",
       "            <td>88355 </td> <td>8.4   </td> <td>M (1931)                    </td> <td>1931</td> <td>1930  </td>\n",
       "        </tr>\n",
       "        <tr>\n",
       "            <td>132823</td> <td>8.3   </td> <td>Singin' in the Rain (1952)  </td> <td>1952</td> <td>1950  </td>\n",
       "        </tr>\n",
       "        <tr>\n",
       "            <td>74178 </td> <td>8.3   </td> <td>All About Eve (1950)        </td> <td>1950</td> <td>1950  </td>\n",
       "        </tr>\n",
       "        <tr>\n",
       "            <td>635139</td> <td>8.6   </td> <td>Léon (1994)                 </td> <td>1994</td> <td>1990  </td>\n",
       "        </tr>\n",
       "        <tr>\n",
       "            <td>145514</td> <td>8.2   </td> <td>The Elephant Man (1980)     </td> <td>1980</td> <td>1980  </td>\n",
       "        </tr>\n",
       "        <tr>\n",
       "            <td>425461</td> <td>8.3   </td> <td>Full Metal Jacket (1987)    </td> <td>1987</td> <td>1980  </td>\n",
       "        </tr>\n",
       "        <tr>\n",
       "            <td>441174</td> <td>8.1   </td> <td>Gone Girl (2014)            </td> <td>2014</td> <td>2010  </td>\n",
       "        </tr>\n",
       "        <tr>\n",
       "            <td>850601</td> <td>8.3   </td> <td>Batman Begins (2005)        </td> <td>2005</td> <td>2000  </td>\n",
       "        </tr>\n",
       "        <tr>\n",
       "            <td>37664 </td> <td>8.2   </td> <td>Judgment at Nuremberg (1961)</td> <td>1961</td> <td>1960  </td>\n",
       "        </tr>\n",
       "        <tr>\n",
       "            <td>46987 </td> <td>8     </td> <td>Relatos salvajes (2014)     </td> <td>2014</td> <td>2010  </td>\n",
       "        </tr>\n",
       "    </tbody>\n",
       "</table>\n",
       "<p>... (240 rows omitted)</p>"
      ],
      "text/plain": [
       "Votes  | Rating | Title                        | Year | Decade\n",
       "88355  | 8.4    | M (1931)                     | 1931 | 1930\n",
       "132823 | 8.3    | Singin' in the Rain (1952)   | 1952 | 1950\n",
       "74178  | 8.3    | All About Eve (1950)         | 1950 | 1950\n",
       "635139 | 8.6    | Léon (1994)                  | 1994 | 1990\n",
       "145514 | 8.2    | The Elephant Man (1980)      | 1980 | 1980\n",
       "425461 | 8.3    | Full Metal Jacket (1987)     | 1987 | 1980\n",
       "441174 | 8.1    | Gone Girl (2014)             | 2014 | 2010\n",
       "850601 | 8.3    | Batman Begins (2005)         | 2005 | 2000\n",
       "37664  | 8.2    | Judgment at Nuremberg (1961) | 1961 | 1960\n",
       "46987  | 8      | Relatos salvajes (2014)      | 2014 | 2010\n",
       "... (240 rows omitted)"
      ]
     },
     "execution_count": 9,
     "metadata": {},
     "output_type": "execute_result"
    }
   ],
   "source": [
    "# SOLUTION\n",
    "ratings2 = ratings.relabeled(\"Rank\", \"Rating\")\n",
    "ratings2"
   ]
  },
  {
   "cell_type": "markdown",
   "metadata": {},
   "source": [
    "## 2. Sorting Tables <a id='section 2'></a>\n",
    "\n",
    "The last section covered `select`, `drop`, and `relabeled`. In this next section, we'll learn how we can sort and manipulate data that are placed in tables. However, it's important to know a few more pieces of information before we actually sort the data.\n",
    "\n",
    "### `show`\n",
    "\n",
    "In a table, we can display a specific amount of rows using the `show` operation. The `show` operations allows you to enter the amount of rows you want displayed from a table. This can be helpful when you want to look at a certain number of entries in your table.\n",
    "\n",
    "<div class=\"alert alert-warning\">\n",
    "    <b>PRACTICE:</b> Display the first 20 rows of the <code>ratings2</code> table.\n",
    "    </div>"
   ]
  },
  {
   "cell_type": "code",
   "execution_count": null,
   "metadata": {},
   "outputs": [],
   "source": [
    "# use show to display 20 rows\n",
    "..."
   ]
  },
  {
   "cell_type": "code",
   "execution_count": 10,
   "metadata": {},
   "outputs": [
    {
     "data": {
      "text/html": [
       "<table border=\"1\" class=\"dataframe\">\n",
       "    <thead>\n",
       "        <tr>\n",
       "            <th>Votes</th> <th>Rating</th> <th>Title </th> <th>Year</th> <th>Decade</th>\n",
       "        </tr>\n",
       "    </thead>\n",
       "    <tbody>\n",
       "        <tr>\n",
       "            <td>88355 </td> <td>8.4   </td> <td>M (1931)                                 </td> <td>1931</td> <td>1930  </td>\n",
       "        </tr>\n",
       "        <tr>\n",
       "            <td>132823</td> <td>8.3   </td> <td>Singin' in the Rain (1952)               </td> <td>1952</td> <td>1950  </td>\n",
       "        </tr>\n",
       "        <tr>\n",
       "            <td>74178 </td> <td>8.3   </td> <td>All About Eve (1950)                     </td> <td>1950</td> <td>1950  </td>\n",
       "        </tr>\n",
       "        <tr>\n",
       "            <td>635139</td> <td>8.6   </td> <td>Léon (1994)                              </td> <td>1994</td> <td>1990  </td>\n",
       "        </tr>\n",
       "        <tr>\n",
       "            <td>145514</td> <td>8.2   </td> <td>The Elephant Man (1980)                  </td> <td>1980</td> <td>1980  </td>\n",
       "        </tr>\n",
       "        <tr>\n",
       "            <td>425461</td> <td>8.3   </td> <td>Full Metal Jacket (1987)                 </td> <td>1987</td> <td>1980  </td>\n",
       "        </tr>\n",
       "        <tr>\n",
       "            <td>441174</td> <td>8.1   </td> <td>Gone Girl (2014)                         </td> <td>2014</td> <td>2010  </td>\n",
       "        </tr>\n",
       "        <tr>\n",
       "            <td>850601</td> <td>8.3   </td> <td>Batman Begins (2005)                     </td> <td>2005</td> <td>2000  </td>\n",
       "        </tr>\n",
       "        <tr>\n",
       "            <td>37664 </td> <td>8.2   </td> <td>Judgment at Nuremberg (1961)             </td> <td>1961</td> <td>1960  </td>\n",
       "        </tr>\n",
       "        <tr>\n",
       "            <td>46987 </td> <td>8     </td> <td>Relatos salvajes (2014)                  </td> <td>2014</td> <td>2010  </td>\n",
       "        </tr>\n",
       "        <tr>\n",
       "            <td>56842 </td> <td>8.1   </td> <td>It Happened One Night (1934)             </td> <td>1934</td> <td>1930  </td>\n",
       "        </tr>\n",
       "        <tr>\n",
       "            <td>502773</td> <td>8.2   </td> <td>Gran Torino (2008)                       </td> <td>2008</td> <td>2000  </td>\n",
       "        </tr>\n",
       "        <tr>\n",
       "            <td>156432</td> <td>8.3   </td> <td>Some Like It Hot (1959)                  </td> <td>1959</td> <td>1950  </td>\n",
       "        </tr>\n",
       "        <tr>\n",
       "            <td>755013</td> <td>8.3   </td> <td>Inglourious Basterds (2009)              </td> <td>2009</td> <td>2000  </td>\n",
       "        </tr>\n",
       "        <tr>\n",
       "            <td>264285</td> <td>8.1   </td> <td>The Princess Bride (1987)                </td> <td>1987</td> <td>1980  </td>\n",
       "        </tr>\n",
       "        <tr>\n",
       "            <td>192165</td> <td>8.4   </td> <td>Mononoke-hime (1997)                     </td> <td>1997</td> <td>1990  </td>\n",
       "        </tr>\n",
       "        <tr>\n",
       "            <td>769893</td> <td>8.5   </td> <td>Saving Private Ryan (1998)               </td> <td>1998</td> <td>1990  </td>\n",
       "        </tr>\n",
       "        <tr>\n",
       "            <td>69510 </td> <td>8.2   </td> <td>Mr. Smith Goes to Washington (1939)      </td> <td>1939</td> <td>1930  </td>\n",
       "        </tr>\n",
       "        <tr>\n",
       "            <td>134552</td> <td>8.1   </td> <td>Butch Cassidy and the Sundance Kid (1969)</td> <td>1969</td> <td>1960  </td>\n",
       "        </tr>\n",
       "        <tr>\n",
       "            <td>229533</td> <td>8.4   </td> <td>Das Leben der Anderen (2006)             </td> <td>2006</td> <td>2000  </td>\n",
       "        </tr>\n",
       "    </tbody>\n",
       "</table>\n",
       "<p>... (230 rows omitted)</p>"
      ],
      "text/plain": [
       "<IPython.core.display.HTML object>"
      ]
     },
     "metadata": {},
     "output_type": "display_data"
    }
   ],
   "source": [
    "# SOLUTION\n",
    "ratings2.show(20)"
   ]
  },
  {
   "cell_type": "markdown",
   "metadata": {},
   "source": [
    "Although it's nice that you can show the first 20 rows of a table, you can see that there is no logical ordering as of right now. `sort` will alleviate that, so let's first look at the most basic usage of `sort`."
   ]
  },
  {
   "cell_type": "code",
   "execution_count": 11,
   "metadata": {},
   "outputs": [
    {
     "data": {
      "text/html": [
       "<table border=\"1\" class=\"dataframe\">\n",
       "    <thead>\n",
       "        <tr>\n",
       "            <th>Votes</th> <th>Rating</th> <th>Title </th> <th>Year</th> <th>Decade</th>\n",
       "        </tr>\n",
       "    </thead>\n",
       "    <tbody>\n",
       "        <tr>\n",
       "            <td>55784 </td> <td>8.3   </td> <td>The Kid (1921)                     </td> <td>1921</td> <td>1920  </td>\n",
       "        </tr>\n",
       "        <tr>\n",
       "            <td>58506 </td> <td>8.2   </td> <td>The Gold Rush (1925)               </td> <td>1925</td> <td>1920  </td>\n",
       "        </tr>\n",
       "        <tr>\n",
       "            <td>46332 </td> <td>8.2   </td> <td>The General (1926)                 </td> <td>1926</td> <td>1920  </td>\n",
       "        </tr>\n",
       "        <tr>\n",
       "            <td>98794 </td> <td>8.3   </td> <td>Metropolis (1927)                  </td> <td>1927</td> <td>1920  </td>\n",
       "        </tr>\n",
       "        <tr>\n",
       "            <td>88355 </td> <td>8.4   </td> <td>M (1931)                           </td> <td>1931</td> <td>1930  </td>\n",
       "        </tr>\n",
       "        <tr>\n",
       "            <td>92375 </td> <td>8.5   </td> <td>City Lights (1931)                 </td> <td>1931</td> <td>1930  </td>\n",
       "        </tr>\n",
       "        <tr>\n",
       "            <td>56842 </td> <td>8.1   </td> <td>It Happened One Night (1934)       </td> <td>1934</td> <td>1930  </td>\n",
       "        </tr>\n",
       "        <tr>\n",
       "            <td>121668</td> <td>8.5   </td> <td>Modern Times (1936)                </td> <td>1936</td> <td>1930  </td>\n",
       "        </tr>\n",
       "        <tr>\n",
       "            <td>69510 </td> <td>8.2   </td> <td>Mr. Smith Goes to Washington (1939)</td> <td>1939</td> <td>1930  </td>\n",
       "        </tr>\n",
       "        <tr>\n",
       "            <td>259235</td> <td>8.1   </td> <td>The Wizard of Oz (1939)            </td> <td>1939</td> <td>1930  </td>\n",
       "        </tr>\n",
       "    </tbody>\n",
       "</table>\n",
       "<p>... (240 rows omitted)</p>"
      ],
      "text/plain": [
       "Votes  | Rating | Title                               | Year | Decade\n",
       "55784  | 8.3    | The Kid (1921)                      | 1921 | 1920\n",
       "58506  | 8.2    | The Gold Rush (1925)                | 1925 | 1920\n",
       "46332  | 8.2    | The General (1926)                  | 1926 | 1920\n",
       "98794  | 8.3    | Metropolis (1927)                   | 1927 | 1920\n",
       "88355  | 8.4    | M (1931)                            | 1931 | 1930\n",
       "92375  | 8.5    | City Lights (1931)                  | 1931 | 1930\n",
       "56842  | 8.1    | It Happened One Night (1934)        | 1934 | 1930\n",
       "121668 | 8.5    | Modern Times (1936)                 | 1936 | 1930\n",
       "69510  | 8.2    | Mr. Smith Goes to Washington (1939) | 1939 | 1930\n",
       "259235 | 8.1    | The Wizard of Oz (1939)             | 1939 | 1930\n",
       "... (240 rows omitted)"
      ]
     },
     "execution_count": 11,
     "metadata": {},
     "output_type": "execute_result"
    }
   ],
   "source": [
    "# run this cell\n",
    "ratings2.sort(\"Year\")"
   ]
  },
  {
   "cell_type": "markdown",
   "metadata": {},
   "source": [
    "Based on this one evaluation, make a few guesses about the `sort` method.\n",
    "\n",
    "1. What does the argument in `sort` denote?\n",
    "2. How is the table sorted? Is it from lowest to highest or highest to lowest?\n",
    "3. How do you think the table will be sorted if we had instead chosen the column \"Title\"?"
   ]
  },
  {
   "cell_type": "markdown",
   "metadata": {},
   "source": [
    "_Written Answer:_"
   ]
  },
  {
   "cell_type": "markdown",
   "metadata": {},
   "source": [
    "__SOLUTION__:\n",
    "1. The argument in `sort` denotes the column(s) that you want to sort by.\n",
    "2. The table is sorted from lowest to highest.\n",
    "3. If we had instead chosen the column \"Title\", the table would instead be sorted in alphabetical order."
   ]
  },
  {
   "cell_type": "markdown",
   "metadata": {},
   "source": [
    "We can answer the last question right now. Try sorting the table by the column \"Title\". Does it confirm what you suspected?"
   ]
  },
  {
   "cell_type": "code",
   "execution_count": null,
   "metadata": {},
   "outputs": [],
   "source": [
    "..."
   ]
  },
  {
   "cell_type": "code",
   "execution_count": 12,
   "metadata": {},
   "outputs": [
    {
     "data": {
      "text/html": [
       "<table border=\"1\" class=\"dataframe\">\n",
       "    <thead>\n",
       "        <tr>\n",
       "            <th>Votes</th> <th>Rating</th> <th>Title </th> <th>Year</th> <th>Decade</th>\n",
       "        </tr>\n",
       "    </thead>\n",
       "    <tbody>\n",
       "        <tr>\n",
       "            <td>384187</td> <td>8.9   </td> <td>12 Angry Men (1957)         </td> <td>1957</td> <td>1950  </td>\n",
       "        </tr>\n",
       "        <tr>\n",
       "            <td>359121</td> <td>8.1   </td> <td>12 Years a Slave (2013)     </td> <td>2013</td> <td>2010  </td>\n",
       "        </tr>\n",
       "        <tr>\n",
       "            <td>373482</td> <td>8.3   </td> <td>2001: A Space Odyssey (1968)</td> <td>1968</td> <td>1960  </td>\n",
       "        </tr>\n",
       "        <tr>\n",
       "            <td>167076</td> <td>8.2   </td> <td>3 Idiots (2009)             </td> <td>2009</td> <td>2000  </td>\n",
       "        </tr>\n",
       "        <tr>\n",
       "            <td>69988 </td> <td>8.1   </td> <td>8½ (1963)                   </td> <td>1963</td> <td>1960  </td>\n",
       "        </tr>\n",
       "        <tr>\n",
       "            <td>525515</td> <td>8.1   </td> <td>A Beautiful Mind (2001)     </td> <td>2001</td> <td>2000  </td>\n",
       "        </tr>\n",
       "        <tr>\n",
       "            <td>489807</td> <td>8.3   </td> <td>A Clockwork Orange (1971)   </td> <td>1971</td> <td>1970  </td>\n",
       "        </tr>\n",
       "        <tr>\n",
       "            <td>91652 </td> <td>8     </td> <td>Akira (1988)                </td> <td>1988</td> <td>1980  </td>\n",
       "        </tr>\n",
       "        <tr>\n",
       "            <td>496833</td> <td>8.5   </td> <td>Alien (1979)                </td> <td>1979</td> <td>1970  </td>\n",
       "        </tr>\n",
       "        <tr>\n",
       "            <td>436218</td> <td>8.4   </td> <td>Aliens (1986)               </td> <td>1986</td> <td>1980  </td>\n",
       "        </tr>\n",
       "    </tbody>\n",
       "</table>\n",
       "<p>... (240 rows omitted)</p>"
      ],
      "text/plain": [
       "Votes  | Rating | Title                        | Year | Decade\n",
       "384187 | 8.9    | 12 Angry Men (1957)          | 1957 | 1950\n",
       "359121 | 8.1    | 12 Years a Slave (2013)      | 2013 | 2010\n",
       "373482 | 8.3    | 2001: A Space Odyssey (1968) | 1968 | 1960\n",
       "167076 | 8.2    | 3 Idiots (2009)              | 2009 | 2000\n",
       "69988  | 8.1    | 8½ (1963)                    | 1963 | 1960\n",
       "525515 | 8.1    | A Beautiful Mind (2001)      | 2001 | 2000\n",
       "489807 | 8.3    | A Clockwork Orange (1971)    | 1971 | 1970\n",
       "91652  | 8      | Akira (1988)                 | 1988 | 1980\n",
       "496833 | 8.5    | Alien (1979)                 | 1979 | 1970\n",
       "436218 | 8.4    | Aliens (1986)                | 1986 | 1980\n",
       "... (240 rows omitted)"
      ]
     },
     "execution_count": 12,
     "metadata": {},
     "output_type": "execute_result"
    }
   ],
   "source": [
    "# SOLUTION\n",
    "ratings2.sort(\"Title \")"
   ]
  },
  {
   "cell_type": "markdown",
   "metadata": {},
   "source": [
    "### Another Data Type\n",
    "\n",
    "To answer these questions, it may be helpful to look at another data type. Unlike integers, floats, and strings, this data type does not fall under the numerical or word/text categories. At its core, **booleans** are `True` or `False` values.\n",
    "\n",
    "<div class=\"alert alert-warning\">\n",
    "    <b>PRACTICE:</b> Confirm this by checking the type of the variable <code>tr</code>, which is assigned to <code>True</code>. Recall that we checked data types in Report 02.\n",
    "    </div>"
   ]
  },
  {
   "cell_type": "code",
   "execution_count": null,
   "metadata": {},
   "outputs": [],
   "source": [
    "# check the data type of tr\n",
    "tr = True\n",
    "..."
   ]
  },
  {
   "cell_type": "code",
   "execution_count": 13,
   "metadata": {},
   "outputs": [
    {
     "data": {
      "text/plain": [
       "bool"
      ]
     },
     "execution_count": 13,
     "metadata": {},
     "output_type": "execute_result"
    }
   ],
   "source": [
    "# SOLUTION\n",
    "tr = True\n",
    "type(tr)"
   ]
  },
  {
   "cell_type": "markdown",
   "metadata": {},
   "source": [
    "### `sort`\n",
    "\n",
    "Booleans can be used to change how we sort our values when using the `sort` method. It would be helpful to switch between lowest to highest and highest to lowest, so `sort` takes in booleans as *optional arguments*. These are not necessary, but can be helpful in your analyses. Take a look at the format of `sort`.\n",
    "\n",
    "`table.sort(column_or_label, descending=False, distinct=False)`\n",
    "\n",
    "By default, `sort` organizes values in *ascending* order and allows for duplicate values. This is denoted by `descending=False` and `distinct=False`. To change either of these, you simply set `descending=True` or `distinct=True`.\n",
    "\n",
    "Let's put this into practice.\n",
    "\n",
    "<div class=\"alert alert-warning\">\n",
    "<b>PRACTICE:</b> Sort the table from the most recent release to the oldest movie in the table.\n",
    "    </div>"
   ]
  },
  {
   "cell_type": "code",
   "execution_count": null,
   "metadata": {},
   "outputs": [],
   "source": [
    "..."
   ]
  },
  {
   "cell_type": "code",
   "execution_count": 14,
   "metadata": {},
   "outputs": [
    {
     "data": {
      "text/html": [
       "<table border=\"1\" class=\"dataframe\">\n",
       "    <thead>\n",
       "        <tr>\n",
       "            <th>Votes</th> <th>Rating</th> <th>Title </th> <th>Year</th> <th>Decade</th>\n",
       "        </tr>\n",
       "    </thead>\n",
       "    <tbody>\n",
       "        <tr>\n",
       "            <td>79615 </td> <td>8.5   </td> <td>Inside Out (2015/I)              </td> <td>2015</td> <td>2010  </td>\n",
       "        </tr>\n",
       "        <tr>\n",
       "            <td>262425</td> <td>8.3   </td> <td>Mad Max: Fury Road (2015)        </td> <td>2015</td> <td>2010  </td>\n",
       "        </tr>\n",
       "        <tr>\n",
       "            <td>441174</td> <td>8.1   </td> <td>Gone Girl (2014)                 </td> <td>2014</td> <td>2010  </td>\n",
       "        </tr>\n",
       "        <tr>\n",
       "            <td>46987 </td> <td>8     </td> <td>Relatos salvajes (2014)          </td> <td>2014</td> <td>2010  </td>\n",
       "        </tr>\n",
       "        <tr>\n",
       "            <td>427099</td> <td>8     </td> <td>X-Men: Days of Future Past (2014)</td> <td>2014</td> <td>2010  </td>\n",
       "        </tr>\n",
       "        <tr>\n",
       "            <td>321834</td> <td>8     </td> <td>The Imitation Game (2014)        </td> <td>2014</td> <td>2010  </td>\n",
       "        </tr>\n",
       "        <tr>\n",
       "            <td>689541</td> <td>8.6   </td> <td>Interstellar (2014)              </td> <td>2014</td> <td>2010  </td>\n",
       "        </tr>\n",
       "        <tr>\n",
       "            <td>527349</td> <td>8     </td> <td>Guardians of the Galaxy (2014)   </td> <td>2014</td> <td>2010  </td>\n",
       "        </tr>\n",
       "        <tr>\n",
       "            <td>369141</td> <td>8.1   </td> <td>The Grand Budapest Hotel (2014)  </td> <td>2014</td> <td>2010  </td>\n",
       "        </tr>\n",
       "        <tr>\n",
       "            <td>264333</td> <td>8.5   </td> <td>Whiplash (2014)                  </td> <td>2014</td> <td>2010  </td>\n",
       "        </tr>\n",
       "    </tbody>\n",
       "</table>\n",
       "<p>... (240 rows omitted)</p>"
      ],
      "text/plain": [
       "Votes  | Rating | Title                             | Year | Decade\n",
       "79615  | 8.5    | Inside Out (2015/I)               | 2015 | 2010\n",
       "262425 | 8.3    | Mad Max: Fury Road (2015)         | 2015 | 2010\n",
       "441174 | 8.1    | Gone Girl (2014)                  | 2014 | 2010\n",
       "46987  | 8      | Relatos salvajes (2014)           | 2014 | 2010\n",
       "427099 | 8      | X-Men: Days of Future Past (2014) | 2014 | 2010\n",
       "321834 | 8      | The Imitation Game (2014)         | 2014 | 2010\n",
       "689541 | 8.6    | Interstellar (2014)               | 2014 | 2010\n",
       "527349 | 8      | Guardians of the Galaxy (2014)    | 2014 | 2010\n",
       "369141 | 8.1    | The Grand Budapest Hotel (2014)   | 2014 | 2010\n",
       "264333 | 8.5    | Whiplash (2014)                   | 2014 | 2010\n",
       "... (240 rows omitted)"
      ]
     },
     "execution_count": 14,
     "metadata": {},
     "output_type": "execute_result"
    }
   ],
   "source": [
    "# SOLUTION\n",
    "ratings2.sort(\"Year\", descending=True)"
   ]
  },
  {
   "cell_type": "markdown",
   "metadata": {},
   "source": [
    "<div class=\"alert alert-warning\">\n",
    "    <b>PRACTICE:</b> The movies seem to span from 1921 to 2015. How many distinct years are there in this table?\n",
    "    </div>"
   ]
  },
  {
   "cell_type": "code",
   "execution_count": null,
   "metadata": {},
   "outputs": [],
   "source": [
    "..."
   ]
  },
  {
   "cell_type": "code",
   "execution_count": 15,
   "metadata": {},
   "outputs": [
    {
     "data": {
      "text/html": [
       "<table border=\"1\" class=\"dataframe\">\n",
       "    <thead>\n",
       "        <tr>\n",
       "            <th>Votes</th> <th>Rating</th> <th>Title </th> <th>Year</th> <th>Decade</th>\n",
       "        </tr>\n",
       "    </thead>\n",
       "    <tbody>\n",
       "        <tr>\n",
       "            <td>55784 </td> <td>8.3   </td> <td>The Kid (1921)                     </td> <td>1921</td> <td>1920  </td>\n",
       "        </tr>\n",
       "        <tr>\n",
       "            <td>58506 </td> <td>8.2   </td> <td>The Gold Rush (1925)               </td> <td>1925</td> <td>1920  </td>\n",
       "        </tr>\n",
       "        <tr>\n",
       "            <td>46332 </td> <td>8.2   </td> <td>The General (1926)                 </td> <td>1926</td> <td>1920  </td>\n",
       "        </tr>\n",
       "        <tr>\n",
       "            <td>98794 </td> <td>8.3   </td> <td>Metropolis (1927)                  </td> <td>1927</td> <td>1920  </td>\n",
       "        </tr>\n",
       "        <tr>\n",
       "            <td>88355 </td> <td>8.4   </td> <td>M (1931)                           </td> <td>1931</td> <td>1930  </td>\n",
       "        </tr>\n",
       "        <tr>\n",
       "            <td>56842 </td> <td>8.1   </td> <td>It Happened One Night (1934)       </td> <td>1934</td> <td>1930  </td>\n",
       "        </tr>\n",
       "        <tr>\n",
       "            <td>121668</td> <td>8.5   </td> <td>Modern Times (1936)                </td> <td>1936</td> <td>1930  </td>\n",
       "        </tr>\n",
       "        <tr>\n",
       "            <td>69510 </td> <td>8.2   </td> <td>Mr. Smith Goes to Washington (1939)</td> <td>1939</td> <td>1930  </td>\n",
       "        </tr>\n",
       "        <tr>\n",
       "            <td>55793 </td> <td>8.1   </td> <td>The Grapes of Wrath (1940)         </td> <td>1940</td> <td>1940  </td>\n",
       "        </tr>\n",
       "        <tr>\n",
       "            <td>101754</td> <td>8.1   </td> <td>The Maltese Falcon (1941)          </td> <td>1941</td> <td>1940  </td>\n",
       "        </tr>\n",
       "    </tbody>\n",
       "</table>\n",
       "<p>... (70 rows omitted)</p>"
      ],
      "text/plain": [
       "Votes  | Rating | Title                               | Year | Decade\n",
       "55784  | 8.3    | The Kid (1921)                      | 1921 | 1920\n",
       "58506  | 8.2    | The Gold Rush (1925)                | 1925 | 1920\n",
       "46332  | 8.2    | The General (1926)                  | 1926 | 1920\n",
       "98794  | 8.3    | Metropolis (1927)                   | 1927 | 1920\n",
       "88355  | 8.4    | M (1931)                            | 1931 | 1930\n",
       "56842  | 8.1    | It Happened One Night (1934)        | 1934 | 1930\n",
       "121668 | 8.5    | Modern Times (1936)                 | 1936 | 1930\n",
       "69510  | 8.2    | Mr. Smith Goes to Washington (1939) | 1939 | 1930\n",
       "55793  | 8.1    | The Grapes of Wrath (1940)          | 1940 | 1940\n",
       "101754 | 8.1    | The Maltese Falcon (1941)           | 1941 | 1940\n",
       "... (70 rows omitted)"
      ]
     },
     "execution_count": 15,
     "metadata": {},
     "output_type": "execute_result"
    }
   ],
   "source": [
    "# SOLUTION\n",
    "ratings2.sort(\"Year\", distinct=True)"
   ]
  },
  {
   "cell_type": "markdown",
   "metadata": {},
   "source": [
    "_Written Answer:_"
   ]
  },
  {
   "cell_type": "markdown",
   "metadata": {},
   "source": [
    "__SOLUTION__:\n",
    "\n",
    "There are 80 distinct years in this table."
   ]
  },
  {
   "cell_type": "markdown",
   "metadata": {},
   "source": [
    "The distinct argument only takes one row for each distinct value in the column we sort by. How do you think the computer decides which row to take?"
   ]
  },
  {
   "cell_type": "markdown",
   "metadata": {},
   "source": [
    "_Written Answer:_"
   ]
  },
  {
   "cell_type": "markdown",
   "metadata": {},
   "source": [
    "__SOLUTION__:\n",
    "\n",
    "The computer takes the first row in each set of distinct values."
   ]
  },
  {
   "cell_type": "markdown",
   "metadata": {},
   "source": [
    "Let's now look at another column that might be of interest.\n",
    "\n",
    "<div class=\"alert alert-warning\">\n",
    "<b>PRACTICE:</b> Sort the table from highest ranked movie to lowest ranked movie.\n",
    "</div>"
   ]
  },
  {
   "cell_type": "code",
   "execution_count": null,
   "metadata": {},
   "outputs": [],
   "source": [
    "..."
   ]
  },
  {
   "cell_type": "code",
   "execution_count": 16,
   "metadata": {},
   "outputs": [
    {
     "data": {
      "text/html": [
       "<table border=\"1\" class=\"dataframe\">\n",
       "    <thead>\n",
       "        <tr>\n",
       "            <th>Votes</th> <th>Rating</th> <th>Title </th> <th>Year</th> <th>Decade</th>\n",
       "        </tr>\n",
       "    </thead>\n",
       "    <tbody>\n",
       "        <tr>\n",
       "            <td>1027398</td> <td>9.2   </td> <td>The Godfather (1972)                                </td> <td>1972</td> <td>1970  </td>\n",
       "        </tr>\n",
       "        <tr>\n",
       "            <td>1498733</td> <td>9.2   </td> <td>The Shawshank Redemption (1994)                     </td> <td>1994</td> <td>1990  </td>\n",
       "        </tr>\n",
       "        <tr>\n",
       "            <td>692753 </td> <td>9     </td> <td>The Godfather: Part II (1974)                       </td> <td>1974</td> <td>1970  </td>\n",
       "        </tr>\n",
       "        <tr>\n",
       "            <td>447875 </td> <td>8.9   </td> <td>Il buono, il brutto, il cattivo (1966)              </td> <td>1966</td> <td>1960  </td>\n",
       "        </tr>\n",
       "        <tr>\n",
       "            <td>1473049</td> <td>8.9   </td> <td>The Dark Knight (2008)                              </td> <td>2008</td> <td>2000  </td>\n",
       "        </tr>\n",
       "        <tr>\n",
       "            <td>384187 </td> <td>8.9   </td> <td>12 Angry Men (1957)                                 </td> <td>1957</td> <td>1950  </td>\n",
       "        </tr>\n",
       "        <tr>\n",
       "            <td>1074146</td> <td>8.9   </td> <td>The Lord of the Rings: The Return of the King (2003)</td> <td>2003</td> <td>2000  </td>\n",
       "        </tr>\n",
       "        <tr>\n",
       "            <td>761224 </td> <td>8.9   </td> <td>Schindler's List (1993)                             </td> <td>1993</td> <td>1990  </td>\n",
       "        </tr>\n",
       "        <tr>\n",
       "            <td>1166532</td> <td>8.9   </td> <td>Pulp Fiction (1994)                                 </td> <td>1994</td> <td>1990  </td>\n",
       "        </tr>\n",
       "        <tr>\n",
       "            <td>1177098</td> <td>8.8   </td> <td>Fight Club (1999)                                   </td> <td>1999</td> <td>1990  </td>\n",
       "        </tr>\n",
       "    </tbody>\n",
       "</table>\n",
       "<p>... (240 rows omitted)</p>"
      ],
      "text/plain": [
       "Votes   | Rating | Title                                                | Year | Decade\n",
       "1027398 | 9.2    | The Godfather (1972)                                 | 1972 | 1970\n",
       "1498733 | 9.2    | The Shawshank Redemption (1994)                      | 1994 | 1990\n",
       "692753  | 9      | The Godfather: Part II (1974)                        | 1974 | 1970\n",
       "447875  | 8.9    | Il buono, il brutto, il cattivo (1966)               | 1966 | 1960\n",
       "1473049 | 8.9    | The Dark Knight (2008)                               | 2008 | 2000\n",
       "384187  | 8.9    | 12 Angry Men (1957)                                  | 1957 | 1950\n",
       "1074146 | 8.9    | The Lord of the Rings: The Return of the King (2003) | 2003 | 2000\n",
       "761224  | 8.9    | Schindler's List (1993)                              | 1993 | 1990\n",
       "1166532 | 8.9    | Pulp Fiction (1994)                                  | 1994 | 1990\n",
       "1177098 | 8.8    | Fight Club (1999)                                    | 1999 | 1990\n",
       "... (240 rows omitted)"
      ]
     },
     "execution_count": 16,
     "metadata": {},
     "output_type": "execute_result"
    }
   ],
   "source": [
    "# SOLUTION\n",
    "ratings2.sort(\"Rating\", descending=True)"
   ]
  },
  {
   "cell_type": "markdown",
   "metadata": {},
   "source": [
    "Based on this table, what rankings would you consider high ratings and why? Where do the ratings seem to cap out at?"
   ]
  },
  {
   "cell_type": "markdown",
   "metadata": {},
   "source": [
    "_Written Answer:_"
   ]
  },
  {
   "cell_type": "markdown",
   "metadata": {},
   "source": [
    "__SOLUTION__:\n",
    "\n",
    "The rankings seem to cap out at 10. Based on personal preference, I would consider ratings above 8 to be high."
   ]
  },
  {
   "cell_type": "markdown",
   "metadata": {},
   "source": [
    "It's important to look at both ends of our values and not just the range that we are interested in. This will help us understand the data that we're working with.\n",
    "\n",
    "<div class=\"alert alert-warning\">\n",
    "    <b>PRACTICE:</b> Sort the table from lowest ranked to highest ranked.\n",
    "    </div>"
   ]
  },
  {
   "cell_type": "code",
   "execution_count": null,
   "metadata": {},
   "outputs": [],
   "source": [
    "..."
   ]
  },
  {
   "cell_type": "code",
   "execution_count": 17,
   "metadata": {},
   "outputs": [
    {
     "data": {
      "text/html": [
       "<table border=\"1\" class=\"dataframe\">\n",
       "    <thead>\n",
       "        <tr>\n",
       "            <th>Votes</th> <th>Rating</th> <th>Title </th> <th>Year</th> <th>Decade</th>\n",
       "        </tr>\n",
       "    </thead>\n",
       "    <tbody>\n",
       "        <tr>\n",
       "            <td>46987 </td> <td>8     </td> <td>Relatos salvajes (2014)                    </td> <td>2014</td> <td>2010  </td>\n",
       "        </tr>\n",
       "        <tr>\n",
       "            <td>55382 </td> <td>8     </td> <td>Bom yeoreum gaeul gyeoul geurigo bom (2003)</td> <td>2003</td> <td>2000  </td>\n",
       "        </tr>\n",
       "        <tr>\n",
       "            <td>32385 </td> <td>8     </td> <td>La battaglia di Algeri (1966)              </td> <td>1966</td> <td>1960  </td>\n",
       "        </tr>\n",
       "        <tr>\n",
       "            <td>364225</td> <td>8     </td> <td>Jaws (1975)                                </td> <td>1975</td> <td>1970  </td>\n",
       "        </tr>\n",
       "        <tr>\n",
       "            <td>158867</td> <td>8     </td> <td>Before Sunrise (1995)                      </td> <td>1995</td> <td>1990  </td>\n",
       "        </tr>\n",
       "        <tr>\n",
       "            <td>56671 </td> <td>8     </td> <td>The Killing (1956)                         </td> <td>1956</td> <td>1950  </td>\n",
       "        </tr>\n",
       "        <tr>\n",
       "            <td>87591 </td> <td>8     </td> <td>Papillon (1973)                            </td> <td>1973</td> <td>1970  </td>\n",
       "        </tr>\n",
       "        <tr>\n",
       "            <td>43090 </td> <td>8     </td> <td>Paris, Texas (1984)                        </td> <td>1984</td> <td>1980  </td>\n",
       "        </tr>\n",
       "        <tr>\n",
       "            <td>427099</td> <td>8     </td> <td>X-Men: Days of Future Past (2014)          </td> <td>2014</td> <td>2010  </td>\n",
       "        </tr>\n",
       "        <tr>\n",
       "            <td>87437 </td> <td>8     </td> <td>Roman Holiday (1953)                       </td> <td>1953</td> <td>1950  </td>\n",
       "        </tr>\n",
       "    </tbody>\n",
       "</table>\n",
       "<p>... (240 rows omitted)</p>"
      ],
      "text/plain": [
       "Votes  | Rating | Title                                       | Year | Decade\n",
       "46987  | 8      | Relatos salvajes (2014)                     | 2014 | 2010\n",
       "55382  | 8      | Bom yeoreum gaeul gyeoul geurigo bom (2003) | 2003 | 2000\n",
       "32385  | 8      | La battaglia di Algeri (1966)               | 1966 | 1960\n",
       "364225 | 8      | Jaws (1975)                                 | 1975 | 1970\n",
       "158867 | 8      | Before Sunrise (1995)                       | 1995 | 1990\n",
       "56671  | 8      | The Killing (1956)                          | 1956 | 1950\n",
       "87591  | 8      | Papillon (1973)                             | 1973 | 1970\n",
       "43090  | 8      | Paris, Texas (1984)                         | 1984 | 1980\n",
       "427099 | 8      | X-Men: Days of Future Past (2014)           | 2014 | 2010\n",
       "87437  | 8      | Roman Holiday (1953)                        | 1953 | 1950\n",
       "... (240 rows omitted)"
      ]
     },
     "execution_count": 17,
     "metadata": {},
     "output_type": "execute_result"
    }
   ],
   "source": [
    "# SOLUTION\n",
    "ratings2.sort(\"Rating\")"
   ]
  },
  {
   "cell_type": "markdown",
   "metadata": {},
   "source": [
    "This table's results might surprise you. Does your answer from above change? Why or why not?"
   ]
  },
  {
   "cell_type": "markdown",
   "metadata": {},
   "source": [
    "_Written Answer:_"
   ]
  },
  {
   "cell_type": "markdown",
   "metadata": {},
   "source": [
    "__SOLUTION__:\n",
    "\n",
    "Yes, our answer from above changes. This is because we're now looking in ascending order instead of descending order."
   ]
  },
  {
   "cell_type": "markdown",
   "metadata": {},
   "source": [
    "<div class=\"alert alert-warning\">\n",
    "    <b>PRACTICE:</b> Let's try something a bit more complicated. Find the highest ranking movie of each year. This might require assignment statements and multiple calls to <code>sort</code>. Try messing around with simple calls to <code>sort</code> or drawing out each step of this process on paper.\n",
    "</div>"
   ]
  },
  {
   "cell_type": "code",
   "execution_count": null,
   "metadata": {},
   "outputs": [],
   "source": [
    "..."
   ]
  },
  {
   "cell_type": "code",
   "execution_count": 18,
   "metadata": {},
   "outputs": [
    {
     "data": {
      "text/html": [
       "<table border=\"1\" class=\"dataframe\">\n",
       "    <thead>\n",
       "        <tr>\n",
       "            <th>Votes</th> <th>Rating</th> <th>Title </th> <th>Year</th> <th>Decade</th>\n",
       "        </tr>\n",
       "    </thead>\n",
       "    <tbody>\n",
       "        <tr>\n",
       "            <td>55784 </td> <td>8.3   </td> <td>The Kid (1921)                     </td> <td>1921</td> <td>1920  </td>\n",
       "        </tr>\n",
       "        <tr>\n",
       "            <td>58506 </td> <td>8.2   </td> <td>The Gold Rush (1925)               </td> <td>1925</td> <td>1920  </td>\n",
       "        </tr>\n",
       "        <tr>\n",
       "            <td>46332 </td> <td>8.2   </td> <td>The General (1926)                 </td> <td>1926</td> <td>1920  </td>\n",
       "        </tr>\n",
       "        <tr>\n",
       "            <td>98794 </td> <td>8.3   </td> <td>Metropolis (1927)                  </td> <td>1927</td> <td>1920  </td>\n",
       "        </tr>\n",
       "        <tr>\n",
       "            <td>92375 </td> <td>8.5   </td> <td>City Lights (1931)                 </td> <td>1931</td> <td>1930  </td>\n",
       "        </tr>\n",
       "        <tr>\n",
       "            <td>56842 </td> <td>8.1   </td> <td>It Happened One Night (1934)       </td> <td>1934</td> <td>1930  </td>\n",
       "        </tr>\n",
       "        <tr>\n",
       "            <td>121668</td> <td>8.5   </td> <td>Modern Times (1936)                </td> <td>1936</td> <td>1930  </td>\n",
       "        </tr>\n",
       "        <tr>\n",
       "            <td>69510 </td> <td>8.2   </td> <td>Mr. Smith Goes to Washington (1939)</td> <td>1939</td> <td>1930  </td>\n",
       "        </tr>\n",
       "        <tr>\n",
       "            <td>117590</td> <td>8.4   </td> <td>The Great Dictator (1940)          </td> <td>1940</td> <td>1940  </td>\n",
       "        </tr>\n",
       "        <tr>\n",
       "            <td>268905</td> <td>8.4   </td> <td>Citizen Kane (1941)                </td> <td>1941</td> <td>1940  </td>\n",
       "        </tr>\n",
       "    </tbody>\n",
       "</table>\n",
       "<p>... (70 rows omitted)</p>"
      ],
      "text/plain": [
       "Votes  | Rating | Title                               | Year | Decade\n",
       "55784  | 8.3    | The Kid (1921)                      | 1921 | 1920\n",
       "58506  | 8.2    | The Gold Rush (1925)                | 1925 | 1920\n",
       "46332  | 8.2    | The General (1926)                  | 1926 | 1920\n",
       "98794  | 8.3    | Metropolis (1927)                   | 1927 | 1920\n",
       "92375  | 8.5    | City Lights (1931)                  | 1931 | 1930\n",
       "56842  | 8.1    | It Happened One Night (1934)        | 1934 | 1930\n",
       "121668 | 8.5    | Modern Times (1936)                 | 1936 | 1930\n",
       "69510  | 8.2    | Mr. Smith Goes to Washington (1939) | 1939 | 1930\n",
       "117590 | 8.4    | The Great Dictator (1940)           | 1940 | 1940\n",
       "268905 | 8.4    | Citizen Kane (1941)                 | 1941 | 1940\n",
       "... (70 rows omitted)"
      ]
     },
     "execution_count": 18,
     "metadata": {},
     "output_type": "execute_result"
    }
   ],
   "source": [
    "# SOLUTION\n",
    "highest = ratings2.sort(\"Rating\", descending=True)\n",
    "highest.sort(\"Year\", distinct=True)"
   ]
  },
  {
   "cell_type": "markdown",
   "metadata": {},
   "source": [
    "### Downloading as PDF\n",
    "\n",
    "Download this notebook as a pdf by clicking <b><code>File > Download as > PDF via LaTeX (.pdf)</code></b>. Turn in the PDF into bCourses under the corresponding assignment."
   ]
  },
  {
   "cell_type": "markdown",
   "metadata": {},
   "source": [
    "#### References\n",
    "\n",
    "- Sections of \"Intro to Jupyter\" and \"Table Transformation\" adapted from materials by Kelly Chen and Ashley Chien in [UC Berkeley Data Science Modules core resources](http://github.com/ds-modules/core-resources)"
   ]
  },
  {
   "cell_type": "markdown",
   "metadata": {},
   "source": [
    "Authored by Keeley Takimoto, Adapted by the BUDS Team"
   ]
  }
 ],
 "metadata": {
  "kernelspec": {
   "display_name": "Python 3 (ipykernel)",
   "language": "python",
   "name": "python3"
  },
  "language_info": {
   "codemirror_mode": {
    "name": "ipython",
    "version": 3
   },
   "file_extension": ".py",
   "mimetype": "text/x-python",
   "name": "python",
   "nbconvert_exporter": "python",
   "pygments_lexer": "ipython3",
   "version": "3.10.2"
  }
 },
 "nbformat": 4,
 "nbformat_minor": 4
}
