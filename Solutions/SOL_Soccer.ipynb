{
 "cells": [
  {
   "cell_type": "code",
   "execution_count": 1,
   "metadata": {},
   "outputs": [],
   "source": [
    "# run this cell\n",
    "import pandas as pd\n",
    "from datascience import *\n",
    "import numpy as np\n",
    "import math\n",
    "import matplotlib.pyplot as plt\n",
    "plt.style.use('fivethirtyeight')\n",
    "%matplotlib inline"
   ]
  },
  {
   "cell_type": "markdown",
   "metadata": {},
   "source": [
    "# Final Project: Soccer"
   ]
  },
  {
   "cell_type": "markdown",
   "metadata": {},
   "source": [
    "### Table of Contents\n",
    "\n",
    "1. <a href='#section 1'>Formulating a Question or Problem</a> \n",
    "\n",
    "\n",
    "2. <a href='#section 2'>Acquiring and Preparing Data</a>\n",
    "\n",
    "\n",
    "3. <a href='#section 3'>Conducting Exploratory Data Analysis</a>\n",
    "\n",
    "\n",
    "4. <a href='#section 4'>Using Prediction and Inference to Draw Conclusions</a>\n",
    "<br><br>"
   ]
  },
  {
   "cell_type": "markdown",
   "metadata": {},
   "source": [
    "### Background Knowledge <a id='section 0'></a>\n"
   ]
  },
  {
   "cell_type": "markdown",
   "metadata": {},
   "source": [
    "Nothing frustrates both soccer fans and players as much as being [red-carded](https://en.wikipedia.org/wiki/Penalty_card#Red_card). In soccer, receiving a red card from the referee means that the player awarded the red card is expelled from the game. Consequently his team must play with one fewer player for the remainder of the game.\n",
    "\n",
    "Due to the inherently subjective nature of referees' judgments, questions involving the fairness of red card decisions crop up frequently, especially when soccer players with darker complexions are red-carded.\n",
    "\n",
    "For the remainder of this project, we will explore a dataset on red-cards and skin color and attempt to understand how different approachs to analysis can lead to different conclusions to the general question: \"Are referees more likely to give red cards to darker-skinned players?\"\n"
   ]
  },
  {
   "cell_type": "markdown",
   "metadata": {},
   "source": [
    " <img src=\"images/redcard.jpg\" width = 700/>"
   ]
  },
  {
   "cell_type": "markdown",
   "metadata": {},
   "source": [
    "# The Data Science Life Cycle"
   ]
  },
  {
   "cell_type": "markdown",
   "metadata": {},
   "source": [
    "## 1. Formulating a Question or Problem <a id='section 1'></a>\n",
    "It is important to ask questions that will be informative and that will avoid misleading results. "
   ]
  },
  {
   "cell_type": "markdown",
   "metadata": {},
   "source": [
    "<div class=\"alert alert-info\">\n",
    "<b>Question:</b> Recall the questions about red cards and skin color that you developed with your group. Write down that question below, and try to add onto it with the context from the articles. Think about what data you would need to answer your question.\n",
    "   </div>"
   ]
  },
  {
   "cell_type": "markdown",
   "metadata": {},
   "source": [
    "**Your questions:** *here*\n",
    "\n",
    "**Data you would need:** *here*\n",
    "\n",
    "\n",
    "**Article:** *link*"
   ]
  },
  {
   "cell_type": "markdown",
   "metadata": {},
   "source": [
    "## 2. Acquiring and Cleaning Data <a id='subsection 1b'></a>\n",
    " \n",
    "In this notebook, you'll be working with a dataset containing entries for many European soccer players, containing variables such as club, position, games, and skin complexion.\n",
    "\n",
    "Important to note about this dataset is that it was generated as the result of an [observational study](https://en.wikipedia.org/wiki/Observational_study), rather than a [randomized controlled experiment](https://en.wikipedia.org/wiki/Randomized_controlled_trial). In an observational study, entities' independent variables (such as race, height, zip code) are observed, rather than controlled as in the randomized controlled experiment. Though data scientists often prefer the control and accuracy of controlled experiments, often performing one is either too costly or poses ethical questions (e.g., testing trial drugs and placebo treatments on cancer patients at random). Though our dataset was generated organically--in the real world rather than in a laboratory--it is statistically more challenging to prove causation among variables for these kinds of observational studies.\n",
    "\n",
    "\n",
    "Please read this summary of the [dataset's description](https://osf.io/9yh4x/) to familiarize yourself with the context of the data:\n",
    "\n",
    ">*...we obtained data and profile photos from all soccer players (N = 2053) playing in the first male divisions of England, Germany, France and Spain in the 2012-2013 season and all referees (N = 3147) that these players played under in their professional career. We created a dataset of player dyads including the number of matches players and referees encountered each other and our dependent variable, the number of red cards given to a player by a particular referee throughout all matches the two encountered each other.*\n",
    "\n",
    ">*...implicit bias scores for each referee country were calculated using a race implicit association test (IAT), with higher values corresponding to faster white | good, black | bad associations. Explicit bias scores for each referee country were calculated using a racial thermometer task, with higher values corresponding to greater feelings of warmth toward whites versus blacks.*"
   ]
  },
  {
   "cell_type": "code",
   "execution_count": 2,
   "metadata": {},
   "outputs": [],
   "source": [
    "# run this cell to load the data\n",
    "data = pd.read_csv(\"data/CrowdstormingDataJuly1st.csv\").dropna()\n",
    "data = Table.from_df(data)"
   ]
  },
  {
   "cell_type": "markdown",
   "metadata": {},
   "source": [
    "Here are some of the important fields in our data set that we will focus on:\n",
    "\n",
    "|Variable Name   | Description |\n",
    "|--------------|------------|\n",
    "|`player` | player's name |\n",
    "|`club` | player's soccer club (team) |\n",
    "|`leagueCountry`| country of player club (England, Germany, France, and Spain) |\n",
    "|`height` | player height (in cm) |\n",
    "|`games`| number of games in the player-referee dyad |\n",
    "|`position` | detailed player position |\n",
    "|`goals`| goals scored by a player in the player-referee dyad |\n",
    "|`yellowCards`| number of yellow cards player received from referee |\n",
    "|`yellowReds`| number of yellow-red cards player received from referee |\n",
    "|`redCards`| number of red cards player received from referee |\n",
    "|`rater1`| skin rating of photo by rater 1 (5-point scale ranging from very light skin to very dark skin |\n",
    "|`rater2`| skin rating of photo by rater 2 (5-point scale ranging from very light skin to very dark skin |\n",
    "|`meanIAT`|  mean implicit bias score (using the race IAT) for referee country, higher values correspond to faster white good, black bad associations |\n",
    "|`meanExp`| mean explicit bias score (using a racial thermometer task) for referee country, higher values correspond to greater feelings of warmth toward whites versus blacks |"
   ]
  },
  {
   "cell_type": "markdown",
   "metadata": {},
   "source": [
    "As you can see on the table above, two of the variables we will be exploring is the ratings on skin tone (1-5) measured by two raters, Lisa and Shareef. For context, we have added a series of images that were given to them so that you can better understand their perspective on skin tones. Keep in mind that this might affect our hypothesis and drive our conclusions. \n",
    "\n",
    "Note: On the following images, the only two were the rating for the two raters coincide is image #3 on the top and image #6 on the bottom. "
   ]
  },
  {
   "cell_type": "markdown",
   "metadata": {},
   "source": [
    "<img src=\"images/L1S1.jpg\" style=\"float: left; width: 30%; margin-right: 1%; margin-bottom: 0.5em;\">\n",
    "<img src=\"images/L1S2.jpg\" style=\"float: left; width: 30%; margin-right: 1%; margin-bottom: 0.5em;\">\n",
    "<img src=\"images/L2S2.jpg\" style=\"float: left; width: 30%; margin-right: 1%; margin-bottom: 0.5em;\">\n",
    "<img src=\"images/L3S4.jpg\" style=\"float: left; width: 30%; margin-right: 1%; margin-bottom: 0.5em;\">\n",
    "<img src=\"images/L4S5.jpg\" style=\"float: left; width: 30%; margin-right: 1%; margin-bottom: 0.5em;\">\n",
    "<img src=\"images/L5S5.jpg\" style=\"float: left; width: 30%; margin-right: 1%; margin-bottom: 0.5em;\">\n",
    "<p style=\"clear: both;\">"
   ]
  },
  {
   "cell_type": "code",
   "execution_count": 3,
   "metadata": {},
   "outputs": [
    {
     "data": {
      "text/html": [
       "<table border=\"1\" class=\"dataframe\">\n",
       "    <thead>\n",
       "        <tr>\n",
       "            <th>playerShort</th> <th>player</th> <th>club</th> <th>leagueCountry</th> <th>birthday</th> <th>height</th> <th>weight</th> <th>position</th> <th>games</th> <th>victories</th> <th>ties</th> <th>defeats</th> <th>goals</th> <th>yellowCards</th> <th>yellowReds</th> <th>redCards</th> <th>photoID</th> <th>rater1</th> <th>rater2</th> <th>refNum</th> <th>refCountry</th> <th>Alpha_3</th> <th>meanIAT</th> <th>nIAT</th> <th>seIAT</th> <th>meanExp</th> <th>nExp</th> <th>seExp</th>\n",
       "        </tr>\n",
       "    </thead>\n",
       "    <tbody>\n",
       "        <tr>\n",
       "            <td>lucas-wilchez     </td> <td>Lucas Wilchez     </td> <td>Real Zaragoza    </td> <td>Spain        </td> <td>31.08.1983</td> <td>177   </td> <td>72    </td> <td>Attacking Midfielder</td> <td>1    </td> <td>0        </td> <td>0   </td> <td>1      </td> <td>0    </td> <td>0          </td> <td>0         </td> <td>0       </td> <td>95212.jpg</td> <td>0.25  </td> <td>0.5   </td> <td>1     </td> <td>1         </td> <td>GRC    </td> <td>0.326391</td> <td>712 </td> <td>0.000564112</td> <td>0.396    </td> <td>750 </td> <td>0.00269649</td>\n",
       "        </tr>\n",
       "        <tr>\n",
       "            <td>john-utaka        </td> <td>John Utaka        </td> <td>Montpellier HSC  </td> <td>France       </td> <td>08.01.1982</td> <td>179   </td> <td>82    </td> <td>Right Winger        </td> <td>1    </td> <td>0        </td> <td>0   </td> <td>1      </td> <td>0    </td> <td>1          </td> <td>0         </td> <td>0       </td> <td>1663.jpg </td> <td>0.75  </td> <td>0.75  </td> <td>2     </td> <td>2         </td> <td>ZMB    </td> <td>0.203375</td> <td>40  </td> <td>0.0108749  </td> <td>-0.204082</td> <td>49  </td> <td>0.0615044 </td>\n",
       "        </tr>\n",
       "        <tr>\n",
       "            <td>aaron-hughes      </td> <td>Aaron Hughes      </td> <td>Fulham FC        </td> <td>England      </td> <td>08.11.1979</td> <td>182   </td> <td>71    </td> <td>Center Back         </td> <td>1    </td> <td>0        </td> <td>0   </td> <td>1      </td> <td>0    </td> <td>0          </td> <td>0         </td> <td>0       </td> <td>3868.jpg </td> <td>0.25  </td> <td>0     </td> <td>4     </td> <td>4         </td> <td>LUX    </td> <td>0.325185</td> <td>127 </td> <td>0.00329681 </td> <td>0.538462 </td> <td>130 </td> <td>0.0137522 </td>\n",
       "        </tr>\n",
       "        <tr>\n",
       "            <td>aleksandar-kolarov</td> <td>Aleksandar Kolarov</td> <td>Manchester City  </td> <td>England      </td> <td>10.11.1985</td> <td>187   </td> <td>80    </td> <td>Left Fullback       </td> <td>1    </td> <td>1        </td> <td>0   </td> <td>0      </td> <td>0    </td> <td>0          </td> <td>0         </td> <td>0       </td> <td>47704.jpg</td> <td>0     </td> <td>0.25  </td> <td>4     </td> <td>4         </td> <td>LUX    </td> <td>0.325185</td> <td>127 </td> <td>0.00329681 </td> <td>0.538462 </td> <td>130 </td> <td>0.0137522 </td>\n",
       "        </tr>\n",
       "        <tr>\n",
       "            <td>alexander-tettey  </td> <td>Alexander Tettey  </td> <td>Norwich City     </td> <td>England      </td> <td>04.04.1986</td> <td>180   </td> <td>68    </td> <td>Defensive Midfielder</td> <td>1    </td> <td>0        </td> <td>0   </td> <td>1      </td> <td>0    </td> <td>0          </td> <td>0         </td> <td>0       </td> <td>22356.jpg</td> <td>1     </td> <td>1     </td> <td>4     </td> <td>4         </td> <td>LUX    </td> <td>0.325185</td> <td>127 </td> <td>0.00329681 </td> <td>0.538462 </td> <td>130 </td> <td>0.0137522 </td>\n",
       "        </tr>\n",
       "        <tr>\n",
       "            <td>anders-lindegaard </td> <td>Anders Lindegaard </td> <td>Manchester United</td> <td>England      </td> <td>13.04.1984</td> <td>193   </td> <td>80    </td> <td>Goalkeeper          </td> <td>1    </td> <td>0        </td> <td>1   </td> <td>0      </td> <td>0    </td> <td>0          </td> <td>0         </td> <td>0       </td> <td>16528.jpg</td> <td>0.25  </td> <td>0.25  </td> <td>4     </td> <td>4         </td> <td>LUX    </td> <td>0.325185</td> <td>127 </td> <td>0.00329681 </td> <td>0.538462 </td> <td>130 </td> <td>0.0137522 </td>\n",
       "        </tr>\n",
       "        <tr>\n",
       "            <td>andreas-beck      </td> <td>Andreas Beck      </td> <td>1899 Hoffenheim  </td> <td>Germany      </td> <td>13.03.1987</td> <td>180   </td> <td>70    </td> <td>Right Fullback      </td> <td>1    </td> <td>1        </td> <td>0   </td> <td>0      </td> <td>0    </td> <td>0          </td> <td>0         </td> <td>0       </td> <td>36499.jpg</td> <td>0     </td> <td>0     </td> <td>4     </td> <td>4         </td> <td>LUX    </td> <td>0.325185</td> <td>127 </td> <td>0.00329681 </td> <td>0.538462 </td> <td>130 </td> <td>0.0137522 </td>\n",
       "        </tr>\n",
       "        <tr>\n",
       "            <td>antonio-rukavina  </td> <td>Antonio Rukavina  </td> <td>Real Valladolid  </td> <td>Spain        </td> <td>26.01.1984</td> <td>177   </td> <td>74    </td> <td>Right Fullback      </td> <td>2    </td> <td>2        </td> <td>0   </td> <td>0      </td> <td>0    </td> <td>1          </td> <td>0         </td> <td>0       </td> <td>59786.jpg</td> <td>0     </td> <td>0     </td> <td>4     </td> <td>4         </td> <td>LUX    </td> <td>0.325185</td> <td>127 </td> <td>0.00329681 </td> <td>0.538462 </td> <td>130 </td> <td>0.0137522 </td>\n",
       "        </tr>\n",
       "        <tr>\n",
       "            <td>ashkan-dejagah    </td> <td>Ashkan Dejagah    </td> <td>Fulham FC        </td> <td>England      </td> <td>05.07.1986</td> <td>181   </td> <td>74    </td> <td>Left Winger         </td> <td>1    </td> <td>1        </td> <td>0   </td> <td>0      </td> <td>0    </td> <td>0          </td> <td>0         </td> <td>0       </td> <td>23229.jpg</td> <td>0.5   </td> <td>0.5   </td> <td>4     </td> <td>4         </td> <td>LUX    </td> <td>0.325185</td> <td>127 </td> <td>0.00329681 </td> <td>0.538462 </td> <td>130 </td> <td>0.0137522 </td>\n",
       "        </tr>\n",
       "        <tr>\n",
       "            <td>benedikt-hoewedes </td> <td>Benedikt Höwedes  </td> <td>FC Schalke 04    </td> <td>Germany      </td> <td>29.02.1988</td> <td>187   </td> <td>80    </td> <td>Center Back         </td> <td>1    </td> <td>1        </td> <td>0   </td> <td>0      </td> <td>0    </td> <td>0          </td> <td>0         </td> <td>0       </td> <td>59387.jpg</td> <td>0     </td> <td>0     </td> <td>4     </td> <td>4         </td> <td>LUX    </td> <td>0.325185</td> <td>127 </td> <td>0.00329681 </td> <td>0.538462 </td> <td>130 </td> <td>0.0137522 </td>\n",
       "        </tr>\n",
       "    </tbody>\n",
       "</table>\n",
       "<p>... (115447 rows omitted)</p>"
      ],
      "text/plain": [
       "<IPython.core.display.HTML object>"
      ]
     },
     "metadata": {},
     "output_type": "display_data"
    }
   ],
   "source": [
    "# run this cell show the first ten rows of the data\n",
    "data.show(10)"
   ]
  },
  {
   "cell_type": "markdown",
   "metadata": {},
   "source": [
    "Let's remove the columns we are not going to be working with."
   ]
  },
  {
   "cell_type": "code",
   "execution_count": 4,
   "metadata": {},
   "outputs": [],
   "source": [
    "cols_to_drop = make_array(\"birthday\", \"victories\", \"ties\", \"defeats\", \"goals\",\n",
    "                \"photoID\", \"Alpha_3\", \"nIAT\", \"nExp\")\n",
    "\n",
    "data = data.drop(cols_to_drop)"
   ]
  },
  {
   "cell_type": "markdown",
   "metadata": {},
   "source": [
    "Let's reload the table to make sure we got rid of all of our undesired columns."
   ]
  },
  {
   "cell_type": "code",
   "execution_count": 5,
   "metadata": {},
   "outputs": [
    {
     "data": {
      "text/html": [
       "<table border=\"1\" class=\"dataframe\">\n",
       "    <thead>\n",
       "        <tr>\n",
       "            <th>playerShort</th> <th>player</th> <th>club</th> <th>leagueCountry</th> <th>height</th> <th>weight</th> <th>position</th> <th>games</th> <th>yellowCards</th> <th>yellowReds</th> <th>redCards</th> <th>rater1</th> <th>rater2</th> <th>refNum</th> <th>refCountry</th> <th>meanIAT</th> <th>seIAT</th> <th>meanExp</th> <th>seExp</th>\n",
       "        </tr>\n",
       "    </thead>\n",
       "    <tbody>\n",
       "        <tr>\n",
       "            <td>lucas-wilchez     </td> <td>Lucas Wilchez     </td> <td>Real Zaragoza  </td> <td>Spain        </td> <td>177   </td> <td>72    </td> <td>Attacking Midfielder</td> <td>1    </td> <td>0          </td> <td>0         </td> <td>0       </td> <td>0.25  </td> <td>0.5   </td> <td>1     </td> <td>1         </td> <td>0.326391</td> <td>0.000564112</td> <td>0.396    </td> <td>0.00269649</td>\n",
       "        </tr>\n",
       "        <tr>\n",
       "            <td>john-utaka        </td> <td>John Utaka        </td> <td>Montpellier HSC</td> <td>France       </td> <td>179   </td> <td>82    </td> <td>Right Winger        </td> <td>1    </td> <td>1          </td> <td>0         </td> <td>0       </td> <td>0.75  </td> <td>0.75  </td> <td>2     </td> <td>2         </td> <td>0.203375</td> <td>0.0108749  </td> <td>-0.204082</td> <td>0.0615044 </td>\n",
       "        </tr>\n",
       "        <tr>\n",
       "            <td>aaron-hughes      </td> <td>Aaron Hughes      </td> <td>Fulham FC      </td> <td>England      </td> <td>182   </td> <td>71    </td> <td>Center Back         </td> <td>1    </td> <td>0          </td> <td>0         </td> <td>0       </td> <td>0.25  </td> <td>0     </td> <td>4     </td> <td>4         </td> <td>0.325185</td> <td>0.00329681 </td> <td>0.538462 </td> <td>0.0137522 </td>\n",
       "        </tr>\n",
       "        <tr>\n",
       "            <td>aleksandar-kolarov</td> <td>Aleksandar Kolarov</td> <td>Manchester City</td> <td>England      </td> <td>187   </td> <td>80    </td> <td>Left Fullback       </td> <td>1    </td> <td>0          </td> <td>0         </td> <td>0       </td> <td>0     </td> <td>0.25  </td> <td>4     </td> <td>4         </td> <td>0.325185</td> <td>0.00329681 </td> <td>0.538462 </td> <td>0.0137522 </td>\n",
       "        </tr>\n",
       "        <tr>\n",
       "            <td>alexander-tettey  </td> <td>Alexander Tettey  </td> <td>Norwich City   </td> <td>England      </td> <td>180   </td> <td>68    </td> <td>Defensive Midfielder</td> <td>1    </td> <td>0          </td> <td>0         </td> <td>0       </td> <td>1     </td> <td>1     </td> <td>4     </td> <td>4         </td> <td>0.325185</td> <td>0.00329681 </td> <td>0.538462 </td> <td>0.0137522 </td>\n",
       "        </tr>\n",
       "    </tbody>\n",
       "</table>\n",
       "<p>... (115452 rows omitted)</p>"
      ],
      "text/plain": [
       "<IPython.core.display.HTML object>"
      ]
     },
     "metadata": {},
     "output_type": "display_data"
    }
   ],
   "source": [
    "data.show(5)"
   ]
  },
  {
   "cell_type": "markdown",
   "metadata": {},
   "source": [
    "<div class=\"alert alert-info\">\n",
    "<b>Question:</b> It's important to evalute our data source. How do you feel about the way ratings on skin tone are collected? What about how implicit/explicit bias is calculated?\n",
    "   </div>"
   ]
  },
  {
   "cell_type": "markdown",
   "metadata": {},
   "source": [
    "*Insert answer here*"
   ]
  },
  {
   "cell_type": "markdown",
   "metadata": {},
   "source": [
    "<div class=\"alert alert-info\">\n",
    "<b>Question:</b> We want to learn more about the dataset. First, how many total rows are in this table? What does each row represent?\n",
    "    \n",
    "   </div>"
   ]
  },
  {
   "cell_type": "code",
   "execution_count": null,
   "metadata": {},
   "outputs": [],
   "source": [
    "total_rows = ...\n",
    "total_rows"
   ]
  },
  {
   "cell_type": "markdown",
   "metadata": {},
   "source": [
    "*Insert answer here*"
   ]
  },
  {
   "cell_type": "markdown",
   "metadata": {},
   "source": [
    "<div class=\"alert alert-info\">\n",
    "<b>Question:</b> If we're trying to examine the relationship between red cards given and skin color, which variables should we consider? Classify the ones you choose as either independent or dependent variables and explain your choices.\n",
    "    \n",
    "   </div>"
   ]
  },
  {
   "cell_type": "markdown",
   "metadata": {},
   "source": [
    "*Insert answer here*"
   ]
  },
  {
   "cell_type": "markdown",
   "metadata": {},
   "source": [
    "## 3. Conducting Exploratory Data Analysis <a id='section 3'></a>"
   ]
  },
  {
   "cell_type": "markdown",
   "metadata": {},
   "source": [
    "Visualizations help us to understand what the dataset is telling us. Let's look at a few."
   ]
  },
  {
   "cell_type": "markdown",
   "metadata": {},
   "source": [
    "### Scatter plots"
   ]
  },
  {
   "cell_type": "markdown",
   "metadata": {},
   "source": [
    "To analyze the correlation between **independent and dependent variables**, we may use a scatter plot as a simple form of data visualization between one numerical \"_x_\" (independent) variable and one numerical \"_y_\" (dependent) variable. Below are a few scatterplot examples a data scientist might generate when asking the questions: \"How are implicit and explicit bias correlated?\" and \"Is a player's height correlated with the number of yellow cards he receives?\" respectively."
   ]
  },
  {
   "cell_type": "code",
   "execution_count": 6,
   "metadata": {},
   "outputs": [],
   "source": [
    "# just run this; you don't need to understand this cell\n",
    "# it accumulates all the mean implicit and explicit bias values.\n",
    "data_df = pd.read_csv(\"data/CrowdstormingDataJuly1st.csv\")\n",
    "meanExp = []\n",
    "meanIAT = []\n",
    "for index, row in data_df.iterrows():\n",
    "    if row[\"meanExp\"] not in meanExp:\n",
    "        meanExp.append(row[\"meanExp\"])\n",
    "        meanIAT.append(row[\"meanIAT\"])\n",
    "exps = np.nan_to_num(meanExp)\n",
    "iats = np.nan_to_num(meanIAT)"
   ]
  },
  {
   "cell_type": "markdown",
   "metadata": {},
   "source": [
    "Run the following cell to create a table of means, called `means`."
   ]
  },
  {
   "cell_type": "code",
   "execution_count": 7,
   "metadata": {},
   "outputs": [
    {
     "data": {
      "text/html": [
       "<table border=\"1\" class=\"dataframe\">\n",
       "    <thead>\n",
       "        <tr>\n",
       "            <th>meanExps</th> <th>meanIATs</th>\n",
       "        </tr>\n",
       "    </thead>\n",
       "    <tbody>\n",
       "        <tr>\n",
       "            <td>0.396    </td> <td>0.326391</td>\n",
       "        </tr>\n",
       "        <tr>\n",
       "            <td>-0.204082</td> <td>0.203375</td>\n",
       "        </tr>\n",
       "        <tr>\n",
       "            <td>0.588297 </td> <td>0.369894</td>\n",
       "        </tr>\n",
       "        <tr>\n",
       "            <td>0.538462 </td> <td>0.325185</td>\n",
       "        </tr>\n",
       "        <tr>\n",
       "            <td>-0.789474</td> <td>0.167132</td>\n",
       "        </tr>\n",
       "        <tr>\n",
       "            <td>0.117647 </td> <td>0.322177</td>\n",
       "        </tr>\n",
       "        <tr>\n",
       "            <td>0.336101 </td> <td>0.334684</td>\n",
       "        </tr>\n",
       "        <tr>\n",
       "            <td>0.335967 </td> <td>0.336628</td>\n",
       "        </tr>\n",
       "        <tr>\n",
       "            <td>-0.2     </td> <td>0.360895</td>\n",
       "        </tr>\n",
       "        <tr>\n",
       "            <td>-0.487805</td> <td>0.229733</td>\n",
       "        </tr>\n",
       "    </tbody>\n",
       "</table>\n",
       "<p>... (302 rows omitted)</p>"
      ],
      "text/plain": [
       "meanExps  | meanIATs\n",
       "0.396     | 0.326391\n",
       "-0.204082 | 0.203375\n",
       "0.588297  | 0.369894\n",
       "0.538462  | 0.325185\n",
       "-0.789474 | 0.167132\n",
       "0.117647  | 0.322177\n",
       "0.336101  | 0.334684\n",
       "0.335967  | 0.336628\n",
       "-0.2      | 0.360895\n",
       "-0.487805 | 0.229733\n",
       "... (302 rows omitted)"
      ]
     },
     "execution_count": 7,
     "metadata": {},
     "output_type": "execute_result"
    }
   ],
   "source": [
    "means = Table().with_columns(\"meanExps\", exps, \"meanIATs\", iats)\n",
    "means"
   ]
  },
  {
   "cell_type": "markdown",
   "metadata": {},
   "source": [
    "<div class=\"alert alert-info\">\n",
    "<b>Question:</b> Use the means table to create a scatter plot of <code>meanExps</code> vs <code>meanIATs</code>. Create a visualization that is informative and has <i>more</i> features than the default plot (i.e., use the other visualization arguments).\n",
    "   </div>"
   ]
  },
  {
   "cell_type": "code",
   "execution_count": null,
   "metadata": {},
   "outputs": [],
   "source": [
    "..."
   ]
  },
  {
   "cell_type": "code",
   "execution_count": 8,
   "metadata": {},
   "outputs": [
    {
     "data": {
      "image/png": "[encoded data removed]",
      "text/plain": [
       "<Figure size 360x360 with 1 Axes>"
      ]
     },
     "metadata": {
      "needs_background": "light"
     },
     "output_type": "display_data"
    }
   ],
   "source": [
    "# SOLUTION\n",
    "means.scatter('meanExps', 'meanIATs')"
   ]
  },
  {
   "cell_type": "markdown",
   "metadata": {},
   "source": [
    "<div class=\"alert alert-info\">\n",
    "<b>Question:</b> What do you observe from the scatter plot? Why might these two variables be related in this way? \n",
    "   </div>"
   ]
  },
  {
   "cell_type": "markdown",
   "metadata": {},
   "source": [
    "*Insert Answer Here*"
   ]
  },
  {
   "cell_type": "markdown",
   "metadata": {},
   "source": [
    "<div class=\"alert alert-info\">\n",
    "<b>Question:</b> Write code to create a scatter plot of height and the number of yellow cards.\n",
    "   </div>"
   ]
  },
  {
   "cell_type": "code",
   "execution_count": null,
   "metadata": {},
   "outputs": [],
   "source": [
    "..."
   ]
  },
  {
   "cell_type": "code",
   "execution_count": 9,
   "metadata": {},
   "outputs": [
    {
     "data": {
      "image/png": "[encoded data removed]",
      "text/plain": [
       "<Figure size 360x360 with 1 Axes>"
      ]
     },
     "metadata": {
      "needs_background": "light"
     },
     "output_type": "display_data"
    }
   ],
   "source": [
    "# SOLUTION\n",
    "data.scatter('height', 'redCards')"
   ]
  },
  {
   "cell_type": "markdown",
   "metadata": {},
   "source": [
    "<div class=\"alert alert-info\">\n",
    "<b>Question:</b> What do you observe from the scatter plot? Do the two variables seem to be correlated? Why or why not?\n",
    "   </div>"
   ]
  },
  {
   "cell_type": "markdown",
   "metadata": {},
   "source": [
    "*Insert Answer Here*"
   ]
  },
  {
   "cell_type": "markdown",
   "metadata": {},
   "source": [
    "### Bar plots"
   ]
  },
  {
   "cell_type": "markdown",
   "metadata": {},
   "source": [
    "Observe below how we're able to use a *pivot table* to make an insightful series of bar plots on the number of red cards awarded by referees officiating in different leagues across Europe. The number to the left of the plots' _y_-axes represents the number of red cards awarded in those kinds of games. The labels of the plots' _y_-axes is the number of games in that particular referee/league combination for the given number of red cards.\n",
    "\n",
    "Run the following cell to load a new table. The values represent the number of games for each **league/number of red cards** combination:"
   ]
  },
  {
   "cell_type": "code",
   "execution_count": 10,
   "metadata": {
    "scrolled": true
   },
   "outputs": [
    {
     "name": "stderr",
     "output_type": "stream",
     "text": [
      "/opt/conda/lib/python3.9/site-packages/datascience/tables.py:920: VisibleDeprecationWarning: Creating an ndarray from ragged nested sequences (which is a list-or-tuple of lists-or-tuples-or ndarrays with different lengths or shapes) is deprecated. If you meant to do this, you must specify 'dtype=object' when creating the ndarray.\n",
      "  values = np.array(tuple(values))\n"
     ]
    },
    {
     "data": {
      "text/html": [
       "<table border=\"1\" class=\"dataframe\">\n",
       "    <thead>\n",
       "        <tr>\n",
       "            <th>leagueCountry</th> <th>0</th> <th>1</th> <th>2</th>\n",
       "        </tr>\n",
       "    </thead>\n",
       "    <tbody>\n",
       "        <tr>\n",
       "            <td>England      </td> <td>30720</td> <td>374 </td> <td>5   </td>\n",
       "        </tr>\n",
       "        <tr>\n",
       "            <td>France       </td> <td>16102</td> <td>264 </td> <td>5   </td>\n",
       "        </tr>\n",
       "        <tr>\n",
       "            <td>Germany      </td> <td>38090</td> <td>331 </td> <td>5   </td>\n",
       "        </tr>\n",
       "        <tr>\n",
       "            <td>Spain        </td> <td>29090</td> <td>463 </td> <td>8   </td>\n",
       "        </tr>\n",
       "    </tbody>\n",
       "</table>"
      ],
      "text/plain": [
       "leagueCountry | 0     | 1    | 2\n",
       "England       | 30720 | 374  | 5\n",
       "France        | 16102 | 264  | 5\n",
       "Germany       | 38090 | 331  | 5\n",
       "Spain         | 29090 | 463  | 8"
      ]
     },
     "execution_count": 10,
     "metadata": {},
     "output_type": "execute_result"
    }
   ],
   "source": [
    "agg = data.pivot(\"redCards\", \"leagueCountry\")\n",
    "agg"
   ]
  },
  {
   "cell_type": "markdown",
   "metadata": {},
   "source": [
    "In the following cell, plot a bar chart for each individual league."
   ]
  },
  {
   "cell_type": "code",
   "execution_count": null,
   "metadata": {},
   "outputs": [],
   "source": [
    "..."
   ]
  },
  {
   "cell_type": "code",
   "execution_count": 11,
   "metadata": {},
   "outputs": [
    {
     "name": "stderr",
     "output_type": "stream",
     "text": [
      "/opt/conda/lib/python3.9/site-packages/datascience/tables.py:3006: UserWarning: FixedFormatter should only be used together with FixedLocator\n",
      "  axis.set_xticklabels(tick_labels, stretch='ultra-condensed')\n"
     ]
    },
    {
     "data": {
      "image/png": "[encoded data removed]",
      "text/plain": [
       "<Figure size 432x864 with 3 Axes>"
      ]
     },
     "metadata": {
      "needs_background": "light"
     },
     "output_type": "display_data"
    }
   ],
   "source": [
    "# SOLUTION\n",
    "agg.bar(\"leagueCountry\", overlay=False)"
   ]
  },
  {
   "cell_type": "markdown",
   "metadata": {},
   "source": [
    "<div class=\"alert alert-info\">\n",
    "<b>Question:</b> \n",
    "Interpret what you see. Which countries (if any) do you hypothesize tend to award more/less red cards? Feel free to do some research on sport culture in each of these countries.\n",
    "   </div>"
   ]
  },
  {
   "cell_type": "markdown",
   "metadata": {},
   "source": [
    "*Insert Answer Here*"
   ]
  },
  {
   "cell_type": "markdown",
   "metadata": {},
   "source": [
    "Now try creating another pivot table to break down the distribution of red cards by player position."
   ]
  },
  {
   "cell_type": "code",
   "execution_count": null,
   "metadata": {},
   "outputs": [],
   "source": [
    "..."
   ]
  },
  {
   "cell_type": "code",
   "execution_count": 13,
   "metadata": {},
   "outputs": [
    {
     "data": {
      "text/html": [
       "<table border=\"1\" class=\"dataframe\">\n",
       "    <thead>\n",
       "        <tr>\n",
       "            <th>position</th> <th>0</th> <th>1</th> <th>2</th>\n",
       "        </tr>\n",
       "    </thead>\n",
       "    <tbody>\n",
       "        <tr>\n",
       "            <td>Attacking Midfielder</td> <td>10681</td> <td>73  </td> <td>3   </td>\n",
       "        </tr>\n",
       "        <tr>\n",
       "            <td>Center Back         </td> <td>20107</td> <td>400 </td> <td>6   </td>\n",
       "        </tr>\n",
       "        <tr>\n",
       "            <td>Center Forward      </td> <td>16419</td> <td>169 </td> <td>3   </td>\n",
       "        </tr>\n",
       "        <tr>\n",
       "            <td>Center Midfielder   </td> <td>4768 </td> <td>59  </td> <td>0   </td>\n",
       "        </tr>\n",
       "        <tr>\n",
       "            <td>Defensive Midfielder</td> <td>13730</td> <td>174 </td> <td>2   </td>\n",
       "        </tr>\n",
       "        <tr>\n",
       "            <td>Goalkeeper          </td> <td>10864</td> <td>139 </td> <td>1   </td>\n",
       "        </tr>\n",
       "        <tr>\n",
       "            <td>Left Fullback       </td> <td>8859 </td> <td>112 </td> <td>5   </td>\n",
       "        </tr>\n",
       "        <tr>\n",
       "            <td>Left Midfielder     </td> <td>6136 </td> <td>71  </td> <td>1   </td>\n",
       "        </tr>\n",
       "        <tr>\n",
       "            <td>Left Winger         </td> <td>4461 </td> <td>36  </td> <td>1   </td>\n",
       "        </tr>\n",
       "        <tr>\n",
       "            <td>Right Fullback      </td> <td>8309 </td> <td>100 </td> <td>1   </td>\n",
       "        </tr>\n",
       "    </tbody>\n",
       "</table>\n",
       "<p>... (2 rows omitted)</p>"
      ],
      "text/plain": [
       "position             | 0     | 1    | 2\n",
       "Attacking Midfielder | 10681 | 73   | 3\n",
       "Center Back          | 20107 | 400  | 6\n",
       "Center Forward       | 16419 | 169  | 3\n",
       "Center Midfielder    | 4768  | 59   | 0\n",
       "Defensive Midfielder | 13730 | 174  | 2\n",
       "Goalkeeper           | 10864 | 139  | 1\n",
       "Left Fullback        | 8859  | 112  | 5\n",
       "Left Midfielder      | 6136  | 71   | 1\n",
       "Left Winger          | 4461  | 36   | 1\n",
       "Right Fullback       | 8309  | 100  | 1\n",
       "... (2 rows omitted)"
      ]
     },
     "execution_count": 13,
     "metadata": {},
     "output_type": "execute_result"
    }
   ],
   "source": [
    "# SOLUTION\n",
    "agg_position = data.pivot(\"redCards\", \"position\")\n",
    "agg_position"
   ]
  },
  {
   "cell_type": "markdown",
   "metadata": {},
   "source": [
    "<div class=\"alert alert-info\">\n",
    "<b>Question:</b> Use the above table to create a bar chart of number of red cards per position.\n",
    "   </div>"
   ]
  },
  {
   "cell_type": "code",
   "execution_count": null,
   "metadata": {},
   "outputs": [],
   "source": [
    "..."
   ]
  },
  {
   "cell_type": "code",
   "execution_count": 14,
   "metadata": {},
   "outputs": [
    {
     "data": {
      "image/png": "[encoded data removed]",
      "text/plain": [
       "<Figure size 1440x864 with 3 Axes>"
      ]
     },
     "metadata": {
      "needs_background": "light"
     },
     "output_type": "display_data"
    }
   ],
   "source": [
    "# SOLUTION\n",
    "agg_position.bar('position', overlay=False, width=20)"
   ]
  },
  {
   "cell_type": "markdown",
   "metadata": {},
   "source": [
    "<div class=\"alert alert-info\">\n",
    "<b>Question:</b> Interpret each plot. Why are some of the bars unlabeled and what do they correspond to? What positions (see <a href=https://en.wikipedia.org/wiki/Association_football_positions>Soccer Positions Info</a>) stand out and why might this be?\n",
    "   </div>"
   ]
  },
  {
   "cell_type": "markdown",
   "metadata": {},
   "source": [
    "*Insert Answer Here*"
   ]
  },
  {
   "cell_type": "markdown",
   "metadata": {},
   "source": [
    "## 4. Using Prediction and Inference to Draw Conclusions <a id='section 4'></a>"
   ]
  },
  {
   "cell_type": "markdown",
   "metadata": {},
   "source": [
    "Let's get back to our original question — does  a player's skin color have anything to do with the bias that they face in the game? Our dataset contains two variables that may help us answer that question — `rater1` and `rater2`. Since deciding what category (very light skin to very dark skin) each player fits into is a very subjective measure, we will look into each of these variables individually. Then, we'll take the average of the two variables and use that as a new metric."
   ]
  },
  {
   "cell_type": "markdown",
   "metadata": {},
   "source": [
    "Getting the average of the two rates requires a series of steps. We will perform the following steps for you.\n",
    "\n",
    "1. Get the average of the two raters and assign it to a new variable called `avg_rate`\n",
    "2. Add it to the original data table `data`\n",
    "3. Remove any column that has missing data (nan) for the `avg_rate` column from the data table\n",
    "4. Assign this clean table to `cleaned_soccer`.\n",
    "\n",
    "Run the following cell to make the appropriate changes:"
   ]
  },
  {
   "cell_type": "code",
   "execution_count": 15,
   "metadata": {
    "scrolled": true
   },
   "outputs": [
    {
     "data": {
      "text/html": [
       "<table border=\"1\" class=\"dataframe\">\n",
       "    <thead>\n",
       "        <tr>\n",
       "            <th>playerShort</th> <th>player</th> <th>club</th> <th>leagueCountry</th> <th>height</th> <th>weight</th> <th>position</th> <th>games</th> <th>yellowCards</th> <th>yellowReds</th> <th>redCards</th> <th>rater1</th> <th>rater2</th> <th>refNum</th> <th>refCountry</th> <th>meanIAT</th> <th>seIAT</th> <th>meanExp</th> <th>seExp</th> <th>avgRate</th>\n",
       "        </tr>\n",
       "    </thead>\n",
       "    <tbody>\n",
       "        <tr>\n",
       "            <td>lucas-wilchez     </td> <td>Lucas Wilchez     </td> <td>Real Zaragoza  </td> <td>Spain        </td> <td>177   </td> <td>72    </td> <td>Attacking Midfielder</td> <td>1    </td> <td>0          </td> <td>0         </td> <td>0       </td> <td>0.25  </td> <td>0.5   </td> <td>1     </td> <td>1         </td> <td>0.326391</td> <td>0.000564112</td> <td>0.396    </td> <td>0.00269649</td> <td>0.375  </td>\n",
       "        </tr>\n",
       "        <tr>\n",
       "            <td>john-utaka        </td> <td>John Utaka        </td> <td>Montpellier HSC</td> <td>France       </td> <td>179   </td> <td>82    </td> <td>Right Winger        </td> <td>1    </td> <td>1          </td> <td>0         </td> <td>0       </td> <td>0.75  </td> <td>0.75  </td> <td>2     </td> <td>2         </td> <td>0.203375</td> <td>0.0108749  </td> <td>-0.204082</td> <td>0.0615044 </td> <td>0.75   </td>\n",
       "        </tr>\n",
       "        <tr>\n",
       "            <td>aaron-hughes      </td> <td>Aaron Hughes      </td> <td>Fulham FC      </td> <td>England      </td> <td>182   </td> <td>71    </td> <td>Center Back         </td> <td>1    </td> <td>0          </td> <td>0         </td> <td>0       </td> <td>0.25  </td> <td>0     </td> <td>4     </td> <td>4         </td> <td>0.325185</td> <td>0.00329681 </td> <td>0.538462 </td> <td>0.0137522 </td> <td>0.125  </td>\n",
       "        </tr>\n",
       "        <tr>\n",
       "            <td>aleksandar-kolarov</td> <td>Aleksandar Kolarov</td> <td>Manchester City</td> <td>England      </td> <td>187   </td> <td>80    </td> <td>Left Fullback       </td> <td>1    </td> <td>0          </td> <td>0         </td> <td>0       </td> <td>0     </td> <td>0.25  </td> <td>4     </td> <td>4         </td> <td>0.325185</td> <td>0.00329681 </td> <td>0.538462 </td> <td>0.0137522 </td> <td>0.125  </td>\n",
       "        </tr>\n",
       "        <tr>\n",
       "            <td>alexander-tettey  </td> <td>Alexander Tettey  </td> <td>Norwich City   </td> <td>England      </td> <td>180   </td> <td>68    </td> <td>Defensive Midfielder</td> <td>1    </td> <td>0          </td> <td>0         </td> <td>0       </td> <td>1     </td> <td>1     </td> <td>4     </td> <td>4         </td> <td>0.325185</td> <td>0.00329681 </td> <td>0.538462 </td> <td>0.0137522 </td> <td>1      </td>\n",
       "        </tr>\n",
       "    </tbody>\n",
       "</table>\n",
       "<p>... (115452 rows omitted)</p>"
      ],
      "text/plain": [
       "<IPython.core.display.HTML object>"
      ]
     },
     "metadata": {},
     "output_type": "display_data"
    }
   ],
   "source": [
    "# calculate average rate, append to table\n",
    "avg_rate = (data.column('rater1') + data.column('rater2')) / 2\n",
    "data.append_column('avgRate', avg_rate)\n",
    "\n",
    "# remove nan values\n",
    "to_exclude= make_array()\n",
    "for row_index in range(len(data.column(\"avgRate\"))):\n",
    "    if np.isnan(data.column(\"avgRate\").item(row_index)):\n",
    "        to_exclude = np.append(to_exclude, int(row_index))\n",
    "cleaned_soccer = data.exclude(to_exclude)\n",
    "cleaned_soccer.show(5)"
   ]
  },
  {
   "cell_type": "markdown",
   "metadata": {},
   "source": [
    "Now we want to inspect the number of yellow, yellow-red, and red cards by skin color according to the two raters and the average rate. To do this, we will:\n",
    "\n",
    "- Create tables with a subset of the data using table manipulations.\n",
    "- Plot the results of each rater group by the number of red cards awarded to players based on their skin color."
   ]
  },
  {
   "cell_type": "markdown",
   "metadata": {},
   "source": [
    "**Rater 1**"
   ]
  },
  {
   "cell_type": "code",
   "execution_count": null,
   "metadata": {},
   "outputs": [],
   "source": [
    "# create the table with the necessary rater1 information\n",
    "..."
   ]
  },
  {
   "cell_type": "code",
   "execution_count": null,
   "metadata": {},
   "outputs": [],
   "source": [
    "# make the visualization(s)\n",
    "..."
   ]
  },
  {
   "cell_type": "code",
   "execution_count": 16,
   "metadata": {},
   "outputs": [
    {
     "data": {
      "text/html": [
       "<table border=\"1\" class=\"dataframe\">\n",
       "    <thead>\n",
       "        <tr>\n",
       "            <th>rater1</th> <th>yellowCards mean</th> <th>yellowReds mean</th> <th>redCards mean</th>\n",
       "        </tr>\n",
       "    </thead>\n",
       "    <tbody>\n",
       "        <tr>\n",
       "            <td>1     </td> <td>0.381349        </td> <td>0.0138404      </td> <td>0.014781     </td>\n",
       "        </tr>\n",
       "        <tr>\n",
       "            <td>0.75  </td> <td>0.37688         </td> <td>0.0116871      </td> <td>0.01377      </td>\n",
       "        </tr>\n",
       "        <tr>\n",
       "            <td>0.25  </td> <td>0.43728         </td> <td>0.0133141      </td> <td>0.0135874    </td>\n",
       "        </tr>\n",
       "        <tr>\n",
       "            <td>0.5   </td> <td>0.384941        </td> <td>0.0119095      </td> <td>0.0134282    </td>\n",
       "        </tr>\n",
       "        <tr>\n",
       "            <td>0     </td> <td>0.390482        </td> <td>0.0113724      </td> <td>0.0114582    </td>\n",
       "        </tr>\n",
       "    </tbody>\n",
       "</table>"
      ],
      "text/plain": [
       "rater1 | yellowCards mean | yellowReds mean | redCards mean\n",
       "1      | 0.381349         | 0.0138404       | 0.014781\n",
       "0.75   | 0.37688          | 0.0116871       | 0.01377\n",
       "0.25   | 0.43728          | 0.0133141       | 0.0135874\n",
       "0.5    | 0.384941         | 0.0119095       | 0.0134282\n",
       "0      | 0.390482         | 0.0113724       | 0.0114582"
      ]
     },
     "execution_count": 16,
     "metadata": {},
     "output_type": "execute_result"
    }
   ],
   "source": [
    "# SOLUTION\n",
    "rater1 = cleaned_soccer.select(make_array('rater1', 'yellowCards', 'yellowReds', 'redCards'))\n",
    "rater1_cards = rater1.group('rater1', np.mean)\n",
    "rater1_cards.sort('redCards mean', descending=True)"
   ]
  },
  {
   "cell_type": "code",
   "execution_count": 17,
   "metadata": {},
   "outputs": [
    {
     "data": {
      "image/png": "[encoded data removed]",
      "text/plain": [
       "<Figure size 432x288 with 1 Axes>"
      ]
     },
     "metadata": {
      "needs_background": "light"
     },
     "output_type": "display_data"
    },
    {
     "data": {
      "image/png": "[encoded data removed]",
      "text/plain": [
       "<Figure size 432x288 with 1 Axes>"
      ]
     },
     "metadata": {
      "needs_background": "light"
     },
     "output_type": "display_data"
    }
   ],
   "source": [
    "# SOLUTION\n",
    "# have the interns try to figure out the best way to visualize this\n",
    "rater1_cards.select('rater1', 'yellowCards mean').barh('rater1')\n",
    "rater1_cards.select('rater1', 'yellowReds mean', 'redCards mean').barh('rater1')"
   ]
  },
  {
   "cell_type": "markdown",
   "metadata": {},
   "source": [
    "**Rater 2**"
   ]
  },
  {
   "cell_type": "code",
   "execution_count": null,
   "metadata": {},
   "outputs": [],
   "source": [
    "# create the table with the necessary rater1 information\n",
    "..."
   ]
  },
  {
   "cell_type": "code",
   "execution_count": null,
   "metadata": {},
   "outputs": [],
   "source": [
    "# make the visualization(s)\n",
    "..."
   ]
  },
  {
   "cell_type": "code",
   "execution_count": 18,
   "metadata": {},
   "outputs": [
    {
     "data": {
      "text/html": [
       "<table border=\"1\" class=\"dataframe\">\n",
       "    <thead>\n",
       "        <tr>\n",
       "            <th>rater2</th> <th>yellowCards mean</th> <th>yellowReds mean</th> <th>redCards mean</th>\n",
       "        </tr>\n",
       "    </thead>\n",
       "    <tbody>\n",
       "        <tr>\n",
       "            <td>0.5   </td> <td>0.399259        </td> <td>0.0127978      </td> <td>0.0142292    </td>\n",
       "        </tr>\n",
       "        <tr>\n",
       "            <td>1     </td> <td>0.375043        </td> <td>0.0134875      </td> <td>0.0141675    </td>\n",
       "        </tr>\n",
       "        <tr>\n",
       "            <td>0.25  </td> <td>0.43116         </td> <td>0.0128048      </td> <td>0.0132826    </td>\n",
       "        </tr>\n",
       "        <tr>\n",
       "            <td>0.75  </td> <td>0.360597        </td> <td>0.0109998      </td> <td>0.0127423    </td>\n",
       "        </tr>\n",
       "        <tr>\n",
       "            <td>0     </td> <td>0.38468         </td> <td>0.011338       </td> <td>0.0111876    </td>\n",
       "        </tr>\n",
       "    </tbody>\n",
       "</table>"
      ],
      "text/plain": [
       "rater2 | yellowCards mean | yellowReds mean | redCards mean\n",
       "0.5    | 0.399259         | 0.0127978       | 0.0142292\n",
       "1      | 0.375043         | 0.0134875       | 0.0141675\n",
       "0.25   | 0.43116          | 0.0128048       | 0.0132826\n",
       "0.75   | 0.360597         | 0.0109998       | 0.0127423\n",
       "0      | 0.38468          | 0.011338        | 0.0111876"
      ]
     },
     "execution_count": 18,
     "metadata": {},
     "output_type": "execute_result"
    }
   ],
   "source": [
    "# SOLUTION\n",
    "rater2 = cleaned_soccer.select(make_array('rater2', 'yellowCards', 'yellowReds', 'redCards'))\n",
    "rater2_cards = rater2.group('rater2', np.mean)\n",
    "rater2_cards.sort('redCards mean', descending=True)"
   ]
  },
  {
   "cell_type": "code",
   "execution_count": 19,
   "metadata": {},
   "outputs": [
    {
     "data": {
      "image/png": "[encoded data removed]",
      "text/plain": [
       "<Figure size 432x288 with 1 Axes>"
      ]
     },
     "metadata": {
      "needs_background": "light"
     },
     "output_type": "display_data"
    },
    {
     "data": {
      "image/png": "[encoded data removed]",
      "text/plain": [
       "<Figure size 432x288 with 1 Axes>"
      ]
     },
     "metadata": {
      "needs_background": "light"
     },
     "output_type": "display_data"
    }
   ],
   "source": [
    "# SOLUTION\n",
    "# have the interns try to figure out the best way to visualize this\n",
    "rater2_cards.select('rater2', 'yellowCards mean').barh('rater2')\n",
    "rater2_cards.select('rater2', 'yellowReds mean', 'redCards mean').barh('rater2')"
   ]
  },
  {
   "cell_type": "markdown",
   "metadata": {},
   "source": [
    "**Average Rating**"
   ]
  },
  {
   "cell_type": "code",
   "execution_count": null,
   "metadata": {},
   "outputs": [],
   "source": [
    "# YOUR CODE HERE — the following format may help you\n",
    "\n",
    "# Table\n",
    "# group \n",
    "...\n",
    "# sort\n",
    "...\n",
    "# select\n",
    "..."
   ]
  },
  {
   "cell_type": "code",
   "execution_count": null,
   "metadata": {},
   "outputs": [],
   "source": [
    "# make the visualization(s)\n",
    "..."
   ]
  },
  {
   "cell_type": "code",
   "execution_count": 20,
   "metadata": {},
   "outputs": [
    {
     "data": {
      "text/html": [
       "<table border=\"1\" class=\"dataframe\">\n",
       "    <thead>\n",
       "        <tr>\n",
       "            <th>avgRate</th> <th>yellowCards mean</th> <th>yellowReds mean</th> <th>redCards mean</th>\n",
       "        </tr>\n",
       "    </thead>\n",
       "    <tbody>\n",
       "        <tr>\n",
       "            <td>0.375  </td> <td>0.47471         </td> <td>0.0167372      </td> <td>0.0152658    </td>\n",
       "        </tr>\n",
       "        <tr>\n",
       "            <td>0.875  </td> <td>0.330375        </td> <td>0.0121017      </td> <td>0.0149254    </td>\n",
       "        </tr>\n",
       "        <tr>\n",
       "            <td>0.5    </td> <td>0.376054        </td> <td>0.0113226      </td> <td>0.0144543    </td>\n",
       "        </tr>\n",
       "        <tr>\n",
       "            <td>1      </td> <td>0.386479        </td> <td>0.0139272      </td> <td>0.0143624    </td>\n",
       "        </tr>\n",
       "        <tr>\n",
       "            <td>0.75   </td> <td>0.384288        </td> <td>0.0113964      </td> <td>0.0141316    </td>\n",
       "        </tr>\n",
       "        <tr>\n",
       "            <td>0.25   </td> <td>0.44083         </td> <td>0.0131363      </td> <td>0.0137874    </td>\n",
       "        </tr>\n",
       "        <tr>\n",
       "            <td>0      </td> <td>0.388502        </td> <td>0.0114537      </td> <td>0.0114218    </td>\n",
       "        </tr>\n",
       "        <tr>\n",
       "            <td>0.125  </td> <td>0.387724        </td> <td>0.0111118      </td> <td>0.0111118    </td>\n",
       "        </tr>\n",
       "        <tr>\n",
       "            <td>0.625  </td> <td>0.316537        </td> <td>0.0100779      </td> <td>0.00595511   </td>\n",
       "        </tr>\n",
       "    </tbody>\n",
       "</table>"
      ],
      "text/plain": [
       "avgRate | yellowCards mean | yellowReds mean | redCards mean\n",
       "0.375   | 0.47471          | 0.0167372       | 0.0152658\n",
       "0.875   | 0.330375         | 0.0121017       | 0.0149254\n",
       "0.5     | 0.376054         | 0.0113226       | 0.0144543\n",
       "1       | 0.386479         | 0.0139272       | 0.0143624\n",
       "0.75    | 0.384288         | 0.0113964       | 0.0141316\n",
       "0.25    | 0.44083          | 0.0131363       | 0.0137874\n",
       "0       | 0.388502         | 0.0114537       | 0.0114218\n",
       "0.125   | 0.387724         | 0.0111118       | 0.0111118\n",
       "0.625   | 0.316537         | 0.0100779       | 0.00595511"
      ]
     },
     "execution_count": 20,
     "metadata": {},
     "output_type": "execute_result"
    }
   ],
   "source": [
    "# SOLUTION\n",
    "avgRates = cleaned_soccer.select(make_array('avgRate', 'yellowCards', 'yellowReds', 'redCards'))\n",
    "avgRates_cards = avgRates.group('avgRate', np.mean)\n",
    "avgRates_cards.sort('redCards mean', descending=True)"
   ]
  },
  {
   "cell_type": "code",
   "execution_count": 21,
   "metadata": {},
   "outputs": [
    {
     "data": {
      "image/png": "[encoded data removed]",
      "text/plain": [
       "<Figure size 432x324 with 1 Axes>"
      ]
     },
     "metadata": {
      "needs_background": "light"
     },
     "output_type": "display_data"
    },
    {
     "data": {
      "image/png": "[encoded data removed]",
      "text/plain": [
       "<Figure size 432x324 with 1 Axes>"
      ]
     },
     "metadata": {
      "needs_background": "light"
     },
     "output_type": "display_data"
    }
   ],
   "source": [
    "# SOLUTION\n",
    "# have the interns try to figure out the best way to visualize this\n",
    "avgRates_cards.select('avgRate', 'yellowCards mean').barh('avgRate')\n",
    "avgRates_cards.select('avgRate', 'yellowReds mean', 'redCards mean').barh('avgRate')"
   ]
  },
  {
   "cell_type": "markdown",
   "metadata": {},
   "source": [
    "<div class=\"alert alert-info\">\n",
    "<b>Question:</b> Interpret each plot. Go back to your original question. Do you think skin color manifest in racial bias in soccer? Why or why not? How could someone conduct further analysis (e.g., what would they need)?\n",
    "   </div>"
   ]
  },
  {
   "cell_type": "markdown",
   "metadata": {},
   "source": [
    "*Insert Answer Here*"
   ]
  },
  {
   "cell_type": "markdown",
   "metadata": {},
   "source": [
    "<div class=\"alert alert-info\">\n",
    "<b>Question:</b> What is something interesting you learned from the project?\n",
    "   </div>"
   ]
  },
  {
   "cell_type": "markdown",
   "metadata": {},
   "source": [
    "*Insert Answer Here*"
   ]
  },
  {
   "cell_type": "markdown",
   "metadata": {},
   "source": [
    "## 5. The Data Science Life Cycle: Your Take <a id='section 5'></a>"
   ]
  },
  {
   "cell_type": "markdown",
   "metadata": {},
   "source": [
    "Now, formulate and answer some questions you have about the data. Follow the data science life cycle, and be sure to document the different patterns you notice. Take note of what issues also appear and how they can be resolved (e.g., collecting more data).\n",
    "\n",
    "Feel free to scroll up to the first cell where we load in our data. That way, you can use *all* of the data. In order to do this, you may need to copy and paste when we \"read\" in the data as well as when the data is cleaned. Observe the different ways that the data is cleaned in this notebook and copy and paste the code cell you find the most effective."
   ]
  },
  {
   "cell_type": "code",
   "execution_count": null,
   "metadata": {},
   "outputs": [],
   "source": []
  },
  {
   "cell_type": "code",
   "execution_count": null,
   "metadata": {},
   "outputs": [],
   "source": []
  },
  {
   "cell_type": "code",
   "execution_count": null,
   "metadata": {},
   "outputs": [],
   "source": []
  },
  {
   "cell_type": "code",
   "execution_count": null,
   "metadata": {},
   "outputs": [],
   "source": []
  },
  {
   "cell_type": "code",
   "execution_count": null,
   "metadata": {},
   "outputs": [],
   "source": []
  },
  {
   "cell_type": "markdown",
   "metadata": {},
   "source": [
    "**Source:** Data 88 (Sports Analytics)\n",
    "<br>\n",
    "**Adapted by:** Alleanna Clark, Ashley Quiterio, Karla Palos Castellanos, Pratibha Sriram, William Furtado, and Andrew Chen"
   ]
  }
 ],
 "metadata": {
  "kernelspec": {
   "display_name": "Python 3 (ipykernel)",
   "language": "python",
   "name": "python3"
  },
  "language_info": {
   "codemirror_mode": {
    "name": "ipython",
    "version": 3
   },
   "file_extension": ".py",
   "mimetype": "text/x-python",
   "name": "python",
   "nbconvert_exporter": "python",
   "pygments_lexer": "ipython3",
   "version": "3.10.2"
  }
 },
 "nbformat": 4,
 "nbformat_minor": 4
}
