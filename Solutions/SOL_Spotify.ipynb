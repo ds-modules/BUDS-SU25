{
 "cells": [
  {
   "cell_type": "code",
   "execution_count": 1,
   "metadata": {},
   "outputs": [],
   "source": [
    "# run this cell\n",
    "\n",
    "import pandas as pd\n",
    "from datascience import *\n",
    "import numpy as np\n",
    "import math\n",
    "import matplotlib.pyplot as plt\n",
    "plt.style.use('fivethirtyeight')\n",
    "%matplotlib inline"
   ]
  },
  {
   "cell_type": "markdown",
   "metadata": {},
   "source": [
    "# Final Project: Intro to Spotify"
   ]
  },
  {
   "cell_type": "markdown",
   "metadata": {},
   "source": [
    "### Table of Contents\n",
    "\n",
    "1. <a href='#section 1'>Formulating a Question or Problem</a> \n",
    "\n",
    "\n",
    "2. <a href='#section 2'>Acquiring and Preparing Data</a>\n",
    "\n",
    "\n",
    "3. <a href='#section 3'>Conducting Exploratory Data Analysis</a>\n",
    "\n",
    "\n",
    "4. <a href='#section 4'>Using Prediction and Inference to Draw Conclusions</a>\n",
    "\n",
    "\n",
    "5. <a href='#section 5'>The Data Science Life Cycle: Your Take</a>\n",
    "<br><br>"
   ]
  },
  {
   "cell_type": "markdown",
   "metadata": {},
   "source": [
    "### Background Knowledge\n",
    "\n",
    "If you listen to music, chances are you use Spotify, Apple Music, or another similar streaming service. This new era of the music industry curates playlists, recommends new artists, and is based on the number of streams more than the number of albums sold. The way these streaming services do this is (you guessed it) data!\n",
    "\n",
    "Spotify, like many other companies, hires many full-time data scientists to analyze all the incoming user data and use it to make predictions and recommendations for users. If you're interested, feel free to check out [Spotify's Engineering Page](https://engineering.atspotify.com/) for more information!"
   ]
  },
  {
   "cell_type": "markdown",
   "metadata": {},
   "source": [
    "<img src=\"images/spotify.png\" width = 700/>\n",
    "\n",
    "<center><a href=https://hrblog.spotify.com/2018/02/08/amping-up-diversity-inclusion-at-spotify/>Image Reference</a></center> "
   ]
  },
  {
   "cell_type": "markdown",
   "metadata": {},
   "source": [
    "# The Data Science Life Cycle"
   ]
  },
  {
   "cell_type": "markdown",
   "metadata": {},
   "source": [
    "## 1. Formulating a Question or Problem <a id='section 1'></a>\n",
    "It is important to ask questions that will be informative and can be answered using the data. There are many different questions we could ask about music data. For example, there are many artists who want to find out how to get their music on Spotify's Discover Weekly playlist in order to gain exposure. Similarly, users love to see their *Spotify Wrapped* listening reports at the end of each year."
   ]
  },
  {
   "cell_type": "markdown",
   "metadata": {},
   "source": [
    "<div class=\"alert alert-info\">\n",
    "<b>Question:</b> Recall the questions you developed with your group. Write down those questions below, and try to add on to it with the context of the articles. Think about what data you would need to answer your question.\n",
    "   </div>"
   ]
  },
  {
   "cell_type": "markdown",
   "metadata": {},
   "source": [
    "**Original Question(s):** *here*\n",
    "\n",
    "\n",
    "**Updated Question(s):** *here*\n",
    "\n",
    "\n",
    "**Data you would need:** *here*\n"
   ]
  },
  {
   "cell_type": "markdown",
   "metadata": {},
   "source": [
    "## 2. Acquiring and Cleaning Data <a id='section 2'></a>\n",
    "\n",
    "We'll be looking at song data from Spotify. You can find the raw data [here](https://github.com/rfordatascience/tidytuesday/tree/master/data/2020/2020-01-21). We've cleaned up the datasets a bit, and we will be investigating the popularity and the qualities of songs from this dataset.\n",
    "\n",
    "The following table, `spotify`, contains a list of tracks identified by their unique song ID along with attributes about that track.\n",
    "\n",
    "Here are the descriptions of the columns for your reference. We may not be using all of these fields, but you can still take a look at its description.\n",
    "\n",
    "|Variable Name   | Description |\n",
    "|--------------|------------|\n",
    "|`track_id` | \tSong unique ID |\n",
    "|`track_name` | Song Name |\n",
    "|`track_artist\t`| Song Artist |\n",
    "|`track_popularity` | Song Popularity (0-100) where higher is better |\n",
    "|`track_album_id`| Album unique ID |\n",
    "|`track_album_name` | Song album name |\n",
    "|`track_album_release_date`| Date when album released |\n",
    "|`playlist_name`| Name of playlist |\n",
    "|`playlist_id`| Playlist ID |\n",
    "|`playlist_genre`| Playlist genre |\n",
    "|`playlist_subgenre\t`|  Playlist subgenre |\n",
    "|`danceability`| Danceability describes how suitable a track is for dancing based on a combination of musical elements including tempo, rhythm stability, beat strength, and overall regularity. A value of 0.0 is least danceable and 1.0 is most danceable. |\n",
    "|`energy`| Energy is a measure from 0.0 to 1.0 and represents a perceptual measure of intensity and activity. Typically, energetic tracks feel fast, loud, and noisy. For example, death metal has high energy, while a Bach prelude scores low on the scale. Perceptual features contributing to this attribute include dynamic range, perceived loudness, timbre, onset rate, and general entropy. |\n",
    "|`key`| The estimated overall key of the track. Integers map to pitches using standard Pitch Class notation . E.g. 0 = C, 1 = C♯/D♭, 2 = D, and so on. If no key was detected, the value is -1. |\n",
    "|`loudness`|  The overall loudness of a track in decibels (dB). Loudness values are averaged across the entire track and are useful for comparing relative loudness of tracks. Loudness is the quality of a sound that is the primary psychological correlate of physical strength (amplitude). Values typical range between -60 and 0 db. |\n",
    "|`mode`|  Mode indicates the modality (major or minor) of a track, the type of scale from which its melodic content is derived. Major is represented by 1 and minor is 0. |\n",
    "|`speechiness`|  Speechiness detects the presence of spoken words in a track. The more exclusively speech-like the recording (e.g. talk show, audio book, poetry), the closer to 1.0 the attribute value. Values above 0.66 describe tracks that are probably made entirely of spoken words. Values between 0.33 and 0.66 describe tracks that may contain both music and speech, either in sections or layered, including such cases as rap music. Values below 0.33 most likely represent music and other non-speech-like tracks. |\n",
    "|`acousticness`|  A confidence measure from 0.0 to 1.0 of whether the track is acoustic. 1.0 represents high confidence the track is acoustic. |\n",
    "|`instrumentalness`| Predicts whether a track contains no vocals. “Ooh” and “aah” sounds are treated as instrumental in this context. Rap or spoken word tracks are clearly “vocal”. The closer the instrumentalness value is to 1.0, the greater likelihood the track contains no vocal content. Values above 0.5 are intended to represent instrumental tracks, but confidence is higher as the value approaches 1.0. |\n",
    "|`liveness`| Detects the presence of an audience in the recording. Higher liveness values represent an increased probability that the track was performed live. A value above 0.8 provides strong likelihood that the track is live. |\n",
    "|`valence`| A measure from 0.0 to 1.0 describing the musical positiveness conveyed by a track. Tracks with high valence sound more positive (e.g. happy, cheerful, euphoric), while tracks with low valence sound more negative (e.g. sad, depressed, angry). |\n",
    "|`tempo`| The overall estimated tempo of a track in beats per minute (BPM). In musical terminology, tempo is the speed or pace of a given piece and derives directly from the average beat duration. |\n",
    "|`duration_ms`| Duration of song in milliseconds |\n",
    "|`creation_year`| Year when album was released |\n",
    "\n",
    "\n"
   ]
  },
  {
   "cell_type": "code",
   "execution_count": 2,
   "metadata": {},
   "outputs": [
    {
     "data": {
      "text/html": [
       "<table border=\"1\" class=\"dataframe\">\n",
       "    <thead>\n",
       "        <tr>\n",
       "            <th>track_id</th> <th>track_name</th> <th>track_artist</th> <th>track_popularity</th> <th>track_album_id</th> <th>track_album_name</th> <th>track_album_release_date</th> <th>playlist_name</th> <th>playlist_id</th> <th>playlist_genre</th> <th>playlist_subgenre</th> <th>danceability</th> <th>energy</th> <th>key</th> <th>loudness</th> <th>mode</th> <th>speechiness</th> <th>acousticness</th> <th>instrumentalness</th> <th>liveness</th> <th>valence</th> <th>tempo</th> <th>duration_ms</th> <th>creation_year</th>\n",
       "        </tr>\n",
       "    </thead>\n",
       "    <tbody>\n",
       "        <tr>\n",
       "            <td>6f807x0ima9a1j3VPbc7VN</td> <td>I Don't Care (with Justin Bieber) - Loud Luxury Remix</td> <td>Ed Sheeran      </td> <td>66              </td> <td>2oCs0DGTsRO98Gh5ZSl2Cx</td> <td>I Don't Care (with Justin Bieber) [Loud Luxury Remix]</td> <td>2019-06-14              </td> <td>Pop Remix    </td> <td>37i9dQZF1DXcZDD7cfEKhW</td> <td>pop           </td> <td>dance pop        </td> <td>0.748       </td> <td>0.916 </td> <td>6   </td> <td>-2.634  </td> <td>1   </td> <td>0.0583     </td> <td>0.102       </td> <td>0               </td> <td>0.0653  </td> <td>0.518  </td> <td>122.036</td> <td>194754     </td> <td>2019         </td>\n",
       "        </tr>\n",
       "        <tr>\n",
       "            <td>0r7CVbZTWZgbTCYdfa2P31</td> <td>Memories - Dillon Francis Remix                      </td> <td>Maroon 5        </td> <td>67              </td> <td>63rPSO264uRjW1X5E6cWv6</td> <td>Memories (Dillon Francis Remix)                      </td> <td>2019-12-13              </td> <td>Pop Remix    </td> <td>37i9dQZF1DXcZDD7cfEKhW</td> <td>pop           </td> <td>dance pop        </td> <td>0.726       </td> <td>0.815 </td> <td>11  </td> <td>-4.969  </td> <td>1   </td> <td>0.0373     </td> <td>0.0724      </td> <td>0.00421         </td> <td>0.357   </td> <td>0.693  </td> <td>99.972 </td> <td>162600     </td> <td>2019         </td>\n",
       "        </tr>\n",
       "        <tr>\n",
       "            <td>1z1Hg7Vb0AhHDiEmnDE79l</td> <td>All the Time - Don Diablo Remix                      </td> <td>Zara Larsson    </td> <td>70              </td> <td>1HoSmj2eLcsrR0vE9gThr4</td> <td>All the Time (Don Diablo Remix)                      </td> <td>2019-07-05              </td> <td>Pop Remix    </td> <td>37i9dQZF1DXcZDD7cfEKhW</td> <td>pop           </td> <td>dance pop        </td> <td>0.675       </td> <td>0.931 </td> <td>1   </td> <td>-3.432  </td> <td>0   </td> <td>0.0742     </td> <td>0.0794      </td> <td>2.33e-05        </td> <td>0.11    </td> <td>0.613  </td> <td>124.008</td> <td>176616     </td> <td>2019         </td>\n",
       "        </tr>\n",
       "        <tr>\n",
       "            <td>75FpbthrwQmzHlBJLuGdC7</td> <td>Call You Mine - Keanu Silva Remix                    </td> <td>The Chainsmokers</td> <td>60              </td> <td>1nqYsOef1yKKuGOVchbsk6</td> <td>Call You Mine - The Remixes                          </td> <td>2019-07-19              </td> <td>Pop Remix    </td> <td>37i9dQZF1DXcZDD7cfEKhW</td> <td>pop           </td> <td>dance pop        </td> <td>0.718       </td> <td>0.93  </td> <td>7   </td> <td>-3.778  </td> <td>1   </td> <td>0.102      </td> <td>0.0287      </td> <td>9.43e-06        </td> <td>0.204   </td> <td>0.277  </td> <td>121.956</td> <td>169093     </td> <td>2019         </td>\n",
       "        </tr>\n",
       "        <tr>\n",
       "            <td>1e8PAfcKUYoKkxPhrHqw4x</td> <td>Someone You Loved - Future Humans Remix              </td> <td>Lewis Capaldi   </td> <td>69              </td> <td>7m7vv9wlQ4i0LFuJiE2zsQ</td> <td>Someone You Loved (Future Humans Remix)              </td> <td>2019-03-05              </td> <td>Pop Remix    </td> <td>37i9dQZF1DXcZDD7cfEKhW</td> <td>pop           </td> <td>dance pop        </td> <td>0.65        </td> <td>0.833 </td> <td>1   </td> <td>-4.672  </td> <td>1   </td> <td>0.0359     </td> <td>0.0803      </td> <td>0               </td> <td>0.0833  </td> <td>0.725  </td> <td>123.976</td> <td>189052     </td> <td>2019         </td>\n",
       "        </tr>\n",
       "        <tr>\n",
       "            <td>7fvUMiyapMsRRxr07cU8Ef</td> <td>Beautiful People (feat. Khalid) - Jack Wins Remix    </td> <td>Ed Sheeran      </td> <td>67              </td> <td>2yiy9cd2QktrNvWC2EUi0k</td> <td>Beautiful People (feat. Khalid) [Jack Wins Remix]    </td> <td>2019-07-11              </td> <td>Pop Remix    </td> <td>37i9dQZF1DXcZDD7cfEKhW</td> <td>pop           </td> <td>dance pop        </td> <td>0.675       </td> <td>0.919 </td> <td>8   </td> <td>-5.385  </td> <td>1   </td> <td>0.127      </td> <td>0.0799      </td> <td>0               </td> <td>0.143   </td> <td>0.585  </td> <td>124.982</td> <td>163049     </td> <td>2019         </td>\n",
       "        </tr>\n",
       "        <tr>\n",
       "            <td>2OAylPUDDfwRGfe0lYqlCQ</td> <td>Never Really Over - R3HAB Remix                      </td> <td>Katy Perry      </td> <td>62              </td> <td>7INHYSeusaFlyrHSNxm8qH</td> <td>Never Really Over (R3HAB Remix)                      </td> <td>2019-07-26              </td> <td>Pop Remix    </td> <td>37i9dQZF1DXcZDD7cfEKhW</td> <td>pop           </td> <td>dance pop        </td> <td>0.449       </td> <td>0.856 </td> <td>5   </td> <td>-4.788  </td> <td>0   </td> <td>0.0623     </td> <td>0.187       </td> <td>0               </td> <td>0.176   </td> <td>0.152  </td> <td>112.648</td> <td>187675     </td> <td>2019         </td>\n",
       "        </tr>\n",
       "        <tr>\n",
       "            <td>6b1RNvAcJjQH73eZO4BLAB</td> <td>Post Malone (feat. RANI) - GATTÜSO Remix             </td> <td>Sam Feldt       </td> <td>69              </td> <td>6703SRPsLkS4bPtMFFJes1</td> <td>Post Malone (feat. RANI) [GATTÜSO Remix]             </td> <td>2019-08-29              </td> <td>Pop Remix    </td> <td>37i9dQZF1DXcZDD7cfEKhW</td> <td>pop           </td> <td>dance pop        </td> <td>0.542       </td> <td>0.903 </td> <td>4   </td> <td>-2.419  </td> <td>0   </td> <td>0.0434     </td> <td>0.0335      </td> <td>4.83e-06        </td> <td>0.111   </td> <td>0.367  </td> <td>127.936</td> <td>207619     </td> <td>2019         </td>\n",
       "        </tr>\n",
       "        <tr>\n",
       "            <td>7bF6tCO3gFb8INrEDcjNT5</td> <td>Tough Love - Tiësto Remix / Radio Edit               </td> <td>Avicii          </td> <td>68              </td> <td>7CvAfGvq4RlIwEbT9o8Iav</td> <td>Tough Love (Tiësto Remix)                            </td> <td>2019-06-14              </td> <td>Pop Remix    </td> <td>37i9dQZF1DXcZDD7cfEKhW</td> <td>pop           </td> <td>dance pop        </td> <td>0.594       </td> <td>0.935 </td> <td>8   </td> <td>-3.562  </td> <td>1   </td> <td>0.0565     </td> <td>0.0249      </td> <td>3.97e-06        </td> <td>0.637   </td> <td>0.366  </td> <td>127.015</td> <td>193187     </td> <td>2019         </td>\n",
       "        </tr>\n",
       "        <tr>\n",
       "            <td>1IXGILkPm0tOCNeq00kCPa</td> <td>If I Can't Have You - Gryffin Remix                  </td> <td>Shawn Mendes    </td> <td>67              </td> <td>4QxzbfSsVryEQwvPFEV5Iu</td> <td>If I Can't Have You (Gryffin Remix)                  </td> <td>2019-06-20              </td> <td>Pop Remix    </td> <td>37i9dQZF1DXcZDD7cfEKhW</td> <td>pop           </td> <td>dance pop        </td> <td>0.642       </td> <td>0.818 </td> <td>2   </td> <td>-4.552  </td> <td>1   </td> <td>0.032      </td> <td>0.0567      </td> <td>0               </td> <td>0.0919  </td> <td>0.59   </td> <td>124.957</td> <td>253040     </td> <td>2019         </td>\n",
       "        </tr>\n",
       "    </tbody>\n",
       "</table>\n",
       "<p>... (32823 rows omitted)</p>"
      ],
      "text/plain": [
       "<IPython.core.display.HTML object>"
      ]
     },
     "metadata": {},
     "output_type": "display_data"
    }
   ],
   "source": [
    "spotify = Table.read_table('data/spotify.csv')\n",
    "spotify.show(10)"
   ]
  },
  {
   "cell_type": "markdown",
   "metadata": {},
   "source": [
    "<div class=\"alert alert-info\">\n",
    "<b>Question:</b> It's important to evalute our data source. What do you know about the source? What motivations do they have for collecting this data? What data is missing?\n",
    "   </div>"
   ]
  },
  {
   "cell_type": "markdown",
   "metadata": {},
   "source": [
    "*Insert answer here*"
   ]
  },
  {
   "cell_type": "markdown",
   "metadata": {},
   "source": [
    "<div class=\"alert alert-info\">\n",
    "<b>Question:</b> Do you see any missing (<code>nan</code>) values? Why might they be there?\n",
    "   </div>"
   ]
  },
  {
   "cell_type": "markdown",
   "metadata": {},
   "source": [
    "*Insert answer here*"
   ]
  },
  {
   "cell_type": "markdown",
   "metadata": {},
   "source": [
    "<div class=\"alert alert-info\">\n",
    "<b>Question:</b> We want to learn more about the dataset. First, how many total rows are in this table? What does each row represent?\n",
    "    \n",
    "   </div>"
   ]
  },
  {
   "cell_type": "code",
   "execution_count": null,
   "metadata": {},
   "outputs": [],
   "source": [
    "total_rows = ...\n",
    "total_rows"
   ]
  },
  {
   "cell_type": "markdown",
   "metadata": {},
   "source": [
    "*Insert answer here*"
   ]
  },
  {
   "cell_type": "markdown",
   "metadata": {},
   "source": [
    "## 3. Conducting Exploratory Data Analysis <a id='section 3'></a>"
   ]
  },
  {
   "cell_type": "markdown",
   "metadata": {},
   "source": [
    "Visualizations help us to understand what the dataset is telling us. We will be using bar charts, scatter plots, and line plots to try to answer questions like the following:\n",
    "> What audio features make a song popular and which artists have these songs? How have features changed over time?"
   ]
  },
  {
   "cell_type": "markdown",
   "metadata": {},
   "source": [
    "### Song Lengths"
   ]
  },
  {
   "cell_type": "markdown",
   "metadata": {},
   "source": [
    "Right now, the `duration` array contains the length of each song in milliseconds. However, that's not a common measurement when describing the length of a song - often, we use minutes and seconds. Using array arithmetic, we can find the length of each song in seconds and in minutes. There are 1000 milliseconds in a second, and 60 seconds in a minute. First, we will convert milliseconds to seconds.\n"
   ]
  },
  {
   "cell_type": "code",
   "execution_count": null,
   "metadata": {},
   "outputs": [],
   "source": [
    "# access the duration column as an array\n",
    "duration = ...\n",
    "duration"
   ]
  },
  {
   "cell_type": "code",
   "execution_count": null,
   "metadata": {},
   "outputs": [],
   "source": [
    "# divide the milliseconds by 1000\n",
    "duration_seconds = ...\n",
    "duration_seconds"
   ]
  },
  {
   "cell_type": "code",
   "execution_count": null,
   "metadata": {},
   "outputs": [],
   "source": [
    "# now convert duration_seconds to minutes\n",
    "duration_minutes = ...\n",
    "duration_minutes"
   ]
  },
  {
   "cell_type": "code",
   "execution_count": 3,
   "metadata": {},
   "outputs": [
    {
     "data": {
      "text/plain": [
       "array([3.2459    , 2.71      , 2.9436    , ..., 3.50186667, 6.12386667,\n",
       "       5.625     ])"
      ]
     },
     "execution_count": 3,
     "metadata": {},
     "output_type": "execute_result"
    }
   ],
   "source": [
    "# SOLUTION\n",
    "duration = spotify.column('duration_ms')\n",
    "duration_seconds = duration / 1000\n",
    "duration_minutes = duration_seconds / 60\n",
    "duration_minutes"
   ]
  },
  {
   "cell_type": "markdown",
   "metadata": {},
   "source": [
    "<div class=\"alert alert-info\">\n",
    "<b>Question:</b> How would we find the average duration (in minutes) of the songs in this dataset?\n",
    "   </div>"
   ]
  },
  {
   "cell_type": "code",
   "execution_count": null,
   "metadata": {},
   "outputs": [],
   "source": [
    "avg_song_length_mins = ...\n",
    "avg_song_length_mins"
   ]
  },
  {
   "cell_type": "code",
   "execution_count": 4,
   "metadata": {},
   "outputs": [
    {
     "data": {
      "text/plain": [
       "3.7633301937075503"
      ]
     },
     "execution_count": 4,
     "metadata": {},
     "output_type": "execute_result"
    }
   ],
   "source": [
    "# SOLUTION\n",
    "avg_song_length_mins = np.average(duration_minutes)\n",
    "avg_song_length_mins"
   ]
  },
  {
   "cell_type": "markdown",
   "metadata": {},
   "source": [
    "<div class=\"alert alert-info\">\n",
    "<b>Question:</b> How would we add in the duration for each song (in minutes) to our <code>spotify</code> table? Call this column <code>duration_min</code>.\n",
    "   </div>"
   ]
  },
  {
   "cell_type": "code",
   "execution_count": null,
   "metadata": {},
   "outputs": [],
   "source": [
    "# add the duration in minutes column we just created to our dataset\n",
    "spotify = ...\n",
    "spotify"
   ]
  },
  {
   "cell_type": "code",
   "execution_count": 5,
   "metadata": {},
   "outputs": [
    {
     "data": {
      "text/html": [
       "<table border=\"1\" class=\"dataframe\">\n",
       "    <thead>\n",
       "        <tr>\n",
       "            <th>track_id</th> <th>track_name</th> <th>track_artist</th> <th>track_popularity</th> <th>track_album_id</th> <th>track_album_name</th> <th>track_album_release_date</th> <th>playlist_name</th> <th>playlist_id</th> <th>playlist_genre</th> <th>playlist_subgenre</th> <th>danceability</th> <th>energy</th> <th>key</th> <th>loudness</th> <th>mode</th> <th>speechiness</th> <th>acousticness</th> <th>instrumentalness</th> <th>liveness</th> <th>valence</th> <th>tempo</th> <th>duration_ms</th> <th>creation_year</th> <th>duration_min</th>\n",
       "        </tr>\n",
       "    </thead>\n",
       "    <tbody>\n",
       "        <tr>\n",
       "            <td>6f807x0ima9a1j3VPbc7VN</td> <td>I Don't Care (with Justin Bieber) - Loud Luxury Remix</td> <td>Ed Sheeran  </td> <td>66              </td> <td>2oCs0DGTsRO98Gh5ZSl2Cx</td> <td>I Don't Care (with Justin Bieber) [Loud Luxury Remix]</td> <td>2019-06-14              </td> <td>Pop Remix    </td> <td>37i9dQZF1DXcZDD7cfEKhW</td> <td>pop           </td> <td>dance pop        </td> <td>0.748       </td> <td>0.916 </td> <td>6   </td> <td>-2.634  </td> <td>1   </td> <td>0.0583     </td> <td>0.102       </td> <td>0               </td> <td>0.0653  </td> <td>0.518  </td> <td>122.036</td> <td>194754     </td> <td>2019         </td> <td>3.2459      </td>\n",
       "        </tr>\n",
       "        <tr>\n",
       "            <td>0r7CVbZTWZgbTCYdfa2P31</td> <td>Memories - Dillon Francis Remix                      </td> <td>Maroon 5    </td> <td>67              </td> <td>63rPSO264uRjW1X5E6cWv6</td> <td>Memories (Dillon Francis Remix)                      </td> <td>2019-12-13              </td> <td>Pop Remix    </td> <td>37i9dQZF1DXcZDD7cfEKhW</td> <td>pop           </td> <td>dance pop        </td> <td>0.726       </td> <td>0.815 </td> <td>11  </td> <td>-4.969  </td> <td>1   </td> <td>0.0373     </td> <td>0.0724      </td> <td>0.00421         </td> <td>0.357   </td> <td>0.693  </td> <td>99.972 </td> <td>162600     </td> <td>2019         </td> <td>2.71        </td>\n",
       "        </tr>\n",
       "        <tr>\n",
       "            <td>1z1Hg7Vb0AhHDiEmnDE79l</td> <td>All the Time - Don Diablo Remix                      </td> <td>Zara Larsson</td> <td>70              </td> <td>1HoSmj2eLcsrR0vE9gThr4</td> <td>All the Time (Don Diablo Remix)                      </td> <td>2019-07-05              </td> <td>Pop Remix    </td> <td>37i9dQZF1DXcZDD7cfEKhW</td> <td>pop           </td> <td>dance pop        </td> <td>0.675       </td> <td>0.931 </td> <td>1   </td> <td>-3.432  </td> <td>0   </td> <td>0.0742     </td> <td>0.0794      </td> <td>2.33e-05        </td> <td>0.11    </td> <td>0.613  </td> <td>124.008</td> <td>176616     </td> <td>2019         </td> <td>2.9436      </td>\n",
       "        </tr>\n",
       "    </tbody>\n",
       "</table>\n",
       "<p>... (32830 rows omitted)</p>"
      ],
      "text/plain": [
       "<IPython.core.display.HTML object>"
      ]
     },
     "metadata": {},
     "output_type": "display_data"
    }
   ],
   "source": [
    "# SOLUTION\n",
    "spotify = spotify.with_columns('duration_min', duration_minutes)\n",
    "spotify.show(3)"
   ]
  },
  {
   "cell_type": "markdown",
   "metadata": {},
   "source": [
    "### Artist Comparison"
   ]
  },
  {
   "cell_type": "markdown",
   "metadata": {},
   "source": [
    "With the duration for each song, you can compare average song lengths of two artists. Let's see if we can find any meaningful difference in the average lengths of songs for different artists."
   ]
  },
  {
   "cell_type": "markdown",
   "metadata": {},
   "source": [
    "<div class=\"alert alert-info\">\n",
    "<b>Question:</b> First, find the average song length of Sam Smith. Then, try comparing the average song lengths of two different artists.\n",
    "    </div>\n",
    "    \n",
    "Can you think of any differences you know of between the two artists that could possibly affect their song lengths? What other factors may play into a song's length?"
   ]
  },
  {
   "cell_type": "code",
   "execution_count": null,
   "metadata": {
    "scrolled": true
   },
   "outputs": [],
   "source": [
    "sam_smith = ...\n",
    "sam_smith"
   ]
  },
  {
   "cell_type": "code",
   "execution_count": null,
   "metadata": {},
   "outputs": [],
   "source": [
    "sam_smith_mean = ...\n",
    "sam_smith_mean"
   ]
  },
  {
   "cell_type": "code",
   "execution_count": null,
   "metadata": {},
   "outputs": [],
   "source": [
    "# choose an artist you want to look at\n",
    "artist_name_1 = ...\n",
    "artist_name_1"
   ]
  },
  {
   "cell_type": "code",
   "execution_count": null,
   "metadata": {},
   "outputs": [],
   "source": [
    "# choose another artist you want to compare the first artist to\n",
    "artist_name_2 = ...\n",
    "artist_name_2"
   ]
  },
  {
   "cell_type": "markdown",
   "metadata": {},
   "source": [
    "*Insert answer here*"
   ]
  },
  {
   "cell_type": "code",
   "execution_count": 6,
   "metadata": {},
   "outputs": [
    {
     "data": {
      "text/plain": [
       "3.2958253333333327"
      ]
     },
     "execution_count": 6,
     "metadata": {},
     "output_type": "execute_result"
    }
   ],
   "source": [
    "# SOLUTION\n",
    "sam_smith = spotify.where(\"track_artist\", are.equal_to(\"Sam Smith\"))\n",
    "sam_smith_mean = np.average(sam_smith.column(\"duration_min\"))\n",
    "sam_smith_mean"
   ]
  },
  {
   "cell_type": "markdown",
   "metadata": {},
   "source": [
    "This exercise was just one example of how you can play around with data and answer questions."
   ]
  },
  {
   "cell_type": "markdown",
   "metadata": {},
   "source": [
    "### Top Genres and Artists\n",
    "\n",
    "In this section, we are interested in the categorical information in our dataset, such as the playlist each song comes from or the genre of the song. There are almost 33,000 songs in our dataset, so let's do some investigating. What are the most popular genres?"
   ]
  },
  {
   "cell_type": "markdown",
   "metadata": {},
   "source": [
    "<div class=\"alert alert-info\">\n",
    "<b>Question:</b> How can we find the most popular genres?\n",
    "   </div>"
   ]
  },
  {
   "cell_type": "code",
   "execution_count": null,
   "metadata": {},
   "outputs": [],
   "source": [
    "genre_counts = ...\n",
    "genre_counts"
   ]
  },
  {
   "cell_type": "code",
   "execution_count": 7,
   "metadata": {},
   "outputs": [
    {
     "data": {
      "text/html": [
       "<table border=\"1\" class=\"dataframe\">\n",
       "    <thead>\n",
       "        <tr>\n",
       "            <th>playlist_genre</th> <th>count</th>\n",
       "        </tr>\n",
       "    </thead>\n",
       "    <tbody>\n",
       "        <tr>\n",
       "            <td>edm           </td> <td>6043 </td>\n",
       "        </tr>\n",
       "        <tr>\n",
       "            <td>latin         </td> <td>5155 </td>\n",
       "        </tr>\n",
       "        <tr>\n",
       "            <td>pop           </td> <td>5507 </td>\n",
       "        </tr>\n",
       "        <tr>\n",
       "            <td>r&b           </td> <td>5431 </td>\n",
       "        </tr>\n",
       "        <tr>\n",
       "            <td>rap           </td> <td>5746 </td>\n",
       "        </tr>\n",
       "        <tr>\n",
       "            <td>rock          </td> <td>4951 </td>\n",
       "        </tr>\n",
       "    </tbody>\n",
       "</table>"
      ],
      "text/plain": [
       "playlist_genre | count\n",
       "edm            | 6043\n",
       "latin          | 5155\n",
       "pop            | 5507\n",
       "r&b            | 5431\n",
       "rap            | 5746\n",
       "rock           | 4951"
      ]
     },
     "execution_count": 7,
     "metadata": {},
     "output_type": "execute_result"
    }
   ],
   "source": [
    "# SOLUTION\n",
    "genre_counts = spotify.group('playlist_genre')\n",
    "genre_counts"
   ]
  },
  {
   "cell_type": "markdown",
   "metadata": {},
   "source": [
    "<div class=\"alert alert-info\">\n",
    "<b>Question:</b> In our dataset, it looks like the most popular genre is EDM. Make a bar chart below to show how the other genres compare.\n",
    "   </div>"
   ]
  },
  {
   "cell_type": "code",
   "execution_count": null,
   "metadata": {},
   "outputs": [],
   "source": [
    "# visualize the data in this cell\n",
    "..."
   ]
  },
  {
   "cell_type": "code",
   "execution_count": 8,
   "metadata": {},
   "outputs": [
    {
     "data": {
      "image/png": "[encoded data removed]",
      "text/plain": [
       "<Figure size 432x288 with 1 Axes>"
      ]
     },
     "metadata": {
      "needs_background": "light"
     },
     "output_type": "display_data"
    }
   ],
   "source": [
    "# SOLUTION\n",
    "genre_counts.barh('playlist_genre', 'count')"
   ]
  },
  {
   "cell_type": "markdown",
   "metadata": {},
   "source": [
    "Notice that it was difficult to analyze the above bar chart because the data wasn't sorted first. Let's sort our data and make a new bar chart so that it is much easier to make comparisons."
   ]
  },
  {
   "cell_type": "code",
   "execution_count": null,
   "metadata": {},
   "outputs": [],
   "source": [
    "genre_counts_sorted = ...\n",
    "genre_counts_sorted"
   ]
  },
  {
   "cell_type": "code",
   "execution_count": null,
   "metadata": {},
   "outputs": [],
   "source": [
    "# visualize the data in this cell\n",
    "..."
   ]
  },
  {
   "cell_type": "code",
   "execution_count": 9,
   "metadata": {
    "scrolled": true
   },
   "outputs": [
    {
     "data": {
      "text/html": [
       "<table border=\"1\" class=\"dataframe\">\n",
       "    <thead>\n",
       "        <tr>\n",
       "            <th>playlist_genre</th> <th>count</th>\n",
       "        </tr>\n",
       "    </thead>\n",
       "    <tbody>\n",
       "        <tr>\n",
       "            <td>edm           </td> <td>6043 </td>\n",
       "        </tr>\n",
       "        <tr>\n",
       "            <td>rap           </td> <td>5746 </td>\n",
       "        </tr>\n",
       "        <tr>\n",
       "            <td>pop           </td> <td>5507 </td>\n",
       "        </tr>\n",
       "        <tr>\n",
       "            <td>r&b           </td> <td>5431 </td>\n",
       "        </tr>\n",
       "        <tr>\n",
       "            <td>latin         </td> <td>5155 </td>\n",
       "        </tr>\n",
       "        <tr>\n",
       "            <td>rock          </td> <td>4951 </td>\n",
       "        </tr>\n",
       "    </tbody>\n",
       "</table>"
      ],
      "text/plain": [
       "playlist_genre | count\n",
       "edm            | 6043\n",
       "rap            | 5746\n",
       "pop            | 5507\n",
       "r&b            | 5431\n",
       "latin          | 5155\n",
       "rock           | 4951"
      ]
     },
     "execution_count": 9,
     "metadata": {},
     "output_type": "execute_result"
    }
   ],
   "source": [
    "# SOLUTION\n",
    "genre_counts_sorted = genre_counts.sort('count', descending=True)\n",
    "genre_counts_sorted"
   ]
  },
  {
   "cell_type": "code",
   "execution_count": 10,
   "metadata": {},
   "outputs": [
    {
     "data": {
      "image/png": "[encoded data removed]",
      "text/plain": [
       "<Figure size 432x288 with 1 Axes>"
      ]
     },
     "metadata": {
      "needs_background": "light"
     },
     "output_type": "display_data"
    }
   ],
   "source": [
    "# SOLUTION\n",
    "genre_counts_sorted.barh('playlist_genre', 'count')"
   ]
  },
  {
   "cell_type": "markdown",
   "metadata": {},
   "source": [
    "<div class=\"alert alert-info\">\n",
    "<b>Question:</b> Was this what you expected? Which genre did you think would be the most popular?\n",
    "   </div>"
   ]
  },
  {
   "cell_type": "markdown",
   "metadata": {},
   "source": [
    "*Insert answer here.*"
   ]
  },
  {
   "cell_type": "markdown",
   "metadata": {},
   "source": [
    "<div class=\"alert alert-info\">\n",
    "<b>Question:</b> Let's take a look at all the artists in the dataset. We can take a look at the top 25 artists based on the <i>number</i> of songs they have in our dataset. We'll follow a similar method as we did when grouping by genre above.\n",
    "   </div>"
   ]
  },
  {
   "cell_type": "code",
   "execution_count": null,
   "metadata": {
    "scrolled": true
   },
   "outputs": [],
   "source": [
    "artists_grouped = ...\n",
    "artists_grouped"
   ]
  },
  {
   "cell_type": "code",
   "execution_count": null,
   "metadata": {
    "scrolled": true
   },
   "outputs": [],
   "source": [
    "top_artists = ...\n",
    "top_artists"
   ]
  },
  {
   "cell_type": "code",
   "execution_count": null,
   "metadata": {
    "scrolled": true
   },
   "outputs": [],
   "source": [
    "# create a bar chart\n",
    "..."
   ]
  },
  {
   "cell_type": "code",
   "execution_count": 11,
   "metadata": {},
   "outputs": [
    {
     "data": {
      "text/html": [
       "<table border=\"1\" class=\"dataframe\">\n",
       "    <thead>\n",
       "        <tr>\n",
       "            <th>track_artist</th> <th>count</th>\n",
       "        </tr>\n",
       "    </thead>\n",
       "    <tbody>\n",
       "        <tr>\n",
       "            <td>Martin Garrix   </td> <td>161  </td>\n",
       "        </tr>\n",
       "        <tr>\n",
       "            <td>Queen           </td> <td>136  </td>\n",
       "        </tr>\n",
       "        <tr>\n",
       "            <td>The Chainsmokers</td> <td>123  </td>\n",
       "        </tr>\n",
       "    </tbody>\n",
       "</table>\n",
       "<p>... (10690 rows omitted)</p>"
      ],
      "text/plain": [
       "<IPython.core.display.HTML object>"
      ]
     },
     "metadata": {},
     "output_type": "display_data"
    }
   ],
   "source": [
    "# SOLUTION\n",
    "artists_grouped = spotify.group('track_artist').sort('count', descending=True)\n",
    "artists_grouped.show(3)"
   ]
  },
  {
   "cell_type": "code",
   "execution_count": 12,
   "metadata": {},
   "outputs": [
    {
     "data": {
      "text/html": [
       "<table border=\"1\" class=\"dataframe\">\n",
       "    <thead>\n",
       "        <tr>\n",
       "            <th>track_artist</th> <th>count</th>\n",
       "        </tr>\n",
       "    </thead>\n",
       "    <tbody>\n",
       "        <tr>\n",
       "            <td>Martin Garrix   </td> <td>161  </td>\n",
       "        </tr>\n",
       "        <tr>\n",
       "            <td>Queen           </td> <td>136  </td>\n",
       "        </tr>\n",
       "        <tr>\n",
       "            <td>The Chainsmokers</td> <td>123  </td>\n",
       "        </tr>\n",
       "    </tbody>\n",
       "</table>\n",
       "<p>... (22 rows omitted)</p>"
      ],
      "text/plain": [
       "<IPython.core.display.HTML object>"
      ]
     },
     "metadata": {},
     "output_type": "display_data"
    }
   ],
   "source": [
    "# SOLUTION\n",
    "top_artists = artists_grouped.take(np.arange(0, 25))\n",
    "top_artists.show(3)"
   ]
  },
  {
   "cell_type": "code",
   "execution_count": 13,
   "metadata": {},
   "outputs": [
    {
     "data": {
      "image/png": "[encoded data removed]",
      "text/plain": [
       "<Figure size 432x900 with 1 Axes>"
      ]
     },
     "metadata": {
      "needs_background": "light"
     },
     "output_type": "display_data"
    }
   ],
   "source": [
    "# SOLUTION\n",
    "top_artists.barh('track_artist', 'count')"
   ]
  },
  {
   "cell_type": "markdown",
   "metadata": {},
   "source": [
    "<div class=\"alert alert-info\">\n",
    "<b>Question:</b> What do you notice about the top 25 artists in our dataset? If you don't know any of the artists, feel free to search them online.\n",
    "   </div>"
   ]
  },
  {
   "cell_type": "markdown",
   "metadata": {},
   "source": [
    "*Insert answer here*"
   ]
  },
  {
   "cell_type": "markdown",
   "metadata": {},
   "source": [
    "### Playlist Popularity"
   ]
  },
  {
   "cell_type": "markdown",
   "metadata": {},
   "source": [
    "In our dataset, each song is listed as belonging to a particular playlist, and each song is given a \"popularity score\", called the `track_popularity`. Using the `track_popularity`, we can calculate an *aggregate popularity* for each playlist, which is just the sum of all the popularity scores for the songs on the playlist.\n",
    "\n",
    "First, we will create a subset of our `spotify` table using the `select` method. This lets us create a table with only the relevant columns we want. In this case, we only care about the name of the playlist and the popularity of each track. Keep in mind that each row still represents one track, even though we no longer have the track title in our table."
   ]
  },
  {
   "cell_type": "code",
   "execution_count": null,
   "metadata": {
    "scrolled": true
   },
   "outputs": [],
   "source": [
    "# be sure to keep only the necessary information in our table\n",
    "spotify_subset = ...\n",
    "spotify_subset"
   ]
  },
  {
   "cell_type": "code",
   "execution_count": null,
   "metadata": {},
   "outputs": [],
   "source": [
    "playlists = ...\n",
    "playlists"
   ]
  },
  {
   "cell_type": "code",
   "execution_count": null,
   "metadata": {},
   "outputs": [],
   "source": [
    "total_playlist_popularity = ...\n",
    "total_playlist_popularity"
   ]
  },
  {
   "cell_type": "code",
   "execution_count": 14,
   "metadata": {},
   "outputs": [
    {
     "data": {
      "text/html": [
       "<table border=\"1\" class=\"dataframe\">\n",
       "    <thead>\n",
       "        <tr>\n",
       "            <th>playlist_name</th> <th>track_popularity</th>\n",
       "        </tr>\n",
       "    </thead>\n",
       "    <tbody>\n",
       "        <tr>\n",
       "            <td>Pop Remix    </td> <td>66              </td>\n",
       "        </tr>\n",
       "        <tr>\n",
       "            <td>Pop Remix    </td> <td>67              </td>\n",
       "        </tr>\n",
       "        <tr>\n",
       "            <td>Pop Remix    </td> <td>70              </td>\n",
       "        </tr>\n",
       "    </tbody>\n",
       "</table>\n",
       "<p>... (32830 rows omitted)</p>"
      ],
      "text/plain": [
       "<IPython.core.display.HTML object>"
      ]
     },
     "metadata": {},
     "output_type": "display_data"
    }
   ],
   "source": [
    "# SOLUTION\n",
    "spotify_subset = spotify.select(make_array('playlist_name', 'track_popularity'))\n",
    "spotify_subset.show(3)"
   ]
  },
  {
   "cell_type": "code",
   "execution_count": 15,
   "metadata": {},
   "outputs": [
    {
     "data": {
      "text/html": [
       "<table border=\"1\" class=\"dataframe\">\n",
       "    <thead>\n",
       "        <tr>\n",
       "            <th>playlist_name</th> <th>count</th>\n",
       "        </tr>\n",
       "    </thead>\n",
       "    <tbody>\n",
       "        <tr>\n",
       "            <td>\"Permanent Wave\"        </td> <td>23   </td>\n",
       "        </tr>\n",
       "        <tr>\n",
       "            <td>10er Playlist           </td> <td>61   </td>\n",
       "        </tr>\n",
       "        <tr>\n",
       "            <td>1987-1997 OLD SKOOL JAMZ</td> <td>41   </td>\n",
       "        </tr>\n",
       "    </tbody>\n",
       "</table>\n",
       "<p>... (446 rows omitted)</p>"
      ],
      "text/plain": [
       "<IPython.core.display.HTML object>"
      ]
     },
     "metadata": {},
     "output_type": "display_data"
    }
   ],
   "source": [
    "# SOLUTION\n",
    "playlists = spotify_subset.group('playlist_name')\n",
    "playlists.show(3)"
   ]
  },
  {
   "cell_type": "code",
   "execution_count": 16,
   "metadata": {},
   "outputs": [
    {
     "data": {
      "text/html": [
       "<table border=\"1\" class=\"dataframe\">\n",
       "    <thead>\n",
       "        <tr>\n",
       "            <th>playlist_name</th> <th>track_popularity sum</th>\n",
       "        </tr>\n",
       "    </thead>\n",
       "    <tbody>\n",
       "        <tr>\n",
       "            <td>\"Permanent Wave\"        </td> <td>849                 </td>\n",
       "        </tr>\n",
       "        <tr>\n",
       "            <td>10er Playlist           </td> <td>4234                </td>\n",
       "        </tr>\n",
       "        <tr>\n",
       "            <td>1987-1997 OLD SKOOL JAMZ</td> <td>1159                </td>\n",
       "        </tr>\n",
       "    </tbody>\n",
       "</table>\n",
       "<p>... (446 rows omitted)</p>"
      ],
      "text/plain": [
       "<IPython.core.display.HTML object>"
      ]
     },
     "metadata": {},
     "output_type": "display_data"
    }
   ],
   "source": [
    "# SOLUTION\n",
    "total_playlist_popularity = spotify_subset.group('playlist_name', sum)\n",
    "total_playlist_popularity.show(3)"
   ]
  },
  {
   "cell_type": "markdown",
   "metadata": {},
   "source": [
    "Similar to when we found duration in minutes, we can once again use the `column` method to access just the column containing the aggregate popularity values. Add it to our playlists table in the next cell."
   ]
  },
  {
   "cell_type": "code",
   "execution_count": null,
   "metadata": {},
   "outputs": [],
   "source": [
    "..."
   ]
  },
  {
   "cell_type": "code",
   "execution_count": 17,
   "metadata": {},
   "outputs": [
    {
     "data": {
      "text/html": [
       "<table border=\"1\" class=\"dataframe\">\n",
       "    <thead>\n",
       "        <tr>\n",
       "            <th>playlist_name</th> <th>count</th> <th>aggregate_popularity</th>\n",
       "        </tr>\n",
       "    </thead>\n",
       "    <tbody>\n",
       "        <tr>\n",
       "            <td>\"Permanent Wave\"        </td> <td>23   </td> <td>849                 </td>\n",
       "        </tr>\n",
       "        <tr>\n",
       "            <td>10er Playlist           </td> <td>61   </td> <td>4234                </td>\n",
       "        </tr>\n",
       "        <tr>\n",
       "            <td>1987-1997 OLD SKOOL JAMZ</td> <td>41   </td> <td>1159                </td>\n",
       "        </tr>\n",
       "    </tbody>\n",
       "</table>\n",
       "<p>... (446 rows omitted)</p>"
      ],
      "text/plain": [
       "<IPython.core.display.HTML object>"
      ]
     },
     "metadata": {},
     "output_type": "display_data"
    }
   ],
   "source": [
    "# SOLUTION\n",
    "agg_popularity = total_playlist_popularity.column('track_popularity sum')\n",
    "playlists = playlists.with_column('aggregate_popularity', agg_popularity)\n",
    "playlists.show(3)"
   ]
  },
  {
   "cell_type": "markdown",
   "metadata": {},
   "source": [
    "<div class=\"alert alert-info\">\n",
    "<b>Question:</b> Do you think that the most popular playlist would be the one with the highest aggregate popularity score or the one with the highest number of songs? We can sort our playlists table and compare the outputs."
   ]
  },
  {
   "cell_type": "code",
   "execution_count": null,
   "metadata": {
    "scrolled": true
   },
   "outputs": [],
   "source": [
    "# look at the playlists with the highest poularity scores\n",
    "..."
   ]
  },
  {
   "cell_type": "code",
   "execution_count": null,
   "metadata": {
    "scrolled": true
   },
   "outputs": [],
   "source": [
    "# now look at the playlists with the highest number of songs\n",
    "..."
   ]
  },
  {
   "cell_type": "code",
   "execution_count": 18,
   "metadata": {},
   "outputs": [
    {
     "data": {
      "text/html": [
       "<table border=\"1\" class=\"dataframe\">\n",
       "    <thead>\n",
       "        <tr>\n",
       "            <th>playlist_name</th> <th>count</th> <th>aggregate_popularity</th>\n",
       "        </tr>\n",
       "    </thead>\n",
       "    <tbody>\n",
       "        <tr>\n",
       "            <td>2020 Hits & 2019  Hits – Top Global Tracks 🔥🔥🔥              </td> <td>247  </td> <td>20547               </td>\n",
       "        </tr>\n",
       "        <tr>\n",
       "            <td>Permanent Wave                                              </td> <td>244  </td> <td>13261               </td>\n",
       "        </tr>\n",
       "        <tr>\n",
       "            <td>Indie Poptimism                                             </td> <td>308  </td> <td>13107               </td>\n",
       "        </tr>\n",
       "        <tr>\n",
       "            <td>Charts 2020 🔥Top 2020🔥Hits 2020🔥Summer 2020🔥Pop 2020🔥Pop ...</td> <td>189  </td> <td>12670               </td>\n",
       "        </tr>\n",
       "        <tr>\n",
       "            <td>Ultimate Indie Presents... Best Indie Tracks of the 2010s   </td> <td>198  </td> <td>11840               </td>\n",
       "        </tr>\n",
       "    </tbody>\n",
       "</table>\n",
       "<p>... (444 rows omitted)</p>"
      ],
      "text/plain": [
       "<IPython.core.display.HTML object>"
      ]
     },
     "metadata": {},
     "output_type": "display_data"
    }
   ],
   "source": [
    "# SOLUTION\n",
    "playlists.sort('aggregate_popularity', descending=True).show(5)"
   ]
  },
  {
   "cell_type": "code",
   "execution_count": 19,
   "metadata": {},
   "outputs": [
    {
     "data": {
      "text/html": [
       "<table border=\"1\" class=\"dataframe\">\n",
       "    <thead>\n",
       "        <tr>\n",
       "            <th>playlist_name</th> <th>count</th> <th>aggregate_popularity</th>\n",
       "        </tr>\n",
       "    </thead>\n",
       "    <tbody>\n",
       "        <tr>\n",
       "            <td>Indie Poptimism                                          </td> <td>308  </td> <td>13107               </td>\n",
       "        </tr>\n",
       "        <tr>\n",
       "            <td>2020 Hits & 2019  Hits – Top Global Tracks 🔥🔥🔥           </td> <td>247  </td> <td>20547               </td>\n",
       "        </tr>\n",
       "        <tr>\n",
       "            <td>Permanent Wave                                           </td> <td>244  </td> <td>13261               </td>\n",
       "        </tr>\n",
       "        <tr>\n",
       "            <td>Hard Rock Workout                                        </td> <td>219  </td> <td>8713                </td>\n",
       "        </tr>\n",
       "        <tr>\n",
       "            <td>Ultimate Indie Presents... Best Indie Tracks of the 2010s</td> <td>198  </td> <td>11840               </td>\n",
       "        </tr>\n",
       "    </tbody>\n",
       "</table>\n",
       "<p>... (444 rows omitted)</p>"
      ],
      "text/plain": [
       "<IPython.core.display.HTML object>"
      ]
     },
     "metadata": {},
     "output_type": "display_data"
    }
   ],
   "source": [
    "# SOLUTIO\n",
    "playlists.sort('count', descending=True).show(5)"
   ]
  },
  {
   "cell_type": "markdown",
   "metadata": {},
   "source": [
    "Comparing these two outputs shows us that the \"most popular playlist\" depends on how we judge popularity. If we have a playlist that has only a few songs, but each of those songs are really popular, should that playlist be higher on the popularity rankings? By way of calculation, playlists with more songs will have a higher aggregate popularity, since more popularity values are being added together. We want a metric that will let us judge the actual quality and popularity of a playlist, not just how many songs it has.\n",
    "\n",
    "In order to take into account the number of songs on each playlist, we can calculate the \"average popularity\" of each song on the playlist, or the proportion of aggregate popularity that each song takes up. Add this metric to the table."
   ]
  },
  {
   "cell_type": "code",
   "execution_count": null,
   "metadata": {},
   "outputs": [],
   "source": [
    "..."
   ]
  },
  {
   "cell_type": "code",
   "execution_count": 20,
   "metadata": {},
   "outputs": [
    {
     "data": {
      "text/html": [
       "<table border=\"1\" class=\"dataframe\">\n",
       "    <thead>\n",
       "        <tr>\n",
       "            <th>playlist_name</th> <th>count</th> <th>aggregate_popularity</th> <th>average_popularity</th>\n",
       "        </tr>\n",
       "    </thead>\n",
       "    <tbody>\n",
       "        <tr>\n",
       "            <td>\"Permanent Wave\"                                            </td> <td>23   </td> <td>849                 </td> <td>36.913            </td>\n",
       "        </tr>\n",
       "        <tr>\n",
       "            <td>10er Playlist                                               </td> <td>61   </td> <td>4234                </td> <td>69.4098           </td>\n",
       "        </tr>\n",
       "        <tr>\n",
       "            <td>1987-1997 OLD SKOOL JAMZ                                    </td> <td>41   </td> <td>1159                </td> <td>28.2683           </td>\n",
       "        </tr>\n",
       "        <tr>\n",
       "            <td>2000's hard rock                                            </td> <td>45   </td> <td>2255                </td> <td>50.1111           </td>\n",
       "        </tr>\n",
       "        <tr>\n",
       "            <td>2010 - 2011 - 2012 - 2013 - 2014 - 2015 - 2016 - 2017 -  ...</td> <td>83   </td> <td>5630                </td> <td>67.8313           </td>\n",
       "        </tr>\n",
       "        <tr>\n",
       "            <td>2011-2014 House                                             </td> <td>96   </td> <td>2742                </td> <td>28.5625           </td>\n",
       "        </tr>\n",
       "        <tr>\n",
       "            <td>2015 songs                                                  </td> <td>91   </td> <td>6088                </td> <td>66.9011           </td>\n",
       "        </tr>\n",
       "        <tr>\n",
       "            <td>2019 in Indie Poptimism                                     </td> <td>98   </td> <td>5809                </td> <td>59.2755           </td>\n",
       "        </tr>\n",
       "        <tr>\n",
       "            <td>2020 Hits & 2019  Hits – Top Global Tracks 🔥🔥🔥              </td> <td>247  </td> <td>20547               </td> <td>83.1862           </td>\n",
       "        </tr>\n",
       "        <tr>\n",
       "            <td>3rd Coast Classics                                          </td> <td>37   </td> <td>587                 </td> <td>15.8649           </td>\n",
       "        </tr>\n",
       "    </tbody>\n",
       "</table>\n",
       "<p>... (439 rows omitted)</p>"
      ],
      "text/plain": [
       "playlist_name                                                | count | aggregate_popularity | average_popularity\n",
       "\"Permanent Wave\"                                             | 23    | 849                  | 36.913\n",
       "10er Playlist                                                | 61    | 4234                 | 69.4098\n",
       "1987-1997 OLD SKOOL JAMZ                                     | 41    | 1159                 | 28.2683\n",
       "2000's hard rock                                             | 45    | 2255                 | 50.1111\n",
       "2010 - 2011 - 2012 - 2013 - 2014 - 2015 - 2016 - 2017 -  ... | 83    | 5630                 | 67.8313\n",
       "2011-2014 House                                              | 96    | 2742                 | 28.5625\n",
       "2015 songs                                                   | 91    | 6088                 | 66.9011\n",
       "2019 in Indie Poptimism                                      | 98    | 5809                 | 59.2755\n",
       "2020 Hits & 2019  Hits – Top Global Tracks 🔥🔥🔥               | 247   | 20547                | 83.1862\n",
       "3rd Coast Classics                                           | 37    | 587                  | 15.8649\n",
       "... (439 rows omitted)"
      ]
     },
     "execution_count": 20,
     "metadata": {},
     "output_type": "execute_result"
    }
   ],
   "source": [
    "# SOLUTION\n",
    "avg_popularity = playlists.column('aggregate_popularity') / playlists.column('count')\n",
    "playlists = playlists.with_column('average_popularity', avg_popularity)\n",
    "playlists"
   ]
  },
  {
   "cell_type": "markdown",
   "metadata": {},
   "source": [
    "Let's see if our \"most popular playlist\" changes when we judge popularity by the average popularity of the songs on a playlist."
   ]
  },
  {
   "cell_type": "code",
   "execution_count": null,
   "metadata": {},
   "outputs": [],
   "source": [
    "..."
   ]
  },
  {
   "cell_type": "code",
   "execution_count": 21,
   "metadata": {
    "scrolled": true
   },
   "outputs": [
    {
     "data": {
      "text/html": [
       "<table border=\"1\" class=\"dataframe\">\n",
       "    <thead>\n",
       "        <tr>\n",
       "            <th>playlist_name</th> <th>count</th> <th>aggregate_popularity</th> <th>average_popularity</th>\n",
       "        </tr>\n",
       "    </thead>\n",
       "    <tbody>\n",
       "        <tr>\n",
       "            <td>2020 Hits & 2019  Hits – Top Global Tracks 🔥🔥🔥 </td> <td>247  </td> <td>20547               </td> <td>83.1862           </td>\n",
       "        </tr>\n",
       "        <tr>\n",
       "            <td>RapCaviar                                      </td> <td>50   </td> <td>3985                </td> <td>79.7              </td>\n",
       "        </tr>\n",
       "        <tr>\n",
       "            <td>Most Popular 2020 TOP 50                       </td> <td>48   </td> <td>3808                </td> <td>79.3333           </td>\n",
       "        </tr>\n",
       "        <tr>\n",
       "            <td>Pop - Pop UK - 2019 - Canadian Pop - 2019 - Pop</td> <td>100  </td> <td>7913                </td> <td>79.13             </td>\n",
       "        </tr>\n",
       "        <tr>\n",
       "            <td>Baila Reggaeton                                </td> <td>50   </td> <td>3885                </td> <td>77.7              </td>\n",
       "        </tr>\n",
       "        <tr>\n",
       "            <td>Intro to Post-Teen Pop                         </td> <td>16   </td> <td>1239                </td> <td>77.4375           </td>\n",
       "        </tr>\n",
       "        <tr>\n",
       "            <td>Todo Éxitos                                    </td> <td>60   </td> <td>4610                </td> <td>76.8333           </td>\n",
       "        </tr>\n",
       "        <tr>\n",
       "            <td>¡Viva Latino!                                  </td> <td>16   </td> <td>1223                </td> <td>76.4375           </td>\n",
       "        </tr>\n",
       "        <tr>\n",
       "            <td>Mansión Reggaetón                              </td> <td>27   </td> <td>2026                </td> <td>75.037            </td>\n",
       "        </tr>\n",
       "        <tr>\n",
       "            <td>Global Top 50 | 2020 Hits                      </td> <td>40   </td> <td>2963                </td> <td>74.075            </td>\n",
       "        </tr>\n",
       "    </tbody>\n",
       "</table>\n",
       "<p>... (439 rows omitted)</p>"
      ],
      "text/plain": [
       "playlist_name                                   | count | aggregate_popularity | average_popularity\n",
       "2020 Hits & 2019  Hits – Top Global Tracks 🔥🔥🔥  | 247   | 20547                | 83.1862\n",
       "RapCaviar                                       | 50    | 3985                 | 79.7\n",
       "Most Popular 2020 TOP 50                        | 48    | 3808                 | 79.3333\n",
       "Pop - Pop UK - 2019 - Canadian Pop - 2019 - Pop | 100   | 7913                 | 79.13\n",
       "Baila Reggaeton                                 | 50    | 3885                 | 77.7\n",
       "Intro to Post-Teen Pop                          | 16    | 1239                 | 77.4375\n",
       "Todo Éxitos                                     | 60    | 4610                 | 76.8333\n",
       "¡Viva Latino!                                   | 16    | 1223                 | 76.4375\n",
       "Mansión Reggaetón                               | 27    | 2026                 | 75.037\n",
       "Global Top 50 | 2020 Hits                       | 40    | 2963                 | 74.075\n",
       "... (439 rows omitted)"
      ]
     },
     "execution_count": 21,
     "metadata": {},
     "output_type": "execute_result"
    }
   ],
   "source": [
    "# SOLUTION\n",
    "playlists.sort('average_popularity', descending=True)"
   ]
  },
  {
   "cell_type": "markdown",
   "metadata": {},
   "source": [
    "Looking at the table above, we notice that 8/10 of the top 10 most popular playlists by the `average_popularity` metric are playlists with less than 100 songs. Just because a playlist has a lot of songs, or a high aggregate popularity, doesn't mean that the average popularity of a song on that playlist is high. Our new metric of `average_popularity` lets us rank playlists where the size of a playlist has no effect on it's overall score. We can visualize the top 25 playlists by average popularity in a bar chart."
   ]
  },
  {
   "cell_type": "code",
   "execution_count": null,
   "metadata": {},
   "outputs": [],
   "source": [
    "# find the top 25 playlist\n",
    "..."
   ]
  },
  {
   "cell_type": "code",
   "execution_count": 22,
   "metadata": {
    "scrolled": true
   },
   "outputs": [
    {
     "name": "stderr",
     "output_type": "stream",
     "text": [
      "/opt/conda/lib/python3.9/site-packages/matplotlib/backends/backend_agg.py:240: RuntimeWarning: Glyph 128293 missing from current font.\n",
      "  font.set_text(s, 0.0, flags=flags)\n",
      "/opt/conda/lib/python3.9/site-packages/matplotlib/backends/backend_agg.py:203: RuntimeWarning: Glyph 128293 missing from current font.\n",
      "  font.set_text(s, 0, flags=flags)\n"
     ]
    },
    {
     "data": {
      "image/png": "[encoded data removed]",
      "text/plain": [
       "<Figure size 432x900 with 1 Axes>"
      ]
     },
     "metadata": {
      "needs_background": "light"
     },
     "output_type": "display_data"
    }
   ],
   "source": [
    "# SOLUTION\n",
    "top_25_playlists = playlists.sort('average_popularity', descending=True).take(np.arange(25))\n",
    "top_25_playlists.barh('playlist_name', 'average_popularity')"
   ]
  },
  {
   "cell_type": "markdown",
   "metadata": {},
   "source": [
    "Creating a new metric like `average_popularity` helps us more accurately and fairly measure the popularity of a playlist. \n",
    "\n",
    "We saw before when looking at the top 25 artists that they were all male. Now looking at the top playlists, we see that the current landscape of popular playlists and music may have an effect on the artists that are popular. For example, the RapCaviar is the second most popular playlist, and generally there tends to be fewer female rap artists than male. This shows that the current landscape of popular music can affect the types of artists topping the charts."
   ]
  },
  {
   "cell_type": "markdown",
   "metadata": {},
   "source": [
    "## 4. Using Prediction and Inference to Draw Conclusions <a id='section 4'></a>"
   ]
  },
  {
   "cell_type": "markdown",
   "metadata": {},
   "source": [
    "Now that we have some experience making these visualizations, let's go back to the visualizations others are working on to analyze Spotify data using more complex techniques. Feel free to take a look at the following references.\n",
    "\n",
    "- [Streaming Dashboard](https://public.tableau.com/profile/vaibhavi.gaekwad#!/vizhome/Spotify_15858686831320/Dashboard1)\n",
    "\n",
    "- [Audio Analysis Visualizer](https://developer.spotify.com/community/showcase/spotify-audio-analysis/)"
   ]
  },
  {
   "cell_type": "markdown",
   "metadata": {},
   "source": [
    "Music and culture are very intertwined so it's interesting to look at when songs are released and what is popular during that time. In this last exercise, you will be looking at the popularity of artists and tracks based on the dates you choose.\n",
    "\n",
    "Let's look back at the first five rows of our `spotify` table once more."
   ]
  },
  {
   "cell_type": "code",
   "execution_count": 23,
   "metadata": {},
   "outputs": [
    {
     "data": {
      "text/html": [
       "<table border=\"1\" class=\"dataframe\">\n",
       "    <thead>\n",
       "        <tr>\n",
       "            <th>track_id</th> <th>track_name</th> <th>track_artist</th> <th>track_popularity</th> <th>track_album_id</th> <th>track_album_name</th> <th>track_album_release_date</th> <th>playlist_name</th> <th>playlist_id</th> <th>playlist_genre</th> <th>playlist_subgenre</th> <th>danceability</th> <th>energy</th> <th>key</th> <th>loudness</th> <th>mode</th> <th>speechiness</th> <th>acousticness</th> <th>instrumentalness</th> <th>liveness</th> <th>valence</th> <th>tempo</th> <th>duration_ms</th> <th>creation_year</th> <th>duration_min</th>\n",
       "        </tr>\n",
       "    </thead>\n",
       "    <tbody>\n",
       "        <tr>\n",
       "            <td>6f807x0ima9a1j3VPbc7VN</td> <td>I Don't Care (with Justin Bieber) - Loud Luxury Remix</td> <td>Ed Sheeran      </td> <td>66              </td> <td>2oCs0DGTsRO98Gh5ZSl2Cx</td> <td>I Don't Care (with Justin Bieber) [Loud Luxury Remix]</td> <td>2019-06-14              </td> <td>Pop Remix    </td> <td>37i9dQZF1DXcZDD7cfEKhW</td> <td>pop           </td> <td>dance pop        </td> <td>0.748       </td> <td>0.916 </td> <td>6   </td> <td>-2.634  </td> <td>1   </td> <td>0.0583     </td> <td>0.102       </td> <td>0               </td> <td>0.0653  </td> <td>0.518  </td> <td>122.036</td> <td>194754     </td> <td>2019         </td> <td>3.2459      </td>\n",
       "        </tr>\n",
       "        <tr>\n",
       "            <td>0r7CVbZTWZgbTCYdfa2P31</td> <td>Memories - Dillon Francis Remix                      </td> <td>Maroon 5        </td> <td>67              </td> <td>63rPSO264uRjW1X5E6cWv6</td> <td>Memories (Dillon Francis Remix)                      </td> <td>2019-12-13              </td> <td>Pop Remix    </td> <td>37i9dQZF1DXcZDD7cfEKhW</td> <td>pop           </td> <td>dance pop        </td> <td>0.726       </td> <td>0.815 </td> <td>11  </td> <td>-4.969  </td> <td>1   </td> <td>0.0373     </td> <td>0.0724      </td> <td>0.00421         </td> <td>0.357   </td> <td>0.693  </td> <td>99.972 </td> <td>162600     </td> <td>2019         </td> <td>2.71        </td>\n",
       "        </tr>\n",
       "        <tr>\n",
       "            <td>1z1Hg7Vb0AhHDiEmnDE79l</td> <td>All the Time - Don Diablo Remix                      </td> <td>Zara Larsson    </td> <td>70              </td> <td>1HoSmj2eLcsrR0vE9gThr4</td> <td>All the Time (Don Diablo Remix)                      </td> <td>2019-07-05              </td> <td>Pop Remix    </td> <td>37i9dQZF1DXcZDD7cfEKhW</td> <td>pop           </td> <td>dance pop        </td> <td>0.675       </td> <td>0.931 </td> <td>1   </td> <td>-3.432  </td> <td>0   </td> <td>0.0742     </td> <td>0.0794      </td> <td>2.33e-05        </td> <td>0.11    </td> <td>0.613  </td> <td>124.008</td> <td>176616     </td> <td>2019         </td> <td>2.9436      </td>\n",
       "        </tr>\n",
       "        <tr>\n",
       "            <td>75FpbthrwQmzHlBJLuGdC7</td> <td>Call You Mine - Keanu Silva Remix                    </td> <td>The Chainsmokers</td> <td>60              </td> <td>1nqYsOef1yKKuGOVchbsk6</td> <td>Call You Mine - The Remixes                          </td> <td>2019-07-19              </td> <td>Pop Remix    </td> <td>37i9dQZF1DXcZDD7cfEKhW</td> <td>pop           </td> <td>dance pop        </td> <td>0.718       </td> <td>0.93  </td> <td>7   </td> <td>-3.778  </td> <td>1   </td> <td>0.102      </td> <td>0.0287      </td> <td>9.43e-06        </td> <td>0.204   </td> <td>0.277  </td> <td>121.956</td> <td>169093     </td> <td>2019         </td> <td>2.81822     </td>\n",
       "        </tr>\n",
       "        <tr>\n",
       "            <td>1e8PAfcKUYoKkxPhrHqw4x</td> <td>Someone You Loved - Future Humans Remix              </td> <td>Lewis Capaldi   </td> <td>69              </td> <td>7m7vv9wlQ4i0LFuJiE2zsQ</td> <td>Someone You Loved (Future Humans Remix)              </td> <td>2019-03-05              </td> <td>Pop Remix    </td> <td>37i9dQZF1DXcZDD7cfEKhW</td> <td>pop           </td> <td>dance pop        </td> <td>0.65        </td> <td>0.833 </td> <td>1   </td> <td>-4.672  </td> <td>1   </td> <td>0.0359     </td> <td>0.0803      </td> <td>0               </td> <td>0.0833  </td> <td>0.725  </td> <td>123.976</td> <td>189052     </td> <td>2019         </td> <td>3.15087     </td>\n",
       "        </tr>\n",
       "    </tbody>\n",
       "</table>\n",
       "<p>... (32828 rows omitted)</p>"
      ],
      "text/plain": [
       "<IPython.core.display.HTML object>"
      ]
     },
     "metadata": {},
     "output_type": "display_data"
    }
   ],
   "source": [
    "spotify.show(5)"
   ]
  },
  {
   "cell_type": "markdown",
   "metadata": {},
   "source": [
    "<div class=\"alert alert-info\">\n",
    "    <b>Question:</b> Fill in the following cell the data according to the <code>creation_year</code> you choose.\n",
    "   </div>"
   ]
  },
  {
   "cell_type": "code",
   "execution_count": null,
   "metadata": {},
   "outputs": [],
   "source": [
    "by_year = ...\n",
    "by_year"
   ]
  },
  {
   "cell_type": "code",
   "execution_count": 24,
   "metadata": {},
   "outputs": [
    {
     "data": {
      "text/html": [
       "<table border=\"1\" class=\"dataframe\">\n",
       "    <thead>\n",
       "        <tr>\n",
       "            <th>track_id</th> <th>track_name</th> <th>track_artist</th> <th>track_popularity</th> <th>track_album_id</th> <th>track_album_name</th> <th>track_album_release_date</th> <th>playlist_name</th> <th>playlist_id</th> <th>playlist_genre</th> <th>playlist_subgenre</th> <th>danceability</th> <th>energy</th> <th>key</th> <th>loudness</th> <th>mode</th> <th>speechiness</th> <th>acousticness</th> <th>instrumentalness</th> <th>liveness</th> <th>valence</th> <th>tempo</th> <th>duration_ms</th> <th>creation_year</th> <th>duration_min</th>\n",
       "        </tr>\n",
       "    </thead>\n",
       "    <tbody>\n",
       "        <tr>\n",
       "            <td>4r6eNCsrZnQWJzzvFh4nlg</td> <td>Firework                                  </td> <td>Katy Perry         </td> <td>64              </td> <td>2eQMC9nJE3f3hCNKlYYHL1</td> <td>Teenage Dream              </td> <td>2010-01-01              </td> <td>Dance Pop                                                </td> <td>37i9dQZF1DWZQaaqNMbbXa</td> <td>pop           </td> <td>dance pop        </td> <td>0.638       </td> <td>0.832 </td> <td>8   </td> <td>-5.039  </td> <td>1   </td> <td>0.049      </td> <td>0.141       </td> <td>0               </td> <td>0.113   </td> <td>0.648  </td> <td>124.071</td> <td>227893     </td> <td>2010         </td> <td>3.79822     </td>\n",
       "        </tr>\n",
       "        <tr>\n",
       "            <td>2g2N78BH9x4iAzeSvjG7dU</td> <td>All I Want For Christmas Is You           </td> <td>Mariah Carey       </td> <td>18              </td> <td>63OsyEW79JFEVI8k4Abuo6</td> <td>Merry Christmas II You     </td> <td>2010-01-01              </td> <td>Todo Éxitos                                              </td> <td>2ji5tRQVfnhaX1w9FhmSzk</td> <td>pop           </td> <td>dance pop        </td> <td>0.547       </td> <td>0.889 </td> <td>9   </td> <td>-4.538  </td> <td>0   </td> <td>0.0586     </td> <td>0.0759      </td> <td>0               </td> <td>0.127   </td> <td>0.449  </td> <td>150.031</td> <td>242347     </td> <td>2010         </td> <td>4.03912     </td>\n",
       "        </tr>\n",
       "        <tr>\n",
       "            <td>0kwENjv9F98MZLPEN3gCQT</td> <td>Gonna Make You Sweat (Everybody Dance Now)</td> <td>C & C Music Factory</td> <td>2               </td> <td>3DFnN7SaYffZ6BrSmIhtkR</td> <td>100 Hits of the '90s       </td> <td>2010-02-26              </td> <td>90s Dance Hits                                           </td> <td>50cXvxgMGrvoUeLhkzCyIO</td> <td>pop           </td> <td>dance pop        </td> <td>0.561       </td> <td>0.789 </td> <td>6   </td> <td>-9.134  </td> <td>1   </td> <td>0.0952     </td> <td>0.00217     </td> <td>0.446           </td> <td>0.194   </td> <td>0.796  </td> <td>112.815</td> <td>243800     </td> <td>2010         </td> <td>4.06333     </td>\n",
       "        </tr>\n",
       "        <tr>\n",
       "            <td>12DVGoYMPBebItALnmaNdT</td> <td>Pump Up the Jam                           </td> <td>Technotronic       </td> <td>38              </td> <td>1k1nZFZj8nOI5Yugc6hQs6</td> <td>Winners Greatest Hits Vol.2</td> <td>2010-11-16              </td> <td>90s Dance Hits                                           </td> <td>50cXvxgMGrvoUeLhkzCyIO</td> <td>pop           </td> <td>dance pop        </td> <td>0.848       </td> <td>0.875 </td> <td>10  </td> <td>-8.866  </td> <td>0   </td> <td>0.0822     </td> <td>0.0164      </td> <td>1.69e-06        </td> <td>0.046   </td> <td>0.673  </td> <td>124.821</td> <td>214576     </td> <td>2010         </td> <td>3.57627     </td>\n",
       "        </tr>\n",
       "        <tr>\n",
       "            <td>1vuz46T61qINYeGeN93AKZ</td> <td>Life - Radio Edit                         </td> <td>Des'ree            </td> <td>27              </td> <td>1suw2wSUQSR9ZJxL2xkh3e</td> <td>Essential - The 90s        </td> <td>2010-09-10              </td> <td>90s Dance Hits                                           </td> <td>50cXvxgMGrvoUeLhkzCyIO</td> <td>pop           </td> <td>dance pop        </td> <td>0.723       </td> <td>0.711 </td> <td>1   </td> <td>-5.846  </td> <td>1   </td> <td>0.0427     </td> <td>0.192       </td> <td>5.74e-06        </td> <td>0.11    </td> <td>0.661  </td> <td>104.814</td> <td>189987     </td> <td>2010         </td> <td>3.16645     </td>\n",
       "        </tr>\n",
       "        <tr>\n",
       "            <td>5Jcv891JICGnMkkP7Lr3Ju</td> <td>Cotton Eye Joe                            </td> <td>Rednex             </td> <td>5               </td> <td>3DFnN7SaYffZ6BrSmIhtkR</td> <td>100 Hits of the '90s       </td> <td>2010-02-26              </td> <td>90s Dance Hits                                           </td> <td>50cXvxgMGrvoUeLhkzCyIO</td> <td>pop           </td> <td>dance pop        </td> <td>0.738       </td> <td>0.937 </td> <td>9   </td> <td>-7.788  </td> <td>0   </td> <td>0.0668     </td> <td>0.0124      </td> <td>0.00206         </td> <td>0.0338  </td> <td>0.614  </td> <td>131.994</td> <td>193827     </td> <td>2010         </td> <td>3.23045     </td>\n",
       "        </tr>\n",
       "        <tr>\n",
       "            <td>1SssFw74DdHVjRa6ADggdD</td> <td>Sweat (A La La La La Long)                </td> <td>Inner Circle       </td> <td>70              </td> <td>0zLd8jpRt4m6FWCu81Fb9n</td> <td>Blazzin' Fire              </td> <td>2010-12-14              </td> <td>90s Dance Hits                                           </td> <td>50cXvxgMGrvoUeLhkzCyIO</td> <td>pop           </td> <td>dance pop        </td> <td>0.787       </td> <td>0.727 </td> <td>0   </td> <td>-7.705  </td> <td>1   </td> <td>0.224      </td> <td>0.0124      </td> <td>0               </td> <td>0.157   </td> <td>0.936  </td> <td>173.025</td> <td>227067     </td> <td>2010         </td> <td>3.78445     </td>\n",
       "        </tr>\n",
       "        <tr>\n",
       "            <td>7dIa8yS7HIPKkBvOmERSZ7</td> <td>U Got 2 Let The Music - Brescia Edit      </td> <td>Cappella           </td> <td>46              </td> <td>5WnAHnV4xlvxZXEDOtISxX</td> <td>Best Of Cappella           </td> <td>2010-06-18              </td> <td>90s Dance Hits                                           </td> <td>50cXvxgMGrvoUeLhkzCyIO</td> <td>pop           </td> <td>dance pop        </td> <td>0.669       </td> <td>0.974 </td> <td>9   </td> <td>-4.33   </td> <td>0   </td> <td>0.0369     </td> <td>0.0911      </td> <td>0.174           </td> <td>0.174   </td> <td>0.682  </td> <td>135.046</td> <td>218907     </td> <td>2010         </td> <td>3.64845     </td>\n",
       "        </tr>\n",
       "        <tr>\n",
       "            <td>3Rc2ajBMInxeNGVkMPC92Y</td> <td>Dancing On My Own                         </td> <td>Robyn              </td> <td>61              </td> <td>4ektWErsV6EIxW0jBWq1Jn</td> <td>Body Talk Pt. 1            </td> <td>2010-06-11              </td> <td>Ultimate Indie Presents... Best Indie Tracks of the 2010s</td> <td>37i9dQZF1DWTHM4kX49UKs</td> <td>pop           </td> <td>dance pop        </td> <td>0.678       </td> <td>0.871 </td> <td>6   </td> <td>-4.781  </td> <td>1   </td> <td>0.0342     </td> <td>0.0587      </td> <td>0.249           </td> <td>0.0928  </td> <td>0.28   </td> <td>117.029</td> <td>285973     </td> <td>2010         </td> <td>4.76622     </td>\n",
       "        </tr>\n",
       "        <tr>\n",
       "            <td>0U0p8weaMIbIFMJ0CPlvHV</td> <td>Sprawl II (Mountains Beyond Mountains)    </td> <td>Arcade Fire        </td> <td>63              </td> <td>3DrgM5X3yX1JP1liNLAOHI</td> <td>The Suburbs                </td> <td>2010                    </td> <td>Ultimate Indie Presents... Best Indie Tracks of the 2010s</td> <td>37i9dQZF1DWTHM4kX49UKs</td> <td>pop           </td> <td>dance pop        </td> <td>0.518       </td> <td>0.81  </td> <td>8   </td> <td>-6.445  </td> <td>1   </td> <td>0.029      </td> <td>0.016       </td> <td>0.0013          </td> <td>0.115   </td> <td>0.179  </td> <td>99.968 </td> <td>325547     </td> <td>2010         </td> <td>5.42578     </td>\n",
       "        </tr>\n",
       "    </tbody>\n",
       "</table>\n",
       "<p>... (605 rows omitted)</p>"
      ],
      "text/plain": [
       "track_id               | track_name                                 | track_artist        | track_popularity | track_album_id         | track_album_name            | track_album_release_date | playlist_name                                             | playlist_id            | playlist_genre | playlist_subgenre | danceability | energy | key  | loudness | mode | speechiness | acousticness | instrumentalness | liveness | valence | tempo   | duration_ms | creation_year | duration_min\n",
       "4r6eNCsrZnQWJzzvFh4nlg | Firework                                   | Katy Perry          | 64               | 2eQMC9nJE3f3hCNKlYYHL1 | Teenage Dream               | 2010-01-01               | Dance Pop                                                 | 37i9dQZF1DWZQaaqNMbbXa | pop            | dance pop         | 0.638        | 0.832  | 8    | -5.039   | 1    | 0.049       | 0.141        | 0                | 0.113    | 0.648   | 124.071 | 227893      | 2010          | 3.79822\n",
       "2g2N78BH9x4iAzeSvjG7dU | All I Want For Christmas Is You            | Mariah Carey        | 18               | 63OsyEW79JFEVI8k4Abuo6 | Merry Christmas II You      | 2010-01-01               | Todo Éxitos                                               | 2ji5tRQVfnhaX1w9FhmSzk | pop            | dance pop         | 0.547        | 0.889  | 9    | -4.538   | 0    | 0.0586      | 0.0759       | 0                | 0.127    | 0.449   | 150.031 | 242347      | 2010          | 4.03912\n",
       "0kwENjv9F98MZLPEN3gCQT | Gonna Make You Sweat (Everybody Dance Now) | C & C Music Factory | 2                | 3DFnN7SaYffZ6BrSmIhtkR | 100 Hits of the '90s        | 2010-02-26               | 90s Dance Hits                                            | 50cXvxgMGrvoUeLhkzCyIO | pop            | dance pop         | 0.561        | 0.789  | 6    | -9.134   | 1    | 0.0952      | 0.00217      | 0.446            | 0.194    | 0.796   | 112.815 | 243800      | 2010          | 4.06333\n",
       "12DVGoYMPBebItALnmaNdT | Pump Up the Jam                            | Technotronic        | 38               | 1k1nZFZj8nOI5Yugc6hQs6 | Winners Greatest Hits Vol.2 | 2010-11-16               | 90s Dance Hits                                            | 50cXvxgMGrvoUeLhkzCyIO | pop            | dance pop         | 0.848        | 0.875  | 10   | -8.866   | 0    | 0.0822      | 0.0164       | 1.69e-06         | 0.046    | 0.673   | 124.821 | 214576      | 2010          | 3.57627\n",
       "1vuz46T61qINYeGeN93AKZ | Life - Radio Edit                          | Des'ree             | 27               | 1suw2wSUQSR9ZJxL2xkh3e | Essential - The 90s         | 2010-09-10               | 90s Dance Hits                                            | 50cXvxgMGrvoUeLhkzCyIO | pop            | dance pop         | 0.723        | 0.711  | 1    | -5.846   | 1    | 0.0427      | 0.192        | 5.74e-06         | 0.11     | 0.661   | 104.814 | 189987      | 2010          | 3.16645\n",
       "5Jcv891JICGnMkkP7Lr3Ju | Cotton Eye Joe                             | Rednex              | 5                | 3DFnN7SaYffZ6BrSmIhtkR | 100 Hits of the '90s        | 2010-02-26               | 90s Dance Hits                                            | 50cXvxgMGrvoUeLhkzCyIO | pop            | dance pop         | 0.738        | 0.937  | 9    | -7.788   | 0    | 0.0668      | 0.0124       | 0.00206          | 0.0338   | 0.614   | 131.994 | 193827      | 2010          | 3.23045\n",
       "1SssFw74DdHVjRa6ADggdD | Sweat (A La La La La Long)                 | Inner Circle        | 70               | 0zLd8jpRt4m6FWCu81Fb9n | Blazzin' Fire               | 2010-12-14               | 90s Dance Hits                                            | 50cXvxgMGrvoUeLhkzCyIO | pop            | dance pop         | 0.787        | 0.727  | 0    | -7.705   | 1    | 0.224       | 0.0124       | 0                | 0.157    | 0.936   | 173.025 | 227067      | 2010          | 3.78445\n",
       "7dIa8yS7HIPKkBvOmERSZ7 | U Got 2 Let The Music - Brescia Edit       | Cappella            | 46               | 5WnAHnV4xlvxZXEDOtISxX | Best Of Cappella            | 2010-06-18               | 90s Dance Hits                                            | 50cXvxgMGrvoUeLhkzCyIO | pop            | dance pop         | 0.669        | 0.974  | 9    | -4.33    | 0    | 0.0369      | 0.0911       | 0.174            | 0.174    | 0.682   | 135.046 | 218907      | 2010          | 3.64845\n",
       "3Rc2ajBMInxeNGVkMPC92Y | Dancing On My Own                          | Robyn               | 61               | 4ektWErsV6EIxW0jBWq1Jn | Body Talk Pt. 1             | 2010-06-11               | Ultimate Indie Presents... Best Indie Tracks of the 2010s | 37i9dQZF1DWTHM4kX49UKs | pop            | dance pop         | 0.678        | 0.871  | 6    | -4.781   | 1    | 0.0342      | 0.0587       | 0.249            | 0.0928   | 0.28    | 117.029 | 285973      | 2010          | 4.76622\n",
       "0U0p8weaMIbIFMJ0CPlvHV | Sprawl II (Mountains Beyond Mountains)     | Arcade Fire         | 63               | 3DrgM5X3yX1JP1liNLAOHI | The Suburbs                 | 2010                     | Ultimate Indie Presents... Best Indie Tracks of the 2010s | 37i9dQZF1DWTHM4kX49UKs | pop            | dance pop         | 0.518        | 0.81   | 8    | -6.445   | 1    | 0.029       | 0.016        | 0.0013           | 0.115    | 0.179   | 99.968  | 325547      | 2010          | 5.42578\n",
       "... (605 rows omitted)"
      ]
     },
     "execution_count": 24,
     "metadata": {},
     "output_type": "execute_result"
    }
   ],
   "source": [
    "# SOLUTION\n",
    "by_year = spotify.where(\"creation_year\", are.equal_to(2010))\n",
    "by_year"
   ]
  },
  {
   "cell_type": "markdown",
   "metadata": {},
   "source": [
    "Based on the dataset you have now, use previous techniques to find the most popular song during that year. First group by what you want to look at, for example, artist/playlist/track."
   ]
  },
  {
   "cell_type": "code",
   "execution_count": null,
   "metadata": {},
   "outputs": [],
   "source": [
    "# create the corresponding table\n",
    "..."
   ]
  },
  {
   "cell_type": "code",
   "execution_count": null,
   "metadata": {},
   "outputs": [],
   "source": [
    "# visualize the data\n",
    "..."
   ]
  },
  {
   "cell_type": "code",
   "execution_count": 25,
   "metadata": {
    "scrolled": true
   },
   "outputs": [
    {
     "data": {
      "text/html": [
       "<table border=\"1\" class=\"dataframe\">\n",
       "    <thead>\n",
       "        <tr>\n",
       "            <th>track_artist</th> <th>count</th>\n",
       "        </tr>\n",
       "    </thead>\n",
       "    <tbody>\n",
       "        <tr>\n",
       "            <td>Don Omar     </td> <td>21   </td>\n",
       "        </tr>\n",
       "        <tr>\n",
       "            <td>CASIOPEA     </td> <td>20   </td>\n",
       "        </tr>\n",
       "        <tr>\n",
       "            <td>Bon Jovi     </td> <td>14   </td>\n",
       "        </tr>\n",
       "        <tr>\n",
       "            <td>Bruno Mars   </td> <td>11   </td>\n",
       "        </tr>\n",
       "        <tr>\n",
       "            <td>Rihanna      </td> <td>10   </td>\n",
       "        </tr>\n",
       "        <tr>\n",
       "            <td>Javiera Mena </td> <td>9    </td>\n",
       "        </tr>\n",
       "        <tr>\n",
       "            <td>You Me At Six</td> <td>9    </td>\n",
       "        </tr>\n",
       "        <tr>\n",
       "            <td>Katy Perry   </td> <td>8    </td>\n",
       "        </tr>\n",
       "        <tr>\n",
       "            <td>Demi Lovato  </td> <td>7    </td>\n",
       "        </tr>\n",
       "        <tr>\n",
       "            <td>Kesha        </td> <td>7    </td>\n",
       "        </tr>\n",
       "    </tbody>\n",
       "</table>\n",
       "<p>... (323 rows omitted)</p>"
      ],
      "text/plain": [
       "track_artist  | count\n",
       "Don Omar      | 21\n",
       "CASIOPEA      | 20\n",
       "Bon Jovi      | 14\n",
       "Bruno Mars    | 11\n",
       "Rihanna       | 10\n",
       "Javiera Mena  | 9\n",
       "You Me At Six | 9\n",
       "Katy Perry    | 8\n",
       "Demi Lovato   | 7\n",
       "Kesha         | 7\n",
       "... (323 rows omitted)"
      ]
     },
     "execution_count": 25,
     "metadata": {},
     "output_type": "execute_result"
    }
   ],
   "source": [
    "# SOLUTION \n",
    "your_grouped = by_year.group(\"track_artist\")\n",
    "pop_track = your_grouped.sort(\"count\", descending = True)\n",
    "pop_track"
   ]
  },
  {
   "cell_type": "code",
   "execution_count": 26,
   "metadata": {
    "scrolled": true
   },
   "outputs": [
    {
     "data": {
      "image/png": "[encoded data removed]",
      "text/plain": [
       "<Figure size 432x900 with 1 Axes>"
      ]
     },
     "metadata": {
      "needs_background": "light"
     },
     "output_type": "display_data"
    }
   ],
   "source": [
    "# SOLUTION\n",
    "pop_track.take(np.arange(25)).barh(\"track_artist\", \"count\")"
   ]
  },
  {
   "cell_type": "markdown",
   "metadata": {},
   "source": [
    "<div class=\"alert alert-info\">\n",
    "<b>Question:</b> Tell us something interesting about this data.\n",
    "   </div>"
   ]
  },
  {
   "cell_type": "markdown",
   "metadata": {},
   "source": [
    "*Insert answer here.*"
   ]
  },
  {
   "cell_type": "markdown",
   "metadata": {},
   "source": [
    "## 5. The Data Science Life Cycle: Your Take <a id='section 5'></a>"
   ]
  },
  {
   "cell_type": "markdown",
   "metadata": {},
   "source": [
    "Now, formulate and answer some questions you have about the data. Follow the data science life cycle, and be sure to document the different patterns you notice. Take note of what issues also appear and how they can be resolved (e.g., collecting more data)."
   ]
  },
  {
   "cell_type": "code",
   "execution_count": null,
   "metadata": {},
   "outputs": [],
   "source": []
  },
  {
   "cell_type": "code",
   "execution_count": null,
   "metadata": {},
   "outputs": [],
   "source": []
  },
  {
   "cell_type": "code",
   "execution_count": null,
   "metadata": {},
   "outputs": [],
   "source": []
  },
  {
   "cell_type": "code",
   "execution_count": null,
   "metadata": {},
   "outputs": [],
   "source": []
  },
  {
   "cell_type": "code",
   "execution_count": null,
   "metadata": {},
   "outputs": [],
   "source": []
  },
  {
   "cell_type": "markdown",
   "metadata": {},
   "source": [
    "Notebook originally authored by Alleanna Clark and William Furtado, Adapted by Andrew Chen"
   ]
  }
 ],
 "metadata": {
  "kernelspec": {
   "display_name": "Python 3 (ipykernel)",
   "language": "python",
   "name": "python3"
  },
  "language_info": {
   "codemirror_mode": {
    "name": "ipython",
    "version": 3
   },
   "file_extension": ".py",
   "mimetype": "text/x-python",
   "name": "python",
   "nbconvert_exporter": "python",
   "pygments_lexer": "ipython3",
   "version": "3.10.2"
  }
 },
 "nbformat": 4,
 "nbformat_minor": 4
}
