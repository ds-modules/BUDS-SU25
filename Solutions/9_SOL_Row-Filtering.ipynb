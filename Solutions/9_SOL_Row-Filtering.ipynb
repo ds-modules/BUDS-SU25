{
 "cells": [
  {
   "cell_type": "markdown",
   "metadata": {},
   "source": [
    "# BUDS Report 09: Row Filtering\n",
    "\n",
    "### Table of Contents\n",
    "\n",
    "1.  <a href='#section 1'>Filtering with `where`</a>\n",
    "    \n",
    "2. <a href='#section 2'>Filtering with `take`</a>\n",
    "\n",
    "3. <a href='#section 3'>Visualizations</a>\n",
    "\n",
    "4. <a href='#section 4'>More Questions</a>\n",
    "\n",
    "5. <a href='#section 5'>One Last Look at the CES Data</a>\n",
    "\n",
    "6. <a href='#section 6'>An Additional Question</a>"
   ]
  },
  {
   "cell_type": "code",
   "execution_count": 1,
   "metadata": {},
   "outputs": [],
   "source": [
    "# run this cell\n",
    "from datascience import *\n",
    "import numpy as np\n",
    "import math\n",
    "import matplotlib.pyplot as plt\n",
    "plt.style.use(\"fivethirtyeight\")\n",
    "%matplotlib inline"
   ]
  },
  {
   "cell_type": "markdown",
   "metadata": {},
   "source": [
    "### The Data <a id='data'></a>\n",
    "\n",
    "Let's continue to work with the US Census data, again just looking at years 2010 and 2014.\n",
    "\n",
    "As a reminder, the \"SEX\" column contains numeric codes: `0` stands for the total, `1` for male, and `2` for female. The \"AGE\" column contains ages in completed years, but the special value `999` is a sum of the total population. The combination of SEX = `0` and AGE = `999` tells us that the corresponding row has the data for all sexes and all ages."
   ]
  },
  {
   "cell_type": "code",
   "execution_count": 2,
   "metadata": {},
   "outputs": [
    {
     "data": {
      "text/html": [
       "<table border=\"1\" class=\"dataframe\">\n",
       "    <thead>\n",
       "        <tr>\n",
       "            <th>SEX</th> <th>AGE</th> <th>2010</th> <th>2014</th>\n",
       "        </tr>\n",
       "    </thead>\n",
       "    <tbody>\n",
       "        <tr>\n",
       "            <td>0   </td> <td>0   </td> <td>3951330</td> <td>3949775</td>\n",
       "        </tr>\n",
       "        <tr>\n",
       "            <td>1   </td> <td>0   </td> <td>2018420</td> <td>2020326</td>\n",
       "        </tr>\n",
       "        <tr>\n",
       "            <td>2   </td> <td>0   </td> <td>1932910</td> <td>1929449</td>\n",
       "        </tr>\n",
       "        <tr>\n",
       "            <td>0   </td> <td>1   </td> <td>3957888</td> <td>3949776</td>\n",
       "        </tr>\n",
       "        <tr>\n",
       "            <td>1   </td> <td>1   </td> <td>2020332</td> <td>2018401</td>\n",
       "        </tr>\n",
       "        <tr>\n",
       "            <td>2   </td> <td>1   </td> <td>1937556</td> <td>1931375</td>\n",
       "        </tr>\n",
       "        <tr>\n",
       "            <td>0   </td> <td>2   </td> <td>4090862</td> <td>3959664</td>\n",
       "        </tr>\n",
       "        <tr>\n",
       "            <td>1   </td> <td>2   </td> <td>2088685</td> <td>2023673</td>\n",
       "        </tr>\n",
       "        <tr>\n",
       "            <td>2   </td> <td>2   </td> <td>2002177</td> <td>1935991</td>\n",
       "        </tr>\n",
       "        <tr>\n",
       "            <td>0   </td> <td>3   </td> <td>4111920</td> <td>4007079</td>\n",
       "        </tr>\n",
       "    </tbody>\n",
       "</table>\n",
       "<p>... (296 rows omitted)</p>"
      ],
      "text/plain": [
       "SEX  | AGE  | 2010    | 2014\n",
       "0    | 0    | 3951330 | 3949775\n",
       "1    | 0    | 2018420 | 2020326\n",
       "2    | 0    | 1932910 | 1929449\n",
       "0    | 1    | 3957888 | 3949776\n",
       "1    | 1    | 2020332 | 2018401\n",
       "2    | 1    | 1937556 | 1931375\n",
       "0    | 2    | 4090862 | 3959664\n",
       "1    | 2    | 2088685 | 2023673\n",
       "2    | 2    | 2002177 | 1935991\n",
       "0    | 3    | 4111920 | 4007079\n",
       "... (296 rows omitted)"
      ]
     },
     "execution_count": 2,
     "metadata": {},
     "output_type": "execute_result"
    }
   ],
   "source": [
    "# a local copy can be accessed here in case census.gov moves the file:\n",
    "# data = path_data + 'nc-est2015-agesex-res.csv'\n",
    "data = 'http://www2.census.gov/programs-surveys/popest/datasets/2010-2015/national/asrh/nc-est2015-agesex-res.csv'\n",
    "\n",
    "# these repeat some steps that were done in Report 08\n",
    "full_census = Table.read_table(data)\n",
    "partial_census = full_census.select('SEX', 'AGE', 'POPESTIMATE2010', 'POPESTIMATE2014')\n",
    "us_pop = partial_census.relabeled('POPESTIMATE2010', '2010').relabeled('POPESTIMATE2014', '2014')\n",
    "us_pop.sort('AGE')"
   ]
  },
  {
   "cell_type": "markdown",
   "metadata": {},
   "source": [
    "## 1. Filtering with `where`  <a id='section 1'></a>\n",
    "\n",
    "Often times, we only want to analyze a certain subset of our data at a time.\n",
    "\n",
    "For example, let's filter our data to only look at the population counts of males.\n",
    "\n",
    "<div class=\"alert alert-warning\">\n",
    "    <b>PRACTICE:</b> First, write down what the table's numeric code for the male population is. Then, assign <code>male_pop</code> to a table with the male subset of our data.\n",
    "    </div>"
   ]
  },
  {
   "cell_type": "markdown",
   "metadata": {},
   "source": [
    "_Written Answer:_"
   ]
  },
  {
   "cell_type": "code",
   "execution_count": null,
   "metadata": {},
   "outputs": [],
   "source": [
    "..."
   ]
  },
  {
   "cell_type": "code",
   "execution_count": 3,
   "metadata": {},
   "outputs": [
    {
     "data": {
      "text/html": [
       "<table border=\"1\" class=\"dataframe\">\n",
       "    <thead>\n",
       "        <tr>\n",
       "            <th>SEX</th> <th>AGE</th> <th>2010</th> <th>2014</th>\n",
       "        </tr>\n",
       "    </thead>\n",
       "    <tbody>\n",
       "        <tr>\n",
       "            <td>1   </td> <td>0   </td> <td>2018420</td> <td>2020326</td>\n",
       "        </tr>\n",
       "        <tr>\n",
       "            <td>1   </td> <td>1   </td> <td>2020332</td> <td>2018401</td>\n",
       "        </tr>\n",
       "        <tr>\n",
       "            <td>1   </td> <td>2   </td> <td>2088685</td> <td>2023673</td>\n",
       "        </tr>\n",
       "        <tr>\n",
       "            <td>1   </td> <td>3   </td> <td>2101272</td> <td>2049596</td>\n",
       "        </tr>\n",
       "        <tr>\n",
       "            <td>1   </td> <td>4   </td> <td>2084312</td> <td>2044517</td>\n",
       "        </tr>\n",
       "        <tr>\n",
       "            <td>1   </td> <td>5   </td> <td>2076573</td> <td>2044339</td>\n",
       "        </tr>\n",
       "        <tr>\n",
       "            <td>1   </td> <td>6   </td> <td>2079410</td> <td>2111060</td>\n",
       "        </tr>\n",
       "        <tr>\n",
       "            <td>1   </td> <td>7   </td> <td>2063139</td> <td>2122832</td>\n",
       "        </tr>\n",
       "        <tr>\n",
       "            <td>1   </td> <td>8   </td> <td>2054462</td> <td>2105618</td>\n",
       "        </tr>\n",
       "        <tr>\n",
       "            <td>1   </td> <td>9   </td> <td>2107037</td> <td>2097690</td>\n",
       "        </tr>\n",
       "    </tbody>\n",
       "</table>\n",
       "<p>... (92 rows omitted)</p>"
      ],
      "text/plain": [
       "SEX  | AGE  | 2010    | 2014\n",
       "1    | 0    | 2018420 | 2020326\n",
       "1    | 1    | 2020332 | 2018401\n",
       "1    | 2    | 2088685 | 2023673\n",
       "1    | 3    | 2101272 | 2049596\n",
       "1    | 4    | 2084312 | 2044517\n",
       "1    | 5    | 2076573 | 2044339\n",
       "1    | 6    | 2079410 | 2111060\n",
       "1    | 7    | 2063139 | 2122832\n",
       "1    | 8    | 2054462 | 2105618\n",
       "1    | 9    | 2107037 | 2097690\n",
       "... (92 rows omitted)"
      ]
     },
     "execution_count": 3,
     "metadata": {},
     "output_type": "execute_result"
    }
   ],
   "source": [
    "# SOLUTION\n",
    "male_pop = us_pop.where('SEX', are.equal_to(1))\n",
    "male_pop"
   ]
  },
  {
   "cell_type": "markdown",
   "metadata": {},
   "source": [
    "As we can see in the table above, we've chosen only a subset of the rows of the original table — specifically the rows corresponding to male census participants.\n",
    "\n",
    "In the following Markdown cell, translate the code you wrote into a regular English statement that both describes what you're doing and uses the variable names and function names in it."
   ]
  },
  {
   "cell_type": "markdown",
   "metadata": {},
   "source": [
    "_Written Answer:_"
   ]
  },
  {
   "cell_type": "markdown",
   "metadata": {},
   "source": [
    "<div class=\"alert alert-warning\">\n",
    "    <b>PRACTICE:</b> Now, select only the rows corresponding to the female population.\n",
    "   </div>"
   ]
  },
  {
   "cell_type": "code",
   "execution_count": null,
   "metadata": {},
   "outputs": [],
   "source": [
    "female_pop = ...\n",
    "female_pop"
   ]
  },
  {
   "cell_type": "code",
   "execution_count": 4,
   "metadata": {},
   "outputs": [
    {
     "data": {
      "text/html": [
       "<table border=\"1\" class=\"dataframe\">\n",
       "    <thead>\n",
       "        <tr>\n",
       "            <th>SEX</th> <th>AGE</th> <th>2010</th> <th>2014</th>\n",
       "        </tr>\n",
       "    </thead>\n",
       "    <tbody>\n",
       "        <tr>\n",
       "            <td>2   </td> <td>0   </td> <td>1932910</td> <td>1929449</td>\n",
       "        </tr>\n",
       "        <tr>\n",
       "            <td>2   </td> <td>1   </td> <td>1937556</td> <td>1931375</td>\n",
       "        </tr>\n",
       "        <tr>\n",
       "            <td>2   </td> <td>2   </td> <td>2002177</td> <td>1935991</td>\n",
       "        </tr>\n",
       "        <tr>\n",
       "            <td>2   </td> <td>3   </td> <td>2010648</td> <td>1957483</td>\n",
       "        </tr>\n",
       "        <tr>\n",
       "            <td>2   </td> <td>4   </td> <td>1993239</td> <td>1961199</td>\n",
       "        </tr>\n",
       "        <tr>\n",
       "            <td>2   </td> <td>5   </td> <td>1988080</td> <td>1962561</td>\n",
       "        </tr>\n",
       "        <tr>\n",
       "            <td>2   </td> <td>6   </td> <td>1993603</td> <td>2024870</td>\n",
       "        </tr>\n",
       "        <tr>\n",
       "            <td>2   </td> <td>7   </td> <td>1979907</td> <td>2032494</td>\n",
       "        </tr>\n",
       "        <tr>\n",
       "            <td>2   </td> <td>8   </td> <td>1971142</td> <td>2015285</td>\n",
       "        </tr>\n",
       "        <tr>\n",
       "            <td>2   </td> <td>9   </td> <td>2018378</td> <td>2010659</td>\n",
       "        </tr>\n",
       "    </tbody>\n",
       "</table>\n",
       "<p>... (92 rows omitted)</p>"
      ],
      "text/plain": [
       "SEX  | AGE  | 2010    | 2014\n",
       "2    | 0    | 1932910 | 1929449\n",
       "2    | 1    | 1937556 | 1931375\n",
       "2    | 2    | 2002177 | 1935991\n",
       "2    | 3    | 2010648 | 1957483\n",
       "2    | 4    | 1993239 | 1961199\n",
       "2    | 5    | 1988080 | 1962561\n",
       "2    | 6    | 1993603 | 2024870\n",
       "2    | 7    | 1979907 | 2032494\n",
       "2    | 8    | 1971142 | 2015285\n",
       "2    | 9    | 2018378 | 2010659\n",
       "... (92 rows omitted)"
      ]
     },
     "execution_count": 4,
     "metadata": {},
     "output_type": "execute_result"
    }
   ],
   "source": [
    "# SOLUTION\n",
    "female_pop = us_pop.where('SEX', are.equal_to(2))\n",
    "female_pop"
   ]
  },
  {
   "cell_type": "markdown",
   "metadata": {},
   "source": [
    "A special feature of `are.equal_to(...)` is that it is the default predicate for `tbl.where(...)`. This means if we write a `where` expression without writing `are.equal_to(...)`, then it would work as if it was there.\n",
    "\n",
    "Here is an example. We can assign the name `ten_yr_males` to a table whose rows are the rows in the `male_pop` table `where` the AGEs `are` `equal` `to` `10`."
   ]
  },
  {
   "cell_type": "code",
   "execution_count": 5,
   "metadata": {},
   "outputs": [
    {
     "data": {
      "text/html": [
       "<table border=\"1\" class=\"dataframe\">\n",
       "    <thead>\n",
       "        <tr>\n",
       "            <th>SEX</th> <th>AGE</th> <th>2010</th> <th>2014</th>\n",
       "        </tr>\n",
       "    </thead>\n",
       "    <tbody>\n",
       "        <tr>\n",
       "            <td>1   </td> <td>10  </td> <td>2142167</td> <td>2100262</td>\n",
       "        </tr>\n",
       "    </tbody>\n",
       "</table>"
      ],
      "text/plain": [
       "SEX  | AGE  | 2010    | 2014\n",
       "1    | 10   | 2142167 | 2100262"
      ]
     },
     "execution_count": 5,
     "metadata": {},
     "output_type": "execute_result"
    }
   ],
   "source": [
    "ten_yr_males = male_pop.where(\"AGE\", 10)\n",
    "ten_yr_males"
   ]
  },
  {
   "cell_type": "code",
   "execution_count": 6,
   "metadata": {},
   "outputs": [
    {
     "data": {
      "text/html": [
       "<table border=\"1\" class=\"dataframe\">\n",
       "    <thead>\n",
       "        <tr>\n",
       "            <th>SEX</th> <th>AGE</th> <th>2010</th> <th>2014</th>\n",
       "        </tr>\n",
       "    </thead>\n",
       "    <tbody>\n",
       "        <tr>\n",
       "            <td>1   </td> <td>10  </td> <td>2142167</td> <td>2100262</td>\n",
       "        </tr>\n",
       "    </tbody>\n",
       "</table>"
      ],
      "text/plain": [
       "SEX  | AGE  | 2010    | 2014\n",
       "1    | 10   | 2142167 | 2100262"
      ]
     },
     "execution_count": 6,
     "metadata": {},
     "output_type": "execute_result"
    }
   ],
   "source": [
    "# this works the same when we include are.equal_to(...)\n",
    "male_pop.where(\"AGE\", are.equal_to(10))"
   ]
  },
  {
   "cell_type": "markdown",
   "metadata": {},
   "source": [
    "### `where` <a id='subsection 1a'></a>\n",
    "\n",
    "Now let's dive into the details a bit more.  `where` takes 2 arguments:\n",
    "\n",
    "1. The name of a column.  `where` finds rows where that column's values meet some condition.\n",
    "2. A predicate that describes the condition that the column needs to meet.\n",
    "\n",
    "The predicate in the examples above called the predicate `are.equal_to` with the values we wanted, 1 (or 2).  We'll see other predicates next.\n",
    "\n",
    "`where` returns a table that's a copy of the original table, but **with only the rows that meet the given predicate**."
   ]
  },
  {
   "cell_type": "markdown",
   "metadata": {},
   "source": [
    "So far we've only been using `where` with the predicate that requires finding the values in a column to be *exactly* equal to a certain value. However, there are many other predicates. Here are a few:\n",
    "\n",
    "|Predicate|Example|Result|\n",
    "|-|-|-|\n",
    "|`are.equal_to`|`are.equal_to(50)`|Find rows with values equal to 50|\n",
    "|`are.equal_to`|`are.equal_to(\"hello\")`|Find rows with values equal to \"hello\"|\n",
    "|`are.not_equal_to`|`are.not_equal_to(50)`|Find rows with values not equal to 50|\n",
    "|`are.above`|`are.above(50)`|Find rows with values above (and not equal to) 50|\n",
    "|`are.above_or_equal_to`|`are.above_or_equal_to(50)`|Find rows with values above 50 or equal to 50|\n",
    "|`are.below`|`are.below(50)`|Find rows with values below 50|\n",
    "|`are.between`|`are.between(2, 10)`|Find rows with values above or equal to 2 and below 10|\n",
    "|`are.containing`| `are.containing(\"i\")`| Find rows with string values that contain the letter \"i\"\n",
    "\n",
    "You can find a few more in the [Python Reference Sheet](https://www.data8.org/sp23/reference/)."
   ]
  },
  {
   "cell_type": "markdown",
   "metadata": {},
   "source": [
    "Let's go back to the Census data.\n",
    "\n",
    "<div class=\"alert alert-warning\">\n",
    "    <b>PRACTICE:</b> Display the Census data such that the largest ages appear first.\n",
    "    </div>"
   ]
  },
  {
   "cell_type": "code",
   "execution_count": null,
   "metadata": {},
   "outputs": [],
   "source": [
    "..."
   ]
  },
  {
   "cell_type": "code",
   "execution_count": 7,
   "metadata": {},
   "outputs": [
    {
     "data": {
      "text/html": [
       "<table border=\"1\" class=\"dataframe\">\n",
       "    <thead>\n",
       "        <tr>\n",
       "            <th>SEX</th> <th>AGE</th> <th>2010</th> <th>2014</th>\n",
       "        </tr>\n",
       "    </thead>\n",
       "    <tbody>\n",
       "        <tr>\n",
       "            <td>0   </td> <td>999 </td> <td>309346863</td> <td>318907401</td>\n",
       "        </tr>\n",
       "        <tr>\n",
       "            <td>1   </td> <td>999 </td> <td>152088043</td> <td>156955337</td>\n",
       "        </tr>\n",
       "        <tr>\n",
       "            <td>2   </td> <td>999 </td> <td>157258820</td> <td>161952064</td>\n",
       "        </tr>\n",
       "        <tr>\n",
       "            <td>0   </td> <td>100 </td> <td>54410    </td> <td>71626    </td>\n",
       "        </tr>\n",
       "        <tr>\n",
       "            <td>1   </td> <td>100 </td> <td>9352     </td> <td>13618    </td>\n",
       "        </tr>\n",
       "        <tr>\n",
       "            <td>2   </td> <td>100 </td> <td>45058    </td> <td>58008    </td>\n",
       "        </tr>\n",
       "        <tr>\n",
       "            <td>0   </td> <td>99  </td> <td>32178    </td> <td>41468    </td>\n",
       "        </tr>\n",
       "        <tr>\n",
       "            <td>1   </td> <td>99  </td> <td>6104     </td> <td>8951     </td>\n",
       "        </tr>\n",
       "        <tr>\n",
       "            <td>2   </td> <td>99  </td> <td>26074    </td> <td>32517    </td>\n",
       "        </tr>\n",
       "        <tr>\n",
       "            <td>0   </td> <td>98  </td> <td>47037    </td> <td>59726    </td>\n",
       "        </tr>\n",
       "    </tbody>\n",
       "</table>\n",
       "<p>... (296 rows omitted)</p>"
      ],
      "text/plain": [
       "SEX  | AGE  | 2010      | 2014\n",
       "0    | 999  | 309346863 | 318907401\n",
       "1    | 999  | 152088043 | 156955337\n",
       "2    | 999  | 157258820 | 161952064\n",
       "0    | 100  | 54410     | 71626\n",
       "1    | 100  | 9352      | 13618\n",
       "2    | 100  | 45058     | 58008\n",
       "0    | 99   | 32178     | 41468\n",
       "1    | 99   | 6104      | 8951\n",
       "2    | 99   | 26074     | 32517\n",
       "0    | 98   | 47037     | 59726\n",
       "... (296 rows omitted)"
      ]
     },
     "execution_count": 7,
     "metadata": {},
     "output_type": "execute_result"
    }
   ],
   "source": [
    "# SOLUTION\n",
    "us_pop.sort(\"AGE\", descending = True)"
   ]
  },
  {
   "cell_type": "markdown",
   "metadata": {},
   "source": [
    "<div class=\"alert alert-warning\">\n",
    "    <b>PRACTICE:</b> Remember the numerical code 999 stands for total (across all ages), but let's say we're only interested in specific ages (NOT their total). We could do another <code>where(...)</code> to accomplish this. Try doing so in the next cell and assigning this table to the variable <code>pop_by_age</code>. It should look similar to the previous table but without the rows with ages 999.\n",
    "    </div>"
   ]
  },
  {
   "cell_type": "code",
   "execution_count": null,
   "metadata": {},
   "outputs": [],
   "source": [
    "..."
   ]
  },
  {
   "cell_type": "code",
   "execution_count": 8,
   "metadata": {},
   "outputs": [
    {
     "data": {
      "text/html": [
       "<table border=\"1\" class=\"dataframe\">\n",
       "    <thead>\n",
       "        <tr>\n",
       "            <th>SEX</th> <th>AGE</th> <th>2010</th> <th>2014</th>\n",
       "        </tr>\n",
       "    </thead>\n",
       "    <tbody>\n",
       "        <tr>\n",
       "            <td>0   </td> <td>100 </td> <td>54410</td> <td>71626</td>\n",
       "        </tr>\n",
       "        <tr>\n",
       "            <td>1   </td> <td>100 </td> <td>9352 </td> <td>13618</td>\n",
       "        </tr>\n",
       "        <tr>\n",
       "            <td>2   </td> <td>100 </td> <td>45058</td> <td>58008</td>\n",
       "        </tr>\n",
       "        <tr>\n",
       "            <td>0   </td> <td>99  </td> <td>32178</td> <td>41468</td>\n",
       "        </tr>\n",
       "        <tr>\n",
       "            <td>1   </td> <td>99  </td> <td>6104 </td> <td>8951 </td>\n",
       "        </tr>\n",
       "        <tr>\n",
       "            <td>2   </td> <td>99  </td> <td>26074</td> <td>32517</td>\n",
       "        </tr>\n",
       "        <tr>\n",
       "            <td>0   </td> <td>98  </td> <td>47037</td> <td>59726</td>\n",
       "        </tr>\n",
       "        <tr>\n",
       "            <td>1   </td> <td>98  </td> <td>9505 </td> <td>13518</td>\n",
       "        </tr>\n",
       "        <tr>\n",
       "            <td>2   </td> <td>98  </td> <td>37532</td> <td>46208</td>\n",
       "        </tr>\n",
       "        <tr>\n",
       "            <td>0   </td> <td>97  </td> <td>68893</td> <td>83089</td>\n",
       "        </tr>\n",
       "    </tbody>\n",
       "</table>\n",
       "<p>... (293 rows omitted)</p>"
      ],
      "text/plain": [
       "SEX  | AGE  | 2010  | 2014\n",
       "0    | 100  | 54410 | 71626\n",
       "1    | 100  | 9352  | 13618\n",
       "2    | 100  | 45058 | 58008\n",
       "0    | 99   | 32178 | 41468\n",
       "1    | 99   | 6104  | 8951\n",
       "2    | 99   | 26074 | 32517\n",
       "0    | 98   | 47037 | 59726\n",
       "1    | 98   | 9505  | 13518\n",
       "2    | 98   | 37532 | 46208\n",
       "0    | 97   | 68893 | 83089\n",
       "... (293 rows omitted)"
      ]
     },
     "execution_count": 8,
     "metadata": {},
     "output_type": "execute_result"
    }
   ],
   "source": [
    "# SOLUTION\n",
    "pop_by_age = us_pop.where(\"AGE\", are.below(999)).sort(\"AGE\", descending= True)\n",
    "pop_by_age"
   ]
  },
  {
   "cell_type": "markdown",
   "metadata": {},
   "source": [
    "<div class=\"alert alert-warning\">\n",
    "    <b>PRACTICE:</b> Write some code to only select population counts corresponding to males and females (but not their totals). Remember, in the \"SEX\" column, 0 represents a total. Assign this to the name <code>both_sexes</code>.\n",
    "   </div>"
   ]
  },
  {
   "cell_type": "code",
   "execution_count": null,
   "metadata": {},
   "outputs": [],
   "source": [
    "..."
   ]
  },
  {
   "cell_type": "code",
   "execution_count": 9,
   "metadata": {},
   "outputs": [
    {
     "data": {
      "text/html": [
       "<table border=\"1\" class=\"dataframe\">\n",
       "    <thead>\n",
       "        <tr>\n",
       "            <th>SEX</th> <th>AGE</th> <th>2010</th> <th>2014</th>\n",
       "        </tr>\n",
       "    </thead>\n",
       "    <tbody>\n",
       "        <tr>\n",
       "            <td>1   </td> <td>100 </td> <td>9352 </td> <td>13618</td>\n",
       "        </tr>\n",
       "        <tr>\n",
       "            <td>2   </td> <td>100 </td> <td>45058</td> <td>58008</td>\n",
       "        </tr>\n",
       "        <tr>\n",
       "            <td>1   </td> <td>99  </td> <td>6104 </td> <td>8951 </td>\n",
       "        </tr>\n",
       "        <tr>\n",
       "            <td>2   </td> <td>99  </td> <td>26074</td> <td>32517</td>\n",
       "        </tr>\n",
       "        <tr>\n",
       "            <td>1   </td> <td>98  </td> <td>9505 </td> <td>13518</td>\n",
       "        </tr>\n",
       "        <tr>\n",
       "            <td>2   </td> <td>98  </td> <td>37532</td> <td>46208</td>\n",
       "        </tr>\n",
       "        <tr>\n",
       "            <td>1   </td> <td>97  </td> <td>14775</td> <td>20310</td>\n",
       "        </tr>\n",
       "        <tr>\n",
       "            <td>2   </td> <td>97  </td> <td>54118</td> <td>62779</td>\n",
       "        </tr>\n",
       "        <tr>\n",
       "            <td>1   </td> <td>96  </td> <td>22022</td> <td>31053</td>\n",
       "        </tr>\n",
       "        <tr>\n",
       "            <td>2   </td> <td>96  </td> <td>75139</td> <td>89432</td>\n",
       "        </tr>\n",
       "    </tbody>\n",
       "</table>\n",
       "<p>... (192 rows omitted)</p>"
      ],
      "text/plain": [
       "SEX  | AGE  | 2010  | 2014\n",
       "1    | 100  | 9352  | 13618\n",
       "2    | 100  | 45058 | 58008\n",
       "1    | 99   | 6104  | 8951\n",
       "2    | 99   | 26074 | 32517\n",
       "1    | 98   | 9505  | 13518\n",
       "2    | 98   | 37532 | 46208\n",
       "1    | 97   | 14775 | 20310\n",
       "2    | 97   | 54118 | 62779\n",
       "1    | 96   | 22022 | 31053\n",
       "2    | 96   | 75139 | 89432\n",
       "... (192 rows omitted)"
      ]
     },
     "execution_count": 9,
     "metadata": {},
     "output_type": "execute_result"
    }
   ],
   "source": [
    "# SOLUTION\n",
    "both_sexes = pop_by_age.where(\"SEX\", are.above(0))\n",
    "both_sexes"
   ]
  },
  {
   "cell_type": "markdown",
   "metadata": {},
   "source": [
    "<div class=\"alert alert-warning\">\n",
    "    <b>PRACTICE:</b> One of the nice things about code is that there are several ways of doing something. Write another <code>where</code> expression which will do the same thing as the above cell. Use a different predicate.\n",
    "   </div>"
   ]
  },
  {
   "cell_type": "code",
   "execution_count": null,
   "metadata": {},
   "outputs": [],
   "source": [
    "..."
   ]
  },
  {
   "cell_type": "code",
   "execution_count": 10,
   "metadata": {},
   "outputs": [
    {
     "data": {
      "text/html": [
       "<table border=\"1\" class=\"dataframe\">\n",
       "    <thead>\n",
       "        <tr>\n",
       "            <th>SEX</th> <th>AGE</th> <th>2010</th> <th>2014</th>\n",
       "        </tr>\n",
       "    </thead>\n",
       "    <tbody>\n",
       "        <tr>\n",
       "            <td>1   </td> <td>100 </td> <td>9352 </td> <td>13618</td>\n",
       "        </tr>\n",
       "        <tr>\n",
       "            <td>2   </td> <td>100 </td> <td>45058</td> <td>58008</td>\n",
       "        </tr>\n",
       "        <tr>\n",
       "            <td>1   </td> <td>99  </td> <td>6104 </td> <td>8951 </td>\n",
       "        </tr>\n",
       "        <tr>\n",
       "            <td>2   </td> <td>99  </td> <td>26074</td> <td>32517</td>\n",
       "        </tr>\n",
       "        <tr>\n",
       "            <td>1   </td> <td>98  </td> <td>9505 </td> <td>13518</td>\n",
       "        </tr>\n",
       "        <tr>\n",
       "            <td>2   </td> <td>98  </td> <td>37532</td> <td>46208</td>\n",
       "        </tr>\n",
       "        <tr>\n",
       "            <td>1   </td> <td>97  </td> <td>14775</td> <td>20310</td>\n",
       "        </tr>\n",
       "        <tr>\n",
       "            <td>2   </td> <td>97  </td> <td>54118</td> <td>62779</td>\n",
       "        </tr>\n",
       "        <tr>\n",
       "            <td>1   </td> <td>96  </td> <td>22022</td> <td>31053</td>\n",
       "        </tr>\n",
       "        <tr>\n",
       "            <td>2   </td> <td>96  </td> <td>75139</td> <td>89432</td>\n",
       "        </tr>\n",
       "    </tbody>\n",
       "</table>\n",
       "<p>... (192 rows omitted)</p>"
      ],
      "text/plain": [
       "SEX  | AGE  | 2010  | 2014\n",
       "1    | 100  | 9352  | 13618\n",
       "2    | 100  | 45058 | 58008\n",
       "1    | 99   | 6104  | 8951\n",
       "2    | 99   | 26074 | 32517\n",
       "1    | 98   | 9505  | 13518\n",
       "2    | 98   | 37532 | 46208\n",
       "1    | 97   | 14775 | 20310\n",
       "2    | 97   | 54118 | 62779\n",
       "1    | 96   | 22022 | 31053\n",
       "2    | 96   | 75139 | 89432\n",
       "... (192 rows omitted)"
      ]
     },
     "execution_count": 10,
     "metadata": {},
     "output_type": "execute_result"
    }
   ],
   "source": [
    "# SOLUTION\n",
    "both_sexes = pop_by_age.where(\"SEX\", are.between(1, 3))\n",
    "both_sexes"
   ]
  },
  {
   "cell_type": "markdown",
   "metadata": {},
   "source": [
    "<div class=\"alert alert-warning\">\n",
    "    <b>PRACTICE:</b> Once again, try creating the same table by using a different predicate.\n",
    "   </div>"
   ]
  },
  {
   "cell_type": "code",
   "execution_count": null,
   "metadata": {},
   "outputs": [],
   "source": [
    "..."
   ]
  },
  {
   "cell_type": "code",
   "execution_count": 11,
   "metadata": {},
   "outputs": [
    {
     "data": {
      "text/html": [
       "<table border=\"1\" class=\"dataframe\">\n",
       "    <thead>\n",
       "        <tr>\n",
       "            <th>SEX</th> <th>AGE</th> <th>2010</th> <th>2014</th>\n",
       "        </tr>\n",
       "    </thead>\n",
       "    <tbody>\n",
       "        <tr>\n",
       "            <td>1   </td> <td>100 </td> <td>9352 </td> <td>13618</td>\n",
       "        </tr>\n",
       "        <tr>\n",
       "            <td>2   </td> <td>100 </td> <td>45058</td> <td>58008</td>\n",
       "        </tr>\n",
       "        <tr>\n",
       "            <td>1   </td> <td>99  </td> <td>6104 </td> <td>8951 </td>\n",
       "        </tr>\n",
       "        <tr>\n",
       "            <td>2   </td> <td>99  </td> <td>26074</td> <td>32517</td>\n",
       "        </tr>\n",
       "        <tr>\n",
       "            <td>1   </td> <td>98  </td> <td>9505 </td> <td>13518</td>\n",
       "        </tr>\n",
       "        <tr>\n",
       "            <td>2   </td> <td>98  </td> <td>37532</td> <td>46208</td>\n",
       "        </tr>\n",
       "        <tr>\n",
       "            <td>1   </td> <td>97  </td> <td>14775</td> <td>20310</td>\n",
       "        </tr>\n",
       "        <tr>\n",
       "            <td>2   </td> <td>97  </td> <td>54118</td> <td>62779</td>\n",
       "        </tr>\n",
       "        <tr>\n",
       "            <td>1   </td> <td>96  </td> <td>22022</td> <td>31053</td>\n",
       "        </tr>\n",
       "        <tr>\n",
       "            <td>2   </td> <td>96  </td> <td>75139</td> <td>89432</td>\n",
       "        </tr>\n",
       "    </tbody>\n",
       "</table>\n",
       "<p>... (192 rows omitted)</p>"
      ],
      "text/plain": [
       "SEX  | AGE  | 2010  | 2014\n",
       "1    | 100  | 9352  | 13618\n",
       "2    | 100  | 45058 | 58008\n",
       "1    | 99   | 6104  | 8951\n",
       "2    | 99   | 26074 | 32517\n",
       "1    | 98   | 9505  | 13518\n",
       "2    | 98   | 37532 | 46208\n",
       "1    | 97   | 14775 | 20310\n",
       "2    | 97   | 54118 | 62779\n",
       "1    | 96   | 22022 | 31053\n",
       "2    | 96   | 75139 | 89432\n",
       "... (192 rows omitted)"
      ]
     },
     "execution_count": 11,
     "metadata": {},
     "output_type": "execute_result"
    }
   ],
   "source": [
    "# SOLUTION\n",
    "both_sexes = pop_by_age.where(\"SEX\", are.between_or_equal_to(1, 2))\n",
    "both_sexes"
   ]
  },
  {
   "cell_type": "markdown",
   "metadata": {},
   "source": [
    "These are all different ways to write the same expression. Some predicates are used more often than others, but there is no added benefit to using a specific predicate in the situation above. They all work the same. The only benefit would be less typing for shorter predicates. \n",
    "\n",
    "<div class=\"alert alert-warning\">\n",
    "    <b>PRACTICE:</b> Why does this code <i>not</i> produce the same table as the others above?\n",
    "    </div>"
   ]
  },
  {
   "cell_type": "code",
   "execution_count": 12,
   "metadata": {},
   "outputs": [
    {
     "data": {
      "text/html": [
       "<table border=\"1\" class=\"dataframe\">\n",
       "    <thead>\n",
       "        <tr>\n",
       "            <th>SEX</th> <th>AGE</th> <th>2010</th> <th>2014</th>\n",
       "        </tr>\n",
       "    </thead>\n",
       "    <tbody>\n",
       "    </tbody>\n",
       "</table>"
      ],
      "text/plain": [
       "SEX  | AGE  | 2010 | 2014"
      ]
     },
     "execution_count": 12,
     "metadata": {},
     "output_type": "execute_result"
    }
   ],
   "source": [
    "pop_by_age.where(\"SEX\", are.equal_to(1)).where(\"SEX\", are.equal_to(2))"
   ]
  },
  {
   "cell_type": "markdown",
   "metadata": {},
   "source": [
    "_Written Answer:_"
   ]
  },
  {
   "cell_type": "markdown",
   "metadata": {},
   "source": [
    "## 2. Filtering with `take` <a id='section 2'></a>"
   ]
  },
  {
   "cell_type": "markdown",
   "metadata": {},
   "source": [
    "<div class=\"alert alert-warning\">\n",
    "    <b>PRACTICE:</b> Let's combine what we did above to remove totals of ages and of sex and only look at the year 2014. This table should have information on both males and females of all ages in the year 2014. Try it in the cell below.\n",
    "    </div"
   ]
  },
  {
   "cell_type": "code",
   "execution_count": null,
   "metadata": {},
   "outputs": [],
   "source": [
    "us_pop_2014 = ...\n",
    "us_pop_2014_sorted = ...\n",
    "us_pop_2014_sorted "
   ]
  },
  {
   "cell_type": "code",
   "execution_count": 13,
   "metadata": {},
   "outputs": [
    {
     "data": {
      "text/html": [
       "<table border=\"1\" class=\"dataframe\">\n",
       "    <thead>\n",
       "        <tr>\n",
       "            <th>SEX</th> <th>AGE</th> <th>2014</th>\n",
       "        </tr>\n",
       "    </thead>\n",
       "    <tbody>\n",
       "        <tr>\n",
       "            <td>1   </td> <td>100 </td> <td>13618</td>\n",
       "        </tr>\n",
       "        <tr>\n",
       "            <td>2   </td> <td>100 </td> <td>58008</td>\n",
       "        </tr>\n",
       "        <tr>\n",
       "            <td>1   </td> <td>99  </td> <td>8951 </td>\n",
       "        </tr>\n",
       "        <tr>\n",
       "            <td>2   </td> <td>99  </td> <td>32517</td>\n",
       "        </tr>\n",
       "        <tr>\n",
       "            <td>1   </td> <td>98  </td> <td>13518</td>\n",
       "        </tr>\n",
       "        <tr>\n",
       "            <td>2   </td> <td>98  </td> <td>46208</td>\n",
       "        </tr>\n",
       "        <tr>\n",
       "            <td>1   </td> <td>97  </td> <td>20310</td>\n",
       "        </tr>\n",
       "        <tr>\n",
       "            <td>2   </td> <td>97  </td> <td>62779</td>\n",
       "        </tr>\n",
       "        <tr>\n",
       "            <td>1   </td> <td>96  </td> <td>31053</td>\n",
       "        </tr>\n",
       "        <tr>\n",
       "            <td>2   </td> <td>96  </td> <td>89432</td>\n",
       "        </tr>\n",
       "    </tbody>\n",
       "</table>\n",
       "<p>... (192 rows omitted)</p>"
      ],
      "text/plain": [
       "SEX  | AGE  | 2014\n",
       "1    | 100  | 13618\n",
       "2    | 100  | 58008\n",
       "1    | 99   | 8951\n",
       "2    | 99   | 32517\n",
       "1    | 98   | 13518\n",
       "2    | 98   | 46208\n",
       "1    | 97   | 20310\n",
       "2    | 97   | 62779\n",
       "1    | 96   | 31053\n",
       "2    | 96   | 89432\n",
       "... (192 rows omitted)"
      ]
     },
     "execution_count": 13,
     "metadata": {},
     "output_type": "execute_result"
    }
   ],
   "source": [
    "# SOLUTION\n",
    "us_pop_2014 = us_pop.where(\"SEX\", are.above(0)).where(\"AGE\", are.below(999)).drop(\"2010\")\n",
    "us_pop_2014_sorted = us_pop_2014.sort(\"AGE\", descending = True)\n",
    "us_pop_2014_sorted "
   ]
  },
  {
   "cell_type": "markdown",
   "metadata": {},
   "source": [
    "Remember, `tbl.take()` allows us to specify which row numbers of the above table we want to look at. Each row has an index like an array, which is the numbers we reference inside of `take(...)`"
   ]
  },
  {
   "cell_type": "code",
   "execution_count": 14,
   "metadata": {},
   "outputs": [
    {
     "data": {
      "text/html": [
       "<table border=\"1\" class=\"dataframe\">\n",
       "    <thead>\n",
       "        <tr>\n",
       "            <th>SEX</th> <th>AGE</th> <th>2014</th>\n",
       "        </tr>\n",
       "    </thead>\n",
       "    <tbody>\n",
       "        <tr>\n",
       "            <td>1   </td> <td>100 </td> <td>13618</td>\n",
       "        </tr>\n",
       "    </tbody>\n",
       "</table>"
      ],
      "text/plain": [
       "SEX  | AGE  | 2014\n",
       "1    | 100  | 13618"
      ]
     },
     "execution_count": 14,
     "metadata": {},
     "output_type": "execute_result"
    }
   ],
   "source": [
    "# run this cell\n",
    "us_pop_2014_sorted.take(0) "
   ]
  },
  {
   "cell_type": "markdown",
   "metadata": {},
   "source": [
    "This lets us look at just the first row of the table. (Remember, row numbers start with 0!)\n",
    "\n",
    "<div class=\"alert alert-warning\">\n",
    "    <b>PRACTICE:</b> Fill in the blanks to only select population counts corresponding to males and females between ages 98 and 100.\n",
    "    </div>\n",
    "    \n",
    "*Hint:* how many rows of the above table do we want?"
   ]
  },
  {
   "cell_type": "code",
   "execution_count": null,
   "metadata": {},
   "outputs": [],
   "source": [
    "seniors_2014 = us_pop_2014_sorted.take(np.arange(..., ...))\n",
    "seniors_2014"
   ]
  },
  {
   "cell_type": "code",
   "execution_count": 15,
   "metadata": {},
   "outputs": [
    {
     "data": {
      "text/html": [
       "<table border=\"1\" class=\"dataframe\">\n",
       "    <thead>\n",
       "        <tr>\n",
       "            <th>SEX</th> <th>AGE</th> <th>2014</th>\n",
       "        </tr>\n",
       "    </thead>\n",
       "    <tbody>\n",
       "        <tr>\n",
       "            <td>1   </td> <td>100 </td> <td>13618</td>\n",
       "        </tr>\n",
       "        <tr>\n",
       "            <td>2   </td> <td>100 </td> <td>58008</td>\n",
       "        </tr>\n",
       "        <tr>\n",
       "            <td>1   </td> <td>99  </td> <td>8951 </td>\n",
       "        </tr>\n",
       "        <tr>\n",
       "            <td>2   </td> <td>99  </td> <td>32517</td>\n",
       "        </tr>\n",
       "        <tr>\n",
       "            <td>1   </td> <td>98  </td> <td>13518</td>\n",
       "        </tr>\n",
       "        <tr>\n",
       "            <td>2   </td> <td>98  </td> <td>46208</td>\n",
       "        </tr>\n",
       "    </tbody>\n",
       "</table>"
      ],
      "text/plain": [
       "SEX  | AGE  | 2014\n",
       "1    | 100  | 13618\n",
       "2    | 100  | 58008\n",
       "1    | 99   | 8951\n",
       "2    | 99   | 32517\n",
       "1    | 98   | 13518\n",
       "2    | 98   | 46208"
      ]
     },
     "execution_count": 15,
     "metadata": {},
     "output_type": "execute_result"
    }
   ],
   "source": [
    "# SOLUTION\n",
    "seniors_2014 = us_pop_2014_sorted.take(np.arange(0, 6))\n",
    "seniors_2014"
   ]
  },
  {
   "cell_type": "markdown",
   "metadata": {},
   "source": [
    "Another way to write this code is to use `where`. See the below code cells and notice that we don't need our table to be sorted."
   ]
  },
  {
   "cell_type": "code",
   "execution_count": 16,
   "metadata": {},
   "outputs": [
    {
     "data": {
      "text/html": [
       "<table border=\"1\" class=\"dataframe\">\n",
       "    <thead>\n",
       "        <tr>\n",
       "            <th>SEX</th> <th>AGE</th> <th>2014</th>\n",
       "        </tr>\n",
       "    </thead>\n",
       "    <tbody>\n",
       "        <tr>\n",
       "            <td>1   </td> <td>100 </td> <td>13618</td>\n",
       "        </tr>\n",
       "        <tr>\n",
       "            <td>2   </td> <td>100 </td> <td>58008</td>\n",
       "        </tr>\n",
       "        <tr>\n",
       "            <td>1   </td> <td>99  </td> <td>8951 </td>\n",
       "        </tr>\n",
       "        <tr>\n",
       "            <td>2   </td> <td>99  </td> <td>32517</td>\n",
       "        </tr>\n",
       "        <tr>\n",
       "            <td>1   </td> <td>98  </td> <td>13518</td>\n",
       "        </tr>\n",
       "        <tr>\n",
       "            <td>2   </td> <td>98  </td> <td>46208</td>\n",
       "        </tr>\n",
       "    </tbody>\n",
       "</table>"
      ],
      "text/plain": [
       "SEX  | AGE  | 2014\n",
       "1    | 100  | 13618\n",
       "2    | 100  | 58008\n",
       "1    | 99   | 8951\n",
       "2    | 99   | 32517\n",
       "1    | 98   | 13518\n",
       "2    | 98   | 46208"
      ]
     },
     "execution_count": 16,
     "metadata": {},
     "output_type": "execute_result"
    }
   ],
   "source": [
    "seniors_2014 = us_pop_2014_sorted.where(\"AGE\", are.between(98, 101)) \n",
    "seniors_2014"
   ]
  },
  {
   "cell_type": "code",
   "execution_count": 17,
   "metadata": {},
   "outputs": [
    {
     "data": {
      "text/html": [
       "<table border=\"1\" class=\"dataframe\">\n",
       "    <thead>\n",
       "        <tr>\n",
       "            <th>SEX</th> <th>AGE</th> <th>2014</th>\n",
       "        </tr>\n",
       "    </thead>\n",
       "    <tbody>\n",
       "        <tr>\n",
       "            <td>1   </td> <td>100 </td> <td>13618</td>\n",
       "        </tr>\n",
       "        <tr>\n",
       "            <td>2   </td> <td>100 </td> <td>58008</td>\n",
       "        </tr>\n",
       "        <tr>\n",
       "            <td>1   </td> <td>99  </td> <td>8951 </td>\n",
       "        </tr>\n",
       "        <tr>\n",
       "            <td>2   </td> <td>99  </td> <td>32517</td>\n",
       "        </tr>\n",
       "        <tr>\n",
       "            <td>1   </td> <td>98  </td> <td>13518</td>\n",
       "        </tr>\n",
       "        <tr>\n",
       "            <td>2   </td> <td>98  </td> <td>46208</td>\n",
       "        </tr>\n",
       "    </tbody>\n",
       "</table>"
      ],
      "text/plain": [
       "SEX  | AGE  | 2014\n",
       "1    | 100  | 13618\n",
       "2    | 100  | 58008\n",
       "1    | 99   | 8951\n",
       "2    | 99   | 32517\n",
       "1    | 98   | 13518\n",
       "2    | 98   | 46208"
      ]
     },
     "execution_count": 17,
     "metadata": {},
     "output_type": "execute_result"
    }
   ],
   "source": [
    "seniors_2014 = us_pop_2014.where(\"AGE\", are.between(98, 101))\n",
    "seniors_2014 = seniors_2014.sort(\"AGE\", descending=True)\n",
    "seniors_2014"
   ]
  },
  {
   "cell_type": "markdown",
   "metadata": {},
   "source": [
    "Depending on the situation, one of these methods may be better than others. When would you prefer to use `where` and when would you prefer to use `take`?"
   ]
  },
  {
   "cell_type": "markdown",
   "metadata": {},
   "source": [
    "_Written Answer:_"
   ]
  },
  {
   "cell_type": "markdown",
   "metadata": {},
   "source": [
    "## 3. Visualizations  <a id='section 3'></a>\n",
    "\n",
    "To understand how our data really looks, it would be easier to create a visualization using this table. Let's compare \"AGE\" to the population in 2014.\n",
    "\n",
    "Are these columns categorical variables? Numerical variables? How can you tell?"
   ]
  },
  {
   "cell_type": "markdown",
   "metadata": {},
   "source": [
    "_Written Answer:_"
   ]
  },
  {
   "cell_type": "markdown",
   "metadata": {},
   "source": [
    "Based on your answer, what kind of visualization would be best for this data?"
   ]
  },
  {
   "cell_type": "markdown",
   "metadata": {},
   "source": [
    "_Written Answer:_"
   ]
  },
  {
   "cell_type": "markdown",
   "metadata": {},
   "source": [
    "<div class=\"alert alert-warning\">\n",
    "    <b>PRACTICE:</b> Create this visualization in the cell below.\n",
    "    </div>"
   ]
  },
  {
   "cell_type": "code",
   "execution_count": null,
   "metadata": {},
   "outputs": [],
   "source": [
    "..."
   ]
  },
  {
   "cell_type": "code",
   "execution_count": 18,
   "metadata": {},
   "outputs": [
    {
     "data": {
      "image/png": "[encoded data removed]",
      "text/plain": [
       "<Figure size 600x400 with 1 Axes>"
      ]
     },
     "metadata": {},
     "output_type": "display_data"
    }
   ],
   "source": [
    "# SOLUTION\n",
    "seniors_2014.barh(\"AGE\", \"2014\")"
   ]
  },
  {
   "cell_type": "markdown",
   "metadata": {},
   "source": [
    "What do you notice about this visualization?"
   ]
  },
  {
   "cell_type": "markdown",
   "metadata": {},
   "source": [
    "_Written Answer:_"
   ]
  },
  {
   "cell_type": "markdown",
   "metadata": {},
   "source": [
    "How does your visualization compare to the table called `seniors_2014`?"
   ]
  },
  {
   "cell_type": "markdown",
   "metadata": {},
   "source": [
    "_Written Answer:_"
   ]
  },
  {
   "cell_type": "markdown",
   "metadata": {},
   "source": [
    "## 4. More Questions on `where` and Strings:  <a id='section 4'></a>\n",
    "\n",
    "If our original table had sex represented as text or a string, then we would have to use a different where expression to choose between males and females."
   ]
  },
  {
   "cell_type": "code",
   "execution_count": 19,
   "metadata": {
    "scrolled": true
   },
   "outputs": [
    {
     "data": {
      "text/html": [
       "<table border=\"1\" class=\"dataframe\">\n",
       "    <thead>\n",
       "        <tr>\n",
       "            <th>SEX</th> <th>AGE</th> <th>2010</th> <th>2014</th> <th>SEX (str)</th>\n",
       "        </tr>\n",
       "    </thead>\n",
       "    <tbody>\n",
       "        <tr>\n",
       "            <td>2   </td> <td>999 </td> <td>157258820</td> <td>161952064</td> <td>female   </td>\n",
       "        </tr>\n",
       "        <tr>\n",
       "            <td>1   </td> <td>999 </td> <td>152088043</td> <td>156955337</td> <td>male     </td>\n",
       "        </tr>\n",
       "        <tr>\n",
       "            <td>2   </td> <td>100 </td> <td>45058    </td> <td>58008    </td> <td>female   </td>\n",
       "        </tr>\n",
       "        <tr>\n",
       "            <td>1   </td> <td>100 </td> <td>9352     </td> <td>13618    </td> <td>male     </td>\n",
       "        </tr>\n",
       "        <tr>\n",
       "            <td>2   </td> <td>99  </td> <td>26074    </td> <td>32517    </td> <td>female   </td>\n",
       "        </tr>\n",
       "        <tr>\n",
       "            <td>1   </td> <td>99  </td> <td>6104     </td> <td>8951     </td> <td>male     </td>\n",
       "        </tr>\n",
       "        <tr>\n",
       "            <td>2   </td> <td>98  </td> <td>37532    </td> <td>46208    </td> <td>female   </td>\n",
       "        </tr>\n",
       "        <tr>\n",
       "            <td>1   </td> <td>98  </td> <td>9505     </td> <td>13518    </td> <td>male     </td>\n",
       "        </tr>\n",
       "        <tr>\n",
       "            <td>2   </td> <td>97  </td> <td>54118    </td> <td>62779    </td> <td>female   </td>\n",
       "        </tr>\n",
       "        <tr>\n",
       "            <td>1   </td> <td>97  </td> <td>14775    </td> <td>20310    </td> <td>male     </td>\n",
       "        </tr>\n",
       "    </tbody>\n",
       "</table>\n",
       "<p>... (194 rows omitted)</p>"
      ],
      "text/plain": [
       "SEX  | AGE  | 2010      | 2014      | SEX (str)\n",
       "2    | 999  | 157258820 | 161952064 | female\n",
       "1    | 999  | 152088043 | 156955337 | male\n",
       "2    | 100  | 45058     | 58008     | female\n",
       "1    | 100  | 9352      | 13618     | male\n",
       "2    | 99   | 26074     | 32517     | female\n",
       "1    | 99   | 6104      | 8951      | male\n",
       "2    | 98   | 37532     | 46208     | female\n",
       "1    | 98   | 9505      | 13518     | male\n",
       "2    | 97   | 54118     | 62779     | female\n",
       "1    | 97   | 14775     | 20310     | male\n",
       "... (194 rows omitted)"
      ]
     },
     "execution_count": 19,
     "metadata": {},
     "output_type": "execute_result"
    }
   ],
   "source": [
    "# this code adds the string version of sex in a new column\n",
    "fem_str = female_pop.with_column(\"SEX (str)\" ,\"female\")\n",
    "male_str = male_pop.with_column(\"SEX (str)\" , \"male\")\n",
    "\n",
    "str_sex = fem_str.with_rows(male_str.rows).sort('AGE', descending=True)\n",
    "str_sex"
   ]
  },
  {
   "cell_type": "markdown",
   "metadata": {},
   "source": [
    "Let's try to only get rows with females. There are multiple ways to do this.\n",
    "\n",
    "<div class=\"alert alert-warning\">\n",
    "    <b>PRACTICE:</b> Try doing so with <code>are.equal_to(...)</code>.\n",
    "    </div>"
   ]
  },
  {
   "cell_type": "code",
   "execution_count": null,
   "metadata": {},
   "outputs": [],
   "source": [
    "..."
   ]
  },
  {
   "cell_type": "code",
   "execution_count": 20,
   "metadata": {},
   "outputs": [
    {
     "data": {
      "text/html": [
       "<table border=\"1\" class=\"dataframe\">\n",
       "    <thead>\n",
       "        <tr>\n",
       "            <th>SEX</th> <th>AGE</th> <th>2010</th> <th>2014</th> <th>SEX (str)</th>\n",
       "        </tr>\n",
       "    </thead>\n",
       "    <tbody>\n",
       "        <tr>\n",
       "            <td>2   </td> <td>999 </td> <td>157258820</td> <td>161952064</td> <td>female   </td>\n",
       "        </tr>\n",
       "        <tr>\n",
       "            <td>2   </td> <td>100 </td> <td>45058    </td> <td>58008    </td> <td>female   </td>\n",
       "        </tr>\n",
       "        <tr>\n",
       "            <td>2   </td> <td>99  </td> <td>26074    </td> <td>32517    </td> <td>female   </td>\n",
       "        </tr>\n",
       "        <tr>\n",
       "            <td>2   </td> <td>98  </td> <td>37532    </td> <td>46208    </td> <td>female   </td>\n",
       "        </tr>\n",
       "        <tr>\n",
       "            <td>2   </td> <td>97  </td> <td>54118    </td> <td>62779    </td> <td>female   </td>\n",
       "        </tr>\n",
       "        <tr>\n",
       "            <td>2   </td> <td>96  </td> <td>75139    </td> <td>89432    </td> <td>female   </td>\n",
       "        </tr>\n",
       "        <tr>\n",
       "            <td>2   </td> <td>95  </td> <td>99341    </td> <td>113732   </td> <td>female   </td>\n",
       "        </tr>\n",
       "        <tr>\n",
       "            <td>2   </td> <td>94  </td> <td>126948   </td> <td>155637   </td> <td>female   </td>\n",
       "        </tr>\n",
       "        <tr>\n",
       "            <td>2   </td> <td>93  </td> <td>158882   </td> <td>199426   </td> <td>female   </td>\n",
       "        </tr>\n",
       "        <tr>\n",
       "            <td>2   </td> <td>92  </td> <td>205379   </td> <td>243648   </td> <td>female   </td>\n",
       "        </tr>\n",
       "    </tbody>\n",
       "</table>\n",
       "<p>... (92 rows omitted)</p>"
      ],
      "text/plain": [
       "SEX  | AGE  | 2010      | 2014      | SEX (str)\n",
       "2    | 999  | 157258820 | 161952064 | female\n",
       "2    | 100  | 45058     | 58008     | female\n",
       "2    | 99   | 26074     | 32517     | female\n",
       "2    | 98   | 37532     | 46208     | female\n",
       "2    | 97   | 54118     | 62779     | female\n",
       "2    | 96   | 75139     | 89432     | female\n",
       "2    | 95   | 99341     | 113732    | female\n",
       "2    | 94   | 126948    | 155637    | female\n",
       "2    | 93   | 158882    | 199426    | female\n",
       "2    | 92   | 205379    | 243648    | female\n",
       "... (92 rows omitted)"
      ]
     },
     "execution_count": 20,
     "metadata": {},
     "output_type": "execute_result"
    }
   ],
   "source": [
    "# SOLUTION\n",
    "str_sex.where(\"SEX (str)\", are.equal_to(\"female\"))"
   ]
  },
  {
   "cell_type": "markdown",
   "metadata": {},
   "source": [
    "<div class=\"alert alert-warning\">\n",
    "    <b>PRACTICE:</b> Now, do so without writing a predicate at all.\n",
    "    </div>"
   ]
  },
  {
   "cell_type": "code",
   "execution_count": null,
   "metadata": {},
   "outputs": [],
   "source": [
    "..."
   ]
  },
  {
   "cell_type": "code",
   "execution_count": 21,
   "metadata": {},
   "outputs": [
    {
     "data": {
      "text/html": [
       "<table border=\"1\" class=\"dataframe\">\n",
       "    <thead>\n",
       "        <tr>\n",
       "            <th>SEX</th> <th>AGE</th> <th>2010</th> <th>2014</th> <th>SEX (str)</th>\n",
       "        </tr>\n",
       "    </thead>\n",
       "    <tbody>\n",
       "        <tr>\n",
       "            <td>2   </td> <td>999 </td> <td>157258820</td> <td>161952064</td> <td>female   </td>\n",
       "        </tr>\n",
       "        <tr>\n",
       "            <td>2   </td> <td>100 </td> <td>45058    </td> <td>58008    </td> <td>female   </td>\n",
       "        </tr>\n",
       "        <tr>\n",
       "            <td>2   </td> <td>99  </td> <td>26074    </td> <td>32517    </td> <td>female   </td>\n",
       "        </tr>\n",
       "        <tr>\n",
       "            <td>2   </td> <td>98  </td> <td>37532    </td> <td>46208    </td> <td>female   </td>\n",
       "        </tr>\n",
       "        <tr>\n",
       "            <td>2   </td> <td>97  </td> <td>54118    </td> <td>62779    </td> <td>female   </td>\n",
       "        </tr>\n",
       "        <tr>\n",
       "            <td>2   </td> <td>96  </td> <td>75139    </td> <td>89432    </td> <td>female   </td>\n",
       "        </tr>\n",
       "        <tr>\n",
       "            <td>2   </td> <td>95  </td> <td>99341    </td> <td>113732   </td> <td>female   </td>\n",
       "        </tr>\n",
       "        <tr>\n",
       "            <td>2   </td> <td>94  </td> <td>126948   </td> <td>155637   </td> <td>female   </td>\n",
       "        </tr>\n",
       "        <tr>\n",
       "            <td>2   </td> <td>93  </td> <td>158882   </td> <td>199426   </td> <td>female   </td>\n",
       "        </tr>\n",
       "        <tr>\n",
       "            <td>2   </td> <td>92  </td> <td>205379   </td> <td>243648   </td> <td>female   </td>\n",
       "        </tr>\n",
       "    </tbody>\n",
       "</table>\n",
       "<p>... (92 rows omitted)</p>"
      ],
      "text/plain": [
       "SEX  | AGE  | 2010      | 2014      | SEX (str)\n",
       "2    | 999  | 157258820 | 161952064 | female\n",
       "2    | 100  | 45058     | 58008     | female\n",
       "2    | 99   | 26074     | 32517     | female\n",
       "2    | 98   | 37532     | 46208     | female\n",
       "2    | 97   | 54118     | 62779     | female\n",
       "2    | 96   | 75139     | 89432     | female\n",
       "2    | 95   | 99341     | 113732    | female\n",
       "2    | 94   | 126948    | 155637    | female\n",
       "2    | 93   | 158882    | 199426    | female\n",
       "2    | 92   | 205379    | 243648    | female\n",
       "... (92 rows omitted)"
      ]
     },
     "execution_count": 21,
     "metadata": {},
     "output_type": "execute_result"
    }
   ],
   "source": [
    "# SOLUTION\n",
    "str_sex.where(\"SEX (str)\", \"female\")"
   ]
  },
  {
   "cell_type": "markdown",
   "metadata": {},
   "source": [
    "<div class=\"alert alert-warning\">\n",
    "    <b>PRACTICE:</b> In this next cell, use the predicate <code>are.containing(...)</code>.\n",
    "    </div>"
   ]
  },
  {
   "cell_type": "code",
   "execution_count": null,
   "metadata": {},
   "outputs": [],
   "source": [
    "..."
   ]
  },
  {
   "cell_type": "code",
   "execution_count": 22,
   "metadata": {},
   "outputs": [
    {
     "data": {
      "text/html": [
       "<table border=\"1\" class=\"dataframe\">\n",
       "    <thead>\n",
       "        <tr>\n",
       "            <th>SEX</th> <th>AGE</th> <th>2010</th> <th>2014</th> <th>SEX (str)</th>\n",
       "        </tr>\n",
       "    </thead>\n",
       "    <tbody>\n",
       "        <tr>\n",
       "            <td>2   </td> <td>999 </td> <td>157258820</td> <td>161952064</td> <td>female   </td>\n",
       "        </tr>\n",
       "        <tr>\n",
       "            <td>2   </td> <td>100 </td> <td>45058    </td> <td>58008    </td> <td>female   </td>\n",
       "        </tr>\n",
       "        <tr>\n",
       "            <td>2   </td> <td>99  </td> <td>26074    </td> <td>32517    </td> <td>female   </td>\n",
       "        </tr>\n",
       "        <tr>\n",
       "            <td>2   </td> <td>98  </td> <td>37532    </td> <td>46208    </td> <td>female   </td>\n",
       "        </tr>\n",
       "        <tr>\n",
       "            <td>2   </td> <td>97  </td> <td>54118    </td> <td>62779    </td> <td>female   </td>\n",
       "        </tr>\n",
       "        <tr>\n",
       "            <td>2   </td> <td>96  </td> <td>75139    </td> <td>89432    </td> <td>female   </td>\n",
       "        </tr>\n",
       "        <tr>\n",
       "            <td>2   </td> <td>95  </td> <td>99341    </td> <td>113732   </td> <td>female   </td>\n",
       "        </tr>\n",
       "        <tr>\n",
       "            <td>2   </td> <td>94  </td> <td>126948   </td> <td>155637   </td> <td>female   </td>\n",
       "        </tr>\n",
       "        <tr>\n",
       "            <td>2   </td> <td>93  </td> <td>158882   </td> <td>199426   </td> <td>female   </td>\n",
       "        </tr>\n",
       "        <tr>\n",
       "            <td>2   </td> <td>92  </td> <td>205379   </td> <td>243648   </td> <td>female   </td>\n",
       "        </tr>\n",
       "    </tbody>\n",
       "</table>\n",
       "<p>... (92 rows omitted)</p>"
      ],
      "text/plain": [
       "SEX  | AGE  | 2010      | 2014      | SEX (str)\n",
       "2    | 999  | 157258820 | 161952064 | female\n",
       "2    | 100  | 45058     | 58008     | female\n",
       "2    | 99   | 26074     | 32517     | female\n",
       "2    | 98   | 37532     | 46208     | female\n",
       "2    | 97   | 54118     | 62779     | female\n",
       "2    | 96   | 75139     | 89432     | female\n",
       "2    | 95   | 99341     | 113732    | female\n",
       "2    | 94   | 126948    | 155637    | female\n",
       "2    | 93   | 158882    | 199426    | female\n",
       "2    | 92   | 205379    | 243648    | female\n",
       "... (92 rows omitted)"
      ]
     },
     "execution_count": 22,
     "metadata": {},
     "output_type": "execute_result"
    }
   ],
   "source": [
    "# SOLUTION\n",
    "str_sex.where(\"SEX (str)\", are.containing(\"fe\"))"
   ]
  },
  {
   "cell_type": "markdown",
   "metadata": {},
   "source": [
    "<div class=\"alert alert-warning\">\n",
    "    <b>PRACTICE:</b> See if you can come up with another way to create the table above using <code>are.below(...)</code>.\n",
    "    </div>"
   ]
  },
  {
   "cell_type": "code",
   "execution_count": null,
   "metadata": {},
   "outputs": [],
   "source": [
    "..."
   ]
  },
  {
   "cell_type": "code",
   "execution_count": 23,
   "metadata": {},
   "outputs": [
    {
     "data": {
      "text/html": [
       "<table border=\"1\" class=\"dataframe\">\n",
       "    <thead>\n",
       "        <tr>\n",
       "            <th>SEX</th> <th>AGE</th> <th>2010</th> <th>2014</th> <th>SEX (str)</th>\n",
       "        </tr>\n",
       "    </thead>\n",
       "    <tbody>\n",
       "        <tr>\n",
       "            <td>2   </td> <td>999 </td> <td>157258820</td> <td>161952064</td> <td>female   </td>\n",
       "        </tr>\n",
       "        <tr>\n",
       "            <td>2   </td> <td>100 </td> <td>45058    </td> <td>58008    </td> <td>female   </td>\n",
       "        </tr>\n",
       "        <tr>\n",
       "            <td>2   </td> <td>99  </td> <td>26074    </td> <td>32517    </td> <td>female   </td>\n",
       "        </tr>\n",
       "        <tr>\n",
       "            <td>2   </td> <td>98  </td> <td>37532    </td> <td>46208    </td> <td>female   </td>\n",
       "        </tr>\n",
       "        <tr>\n",
       "            <td>2   </td> <td>97  </td> <td>54118    </td> <td>62779    </td> <td>female   </td>\n",
       "        </tr>\n",
       "        <tr>\n",
       "            <td>2   </td> <td>96  </td> <td>75139    </td> <td>89432    </td> <td>female   </td>\n",
       "        </tr>\n",
       "        <tr>\n",
       "            <td>2   </td> <td>95  </td> <td>99341    </td> <td>113732   </td> <td>female   </td>\n",
       "        </tr>\n",
       "        <tr>\n",
       "            <td>2   </td> <td>94  </td> <td>126948   </td> <td>155637   </td> <td>female   </td>\n",
       "        </tr>\n",
       "        <tr>\n",
       "            <td>2   </td> <td>93  </td> <td>158882   </td> <td>199426   </td> <td>female   </td>\n",
       "        </tr>\n",
       "        <tr>\n",
       "            <td>2   </td> <td>92  </td> <td>205379   </td> <td>243648   </td> <td>female   </td>\n",
       "        </tr>\n",
       "    </tbody>\n",
       "</table>\n",
       "<p>... (92 rows omitted)</p>"
      ],
      "text/plain": [
       "SEX  | AGE  | 2010      | 2014      | SEX (str)\n",
       "2    | 999  | 157258820 | 161952064 | female\n",
       "2    | 100  | 45058     | 58008     | female\n",
       "2    | 99   | 26074     | 32517     | female\n",
       "2    | 98   | 37532     | 46208     | female\n",
       "2    | 97   | 54118     | 62779     | female\n",
       "2    | 96   | 75139     | 89432     | female\n",
       "2    | 95   | 99341     | 113732    | female\n",
       "2    | 94   | 126948    | 155637    | female\n",
       "2    | 93   | 158882    | 199426    | female\n",
       "2    | 92   | 205379    | 243648    | female\n",
       "... (92 rows omitted)"
      ]
     },
     "execution_count": 23,
     "metadata": {},
     "output_type": "execute_result"
    }
   ],
   "source": [
    "# SOLUTION\n",
    "str_sex.where(\"SEX (str)\", are.below(\"g\"))"
   ]
  },
  {
   "cell_type": "markdown",
   "metadata": {},
   "source": [
    "<div class=\"alert alert-warning\">\n",
    "    <b>PRACTICE:</b> Finally, create this table with <code>are.not_equal_to(...)</code>.\n",
    "    </div>"
   ]
  },
  {
   "cell_type": "code",
   "execution_count": null,
   "metadata": {},
   "outputs": [],
   "source": [
    "..."
   ]
  },
  {
   "cell_type": "code",
   "execution_count": 24,
   "metadata": {},
   "outputs": [
    {
     "data": {
      "text/html": [
       "<table border=\"1\" class=\"dataframe\">\n",
       "    <thead>\n",
       "        <tr>\n",
       "            <th>SEX</th> <th>AGE</th> <th>2010</th> <th>2014</th> <th>SEX (str)</th>\n",
       "        </tr>\n",
       "    </thead>\n",
       "    <tbody>\n",
       "        <tr>\n",
       "            <td>2   </td> <td>999 </td> <td>157258820</td> <td>161952064</td> <td>female   </td>\n",
       "        </tr>\n",
       "        <tr>\n",
       "            <td>2   </td> <td>100 </td> <td>45058    </td> <td>58008    </td> <td>female   </td>\n",
       "        </tr>\n",
       "        <tr>\n",
       "            <td>2   </td> <td>99  </td> <td>26074    </td> <td>32517    </td> <td>female   </td>\n",
       "        </tr>\n",
       "        <tr>\n",
       "            <td>2   </td> <td>98  </td> <td>37532    </td> <td>46208    </td> <td>female   </td>\n",
       "        </tr>\n",
       "        <tr>\n",
       "            <td>2   </td> <td>97  </td> <td>54118    </td> <td>62779    </td> <td>female   </td>\n",
       "        </tr>\n",
       "        <tr>\n",
       "            <td>2   </td> <td>96  </td> <td>75139    </td> <td>89432    </td> <td>female   </td>\n",
       "        </tr>\n",
       "        <tr>\n",
       "            <td>2   </td> <td>95  </td> <td>99341    </td> <td>113732   </td> <td>female   </td>\n",
       "        </tr>\n",
       "        <tr>\n",
       "            <td>2   </td> <td>94  </td> <td>126948   </td> <td>155637   </td> <td>female   </td>\n",
       "        </tr>\n",
       "        <tr>\n",
       "            <td>2   </td> <td>93  </td> <td>158882   </td> <td>199426   </td> <td>female   </td>\n",
       "        </tr>\n",
       "        <tr>\n",
       "            <td>2   </td> <td>92  </td> <td>205379   </td> <td>243648   </td> <td>female   </td>\n",
       "        </tr>\n",
       "    </tbody>\n",
       "</table>\n",
       "<p>... (92 rows omitted)</p>"
      ],
      "text/plain": [
       "SEX  | AGE  | 2010      | 2014      | SEX (str)\n",
       "2    | 999  | 157258820 | 161952064 | female\n",
       "2    | 100  | 45058     | 58008     | female\n",
       "2    | 99   | 26074     | 32517     | female\n",
       "2    | 98   | 37532     | 46208     | female\n",
       "2    | 97   | 54118     | 62779     | female\n",
       "2    | 96   | 75139     | 89432     | female\n",
       "2    | 95   | 99341     | 113732    | female\n",
       "2    | 94   | 126948    | 155637    | female\n",
       "2    | 93   | 158882    | 199426    | female\n",
       "2    | 92   | 205379    | 243648    | female\n",
       "... (92 rows omitted)"
      ]
     },
     "execution_count": 24,
     "metadata": {},
     "output_type": "execute_result"
    }
   ],
   "source": [
    "# SOLUTION\n",
    "str_sex.where(\"SEX (str)\", are.not_equal_to(\"male\"))"
   ]
  },
  {
   "cell_type": "markdown",
   "metadata": {},
   "source": [
    "## 5. One Last Look at the CES Data <a id='section 5'></a>\n",
    "\n",
    "In order to show an application of `where`, let's take a look at the familiar CalEnviroScreen dataset.\n",
    "\n",
    "Run the following cell to get our table."
   ]
  },
  {
   "cell_type": "code",
   "execution_count": 25,
   "metadata": {},
   "outputs": [
    {
     "data": {
      "text/html": [
       "<table border=\"1\" class=\"dataframe\">\n",
       "    <thead>\n",
       "        <tr>\n",
       "            <th>Census.Tract</th> <th>CES.3.0.Score</th> <th>Total.Population</th> <th>California.County</th> <th>Hispanic....</th> <th>White....</th> <th>African.American....</th> <th>Native.American....</th> <th>Asian.American....</th> <th>Other....</th> <th>ZIP</th> <th>Longitude</th> <th>Latitude</th> <th>Ozone</th> <th>PM2.5</th> <th>Diesel.PM</th> <th>Drinking.Water</th> <th>Pesticides</th> <th>Tox..Release</th> <th>Traffic</th> <th>Cleanup.Sites</th> <th>Groundwater.Threats</th> <th>Haz..Waste</th> <th>Imp..Water.Bodies</th> <th>Solid.Waste</th> <th>Pollution.Burden</th> <th>Asthma</th> <th>Low.Birth.Weight</th> <th>Poverty</th> <th>Unemployment</th>\n",
       "        </tr>\n",
       "    </thead>\n",
       "    <tbody>\n",
       "        <tr>\n",
       "            <td>6019001100  </td> <td>94.09        </td> <td>3174            </td> <td>Fresno           </td> <td>65.3        </td> <td>4.2      </td> <td>24.6                </td> <td>0.5                </td> <td>3.5               </td> <td>1.8      </td> <td>93706</td> <td>-119.782 </td> <td>36.7097 </td> <td>0.065</td> <td>15.4 </td> <td>48.524   </td> <td>681.2         </td> <td>2.75      </td> <td>18552       </td> <td>909.14 </td> <td>80.5         </td> <td>45.75              </td> <td>0.795     </td> <td>0                </td> <td>21.75      </td> <td>79.96           </td> <td>131.64</td> <td>7.44            </td> <td>76.3   </td> <td>17.6        </td>\n",
       "        </tr>\n",
       "        <tr>\n",
       "            <td>6071001600  </td> <td>90.68        </td> <td>6133            </td> <td>San Bernardino   </td> <td>91.1        </td> <td>5.8      </td> <td>0.7                 </td> <td>0.3                </td> <td>1.4               </td> <td>0.7      </td> <td>91761</td> <td>-117.618 </td> <td>34.0578 </td> <td>0.062</td> <td>13.31</td> <td>38.556   </td> <td>904.66        </td> <td>1.37      </td> <td>7494.24     </td> <td>782.26 </td> <td>66.2         </td> <td>36                 </td> <td>1.25      </td> <td>5                </td> <td>12         </td> <td>81.19           </td> <td>60.66 </td> <td>7.04            </td> <td>72.5   </td> <td>12.3        </td>\n",
       "        </tr>\n",
       "        <tr>\n",
       "            <td>6019000200  </td> <td>85.97        </td> <td>3167            </td> <td>Fresno           </td> <td>63.6        </td> <td>5.3      </td> <td>18.9                </td> <td>0.6                </td> <td>9.8               </td> <td>1.8      </td> <td>93706</td> <td>-119.806 </td> <td>36.7355 </td> <td>0.062</td> <td>15.4 </td> <td>47.445   </td> <td>681.2         </td> <td>3.03      </td> <td>12454.9     </td> <td>576.52 </td> <td>22           </td> <td>30.25              </td> <td>0.2       </td> <td>0                </td> <td>2.5        </td> <td>71.16           </td> <td>142.12</td> <td>10.16           </td> <td>86.8   </td> <td>16.1        </td>\n",
       "        </tr>\n",
       "        <tr>\n",
       "            <td>6077000801  </td> <td>82.49        </td> <td>6692            </td> <td>San Joaquin      </td> <td>57.4        </td> <td>6        </td> <td>12.5                </td> <td>0.3                </td> <td>20.9              </td> <td>2.8      </td> <td>95203</td> <td>-121.315 </td> <td>37.9405 </td> <td>0.046</td> <td>12.54</td> <td>24.117   </td> <td>278.76        </td> <td>12.93     </td> <td>2387.78     </td> <td>1305.01</td> <td>50.1         </td> <td>132.1              </td> <td>0.795     </td> <td>19               </td> <td>27         </td> <td>74.48           </td> <td>142.17</td> <td>6.23            </td> <td>61.3   </td> <td>19.6        </td>\n",
       "        </tr>\n",
       "        <tr>\n",
       "            <td>6019001500  </td> <td>82.03        </td> <td>2206            </td> <td>Fresno           </td> <td>71.8        </td> <td>21.4     </td> <td>1.2                 </td> <td>0.5                </td> <td>4.5               </td> <td>0.6      </td> <td>93725</td> <td>-119.718 </td> <td>36.6816 </td> <td>0.065</td> <td>15.4 </td> <td>18.846   </td> <td>1000.24       </td> <td>3518.41   </td> <td>21790.7     </td> <td>435.16 </td> <td>60           </td> <td>54.2               </td> <td>13.1      </td> <td>0                </td> <td>50.8       </td> <td>80.2            </td> <td>90.48 </td> <td>4.5             </td> <td>66.4   </td> <td>18.6        </td>\n",
       "        </tr>\n",
       "        <tr>\n",
       "            <td>6037204920  </td> <td>80.73        </td> <td>2598            </td> <td>Los Angeles      </td> <td>98.1        </td> <td>1.2      </td> <td>0.1                 </td> <td>0.1                </td> <td>0.2               </td> <td>0.3      </td> <td>90023</td> <td>-118.197 </td> <td>34.0175 </td> <td>0.046</td> <td>12.89</td> <td>56.52    </td> <td>714.48        </td> <td>0         </td> <td>39040.2     </td> <td>2943.44</td> <td>36.7         </td> <td>25                 </td> <td>4.93      </td> <td>7                </td> <td>3.85       </td> <td>76.73           </td> <td>68.74 </td> <td>7.35            </td> <td>66.4   </td> <td>11.6        </td>\n",
       "        </tr>\n",
       "        <tr>\n",
       "            <td>6077000300  </td> <td>80.18        </td> <td>2396            </td> <td>San Joaquin      </td> <td>51.8        </td> <td>16.4     </td> <td>16.4                </td> <td>1.3                </td> <td>9.9               </td> <td>4.1      </td> <td>95203</td> <td>-121.302 </td> <td>37.9524 </td> <td>0.046</td> <td>13.44</td> <td>21.76    </td> <td>278.76        </td> <td>172.49    </td> <td>707.536     </td> <td>885.52 </td> <td>89.7         </td> <td>149.05             </td> <td>0.135     </td> <td>14               </td> <td>2.3        </td> <td>68.27           </td> <td>169.56</td> <td>8.36            </td> <td>76.2   </td> <td>14.4        </td>\n",
       "        </tr>\n",
       "        <tr>\n",
       "            <td>6019001000  </td> <td>80.13        </td> <td>4106            </td> <td>Fresno           </td> <td>52.7        </td> <td>2.7      </td> <td>28.7                </td> <td>0.4                </td> <td>14.3              </td> <td>1.2      </td> <td>93706</td> <td>-119.804 </td> <td>36.6978 </td> <td>0.065</td> <td>15.4 </td> <td>20.848   </td> <td>788.02        </td> <td>1435.93   </td> <td>6996.96     </td> <td>243.54 </td> <td>15.45        </td> <td>20                 </td> <td>0         </td> <td>0                </td> <td>10         </td> <td>66.88           </td> <td>142.28</td> <td>7.83            </td> <td>74.5   </td> <td>20          </td>\n",
       "        </tr>\n",
       "        <tr>\n",
       "            <td>6037206050  </td> <td>79.03        </td> <td>2146            </td> <td>Los Angeles      </td> <td>79.3        </td> <td>8.9      </td> <td>4.1                 </td> <td>0.1                </td> <td>7.2               </td> <td>0.5      </td> <td>90023</td> <td>-118.224 </td> <td>34.0299 </td> <td>0.046</td> <td>12.89</td> <td>53.958   </td> <td>664.07        </td> <td>0         </td> <td>10378.2     </td> <td>2810.82</td> <td>36.05        </td> <td>16.25              </td> <td>10.025    </td> <td>7                </td> <td>22.1       </td> <td>77.09           </td> <td>58.03 </td> <td>6.71            </td> <td>75.7   </td> <td>28.5        </td>\n",
       "        </tr>\n",
       "        <tr>\n",
       "            <td>6019000400  </td> <td>78.53        </td> <td>6343            </td> <td>Fresno           </td> <td>78          </td> <td>9.1      </td> <td>5.8                 </td> <td>0.8                </td> <td>5.3               </td> <td>0.9      </td> <td>93721</td> <td>-119.776 </td> <td>36.7277 </td> <td>0.065</td> <td>15.4 </td> <td>54.356   </td> <td>681.2         </td> <td>114.96    </td> <td>125384      </td> <td>815.36 </td> <td>15.95        </td> <td>13.5               </td> <td>0.755     </td> <td>0                </td> <td>0.5        </td> <td>73.89           </td> <td>107.8 </td> <td>4.79            </td> <td>83.4   </td> <td>23.5        </td>\n",
       "        </tr>\n",
       "    </tbody>\n",
       "</table>\n",
       "<p>... (7701 rows omitted)</p>"
      ],
      "text/plain": [
       "Census.Tract | CES.3.0.Score | Total.Population | California.County | Hispanic.... | White.... | African.American.... | Native.American.... | Asian.American.... | Other.... | ZIP   | Longitude | Latitude | Ozone | PM2.5 | Diesel.PM | Drinking.Water | Pesticides | Tox..Release | Traffic | Cleanup.Sites | Groundwater.Threats | Haz..Waste | Imp..Water.Bodies | Solid.Waste | Pollution.Burden | Asthma | Low.Birth.Weight | Poverty | Unemployment\n",
       "6019001100   | 94.09         | 3174             | Fresno            | 65.3         | 4.2       | 24.6                 | 0.5                 | 3.5                | 1.8       | 93706 | -119.782  | 36.7097  | 0.065 | 15.4  | 48.524    | 681.2          | 2.75       | 18552        | 909.14  | 80.5          | 45.75               | 0.795      | 0                 | 21.75       | 79.96            | 131.64 | 7.44             | 76.3    | 17.6\n",
       "6071001600   | 90.68         | 6133             | San Bernardino    | 91.1         | 5.8       | 0.7                  | 0.3                 | 1.4                | 0.7       | 91761 | -117.618  | 34.0578  | 0.062 | 13.31 | 38.556    | 904.66         | 1.37       | 7494.24      | 782.26  | 66.2          | 36                  | 1.25       | 5                 | 12          | 81.19            | 60.66  | 7.04             | 72.5    | 12.3\n",
       "6019000200   | 85.97         | 3167             | Fresno            | 63.6         | 5.3       | 18.9                 | 0.6                 | 9.8                | 1.8       | 93706 | -119.806  | 36.7355  | 0.062 | 15.4  | 47.445    | 681.2          | 3.03       | 12454.9      | 576.52  | 22            | 30.25               | 0.2        | 0                 | 2.5         | 71.16            | 142.12 | 10.16            | 86.8    | 16.1\n",
       "6077000801   | 82.49         | 6692             | San Joaquin       | 57.4         | 6         | 12.5                 | 0.3                 | 20.9               | 2.8       | 95203 | -121.315  | 37.9405  | 0.046 | 12.54 | 24.117    | 278.76         | 12.93      | 2387.78      | 1305.01 | 50.1          | 132.1               | 0.795      | 19                | 27          | 74.48            | 142.17 | 6.23             | 61.3    | 19.6\n",
       "6019001500   | 82.03         | 2206             | Fresno            | 71.8         | 21.4      | 1.2                  | 0.5                 | 4.5                | 0.6       | 93725 | -119.718  | 36.6816  | 0.065 | 15.4  | 18.846    | 1000.24        | 3518.41    | 21790.7      | 435.16  | 60            | 54.2                | 13.1       | 0                 | 50.8        | 80.2             | 90.48  | 4.5              | 66.4    | 18.6\n",
       "6037204920   | 80.73         | 2598             | Los Angeles       | 98.1         | 1.2       | 0.1                  | 0.1                 | 0.2                | 0.3       | 90023 | -118.197  | 34.0175  | 0.046 | 12.89 | 56.52     | 714.48         | 0          | 39040.2      | 2943.44 | 36.7          | 25                  | 4.93       | 7                 | 3.85        | 76.73            | 68.74  | 7.35             | 66.4    | 11.6\n",
       "6077000300   | 80.18         | 2396             | San Joaquin       | 51.8         | 16.4      | 16.4                 | 1.3                 | 9.9                | 4.1       | 95203 | -121.302  | 37.9524  | 0.046 | 13.44 | 21.76     | 278.76         | 172.49     | 707.536      | 885.52  | 89.7          | 149.05              | 0.135      | 14                | 2.3         | 68.27            | 169.56 | 8.36             | 76.2    | 14.4\n",
       "6019001000   | 80.13         | 4106             | Fresno            | 52.7         | 2.7       | 28.7                 | 0.4                 | 14.3               | 1.2       | 93706 | -119.804  | 36.6978  | 0.065 | 15.4  | 20.848    | 788.02         | 1435.93    | 6996.96      | 243.54  | 15.45         | 20                  | 0          | 0                 | 10          | 66.88            | 142.28 | 7.83             | 74.5    | 20\n",
       "6037206050   | 79.03         | 2146             | Los Angeles       | 79.3         | 8.9       | 4.1                  | 0.1                 | 7.2                | 0.5       | 90023 | -118.224  | 34.0299  | 0.046 | 12.89 | 53.958    | 664.07         | 0          | 10378.2      | 2810.82 | 36.05         | 16.25               | 10.025     | 7                 | 22.1        | 77.09            | 58.03  | 6.71             | 75.7    | 28.5\n",
       "6019000400   | 78.53         | 6343             | Fresno            | 78           | 9.1       | 5.8                  | 0.8                 | 5.3                | 0.9       | 93721 | -119.776  | 36.7277  | 0.065 | 15.4  | 54.356    | 681.2          | 114.96     | 125384       | 815.36  | 15.95         | 13.5                | 0.755      | 0                 | 0.5         | 73.89            | 107.8  | 4.79             | 83.4    | 23.5\n",
       "... (7701 rows omitted)"
      ]
     },
     "execution_count": 25,
     "metadata": {},
     "output_type": "execute_result"
    }
   ],
   "source": [
    "ces_data = Table.read_table(\"ces_data_v2.csv\")\n",
    "\n",
    "# this does a bit of data cleaning\n",
    "# don't worry about understanding these next few lines of code\n",
    "for i in np.arange(ces_data.num_columns):\n",
    "    if i != 3 and i != 11:\n",
    "        ces_data = ces_data.where(i, are.above_or_equal_to(0))\n",
    "ces_data"
   ]
  },
  {
   "cell_type": "markdown",
   "metadata": {},
   "source": [
    "Look at a specific county or group of counties. This is similar to what was done for you in previous notebooks, but try doing it on your own here."
   ]
  },
  {
   "cell_type": "code",
   "execution_count": null,
   "metadata": {},
   "outputs": [],
   "source": [
    "..."
   ]
  },
  {
   "cell_type": "code",
   "execution_count": 26,
   "metadata": {},
   "outputs": [
    {
     "data": {
      "text/html": [
       "<table border=\"1\" class=\"dataframe\">\n",
       "    <thead>\n",
       "        <tr>\n",
       "            <th>Census.Tract</th> <th>CES.3.0.Score</th> <th>Total.Population</th> <th>California.County</th> <th>Hispanic....</th> <th>White....</th> <th>African.American....</th> <th>Native.American....</th> <th>Asian.American....</th> <th>Other....</th> <th>ZIP</th> <th>Longitude</th> <th>Latitude</th> <th>Ozone</th> <th>PM2.5</th> <th>Diesel.PM</th> <th>Drinking.Water</th> <th>Pesticides</th> <th>Tox..Release</th> <th>Traffic</th> <th>Cleanup.Sites</th> <th>Groundwater.Threats</th> <th>Haz..Waste</th> <th>Imp..Water.Bodies</th> <th>Solid.Waste</th> <th>Pollution.Burden</th> <th>Asthma</th> <th>Low.Birth.Weight</th> <th>Poverty</th> <th>Unemployment</th>\n",
       "        </tr>\n",
       "    </thead>\n",
       "    <tbody>\n",
       "        <tr>\n",
       "            <td>6075023103  </td> <td>51.58        </td> <td>3725            </td> <td>San Francisco    </td> <td>16.2        </td> <td>3.5      </td> <td>55.8                </td> <td>0.3                </td> <td>18.1              </td> <td>6.1      </td> <td>94124</td> <td>-122.376 </td> <td>37.7356 </td> <td>0.03 </td> <td>8.69794</td> <td>92.89    </td> <td>171.2         </td> <td>0         </td> <td>217.431     </td> <td>270.12 </td> <td>46.45        </td> <td>142.5              </td> <td>4.135     </td> <td>14               </td> <td>8.1        </td> <td>50.19           </td> <td>135.72</td> <td>7.54            </td> <td>84.6   </td> <td>17.7        </td>\n",
       "        </tr>\n",
       "        <tr>\n",
       "            <td>6075023200  </td> <td>50.36        </td> <td>4582            </td> <td>San Francisco    </td> <td>38.8        </td> <td>4.5      </td> <td>38.9                </td> <td>0.3                </td> <td>14.8              </td> <td>2.6      </td> <td>94124</td> <td>-122.386 </td> <td>37.7278 </td> <td>0.03 </td> <td>8.69794</td> <td>92.89    </td> <td>171.2         </td> <td>0         </td> <td>207.568     </td> <td>380.39 </td> <td>37.45        </td> <td>110.05             </td> <td>0.95      </td> <td>10               </td> <td>16.85      </td> <td>50.22           </td> <td>135.72</td> <td>8.9             </td> <td>37.2   </td> <td>14.8        </td>\n",
       "        </tr>\n",
       "        <tr>\n",
       "            <td>6075017902  </td> <td>49.09        </td> <td>2880            </td> <td>San Francisco    </td> <td>23          </td> <td>27.2     </td> <td>23.5                </td> <td>0.6                </td> <td>18.8              </td> <td>7        </td> <td>94130</td> <td>-122.42  </td> <td>37.8619 </td> <td>0.03 </td> <td>8.69794</td> <td>99.411   </td> <td>271.47        </td> <td>0         </td> <td>345.66      </td> <td>3160.99</td> <td>159          </td> <td>150                </td> <td>0.2       </td> <td>10               </td> <td>2          </td> <td>55.66           </td> <td>95.9  </td> <td>5.97            </td> <td>70.4   </td> <td>13.3        </td>\n",
       "        </tr>\n",
       "        <tr>\n",
       "            <td>6075023400  </td> <td>48.25        </td> <td>3660            </td> <td>San Francisco    </td> <td>33.5        </td> <td>3.5      </td> <td>33                  </td> <td>0.2                </td> <td>25.2              </td> <td>4.8      </td> <td>94124</td> <td>-122.39  </td> <td>37.7216 </td> <td>0.03 </td> <td>8.69794</td> <td>65.555   </td> <td>171.2         </td> <td>0         </td> <td>203.143     </td> <td>552.72 </td> <td>22.75        </td> <td>21.75              </td> <td>0.025     </td> <td>11               </td> <td>13.8       </td> <td>45.01           </td> <td>135.72</td> <td>8.02            </td> <td>56.4   </td> <td>14.9        </td>\n",
       "        </tr>\n",
       "        <tr>\n",
       "            <td>6075023102  </td> <td>47.15        </td> <td>3478            </td> <td>San Francisco    </td> <td>16.2        </td> <td>4.9      </td> <td>61                  </td> <td>0.4                </td> <td>13.7              </td> <td>3.8      </td> <td>94124</td> <td>-122.384 </td> <td>37.7345 </td> <td>0.03 </td> <td>8.69794</td> <td>92.89    </td> <td>171.2         </td> <td>0         </td> <td>212.477     </td> <td>294.99 </td> <td>19.5         </td> <td>24.5               </td> <td>3.325     </td> <td>14               </td> <td>5.65       </td> <td>47.31           </td> <td>135.72</td> <td>8.75            </td> <td>62.6   </td> <td>18.5        </td>\n",
       "        </tr>\n",
       "        <tr>\n",
       "            <td>6075061200  </td> <td>44.19        </td> <td>4089            </td> <td>San Francisco    </td> <td>36.7        </td> <td>7.6      </td> <td>31.3                </td> <td>0.4                </td> <td>21.4              </td> <td>2.5      </td> <td>94124</td> <td>-122.39  </td> <td>37.737  </td> <td>0.03 </td> <td>8.69794</td> <td>92.89    </td> <td>171.2         </td> <td>0         </td> <td>212.08      </td> <td>388.72 </td> <td>5.65         </td> <td>2.9                </td> <td>2.1       </td> <td>14               </td> <td>6          </td> <td>41.62           </td> <td>135.72</td> <td>6.67            </td> <td>45.5   </td> <td>15.3        </td>\n",
       "        </tr>\n",
       "        <tr>\n",
       "            <td>6075012502  </td> <td>42           </td> <td>3821            </td> <td>San Francisco    </td> <td>21.1        </td> <td>20       </td> <td>13.9                </td> <td>0.6                </td> <td>41.1              </td> <td>3.3      </td> <td>94102</td> <td>-122.413 </td> <td>37.7839 </td> <td>0.03 </td> <td>8.69794</td> <td>106.3    </td> <td>171.2         </td> <td>0         </td> <td>232.579     </td> <td>572.51 </td> <td>16.3         </td> <td>2.3                </td> <td>1.41      </td> <td>10               </td> <td>0          </td> <td>39.69           </td> <td>122.23</td> <td>7.59            </td> <td>75.1   </td> <td>14.1        </td>\n",
       "        </tr>\n",
       "        <tr>\n",
       "            <td>6075017601  </td> <td>41.93        </td> <td>7630            </td> <td>San Francisco    </td> <td>13.6        </td> <td>31.6     </td> <td>12.9                </td> <td>1                  </td> <td>36.4              </td> <td>4.5      </td> <td>94103</td> <td>-122.411 </td> <td>37.7794 </td> <td>0.03 </td> <td>8.69794</td> <td>103.215  </td> <td>171.2         </td> <td>0         </td> <td>231.205     </td> <td>845.21 </td> <td>59.85        </td> <td>9.25               </td> <td>5.08      </td> <td>10               </td> <td>0          </td> <td>45.48           </td> <td>98.44 </td> <td>8.24            </td> <td>52.3   </td> <td>4.6         </td>\n",
       "        </tr>\n",
       "        <tr>\n",
       "            <td>6075023300  </td> <td>40.59        </td> <td>2624            </td> <td>San Francisco    </td> <td>21          </td> <td>2.6      </td> <td>10.8                </td> <td>0.5                </td> <td>63.1              </td> <td>2        </td> <td>94124</td> <td>-122.398 </td> <td>37.7254 </td> <td>0.03 </td> <td>8.69794</td> <td>90.157   </td> <td>171.2         </td> <td>0         </td> <td>202.226     </td> <td>1635.76</td> <td>7.35         </td> <td>1.5                </td> <td>0.225     </td> <td>10               </td> <td>4.6        </td> <td>44.65           </td> <td>124.54</td> <td>6.07            </td> <td>27.4   </td> <td>11          </td>\n",
       "        </tr>\n",
       "        <tr>\n",
       "            <td>6075023001  </td> <td>39.04        </td> <td>5216            </td> <td>San Francisco    </td> <td>15          </td> <td>5.4      </td> <td>14                  </td> <td>0.1                </td> <td>63.8              </td> <td>1.6      </td> <td>94124</td> <td>-122.402 </td> <td>37.7352 </td> <td>0.03 </td> <td>8.69794</td> <td>92.89    </td> <td>171.2         </td> <td>0         </td> <td>206.021     </td> <td>1767.07</td> <td>8            </td> <td>3                  </td> <td>0.935     </td> <td>10               </td> <td>8.25       </td> <td>48.51           </td> <td>111.52</td> <td>3.28            </td> <td>39.8   </td> <td>10.8        </td>\n",
       "        </tr>\n",
       "    </tbody>\n",
       "</table>\n",
       "<p>... (178 rows omitted)</p>"
      ],
      "text/plain": [
       "Census.Tract | CES.3.0.Score | Total.Population | California.County | Hispanic.... | White.... | African.American.... | Native.American.... | Asian.American.... | Other.... | ZIP   | Longitude | Latitude | Ozone | PM2.5   | Diesel.PM | Drinking.Water | Pesticides | Tox..Release | Traffic | Cleanup.Sites | Groundwater.Threats | Haz..Waste | Imp..Water.Bodies | Solid.Waste | Pollution.Burden | Asthma | Low.Birth.Weight | Poverty | Unemployment\n",
       "6075023103   | 51.58         | 3725             | San Francisco     | 16.2         | 3.5       | 55.8                 | 0.3                 | 18.1               | 6.1       | 94124 | -122.376  | 37.7356  | 0.03  | 8.69794 | 92.89     | 171.2          | 0          | 217.431      | 270.12  | 46.45         | 142.5               | 4.135      | 14                | 8.1         | 50.19            | 135.72 | 7.54             | 84.6    | 17.7\n",
       "6075023200   | 50.36         | 4582             | San Francisco     | 38.8         | 4.5       | 38.9                 | 0.3                 | 14.8               | 2.6       | 94124 | -122.386  | 37.7278  | 0.03  | 8.69794 | 92.89     | 171.2          | 0          | 207.568      | 380.39  | 37.45         | 110.05              | 0.95       | 10                | 16.85       | 50.22            | 135.72 | 8.9              | 37.2    | 14.8\n",
       "6075017902   | 49.09         | 2880             | San Francisco     | 23           | 27.2      | 23.5                 | 0.6                 | 18.8               | 7         | 94130 | -122.42   | 37.8619  | 0.03  | 8.69794 | 99.411    | 271.47         | 0          | 345.66       | 3160.99 | 159           | 150                 | 0.2        | 10                | 2           | 55.66            | 95.9   | 5.97             | 70.4    | 13.3\n",
       "6075023400   | 48.25         | 3660             | San Francisco     | 33.5         | 3.5       | 33                   | 0.2                 | 25.2               | 4.8       | 94124 | -122.39   | 37.7216  | 0.03  | 8.69794 | 65.555    | 171.2          | 0          | 203.143      | 552.72  | 22.75         | 21.75               | 0.025      | 11                | 13.8        | 45.01            | 135.72 | 8.02             | 56.4    | 14.9\n",
       "6075023102   | 47.15         | 3478             | San Francisco     | 16.2         | 4.9       | 61                   | 0.4                 | 13.7               | 3.8       | 94124 | -122.384  | 37.7345  | 0.03  | 8.69794 | 92.89     | 171.2          | 0          | 212.477      | 294.99  | 19.5          | 24.5                | 3.325      | 14                | 5.65        | 47.31            | 135.72 | 8.75             | 62.6    | 18.5\n",
       "6075061200   | 44.19         | 4089             | San Francisco     | 36.7         | 7.6       | 31.3                 | 0.4                 | 21.4               | 2.5       | 94124 | -122.39   | 37.737   | 0.03  | 8.69794 | 92.89     | 171.2          | 0          | 212.08       | 388.72  | 5.65          | 2.9                 | 2.1        | 14                | 6           | 41.62            | 135.72 | 6.67             | 45.5    | 15.3\n",
       "6075012502   | 42            | 3821             | San Francisco     | 21.1         | 20        | 13.9                 | 0.6                 | 41.1               | 3.3       | 94102 | -122.413  | 37.7839  | 0.03  | 8.69794 | 106.3     | 171.2          | 0          | 232.579      | 572.51  | 16.3          | 2.3                 | 1.41       | 10                | 0           | 39.69            | 122.23 | 7.59             | 75.1    | 14.1\n",
       "6075017601   | 41.93         | 7630             | San Francisco     | 13.6         | 31.6      | 12.9                 | 1                   | 36.4               | 4.5       | 94103 | -122.411  | 37.7794  | 0.03  | 8.69794 | 103.215   | 171.2          | 0          | 231.205      | 845.21  | 59.85         | 9.25                | 5.08       | 10                | 0           | 45.48            | 98.44  | 8.24             | 52.3    | 4.6\n",
       "6075023300   | 40.59         | 2624             | San Francisco     | 21           | 2.6       | 10.8                 | 0.5                 | 63.1               | 2         | 94124 | -122.398  | 37.7254  | 0.03  | 8.69794 | 90.157    | 171.2          | 0          | 202.226      | 1635.76 | 7.35          | 1.5                 | 0.225      | 10                | 4.6         | 44.65            | 124.54 | 6.07             | 27.4    | 11\n",
       "6075023001   | 39.04         | 5216             | San Francisco     | 15           | 5.4       | 14                   | 0.1                 | 63.8               | 1.6       | 94124 | -122.402  | 37.7352  | 0.03  | 8.69794 | 92.89     | 171.2          | 0          | 206.021      | 1767.07 | 8             | 3                   | 0.935      | 10                | 8.25        | 48.51            | 111.52 | 3.28             | 39.8    | 10.8\n",
       "... (178 rows omitted)"
      ]
     },
     "execution_count": 26,
     "metadata": {},
     "output_type": "execute_result"
    }
   ],
   "source": [
    "# SOLUTION\n",
    "sf = ces_data.where(\"California.County\", \"San Francisco\")\n",
    "sf"
   ]
  },
  {
   "cell_type": "markdown",
   "metadata": {},
   "source": [
    "The total population of each tract should be equal to the sum of all the races' populations.\n",
    "\n",
    "- $Total Population = Hispanic Population + White Population + ... + Other Population$\n",
    "    \n",
    "If this is not true, then the data we are working with are **not consistent**. We could check this by calculating this equation exactly, but it would be a bit tedious. The race columns in `ces_data` are not in terms of population but are in *percentages*.\n",
    "    \n",
    "An alternative method of checking this is by making sure that the sum of each tract's race percentages add up to 100%. There might have been some rounding errors, so let's allow for percentages that are a little bit off.\n",
    "    \n",
    "<div class=\"alert alert-warning\">\n",
    "    <b>PRACTICE:</b> Assign <code>clean_percentages</code> to a statement that evaluates to True if each tract meets the above criteria. See the following steps to understand the process more.\n",
    "    \n",
    "1. For each tract, find out what the sum of race percentages adds up to. Assign this to <code>sum_race_percentages</code>. Because this process is repeated for a bunch of different tracts, you should use array arithmetic in this step and array comparisons later.\n",
    "    \n",
    "2. Round the data of <code>sum_race_percentages</code> to the nearest integer using <code>np.round(array)</code> and check if they're equal to 100. Checking if a value is equal to 100 will evaluate to a boolean, so doing this comparison with an array will evaluate to an array of booleans. Assign this to the variable <code>close_to_100</code>.\n",
    "    \n",
    "2. If all of the tracts are consistent, they should all evaluate to True. Find out how many of the tracts evaluated to True and assign this to <code>num_consistent</code>.\n",
    "    \n",
    "3. Find out how many tracts there are total and assign this to <code>num_tracts</code>. If all tracts are consistent, then <code>num_consistent</code> should be equal to <code>num_tracts</code>; assign this to <code>clean_percentages</code>.\n",
    "    </div>\n",
    "    \n",
    "*Hint:* Some functions that may be helpful are `np.round(array)`, `np.count_nonzero(array)`, and `len(array)`."
   ]
  },
  {
   "cell_type": "code",
   "execution_count": 27,
   "metadata": {},
   "outputs": [
    {
     "data": {
      "text/plain": [
       "True"
      ]
     },
     "execution_count": 27,
     "metadata": {},
     "output_type": "execute_result"
    }
   ],
   "source": [
    "math.isclose(1, 1)"
   ]
  },
  {
   "cell_type": "code",
   "execution_count": null,
   "metadata": {},
   "outputs": [],
   "source": [
    "# for all tracts, find the sum of all race percentages\n",
    "sum_race_percentages = ...\n",
    "\n",
    "# for all tracts, round the sum of all race percentages, and compare it to 100\n",
    "close_to_100 = ...\n",
    "\n",
    "# find out how many of these sums are close to 100\n",
    "num_consistent = ...\n",
    "\n",
    "# find out how many tracts there are total\n",
    "num_tracts = ...\n",
    "\n",
    "# compare num_consistent to num_tracts\n",
    "clean_percentages = ..."
   ]
  },
  {
   "cell_type": "code",
   "execution_count": 28,
   "metadata": {},
   "outputs": [
    {
     "name": "stdout",
     "output_type": "stream",
     "text": [
      "# consistent tracts: 188\n",
      "# tracts total: 188\n"
     ]
    },
    {
     "data": {
      "text/plain": [
       "True"
      ]
     },
     "execution_count": 28,
     "metadata": {},
     "output_type": "execute_result"
    }
   ],
   "source": [
    "# SOLUTION\n",
    "# can also be done without taking the sum\n",
    "# for all tracts, find the sum of all race percentages\n",
    "sum_race_percentages = sf.column('Hispanic....') + sf.column('White....') + sf.column('African.American....') + sf.column('Native.American....') + sf.column('Asian.American....') + sf.column('Other....')\n",
    "\n",
    "# for all tracts, round the sum of all race percentages and compare it to 100\n",
    "close_to_100 = np.round(sum_race_percentages) == 100\n",
    "\n",
    "# find out how many of these sums are close to 100\n",
    "num_consistent = np.count_nonzero(close_to_100)\n",
    "print(\"# consistent tracts: \" + str(num_consistent))\n",
    "\n",
    "# find out how many tracts there are total\n",
    "num_tracts = len(close_to_100)\n",
    "print(\"# tracts total: \" + str(num_tracts))\n",
    "\n",
    "# compare num_consistent to num_tracts\n",
    "clean_percentages = num_consistent == num_tracts\n",
    "clean_percentages"
   ]
  },
  {
   "cell_type": "markdown",
   "metadata": {},
   "source": [
    "Let's go back to the original Census data.\n",
    "\n",
    "<div class=\"alert alert-warning\">\n",
    "    <b>PRACTICE:</b> Create an array that contains which counties have a population tract of 5000 people or larger and a CalEnviroScreen score that's larger than 76. The items in the array should be listed in alphabetical order with unique county names appearing only once. \n",
    "    \n",
    "If you're getting stuck, try breaking this problem down into multiple steps.\n",
    "    </div>"
   ]
  },
  {
   "cell_type": "code",
   "execution_count": null,
   "metadata": {},
   "outputs": [],
   "source": [
    "..."
   ]
  },
  {
   "cell_type": "code",
   "execution_count": 32,
   "metadata": {},
   "outputs": [
    {
     "data": {
      "text/plain": [
       "array(['Fresno ', 'Kern ', 'San Bernardino', 'San Joaquin'], dtype='<U15')"
      ]
     },
     "execution_count": 32,
     "metadata": {},
     "output_type": "execute_result"
    }
   ],
   "source": [
    "# SOLUTION\n",
    "filtered = ces_data.where(\"Total.Population\", are.above_or_equal_to(5000)).where(\"CES.3.0.Score\", are.above(76))\n",
    "filtered.sort(\"California.County\", distinct=True).column(\"California.County\")"
   ]
  },
  {
   "cell_type": "markdown",
   "metadata": {},
   "source": [
    "Here's a more challenging question. Feel free to discuss it with your fellow interns and your group facilitators.\n",
    "\n",
    "<div class=\"alert alert-warning\">\n",
    "    <b>PRACTICE:</b> 76 was an arbitrary choice for the CalEnviroScreen score. Let's instead find what CalEnviroScreen score is greater than about 95% of the other CES scores (and therefore less than about 5% of the CES scores).\n",
    "    \n",
    "If we know that <code>ces_data</code> has 7711 census tracts, how many Census tracts make up about 95% of the data? Round to the nearest integer and use that number to find the answer to this question.\n",
    "    \n",
    "If we sort ten items in ascending order and take the 3rd item (in index 2), how many items are greater than it? If we sort those same ten items in *descending* order and take the 3rd item (in index 2), how many items are greater than it?\n",
    "    </div>"
   ]
  },
  {
   "cell_type": "markdown",
   "metadata": {},
   "source": [
    "_Written Answer:_"
   ]
  },
  {
   "cell_type": "code",
   "execution_count": null,
   "metadata": {},
   "outputs": [],
   "source": [
    "abt_95_pct = ...\n",
    "index = ...\n",
    "\n",
    "tract_at_95_pct = ...\n",
    "ces_at_95_pct = ...\n",
    "ces_at_95_pct"
   ]
  },
  {
   "cell_type": "code",
   "execution_count": 33,
   "metadata": {},
   "outputs": [
    {
     "data": {
      "text/plain": [
       "57.61"
      ]
     },
     "execution_count": 33,
     "metadata": {},
     "output_type": "execute_result"
    }
   ],
   "source": [
    "# SOLUTION\n",
    "abt_95_pct = int(ces_data.num_rows * 0.95)\n",
    "index = abt_95_pct - 1\n",
    "\n",
    "tract_at_95_pct = ces_data.sort(\"CES.3.0.Score\").take(index)\n",
    "ces_at_95_pct = tract_at_95_pct.column(\"CES.3.0.Score\").item(0)\n",
    "ces_at_95_pct"
   ]
  },
  {
   "cell_type": "markdown",
   "metadata": {},
   "source": [
    "### Downloading as PDF\n",
    "\n",
    "Download this notebook as a pdf by clicking <b><code>File > Download as > PDF via LaTeX (.pdf)</code></b>. Turn in the PDF into bCourses under the corresponding assignment."
   ]
  },
  {
   "cell_type": "markdown",
   "metadata": {},
   "source": [
    "## Bibliography\n",
    "\n",
    "- John DeNero — Data 8X, Census: Males and Females. https://www.youtube.com/watch?v=SAJavz58uHk&feature=youtu.be\n",
    "- Data 8, Spring 2020 — Lab 02. http://data8.org/sp20/\n",
    "---\n",
    "Notebook originally developed by Alleanna, Ashley, and Pratibha.\n",
    "\n",
    "Data Science Modules: http://data.berkeley.edu/education/modules"
   ]
  }
 ],
 "metadata": {
  "anaconda-cloud": {},
  "kernelspec": {
   "display_name": "Python 3 (ipykernel)",
   "language": "python",
   "name": "python3"
  },
  "language_info": {
   "codemirror_mode": {
    "name": "ipython",
    "version": 3
   },
   "file_extension": ".py",
   "mimetype": "text/x-python",
   "name": "python",
   "nbconvert_exporter": "python",
   "pygments_lexer": "ipython3",
   "version": "3.10.2"
  }
 },
 "nbformat": 4,
 "nbformat_minor": 4
}
