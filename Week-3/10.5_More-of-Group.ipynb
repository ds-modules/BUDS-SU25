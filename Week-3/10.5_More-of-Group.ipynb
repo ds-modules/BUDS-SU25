{
 "cells": [
  {
   "cell_type": "markdown",
   "id": "05111641",
   "metadata": {},
   "source": [
    "# BUDS Report 10.5: More of Group\n",
    "\n",
    "\n",
    "### Table of Contents\n",
    "\n",
    "1. <a href='#section 1'>A Quick Look at the Data</a>\n",
    "2. <a href='#section 2'>Compensation Shares</a>\n",
    "3. <a href='#section 3'>Visualizing High Compensation Shares</a>"
   ]
  },
  {
   "cell_type": "code",
   "execution_count": null,
   "id": "a5d65b41",
   "metadata": {},
   "outputs": [],
   "source": [
    "# run this cell\n",
    "from datascience import *\n",
    "import numpy as np\n",
    "import math\n",
    "import matplotlib.pyplot as plt\n",
    "plt.style.use(\"fivethirtyeight\")\n",
    "%matplotlib inline"
   ]
  },
  {
   "cell_type": "markdown",
   "id": "3230863b",
   "metadata": {},
   "source": [
    "## 1. A Quick Look at the Data <a id='section 1'></a>\n",
    "\n",
    "Once again, load the NBA table so that we can use it. We'll relabel it so that your analysis is easier."
   ]
  },
  {
   "cell_type": "code",
   "execution_count": null,
   "id": "ba9e97c8",
   "metadata": {},
   "outputs": [],
   "source": [
    "nba = Table.read_table('nba_salaries.csv')\n",
    "nba = nba.relabeled('2015-2016 SALARY', 'SALARY')\n",
    "nba"
   ]
  },
  {
   "cell_type": "markdown",
   "id": "479465b5",
   "metadata": {},
   "source": [
    "<div class=\"alert alert-warning\">\n",
    "    <b>PRACTICE:</b> Write code that evaluates to the lowest salary paid to an NBA player in the 2015-2016 season. Then, repeat the proces for the highest salary paid. \n",
    "\n",
    "Once you have found those, write code that prints the following statements. Instead of salaries of \\\\$10,000 and \\$100,000 be sure to use the true lowest and highest salaries of the NBA.\n",
    "\n",
    "<ul>\n",
    "    <li>The lowest salary paid is \\$10000\n",
    "    <li>The highest slary paid is \\$100000\n",
    "    </ul>\n",
    "    </div>"
   ]
  },
  {
   "cell_type": "code",
   "execution_count": null,
   "id": "b223a388",
   "metadata": {},
   "outputs": [],
   "source": [
    "..."
   ]
  },
  {
   "cell_type": "markdown",
   "id": "1d26e275",
   "metadata": {},
   "source": [
    "## 2. Compensation Shares <a id='section 2'></a>\n",
    "\n",
    "Next, create a table that contains the percentage of total team compensation that each player receives. For example, a player who is paid \\\\$50,000 in a team that pays a total of \\$500,000 to its players will have a share of 10%.\n",
    "    \n",
    "In order to do this, you need to have a column in your `nba` table that denotes each player's team's total compensation.</div>\n",
    "\n",
    "TEAM|SALARY sum\n",
    "-|-\n",
    "Atlanta Hawks|69.5731\n",
    "Boston Celtics|50.2855\n",
    "...|...\n",
    "\n",
    "<div class=\"alert alert-warning\">\n",
    "    <b>PRACTICE:</b> Start by creating a table like the one above and call it <code>total_pay</code>. It should have one row per NBA team and a column for the total compensation each team pays. This table will provide information necessary to calculating an individual player's percentage of total team compensation. In the code cell afterwards, we'll join this information to our original table.</div>"
   ]
  },
  {
   "cell_type": "code",
   "execution_count": null,
   "id": "1e3df02f",
   "metadata": {},
   "outputs": [],
   "source": [
    "..."
   ]
  },
  {
   "cell_type": "markdown",
   "id": "54f0f335",
   "metadata": {},
   "source": [
    "Here, we'll join the previous information to the original table. Don't worry too much about how it works, but take a look at the new table to see what happened.\n",
    "\n",
    "If you are interested in what's happening: the next code cell is joining the `nba` table with the `total_pay` table. It joins every `nba` row with every `total_pay` row *as long as* the \"TEAM\" column is the same for both rows."
   ]
  },
  {
   "cell_type": "code",
   "execution_count": null,
   "id": "44d769ef",
   "metadata": {},
   "outputs": [],
   "source": [
    "nba_and_total = nba.join('TEAM', total_pay)\n",
    "nba_and_total"
   ]
  },
  {
   "cell_type": "markdown",
   "id": "1482a221",
   "metadata": {},
   "source": [
    "<div class=\"alert alert-warning\">\n",
    "    <b>PRACTICE:</b> From here, you should be able to create a table that has the compensation shares of each player. Do so in the next cell.</div>"
   ]
  },
  {
   "cell_type": "code",
   "execution_count": null,
   "id": "9da4403d",
   "metadata": {},
   "outputs": [],
   "source": [
    "..."
   ]
  },
  {
   "cell_type": "markdown",
   "id": "189fdbfb",
   "metadata": {},
   "source": [
    "<div class=\"alert alert-warning\">\n",
    "    <b>PRACTICE:</b> Use as many code cells as you would like to answer the following questions/prompts. \n",
    "    \n",
    "<ul>\n",
    "    <li>Find out which player takes up the largest share of their team's compensation. \n",
    "    <li>How many players take up more than 20% of their team's compensation?\n",
    "    <li>Are there any teams in which multiple players take up 20% of the team compensation? \n",
    "    </ul>\n",
    "\n",
    "Try to write your code such that it evaluates to the answer to the question exactly (e.g., an integer, True/False Boolean).</div>"
   ]
  },
  {
   "cell_type": "code",
   "execution_count": null,
   "id": "76261f22",
   "metadata": {},
   "outputs": [],
   "source": [
    "..."
   ]
  },
  {
   "cell_type": "code",
   "execution_count": null,
   "id": "143660b0",
   "metadata": {},
   "outputs": [],
   "source": [
    "..."
   ]
  },
  {
   "cell_type": "code",
   "execution_count": null,
   "id": "163c626d",
   "metadata": {},
   "outputs": [],
   "source": [
    "..."
   ]
  },
  {
   "cell_type": "markdown",
   "id": "5bf1a1ca",
   "metadata": {},
   "source": [
    "## 3. Visualizing High Compensation Shares <a id='section 3'></a>\n",
    "\n",
    "Let's see how NBA salaries are distributed. One point of interest might be the differences between players with higher compensation shares and lower compensation shares.\n",
    "\n",
    "<div class=\"alert alert-warning\">\n",
    "    <b>PRACTICE:</b> What percentage would you consider a high compensation share? In the next cell, count how many players have a compensation share that is higher than what you consider a high compensation share.</div>"
   ]
  },
  {
   "cell_type": "code",
   "execution_count": null,
   "id": "098224a5",
   "metadata": {},
   "outputs": [],
   "source": [
    "..."
   ]
  },
  {
   "cell_type": "markdown",
   "id": "eb50321c",
   "metadata": {},
   "source": [
    "In order to differentiate between higher and lower compensation shares in your visualization, your table needs to have information regarding whether or not an entry has a high share.\n",
    "\n",
    "<div class=\"alert alert-warning\">\n",
    "    <b>PRACTICE:</b> Create a table that contains this information. There should be a column that denotes whether or not the entry has a high share. Consider what the values underneath this column should look like.</div>"
   ]
  },
  {
   "cell_type": "code",
   "execution_count": null,
   "id": "2a9e2cb4",
   "metadata": {},
   "outputs": [],
   "source": [
    "..."
   ]
  },
  {
   "cell_type": "markdown",
   "id": "edd195ac",
   "metadata": {},
   "source": [
    "<div class=\"alert alert-warning\">\n",
    "    <b>PRACTICE:</b> Create a visualization that shows the difference in salary distributions for players with and without a high share of the team's total compensation.</div>"
   ]
  },
  {
   "cell_type": "code",
   "execution_count": null,
   "id": "cd356d57",
   "metadata": {},
   "outputs": [],
   "source": [
    "..."
   ]
  },
  {
   "cell_type": "markdown",
   "id": "e9f25780",
   "metadata": {},
   "source": [
    "### Downloading as PDF\n",
    "\n",
    "Download this notebook as a pdf by clicking <b><code>File > Download as > PDF via LaTeX (.pdf)</code></b>. Turn in the PDF into bCourses under the corresponding assignment."
   ]
  }
 ],
 "metadata": {
  "kernelspec": {
   "display_name": "Python 3 (ipykernel)",
   "language": "python",
   "name": "python3"
  },
  "language_info": {
   "codemirror_mode": {
    "name": "ipython",
    "version": 3
   },
   "file_extension": ".py",
   "mimetype": "text/x-python",
   "name": "python",
   "nbconvert_exporter": "python",
   "pygments_lexer": "ipython3",
   "version": "3.10.2"
  }
 },
 "nbformat": 4,
 "nbformat_minor": 5
}
