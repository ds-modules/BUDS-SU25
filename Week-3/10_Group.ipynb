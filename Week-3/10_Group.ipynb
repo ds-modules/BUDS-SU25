{
 "cells": [
  {
   "cell_type": "markdown",
   "metadata": {},
   "source": [
    "# BUDS Report 10: Group\n",
    "\n",
    "\n",
    "### Table of Contents\n",
    "\n",
    "1.  <a href='#section 1'>Ice Cream Flavors </a>\n",
    "    \n",
    "2. <a href='#section 2'> NBA Salaries </a>"
   ]
  },
  {
   "cell_type": "code",
   "execution_count": null,
   "metadata": {},
   "outputs": [],
   "source": [
    "# run this cell\n",
    "from datascience import *\n",
    "import numpy as np\n",
    "import math\n",
    "import matplotlib.pyplot as plt\n",
    "plt.style.use(\"fivethirtyeight\")\n",
    "%matplotlib inline"
   ]
  },
  {
   "cell_type": "markdown",
   "metadata": {},
   "source": [
    "## 1. Ice Cream Flavors <a id='section 1'></a>\n",
    "\n",
    "Data scientists often need to classify individuals into groups according to shared features and may like to identify some characteristics of the groups. Let's start with a table of ice cream flavors.\n",
    "\n",
    "|Flavor|Price|\n",
    "|-|-|\n",
    "|strawberry|3.55|\n",
    "|chocolate|4.75|\n",
    "|chocolate|6.55|\n",
    "|strawberry|5.25|\n",
    "|chocolate|5.25|\n",
    "\n",
    "<div class=\"alert alert-warning\">\n",
    "    <b>PRACTICE:</b> Create the table depicted above and assign it to a variable called <code>cones</code>. Feel free to reference Report 06, which covers \"Creating Tables\". </div>"
   ]
  },
  {
   "cell_type": "code",
   "execution_count": null,
   "metadata": {},
   "outputs": [],
   "source": [
    "cones = ...\n",
    "cones"
   ]
  },
  {
   "cell_type": "markdown",
   "metadata": {},
   "source": [
    "What if we wanted to count the total _number_ of each flavor?\n",
    "\n",
    "The `group` method with a single argument counts the number of rows for each category in a column. The result contains one row per unique value in the grouped column.\n",
    "\n",
    "The format will generally follow `tbl.group(col_to_group_by)`.\n",
    "\n",
    "<div class=\"alert alert-warning\">\n",
    "    <b>PRACTICE:</b> Try calling the <code>group</code> method to see what this looks like. </div>"
   ]
  },
  {
   "cell_type": "code",
   "execution_count": null,
   "metadata": {},
   "outputs": [],
   "source": [
    "..."
   ]
  },
  {
   "cell_type": "markdown",
   "metadata": {},
   "source": [
    "What if we instead wanted the *total price* of the cones of each different flavor? That's where the second argument of `group` comes in.\n",
    "\n",
    "The optional second argument names the function that will be used to aggregate values in other columns. For instance, `sum` will sum up the prices in all rows that match each category. This result also contains one row per unique value in the grouped column, but it has the same number of columns as the original table.\n",
    "\n",
    "This call will follow a similar format as above: `tbl.group(col_to_group_by, agg_func)`.\n",
    "\n",
    "<div class=\"alert alert-warning\">\n",
    "    <b>PRACTICE:</b> Again, try calling the <code>group</code> method to see what this looks like. Make sure to use the second argument.\n",
    "</div>"
   ]
  },
  {
   "cell_type": "code",
   "execution_count": null,
   "metadata": {},
   "outputs": [],
   "source": [
    "..."
   ]
  },
  {
   "cell_type": "markdown",
   "metadata": {},
   "source": [
    "To create this new table, `group` has calculated the sum of the \"Price\" entries in all the rows corresponding to each distinct flavor. The prices in the three chocolate rows add up to  16.55. The prices in the two strawberry rows have a total of  8.80.\n",
    "\n",
    "You can replace `sum` by **any other functions that work on arrays**.\n",
    "\n",
    "<div class=\"alert alert-warning\">\n",
    "    <b>PRACTICE:</b> Use grouping to find the highest price in each flavor category.\n",
    "    </div>\n",
    "    \n",
    "_Hint:_ Think of a function that will return the highest price."
   ]
  },
  {
   "cell_type": "code",
   "execution_count": null,
   "metadata": {
    "scrolled": true
   },
   "outputs": [],
   "source": [
    "..."
   ]
  },
  {
   "cell_type": "markdown",
   "metadata": {},
   "source": [
    "<div class=\"alert alert-warning\">\n",
    "    <b>PRACTICE:</b> Now, use grouping to find the <i>lowest</i> price in each flavor category. Assign it to a variable called <code>cheaper</code>.</div>"
   ]
  },
  {
   "cell_type": "code",
   "execution_count": null,
   "metadata": {},
   "outputs": [],
   "source": [
    "..."
   ]
  },
  {
   "cell_type": "markdown",
   "metadata": {},
   "source": [
    "<div class=\"alert alert-warning\">\n",
    "    <b>PRACTICE:</b> Write code that evaluates to the flavor with the highest lowest price using the table from above. What data type should be outputted?</div>"
   ]
  },
  {
   "cell_type": "code",
   "execution_count": null,
   "metadata": {},
   "outputs": [],
   "source": [
    "..."
   ]
  },
  {
   "cell_type": "markdown",
   "metadata": {},
   "source": [
    "## 2. NBA Salaries <a id='section 2'></a>\n",
    "\n",
    "Now that you've played with a toy dataset, let's work with a real dataset. We can look at some data about NBA players, where salaries are measured in *millions* of dollars."
   ]
  },
  {
   "cell_type": "code",
   "execution_count": null,
   "metadata": {},
   "outputs": [],
   "source": [
    "nba = Table.read_table('nba_salaries.csv')\n",
    "nba"
   ]
  },
  {
   "cell_type": "markdown",
   "metadata": {},
   "source": [
    "<div class=\"alert alert-warning\">\n",
    "    <b>PRACTICE:</b> Relabel the salaries column to something shorter so that it's easier to work with. </div>"
   ]
  },
  {
   "cell_type": "code",
   "execution_count": null,
   "metadata": {},
   "outputs": [],
   "source": [
    "..."
   ]
  },
  {
   "cell_type": "markdown",
   "metadata": {},
   "source": [
    "Before conducting exploratory data analysis on this dataset, answer a few questions about the data.\n",
    "\n",
    "1. What are the different positions in an NBA team, and what are their abbreviations in this table?\n",
    "\n",
    "2. How many teams are there in the NBA that are represented in this table?"
   ]
  },
  {
   "cell_type": "markdown",
   "metadata": {},
   "source": [
    "_Written Answer:_"
   ]
  },
  {
   "cell_type": "markdown",
   "metadata": {},
   "source": [
    "The aggregate function that we pass as our second argument might not work for all of our columns in the dataset. For example, we can't take the average of a column with strings.\n",
    "\n",
    "Let's see what happens when we tell the computer to take the average of a column of strings. \n",
    "\n",
    "<div class=\"alert alert-warning\">\n",
    "    <b>PRACTICE:</b> Use average as the aggregate function in the <code>group</code> method. Be sure that the aggregate function will be called on a column made of strings. What happens? Does the cell error? Does something show up?</div>"
   ]
  },
  {
   "cell_type": "code",
   "execution_count": null,
   "metadata": {},
   "outputs": [],
   "source": [
    "..."
   ]
  },
  {
   "cell_type": "markdown",
   "metadata": {},
   "source": [
    "To make coding in the future easier, take only the necessary columns from our table before performing table manipulations like this. You can do so in multiple lines of code. Try this in the next practice question.\n",
    "\n",
    "<div class=\"alert alert-warning\">\n",
    "    <b>PRACTICE:</b> How much money did each team pay for its players' salaries? </div>"
   ]
  },
  {
   "cell_type": "code",
   "execution_count": null,
   "metadata": {},
   "outputs": [],
   "source": [
    "..."
   ]
  },
  {
   "cell_type": "markdown",
   "metadata": {},
   "source": [
    "Taking that extra step makes our tables a lot cleaner.\n",
    "\n",
    "Next, let's look at a characteristic that `group` has.\n",
    "\n",
    "<div class=\"alert alert-warning\">\n",
    "    <b>PRACTICE:</b> Create a table that shows how many NBA players were in each of the five positions. Take note of the order of the values under the column we grouped by. What order does it seem to follow? Is it based on the original table's order?</div>"
   ]
  },
  {
   "cell_type": "code",
   "execution_count": null,
   "metadata": {},
   "outputs": [],
   "source": [
    "..."
   ]
  },
  {
   "cell_type": "markdown",
   "metadata": {},
   "source": [
    "_Written Answer:_"
   ]
  },
  {
   "cell_type": "markdown",
   "metadata": {},
   "source": [
    "<div class=\"alert alert-warning\">\n",
    "    <b>PRACTICE:</b> What was the average salary of the players at each of the five positions? Why do you think centers get paid the most?</div>"
   ]
  },
  {
   "cell_type": "code",
   "execution_count": null,
   "metadata": {},
   "outputs": [],
   "source": [
    "..."
   ]
  },
  {
   "cell_type": "markdown",
   "metadata": {},
   "source": [
    "_Written Answer:_"
   ]
  },
  {
   "cell_type": "markdown",
   "metadata": {},
   "source": [
    "<div class=\"alert alert-warning\">\n",
    "    <b>PRACTICE:</b> Find the highest player salary for each team, then sort the teams in order of highest player salaries to lowest. What types of teams pay the highest individual salaries?</div>\n",
    "    \n",
    "*Hint:* Think about which columns you need, what you would group by, and finally what you would sort by."
   ]
  },
  {
   "cell_type": "code",
   "execution_count": null,
   "metadata": {},
   "outputs": [],
   "source": [
    "..."
   ]
  },
  {
   "cell_type": "markdown",
   "metadata": {},
   "source": [
    "_Written Answer:_"
   ]
  },
  {
   "cell_type": "markdown",
   "metadata": {},
   "source": [
    "In order to get a better understanding of how group operates under the hood, let's re-create the grouping process with code that we already knew how to do.\n",
    "\n",
    "<div class=\"alert alert-warning\">\n",
    "    <b>PRACTICE:</b> Using the <code>group</code> method, create a table that looks like the one depicted below. Make sure that it doesn't have any additional rows.\n",
    "    \n",
    "Then, try to think of a way that you would have manually found this information before. For example, ask yourself how you would have found out the number of Atlanta Hawks players. Referring to Report 09 might help. Once you've acquired all of the necessary information, recreate this table.</div>\n",
    "    \n",
    "TEAM|count\n",
    "-|-\n",
    "Atlanta Hawks|14\n",
    "Boston Celtics|15"
   ]
  },
  {
   "cell_type": "code",
   "execution_count": null,
   "metadata": {},
   "outputs": [],
   "source": [
    "# method 1:\n",
    "..."
   ]
  },
  {
   "cell_type": "code",
   "execution_count": null,
   "metadata": {},
   "outputs": [],
   "source": [
    "# method 2:\n",
    "..."
   ]
  },
  {
   "cell_type": "markdown",
   "metadata": {},
   "source": [
    "`group` expedites that process, making it much more wieldy to do that process for columns with many unique items.\n",
    "\n",
    "However, its usefulness extends past that! The `group` method has even more capability.\n",
    "\n",
    "<div class=\"alert alert-warning\">\n",
    "    <b>PRACTICE:</b> In the following cell, create a table that show the average salary for each position on each team. Try thinking of how this might be done without code or think about what the resulting table might look like.\n",
    "\n",
    "This exercise will show another nice property of grouping.</div>"
   ]
  },
  {
   "cell_type": "code",
   "execution_count": null,
   "metadata": {},
   "outputs": [],
   "source": [
    "..."
   ]
  },
  {
   "cell_type": "markdown",
   "metadata": {},
   "source": [
    "Let's try to find some more information on each team's payments to the different positions.\n",
    "\n",
    "<div class=\"alert alert-warning\">\n",
    "    <b>PRACTICE:</b> For each team, find the position it pays the most on average.\n",
    "    \n",
    "This will take multiple steps, so think about what this process might look like with the Atlanta Hawks in the table you just made above. What position do the Hawks pay the most on average? How did you get that value? </div>"
   ]
  },
  {
   "cell_type": "code",
   "execution_count": null,
   "metadata": {},
   "outputs": [],
   "source": [
    "..."
   ]
  },
  {
   "cell_type": "markdown",
   "metadata": {},
   "source": [
    "### Downloading as PDF\n",
    "\n",
    "Download this notebook as a pdf by clicking <b><code>File > Download as > PDF via LaTeX (.pdf)</code></b>. Turn in the PDF into bCourses under the corresponding assignment."
   ]
  },
  {
   "cell_type": "markdown",
   "metadata": {},
   "source": [
    "## Bibliography\n",
    "\n",
    "- Data 8 Textbook — Classifying by One Variable: https://www.inferentialthinking.com/chapters/08/2/Classifying_by_One_Variable.html\n",
    "---\n",
    "Data Science Modules: http://data.berkeley.edu/education/modules"
   ]
  }
 ],
 "metadata": {
  "anaconda-cloud": {},
  "kernelspec": {
   "display_name": "Python 3 (ipykernel)",
   "language": "python",
   "name": "python3"
  },
  "language_info": {
   "codemirror_mode": {
    "name": "ipython",
    "version": 3
   },
   "file_extension": ".py",
   "mimetype": "text/x-python",
   "name": "python",
   "nbconvert_exporter": "python",
   "pygments_lexer": "ipython3",
   "version": "3.10.2"
  }
 },
 "nbformat": 4,
 "nbformat_minor": 4
}
